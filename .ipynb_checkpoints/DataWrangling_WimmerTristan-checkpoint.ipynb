{
 "cells": [
  {
   "cell_type": "code",
   "execution_count": 1,
   "metadata": {},
   "outputs": [
    {
     "name": "stdout",
     "output_type": "stream",
     "text": [
      "Populating the interactive namespace from numpy and matplotlib\n"
     ]
    },
    {
     "name": "stderr",
     "output_type": "stream",
     "text": [
      "/Users/mgbvox/anaconda3/envs/data_science/lib/python3.6/site-packages/statsmodels/tools/_testing.py:19: FutureWarning: pandas.util.testing is deprecated. Use the functions in the public API at pandas.testing instead.\n",
      "  import pandas.util.testing as tm\n"
     ]
    }
   ],
   "source": [
    "%pylab inline\n",
    "import pandas as pd\n",
    "import seaborn as sns\n",
    "df = pd.read_csv('worldvalues-data.csv', dtype='object', na_values = ['-5', '-4', '-3', '-2', '-1'])"
   ]
  },
  {
   "cell_type": "code",
   "execution_count": 2,
   "metadata": {},
   "outputs": [],
   "source": [
    "'''\n",
    "Comment on the trends of missing values1 in the data. For example,\n",
    "a. Are the missing values from respondents increasing over the years?\n",
    "b. How do the proportion of records with missing values vary over the different countries?\n",
    "c. Create a new Pandas dataframe with the following columns, populate the dataframe\n",
    "with appropriate values, and write it out as a CSV file.\n",
    "\n",
    "In this context “missing values” refers to both NaN values and responses to survey questions\n",
    "that have been coded as “Missing” (or its numerical code, for example, “-5” \n",
    "for the question V4).\n",
    "'''\n",
    "\n",
    "df.replace(['Missing', 'Unknown', 'Not asked in survey', 'Not applicable', 'No answer', 'Dont know'], np.nan, inplace=True)\n",
    "df.replace(['BH','HT','RU','AR','DE','PS','SE', 'SG', 'TR'], np.nan, inplace=True)\n"
   ]
  },
  {
   "cell_type": "code",
   "execution_count": 3,
   "metadata": {},
   "outputs": [
    {
     "data": {
      "text/plain": [
       "<matplotlib.axes._subplots.AxesSubplot at 0x7fa5b9dfb5c0>"
      ]
     },
     "execution_count": 3,
     "metadata": {},
     "output_type": "execute_result"
    },
    {
     "data": {
      "image/png": "[encoded data removed]",
      "text/plain": [
       "<Figure size 432x288 with 1 Axes>"
      ]
     },
     "metadata": {
      "needs_background": "light"
     },
     "output_type": "display_data"
    }
   ],
   "source": [
    "\n",
    "#df['V262'].unique()\n",
    "\n",
    "df['n_null'] = df.isnull().sum(axis=1)\n",
    "df.groupby('V262').n_null.sum().plot()"
   ]
  },
  {
   "cell_type": "code",
   "execution_count": 22,
   "metadata": {},
   "outputs": [
    {
     "data": {
      "text/plain": [
       "V262  V2                 \n",
       "2010  Japan                  253082\n",
       "      Qatar                  109354\n",
       "      South Korea             95159\n",
       "      Trinidad and Tobago     85323\n",
       "2011  Armenia                 84895\n",
       "      Azerbaijan              61369\n",
       "      Belarus                125481\n",
       "      Cyprus                  75878\n",
       "      Estonia                108877\n",
       "      Kazakhstan              97277\n",
       "      Kyrgyzstan              99345\n",
       "      Morocco                131610\n",
       "      New Zealand             83991\n",
       "      Russia                 220664\n",
       "      Slovenia                84771\n",
       "      Spain                  107794\n",
       "      Sweden                  91382\n",
       "      Ukraine                100959\n",
       "      United States          178295\n",
       "      Uruguay                 75497\n",
       "      Uzbekistan             135120\n",
       "2012  Australia               97677\n",
       "      Chile                   70969\n",
       "      Colombia                80106\n",
       "      Egypt                  107084\n",
       "      Ghana                   95946\n",
       "      India                  405644\n",
       "      Malaysia                84563\n",
       "      Mexico                 122188\n",
       "      Netherlands            118074\n",
       "      Nigeria                108948\n",
       "      Pakistan                65188\n",
       "      Peru                    85777\n",
       "      Philippines             72231\n",
       "      Poland                  70116\n",
       "      Romania                107680\n",
       "      Rwanda                  85598\n",
       "      Singapore              124123\n",
       "      Taiwan                  89004\n",
       "      Turkey                 127394\n",
       "      Zimbabwe                95487\n",
       "2013  Argentina               73913\n",
       "      China                  213288\n",
       "      Ecuador                 64631\n",
       "      Germany                117221\n",
       "      Iraq                    65676\n",
       "      Lebanon                 64655\n",
       "      Palestine               62858\n",
       "      South Africa           204719\n",
       "      Thailand                69594\n",
       "      Tunisia                 75983\n",
       "2014  Algeria                 80817\n",
       "      Brazil                  81167\n",
       "      Georgia                 68715\n",
       "      Hong Kong               63901\n",
       "      Jordan                  63373\n",
       "      Kuwait                 128907\n",
       "      Libya                  132810\n",
       "      Yemen                   69012\n",
       "2016  Haiti                  114800\n",
       "Name: n_null, dtype: int64"
      ]
     },
     "execution_count": 22,
     "metadata": {},
     "output_type": "execute_result"
    }
   ],
   "source": [
    "df.groupby(['V262', 'V2']).n_null.sum()"
   ]
  },
  {
   "cell_type": "code",
   "execution_count": 30,
   "metadata": {},
   "outputs": [
    {
     "data": {
      "text/plain": [
       "V2\n",
       "India                  405644\n",
       "Japan                  253082\n",
       "Russia                 220664\n",
       "China                  213288\n",
       "South Africa           204719\n",
       "United States          178295\n",
       "Uzbekistan             135120\n",
       "Libya                  132810\n",
       "Morocco                131610\n",
       "Kuwait                 128907\n",
       "Turkey                 127394\n",
       "Belarus                125481\n",
       "Singapore              124123\n",
       "Mexico                 122188\n",
       "Netherlands            118074\n",
       "Germany                117221\n",
       "Haiti                  114800\n",
       "Qatar                  109354\n",
       "Nigeria                108948\n",
       "Estonia                108877\n",
       "Spain                  107794\n",
       "Romania                107680\n",
       "Egypt                  107084\n",
       "Ukraine                100959\n",
       "Kyrgyzstan              99345\n",
       "Australia               97677\n",
       "Kazakhstan              97277\n",
       "Ghana                   95946\n",
       "Zimbabwe                95487\n",
       "South Korea             95159\n",
       "Sweden                  91382\n",
       "Taiwan                  89004\n",
       "Peru                    85777\n",
       "Rwanda                  85598\n",
       "Trinidad and Tobago     85323\n",
       "Armenia                 84895\n",
       "Slovenia                84771\n",
       "Malaysia                84563\n",
       "New Zealand             83991\n",
       "Brazil                  81167\n",
       "Algeria                 80817\n",
       "Colombia                80106\n",
       "Tunisia                 75983\n",
       "Cyprus                  75878\n",
       "Uruguay                 75497\n",
       "Argentina               73913\n",
       "Philippines             72231\n",
       "Chile                   70969\n",
       "Poland                  70116\n",
       "Thailand                69594\n",
       "Yemen                   69012\n",
       "Georgia                 68715\n",
       "Iraq                    65676\n",
       "Pakistan                65188\n",
       "Lebanon                 64655\n",
       "Ecuador                 64631\n",
       "Hong Kong               63901\n",
       "Jordan                  63373\n",
       "Palestine               62858\n",
       "Azerbaijan              61369\n",
       "Name: n_null, dtype: int64"
      ]
     },
     "execution_count": 30,
     "metadata": {},
     "output_type": "execute_result"
    }
   ],
   "source": [
    "df.groupby('V2').n_null.sum().sort_values(ascending=False)"
   ]
  },
  {
   "cell_type": "code",
   "execution_count": 8,
   "metadata": {},
   "outputs": [],
   "source": [
    "from tqdm import tqdm"
   ]
  },
  {
   "cell_type": "code",
   "execution_count": 24,
   "metadata": {},
   "outputs": [],
   "source": [
    "def search(term, df = df):\n",
    "    res = []\n",
    "    for c in tqdm(df.columns):\n",
    "        if df[c].str.contains(term):\n",
    "            res.append(c)\n",
    "    return res"
   ]
  },
  {
   "cell_type": "code",
   "execution_count": 42,
   "metadata": {},
   "outputs": [
    {
     "name": "stdout",
     "output_type": "stream",
     "text": [
      "Collecting pycountry-convert\n",
      "  Downloading pycountry_convert-0.7.2-py3-none-any.whl (13 kB)\n",
      "Collecting pytest-cov>=2.5.1\n",
      "  Downloading pytest_cov-2.8.1-py2.py3-none-any.whl (18 kB)\n",
      "Requirement already satisfied: pycountry>=16.11.27.1 in /Users/mgbvox/anaconda3/envs/data_science/lib/python3.6/site-packages (from pycountry-convert) (19.8.18)\n",
      "Collecting repoze.lru>=0.7\n",
      "  Downloading repoze.lru-0.7-py3-none-any.whl (10 kB)\n",
      "Collecting pytest-mock>=1.6.3\n",
      "  Downloading pytest_mock-2.0.0-py2.py3-none-any.whl (10 kB)\n",
      "Collecting pprintpp>=0.3.0\n",
      "  Downloading pprintpp-0.4.0-py2.py3-none-any.whl (16 kB)\n",
      "Requirement already satisfied: pytest>=3.4.0 in /Users/mgbvox/anaconda3/envs/data_science/lib/python3.6/site-packages (from pycountry-convert) (5.1.2)\n",
      "Requirement already satisfied: wheel>=0.30.0 in /Users/mgbvox/anaconda3/envs/data_science/lib/python3.6/site-packages (from pycountry-convert) (0.34.2)\n",
      "Collecting coverage>=4.4\n",
      "  Downloading coverage-5.0.3-cp36-cp36m-macosx_10_13_x86_64.whl (202 kB)\n",
      "\u001b[K     |████████████████████████████████| 202 kB 4.3 MB/s \n",
      "\u001b[?25hRequirement already satisfied: attrs>=17.4.0 in /Users/mgbvox/anaconda3/envs/data_science/lib/python3.6/site-packages (from pytest>=3.4.0->pycountry-convert) (19.3.0)\n",
      "Requirement already satisfied: atomicwrites>=1.0 in /Users/mgbvox/anaconda3/envs/data_science/lib/python3.6/site-packages (from pytest>=3.4.0->pycountry-convert) (1.3.0)\n",
      "Requirement already satisfied: importlib-metadata>=0.12; python_version < \"3.8\" in /Users/mgbvox/anaconda3/envs/data_science/lib/python3.6/site-packages (from pytest>=3.4.0->pycountry-convert) (1.5.0)\n",
      "Requirement already satisfied: pluggy<1.0,>=0.12 in /Users/mgbvox/anaconda3/envs/data_science/lib/python3.6/site-packages (from pytest>=3.4.0->pycountry-convert) (0.13.0)\n",
      "Requirement already satisfied: more-itertools>=4.0.0 in /Users/mgbvox/anaconda3/envs/data_science/lib/python3.6/site-packages (from pytest>=3.4.0->pycountry-convert) (6.0.0)\n",
      "Requirement already satisfied: py>=1.5.0 in /Users/mgbvox/anaconda3/envs/data_science/lib/python3.6/site-packages (from pytest>=3.4.0->pycountry-convert) (1.8.0)\n",
      "Requirement already satisfied: wcwidth in /Users/mgbvox/anaconda3/envs/data_science/lib/python3.6/site-packages (from pytest>=3.4.0->pycountry-convert) (0.1.8)\n",
      "Requirement already satisfied: packaging in /Users/mgbvox/anaconda3/envs/data_science/lib/python3.6/site-packages (from pytest>=3.4.0->pycountry-convert) (20.1)\n",
      "Requirement already satisfied: zipp>=0.5 in /Users/mgbvox/anaconda3/envs/data_science/lib/python3.6/site-packages (from importlib-metadata>=0.12; python_version < \"3.8\"->pytest>=3.4.0->pycountry-convert) (2.2.0)\n",
      "Requirement already satisfied: six in /Users/mgbvox/anaconda3/envs/data_science/lib/python3.6/site-packages (from packaging->pytest>=3.4.0->pycountry-convert) (1.14.0)\n",
      "Requirement already satisfied: pyparsing>=2.0.2 in /Users/mgbvox/anaconda3/envs/data_science/lib/python3.6/site-packages (from packaging->pytest>=3.4.0->pycountry-convert) (2.4.6)\n",
      "Installing collected packages: coverage, pytest-cov, repoze.lru, pytest-mock, pprintpp, pycountry-convert\n",
      "Successfully installed coverage-5.0.3 pprintpp-0.4.0 pycountry-convert-0.7.2 pytest-cov-2.8.1 pytest-mock-2.0.0 repoze.lru-0.7\n"
     ]
    }
   ],
   "source": [
    "!pip install pycountry-convert"
   ]
  },
  {
   "cell_type": "code",
   "execution_count": 50,
   "metadata": {},
   "outputs": [],
   "source": [
    "\n",
    "import pycountry\n",
    "import pycountry_convert as pc\n",
    "\n",
    "def get_continent(country):\n",
    "    country_code = pc.country_name_to_country_alpha2(country, cn_name_format=\"default\")\n",
    "    continent_name = pc.country_alpha2_to_continent_code(country_code)\n",
    "    return continent_name\n",
    "\n",
    "def parse_continents(s):\n",
    "    try:\n",
    "        code = get_continent(s)\n",
    "        return code\n",
    "    except:\n",
    "        return np.nan"
   ]
  },
  {
   "cell_type": "code",
   "execution_count": 54,
   "metadata": {},
   "outputs": [],
   "source": [
    "df['continent'] = df.V2.apply(lambda x: parse_continents(x))"
   ]
  },
  {
   "cell_type": "code",
   "execution_count": 73,
   "metadata": {},
   "outputs": [],
   "source": [
    "'''\n",
    "Make function that:\n",
    "casts an input to int if possible and returns\n",
    "otherwise\n",
    "returns np.nan\n",
    "'''\n",
    "\n",
    "def to_int(x): \n",
    "    try: \n",
    "        res = float(x)\n",
    "        return res\n",
    "    except:\n",
    "        return np.nan\n",
    "    \n",
    "    \n",
    "df.V5 = df.V5.apply(to_int)"
   ]
  },
  {
   "cell_type": "code",
   "execution_count": 77,
   "metadata": {},
   "outputs": [
    {
     "data": {
      "text/plain": [
       "0        True\n",
       "1        True\n",
       "2        True\n",
       "3        True\n",
       "4        True\n",
       "         ... \n",
       "89560    True\n",
       "89561    True\n",
       "89562    True\n",
       "89563    True\n",
       "89564    True\n",
       "Name: n_null, Length: 89565, dtype: bool"
      ]
     },
     "execution_count": 77,
     "metadata": {},
     "output_type": "execute_result"
    }
   ],
   "source": []
  },
  {
   "cell_type": "code",
   "execution_count": 79,
   "metadata": {},
   "outputs": [],
   "source": [
    "df['missing_more_than_five'] = (df.n_null > 5)"
   ]
  },
  {
   "cell_type": "code",
   "execution_count": 82,
   "metadata": {},
   "outputs": [],
   "source": [
    "table = df.groupby(['V262', 'continent', 'V2'])[['n_null', 'missing_more_than_five']].agg(['count'])"
   ]
  },
  {
   "cell_type": "code",
   "execution_count": 85,
   "metadata": {},
   "outputs": [],
   "source": [
    "table.to_csv('1c_out.csv')"
   ]
  }
 ],
 "metadata": {
  "kernelspec": {
   "display_name": "Python 3",
   "language": "python",
   "name": "python3"
  },
  "language_info": {
   "codemirror_mode": {
    "name": "ipython",
    "version": 3
   },
   "file_extension": ".py",
   "mimetype": "text/x-python",
   "name": "python",
   "nbconvert_exporter": "python",
   "pygments_lexer": "ipython3",
   "version": "3.6.7"
  }
 },
 "nbformat": 4,
 "nbformat_minor": 2
}
