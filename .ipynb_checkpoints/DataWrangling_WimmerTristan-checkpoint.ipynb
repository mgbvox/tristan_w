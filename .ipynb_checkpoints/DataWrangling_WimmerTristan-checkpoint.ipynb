{
 "cells": [
  {
   "cell_type": "code",
   "execution_count": 1,
   "metadata": {},
   "outputs": [
    {
     "name": "stdout",
     "output_type": "stream",
     "text": [
      "Populating the interactive namespace from numpy and matplotlib\n"
     ]
    }
   ],
   "source": [
    "%load_ext autoreload\n",
    "%autoreload 2\n",
    "%pylab inline\n",
    "import pandas as pd\n",
    "import seaborn as sns\n",
    "from tqdm import tqdm\n",
    "\n",
    "from pd_utils import *"
   ]
  },
  {
   "cell_type": "code",
   "execution_count": 2,
   "metadata": {},
   "outputs": [],
   "source": [
    "df = pd.read_csv('worldvalues-data.csv', dtype='object', na_values = ['-5', '-4', '-3', '-2', '-1'])"
   ]
  },
  {
   "cell_type": "code",
   "execution_count": 25,
   "metadata": {},
   "outputs": [],
   "source": [
    "cols = {\n",
    "        'country' : 'V2',\n",
    "        'literacy' : 'V255',\n",
    "        'year' : 'V262',\n",
    "        'religion' : 'V144'\n",
    "        }\n",
    "\n",
    "codes = {\n",
    "        'literacy':{'1':'literate', '2':'illiterate'}\n",
    "        }"
   ]
  },
  {
   "cell_type": "code",
   "execution_count": 26,
   "metadata": {},
   "outputs": [],
   "source": [
    "'''\n",
    "Comment on the trends of missing values1 in the data. For example,\n",
    "a. Are the missing values from respondents increasing over the years?\n",
    "b. How do the proportion of records with missing values vary over the different countries?\n",
    "c. Create a new Pandas dataframe with the following columns, populate the dataframe\n",
    "with appropriate values, and write it out as a CSV file.\n",
    "\n",
    "In this context “missing values” refers to both NaN values and responses to survey questions\n",
    "that have been coded as “Missing” (or its numerical code, for example, “-5” \n",
    "for the question V4).\n",
    "'''\n",
    "\n",
    "df.replace(['Missing', 'Unknown', 'Not asked in survey', 'Not applicable', 'No answer', 'Dont know'], np.nan, inplace=True)\n",
    "df.replace(['BH','HT','RU','AR','DE','PS','SE', 'SG', 'TR'], np.nan, inplace=True)\n"
   ]
  },
  {
   "cell_type": "code",
   "execution_count": 27,
   "metadata": {},
   "outputs": [
    {
     "data": {
      "text/plain": [
       "<matplotlib.axes._subplots.AxesSubplot at 0x7f91c34a6be0>"
      ]
     },
     "execution_count": 27,
     "metadata": {},
     "output_type": "execute_result"
    },
    {
     "data": {
      "image/png": "[encoded data removed]",
      "text/plain": [
       "<Figure size 432x288 with 1 Axes>"
      ]
     },
     "metadata": {
      "needs_background": "light"
     },
     "output_type": "display_data"
    }
   ],
   "source": [
    "df['n_null'] = df.isnull().sum(axis=1)\n",
    "df.groupby('V262').n_null.sum().plot()"
   ]
  },
  {
   "cell_type": "code",
   "execution_count": 28,
   "metadata": {},
   "outputs": [
    {
     "data": {
      "text/plain": [
       "V262  V2                 \n",
       "2010  Japan                  253082\n",
       "      Qatar                  109354\n",
       "      South Korea             95159\n",
       "      Trinidad and Tobago     85323\n",
       "2011  Armenia                 84895\n",
       "      Azerbaijan              61369\n",
       "      Belarus                125481\n",
       "      Cyprus                  75878\n",
       "      Estonia                108877\n",
       "      Kazakhstan              97277\n",
       "      Kyrgyzstan              99345\n",
       "      Morocco                131610\n",
       "      New Zealand             83997\n",
       "      Russia                 220664\n",
       "      Slovenia                84774\n",
       "      Spain                  107794\n",
       "      Sweden                  91382\n",
       "      Ukraine                100959\n",
       "      United States          178295\n",
       "      Uruguay                 75497\n",
       "      Uzbekistan             135120\n",
       "2012  Australia               97677\n",
       "      Chile                   70969\n",
       "      Colombia                80106\n",
       "      Egypt                  107084\n",
       "      Ghana                   95946\n",
       "      India                  405647\n",
       "      Malaysia                84563\n",
       "      Mexico                 122188\n",
       "      Netherlands            118074\n",
       "      Nigeria                108948\n",
       "      Pakistan                65188\n",
       "      Peru                    85777\n",
       "      Philippines             72231\n",
       "      Poland                  70116\n",
       "      Romania                107680\n",
       "      Rwanda                  85598\n",
       "      Singapore              124123\n",
       "      Taiwan                  89004\n",
       "      Turkey                 127394\n",
       "      Zimbabwe                95487\n",
       "2013  Argentina               73913\n",
       "      China                  213288\n",
       "      Ecuador                 64631\n",
       "      Germany                117221\n",
       "      Iraq                    65676\n",
       "      Lebanon                 64655\n",
       "      Palestine               62858\n",
       "      South Africa           204719\n",
       "      Thailand                69628\n",
       "      Tunisia                 75983\n",
       "2014  Algeria                 80817\n",
       "      Brazil                  81167\n",
       "      Georgia                 68715\n",
       "      Hong Kong               63901\n",
       "      Jordan                  63373\n",
       "      Kuwait                 128952\n",
       "      Libya                  132810\n",
       "      Yemen                   69012\n",
       "2016  Haiti                  114800\n",
       "Name: n_null, dtype: int64"
      ]
     },
     "execution_count": 28,
     "metadata": {},
     "output_type": "execute_result"
    }
   ],
   "source": [
    "df.groupby(['V262', 'V2']).n_null.sum()"
   ]
  },
  {
   "cell_type": "code",
   "execution_count": 29,
   "metadata": {},
   "outputs": [
    {
     "data": {
      "text/plain": [
       "V2\n",
       "India                  405647\n",
       "Japan                  253082\n",
       "Russia                 220664\n",
       "China                  213288\n",
       "South Africa           204719\n",
       "United States          178295\n",
       "Uzbekistan             135120\n",
       "Libya                  132810\n",
       "Morocco                131610\n",
       "Kuwait                 128952\n",
       "Turkey                 127394\n",
       "Belarus                125481\n",
       "Singapore              124123\n",
       "Mexico                 122188\n",
       "Netherlands            118074\n",
       "Germany                117221\n",
       "Haiti                  114800\n",
       "Qatar                  109354\n",
       "Nigeria                108948\n",
       "Estonia                108877\n",
       "Spain                  107794\n",
       "Romania                107680\n",
       "Egypt                  107084\n",
       "Ukraine                100959\n",
       "Kyrgyzstan              99345\n",
       "Australia               97677\n",
       "Kazakhstan              97277\n",
       "Ghana                   95946\n",
       "Zimbabwe                95487\n",
       "South Korea             95159\n",
       "Sweden                  91382\n",
       "Taiwan                  89004\n",
       "Peru                    85777\n",
       "Rwanda                  85598\n",
       "Trinidad and Tobago     85323\n",
       "Armenia                 84895\n",
       "Slovenia                84774\n",
       "Malaysia                84563\n",
       "New Zealand             83997\n",
       "Brazil                  81167\n",
       "Algeria                 80817\n",
       "Colombia                80106\n",
       "Tunisia                 75983\n",
       "Cyprus                  75878\n",
       "Uruguay                 75497\n",
       "Argentina               73913\n",
       "Philippines             72231\n",
       "Chile                   70969\n",
       "Poland                  70116\n",
       "Thailand                69628\n",
       "Yemen                   69012\n",
       "Georgia                 68715\n",
       "Iraq                    65676\n",
       "Pakistan                65188\n",
       "Lebanon                 64655\n",
       "Ecuador                 64631\n",
       "Hong Kong               63901\n",
       "Jordan                  63373\n",
       "Palestine               62858\n",
       "Azerbaijan              61369\n",
       "Name: n_null, dtype: int64"
      ]
     },
     "execution_count": 29,
     "metadata": {},
     "output_type": "execute_result"
    }
   ],
   "source": [
    "df.groupby('V2').n_null.sum().sort_values(ascending=False)"
   ]
  },
  {
   "cell_type": "code",
   "execution_count": 30,
   "metadata": {},
   "outputs": [
    {
     "name": "stderr",
     "output_type": "stream",
     "text": [
      " 54%|█████▍    | 239/442 [00:00<00:00, 258.43it/s]/Users/mgbvox/Desktop/Work/Apteryx_Clients/tristan_w/pd_utils.py:37: FutureWarning: elementwise comparison failed; returning scalar instead, but in the future will perform elementwise comparison\n",
      "  if (term in df[c].values) or (str(term) in df[c].values):\n",
      "100%|██████████| 442/442 [00:01<00:00, 246.16it/s]\n"
     ]
    },
    {
     "data": {
      "text/plain": [
       "[]"
      ]
     },
     "execution_count": 30,
     "metadata": {},
     "output_type": "execute_result"
    }
   ],
   "source": [
    "search('not', df)"
   ]
  },
  {
   "cell_type": "code",
   "execution_count": 31,
   "metadata": {},
   "outputs": [],
   "source": [
    "df['continent'] = df.V2.apply(lambda x: parse_continents(x))"
   ]
  },
  {
   "cell_type": "code",
   "execution_count": 32,
   "metadata": {},
   "outputs": [],
   "source": [
    "df.V5 = df.V5.apply(to_float)"
   ]
  },
  {
   "cell_type": "code",
   "execution_count": 33,
   "metadata": {},
   "outputs": [],
   "source": [
    "df['missing_more_than_five'] = (df.n_null > 5)"
   ]
  },
  {
   "cell_type": "code",
   "execution_count": 34,
   "metadata": {},
   "outputs": [],
   "source": [
    "table = df.groupby(['V262', 'continent', 'V2'])[['n_null', 'missing_more_than_five']].agg(['count'])"
   ]
  },
  {
   "cell_type": "code",
   "execution_count": 35,
   "metadata": {},
   "outputs": [],
   "source": [
    "table.to_csv('1c_out.csv')"
   ]
  },
  {
   "cell_type": "code",
   "execution_count": 36,
   "metadata": {},
   "outputs": [
    {
     "data": {
      "text/html": [
       "<div>\n",
       "<style scoped>\n",
       "    .dataframe tbody tr th:only-of-type {\n",
       "        vertical-align: middle;\n",
       "    }\n",
       "\n",
       "    .dataframe tbody tr th {\n",
       "        vertical-align: top;\n",
       "    }\n",
       "\n",
       "    .dataframe thead th {\n",
       "        text-align: right;\n",
       "    }\n",
       "</style>\n",
       "<table border=\"1\" class=\"dataframe\">\n",
       "  <thead>\n",
       "    <tr style=\"text-align: right;\">\n",
       "      <th></th>\n",
       "      <th></th>\n",
       "      <th>count</th>\n",
       "    </tr>\n",
       "    <tr>\n",
       "      <th>V2</th>\n",
       "      <th>V255</th>\n",
       "      <th></th>\n",
       "    </tr>\n",
       "  </thead>\n",
       "  <tbody>\n",
       "    <tr>\n",
       "      <th rowspan=\"2\" valign=\"top\">Algeria</th>\n",
       "      <th>1</th>\n",
       "      <td>992</td>\n",
       "    </tr>\n",
       "    <tr>\n",
       "      <th>2</th>\n",
       "      <td>208</td>\n",
       "    </tr>\n",
       "    <tr>\n",
       "      <th rowspan=\"2\" valign=\"top\">Armenia</th>\n",
       "      <th>1</th>\n",
       "      <td>1062</td>\n",
       "    </tr>\n",
       "    <tr>\n",
       "      <th>2</th>\n",
       "      <td>20</td>\n",
       "    </tr>\n",
       "    <tr>\n",
       "      <th>Azerbaijan</th>\n",
       "      <th>1</th>\n",
       "      <td>980</td>\n",
       "    </tr>\n",
       "    <tr>\n",
       "      <th>...</th>\n",
       "      <th>...</th>\n",
       "      <td>...</td>\n",
       "    </tr>\n",
       "    <tr>\n",
       "      <th>Uzbekistan</th>\n",
       "      <th>2</th>\n",
       "      <td>13</td>\n",
       "    </tr>\n",
       "    <tr>\n",
       "      <th rowspan=\"2\" valign=\"top\">Yemen</th>\n",
       "      <th>1</th>\n",
       "      <td>596</td>\n",
       "    </tr>\n",
       "    <tr>\n",
       "      <th>2</th>\n",
       "      <td>404</td>\n",
       "    </tr>\n",
       "    <tr>\n",
       "      <th rowspan=\"2\" valign=\"top\">Zimbabwe</th>\n",
       "      <th>1</th>\n",
       "      <td>1388</td>\n",
       "    </tr>\n",
       "    <tr>\n",
       "      <th>2</th>\n",
       "      <td>112</td>\n",
       "    </tr>\n",
       "  </tbody>\n",
       "</table>\n",
       "<p>99 rows × 1 columns</p>\n",
       "</div>"
      ],
      "text/plain": [
       "                 count\n",
       "V2         V255       \n",
       "Algeria    1       992\n",
       "           2       208\n",
       "Armenia    1      1062\n",
       "           2        20\n",
       "Azerbaijan 1       980\n",
       "...                ...\n",
       "Uzbekistan 2        13\n",
       "Yemen      1       596\n",
       "           2       404\n",
       "Zimbabwe   1      1388\n",
       "           2       112\n",
       "\n",
       "[99 rows x 1 columns]"
      ]
     },
     "execution_count": 36,
     "metadata": {},
     "output_type": "execute_result"
    }
   ],
   "source": [
    "\n",
    "'''\n",
    "a. How does the proportion of respondents who are illiterate vary across countries?\n",
    "'''\n",
    "df.groupby([cols['country'], cols['literacy']]).agg(['count']).V1"
   ]
  },
  {
   "cell_type": "code",
   "execution_count": 37,
   "metadata": {},
   "outputs": [],
   "source": [
    "def get_literacy_ratio(x):\n",
    "    try:\n",
    "        val = (x=='2').sum()/(x.count())\n",
    "    except:\n",
    "        val = np.nan\n",
    "    return val"
   ]
  },
  {
   "cell_type": "code",
   "execution_count": 38,
   "metadata": {},
   "outputs": [
    {
     "name": "stderr",
     "output_type": "stream",
     "text": [
      "/Users/mgbvox/anaconda3/envs/tf/lib/python3.7/site-packages/ipykernel_launcher.py:3: RuntimeWarning: invalid value encountered in long_scalars\n",
      "  This is separate from the ipykernel package so we can avoid doing imports until\n"
     ]
    },
    {
     "data": {
      "text/plain": [
       "<matplotlib.axes._subplots.AxesSubplot at 0x7f91c7bd9588>"
      ]
     },
     "execution_count": 38,
     "metadata": {},
     "output_type": "execute_result"
    },
    {
     "data": {
      "image/png": "[encoded data removed]",
      "text/plain": [
       "<Figure size 432x288 with 1 Axes>"
      ]
     },
     "metadata": {
      "needs_background": "light"
     },
     "output_type": "display_data"
    }
   ],
   "source": [
    "df.groupby(cols['country'])[cols['literacy']].apply(get_literacy_ratio).sort_values(ascending=False).plot(kind='hist')"
   ]
  },
  {
   "cell_type": "code",
   "execution_count": 39,
   "metadata": {},
   "outputs": [
    {
     "data": {
      "text/plain": [
       "Muslim                                                                         18331\n",
       "None                                                                           16033\n",
       "Roman Catholic                                                                 14802\n",
       "Orthodox                                                                        8036\n",
       "Protestant                                                                      5655\n",
       "                                                                               ...  \n",
       "Church of Christ / Church of Christ / Church of Christ of Latter-day Saints        2\n",
       "Born again                                                                         1\n",
       "Assembly of God                                                                    1\n",
       "Druse                                                                              1\n",
       "Zionist                                                                            1\n",
       "Name: V144, Length: 64, dtype: int64"
      ]
     },
     "execution_count": 39,
     "metadata": {},
     "output_type": "execute_result"
    }
   ],
   "source": [
    "df['V144'].value_counts()"
   ]
  },
  {
   "cell_type": "code",
   "execution_count": 40,
   "metadata": {},
   "outputs": [],
   "source": [
    "#V144-156 have to do with religion"
   ]
  },
  {
   "cell_type": "code",
   "execution_count": 41,
   "metadata": {},
   "outputs": [
    {
     "name": "stderr",
     "output_type": "stream",
     "text": [
      "/Users/mgbvox/anaconda3/envs/tf/lib/python3.7/site-packages/ipykernel_launcher.py:3: RuntimeWarning: invalid value encountered in long_scalars\n",
      "  This is separate from the ipykernel package so we can avoid doing imports until\n"
     ]
    },
    {
     "data": {
      "text/plain": [
       "V144\n",
       "Shia                                                                     0.431373\n",
       "Hindu                                                                    0.262379\n",
       "Zoroastrian                                                              0.250000\n",
       "Alliance                                                                 0.212454\n",
       "Paganism                                                                 0.181818\n",
       "Al-Hadis                                                                 0.174603\n",
       "DZ: Christian (Quakers, Jehovah's Witnesses, Evangelical, Protestant)    0.166667\n",
       "Muslim                                                                   0.147138\n",
       "Sunni                                                                    0.141682\n",
       "Independent African Church (e.g. ZCC, Shembe, etc.)                      0.141104\n",
       "Aglipayan                                                                0.140187\n",
       "Anglican                                                                 0.138943\n",
       "Baptist                                                                  0.136364\n",
       "Ancestral worshipping / Tradition                                        0.134615\n",
       "ZA: African Traditional Religion                                         0.124224\n",
       "ZA: Evangelical/Apostolic Faith Mission                                  0.109375\n",
       "Pentecostal                                                              0.085714\n",
       "Other;Not specific                                                       0.085198\n",
       "Confucianism                                                             0.076923\n",
       "Armenian Apostolic Church                                                0.073082\n",
       "Jehovah witnesses                                                        0.071429\n",
       "Iglesia ni Cristo (INC)                                                  0.066667\n",
       "Protestant                                                               0.065090\n",
       "Jew                                                                      0.061856\n",
       "Mormon                                                                   0.058824\n",
       "Native, Folk religion                                                    0.050691\n",
       "Christian                                                                0.050435\n",
       "Seven Day Adventist                                                      0.050000\n",
       "Yiguan Dao                                                               0.044444\n",
       "Daoism                                                                   0.044000\n",
       "Name: V255, dtype: float64"
      ]
     },
     "execution_count": 41,
     "metadata": {},
     "output_type": "execute_result"
    }
   ],
   "source": [
    "df.groupby('V144')[cols['literacy']].apply(get_literacy_ratio).sort_values(ascending=False).head(30)"
   ]
  },
  {
   "cell_type": "code",
   "execution_count": 42,
   "metadata": {},
   "outputs": [
    {
     "name": "stderr",
     "output_type": "stream",
     "text": [
      "/Users/mgbvox/anaconda3/envs/tf/lib/python3.7/site-packages/ipykernel_launcher.py:3: RuntimeWarning: invalid value encountered in long_scalars\n",
      "  This is separate from the ipykernel package so we can avoid doing imports until\n"
     ]
    },
    {
     "data": {
      "text/plain": [
       "V2        V144                                                                 \n",
       "Algeria   DZ: Christian (Quakers, Jehovah's Witnesses, Evangelical, Protestant)    0.166667\n",
       "          Muslim                                                                   0.173367\n",
       "Armenia   Armenian Apostolic Church                                                0.017418\n",
       "          Buddhist                                                                 0.000000\n",
       "          Jew                                                                      0.500000\n",
       "                                                                                     ...   \n",
       "Zimbabwe  None                                                                     0.053763\n",
       "          Orthodox                                                                 0.000000\n",
       "          Protestant                                                               0.073377\n",
       "          Roman Catholic                                                           0.086667\n",
       "          Zionist                                                                  0.000000\n",
       "Name: V255, Length: 365, dtype: float64"
      ]
     },
     "execution_count": 42,
     "metadata": {},
     "output_type": "execute_result"
    }
   ],
   "source": [
    "df.groupby([cols['country'], cols['religion']])[cols['literacy']].apply(get_literacy_ratio).dropna()"
   ]
  },
  {
   "cell_type": "code",
   "execution_count": 43,
   "metadata": {},
   "outputs": [
    {
     "name": "stderr",
     "output_type": "stream",
     "text": [
      "/Users/mgbvox/anaconda3/envs/tf/lib/python3.7/site-packages/ipykernel_launcher.py:3: RuntimeWarning: invalid value encountered in long_scalars\n",
      "  This is separate from the ipykernel package so we can avoid doing imports until\n"
     ]
    },
    {
     "data": {
      "text/plain": [
       "continent  V144                                                                 \n",
       "AF         Ancestral worshipping / Tradition                                        0.071429\n",
       "           Buddhist                                                                 0.066667\n",
       "           DZ: Christian (Quakers, Jehovah's Witnesses, Evangelical, Protestant)    0.166667\n",
       "           Hindu                                                                    0.073529\n",
       "           Independent African Church (e.g. ZCC, Shembe, etc.)                      0.141104\n",
       "                                                                                      ...   \n",
       "SA         Pentecostal                                                              0.100000\n",
       "           Protestant                                                               0.026936\n",
       "           Roman Catholic                                                           0.018018\n",
       "           Seven Day Adventist                                                      0.071429\n",
       "           Spiritista                                                               0.018519\n",
       "Name: V255, Length: 105, dtype: float64"
      ]
     },
     "execution_count": 43,
     "metadata": {},
     "output_type": "execute_result"
    }
   ],
   "source": [
    "df.groupby(['continent', cols['religion']])[cols['literacy']].apply(get_literacy_ratio).dropna()"
   ]
  },
  {
   "cell_type": "code",
   "execution_count": 44,
   "metadata": {},
   "outputs": [],
   "source": [
    "us_data = df[df['V2'] == 'United States']"
   ]
  },
  {
   "cell_type": "code",
   "execution_count": 45,
   "metadata": {},
   "outputs": [],
   "source": [
    "def pct_numeric(col):\n",
    "    nums = col.apply(isfloat)\n",
    "    return nums.sum()/nums.count()\n",
    "\n",
    "def get_numeric(df, thresh = .8, conv = False):\n",
    "    non_numeric_columns = []\n",
    "    numeric_columns = []\n",
    "    for c in df.columns:\n",
    "        num_ratio = pct_numeric(df[c])\n",
    "        if num_ratio > thresh:\n",
    "            numeric_columns.append(c)\n",
    "        else:\n",
    "            non_numeric_columns.append(c)\n",
    "            \n",
    "    if conv:\n",
    "        returning = df.copy()\n",
    "        for c in numeric_columns:\n",
    "            returning[c] = returning[c].apply(to_float)\n",
    "        return returning\n",
    "    \n",
    "    return numeric_columns"
   ]
  },
  {
   "cell_type": "code",
   "execution_count": 46,
   "metadata": {},
   "outputs": [],
   "source": [
    "us_numeric = get_numeric(us_data, thresh = .5, conv=True)"
   ]
  },
  {
   "cell_type": "code",
   "execution_count": 47,
   "metadata": {},
   "outputs": [
    {
     "data": {
      "text/html": [
       "<div>\n",
       "<style scoped>\n",
       "    .dataframe tbody tr th:only-of-type {\n",
       "        vertical-align: middle;\n",
       "    }\n",
       "\n",
       "    .dataframe tbody tr th {\n",
       "        vertical-align: top;\n",
       "    }\n",
       "\n",
       "    .dataframe thead th {\n",
       "        text-align: right;\n",
       "    }\n",
       "</style>\n",
       "<table border=\"1\" class=\"dataframe\">\n",
       "  <thead>\n",
       "    <tr style=\"text-align: right;\">\n",
       "      <th></th>\n",
       "      <th>V23</th>\n",
       "      <th>V155</th>\n",
       "      <th>V181</th>\n",
       "      <th>V204</th>\n",
       "      <th>V225</th>\n",
       "      <th>V23_pctl</th>\n",
       "      <th>V23_rank</th>\n",
       "      <th>V155_pctl</th>\n",
       "      <th>V155_rank</th>\n",
       "      <th>V181_pctl</th>\n",
       "      <th>V181_rank</th>\n",
       "      <th>V204_pctl</th>\n",
       "      <th>V204_rank</th>\n",
       "      <th>V225_pctl</th>\n",
       "      <th>V225_rank</th>\n",
       "    </tr>\n",
       "    <tr>\n",
       "      <th>V256B</th>\n",
       "      <th></th>\n",
       "      <th></th>\n",
       "      <th></th>\n",
       "      <th></th>\n",
       "      <th></th>\n",
       "      <th></th>\n",
       "      <th></th>\n",
       "      <th></th>\n",
       "      <th></th>\n",
       "      <th></th>\n",
       "      <th></th>\n",
       "      <th></th>\n",
       "      <th></th>\n",
       "      <th></th>\n",
       "      <th></th>\n",
       "    </tr>\n",
       "  </thead>\n",
       "  <tbody>\n",
       "    <tr>\n",
       "      <th>US: AK</th>\n",
       "      <td>8.666667</td>\n",
       "      <td>2.333333</td>\n",
       "      <td>3.666667</td>\n",
       "      <td>5.333333</td>\n",
       "      <td>3.000000</td>\n",
       "      <td>96.078431</td>\n",
       "      <td>49.0</td>\n",
       "      <td>6.862745</td>\n",
       "      <td>3.5</td>\n",
       "      <td>98.039216</td>\n",
       "      <td>50.0</td>\n",
       "      <td>23.529412</td>\n",
       "      <td>12.0</td>\n",
       "      <td>95.098039</td>\n",
       "      <td>48.5</td>\n",
       "    </tr>\n",
       "    <tr>\n",
       "      <th>US: AL</th>\n",
       "      <td>7.666667</td>\n",
       "      <td>2.807692</td>\n",
       "      <td>3.000000</td>\n",
       "      <td>4.588235</td>\n",
       "      <td>2.481481</td>\n",
       "      <td>71.568627</td>\n",
       "      <td>36.5</td>\n",
       "      <td>52.941176</td>\n",
       "      <td>27.0</td>\n",
       "      <td>82.352941</td>\n",
       "      <td>42.0</td>\n",
       "      <td>3.921569</td>\n",
       "      <td>2.0</td>\n",
       "      <td>5.882353</td>\n",
       "      <td>3.0</td>\n",
       "    </tr>\n",
       "    <tr>\n",
       "      <th>US: AR</th>\n",
       "      <td>7.133333</td>\n",
       "      <td>2.642857</td>\n",
       "      <td>3.428571</td>\n",
       "      <td>5.615385</td>\n",
       "      <td>2.714286</td>\n",
       "      <td>17.647059</td>\n",
       "      <td>9.0</td>\n",
       "      <td>17.647059</td>\n",
       "      <td>9.0</td>\n",
       "      <td>96.078431</td>\n",
       "      <td>49.0</td>\n",
       "      <td>37.254902</td>\n",
       "      <td>19.0</td>\n",
       "      <td>43.137255</td>\n",
       "      <td>22.0</td>\n",
       "    </tr>\n",
       "    <tr>\n",
       "      <th>US: AZ</th>\n",
       "      <td>7.345455</td>\n",
       "      <td>2.792453</td>\n",
       "      <td>2.944444</td>\n",
       "      <td>6.232558</td>\n",
       "      <td>2.777778</td>\n",
       "      <td>33.333333</td>\n",
       "      <td>17.0</td>\n",
       "      <td>47.058824</td>\n",
       "      <td>24.0</td>\n",
       "      <td>74.509804</td>\n",
       "      <td>38.0</td>\n",
       "      <td>58.823529</td>\n",
       "      <td>30.0</td>\n",
       "      <td>61.764706</td>\n",
       "      <td>31.5</td>\n",
       "    </tr>\n",
       "    <tr>\n",
       "      <th>US: CA</th>\n",
       "      <td>7.583658</td>\n",
       "      <td>3.004032</td>\n",
       "      <td>2.478599</td>\n",
       "      <td>6.280788</td>\n",
       "      <td>2.682171</td>\n",
       "      <td>64.705882</td>\n",
       "      <td>33.0</td>\n",
       "      <td>84.313725</td>\n",
       "      <td>43.0</td>\n",
       "      <td>5.882353</td>\n",
       "      <td>3.0</td>\n",
       "      <td>62.745098</td>\n",
       "      <td>32.0</td>\n",
       "      <td>31.372549</td>\n",
       "      <td>16.0</td>\n",
       "    </tr>\n",
       "  </tbody>\n",
       "</table>\n",
       "</div>"
      ],
      "text/plain": [
       "             V23      V155      V181      V204      V225   V23_pctl  V23_rank  \\\n",
       "V256B                                                                           \n",
       "US: AK  8.666667  2.333333  3.666667  5.333333  3.000000  96.078431      49.0   \n",
       "US: AL  7.666667  2.807692  3.000000  4.588235  2.481481  71.568627      36.5   \n",
       "US: AR  7.133333  2.642857  3.428571  5.615385  2.714286  17.647059       9.0   \n",
       "US: AZ  7.345455  2.792453  2.944444  6.232558  2.777778  33.333333      17.0   \n",
       "US: CA  7.583658  3.004032  2.478599  6.280788  2.682171  64.705882      33.0   \n",
       "\n",
       "        V155_pctl  V155_rank  V181_pctl  V181_rank  V204_pctl  V204_rank  \\\n",
       "V256B                                                                      \n",
       "US: AK   6.862745        3.5  98.039216       50.0  23.529412       12.0   \n",
       "US: AL  52.941176       27.0  82.352941       42.0   3.921569        2.0   \n",
       "US: AR  17.647059        9.0  96.078431       49.0  37.254902       19.0   \n",
       "US: AZ  47.058824       24.0  74.509804       38.0  58.823529       30.0   \n",
       "US: CA  84.313725       43.0   5.882353        3.0  62.745098       32.0   \n",
       "\n",
       "        V225_pctl  V225_rank  \n",
       "V256B                         \n",
       "US: AK  95.098039       48.5  \n",
       "US: AL   5.882353        3.0  \n",
       "US: AR  43.137255       22.0  \n",
       "US: AZ  61.764706       31.5  \n",
       "US: CA  31.372549       16.0  "
      ]
     },
     "execution_count": 47,
     "metadata": {},
     "output_type": "execute_result"
    }
   ],
   "source": [
    "from scipy import stats\n",
    "def to_percentile(c, v):\n",
    "    return stats.percentileofscore(c, v)\n",
    "\n",
    "def percentiledata(c):\n",
    "    return c.apply(lambda x: to_percentile(c, x))\n",
    "\n",
    "cols = ['V23', 'V155', 'V181', 'V204', 'V225']\n",
    "mean_values = us_numeric.groupby('V256B')[cols].mean()\n",
    "\n",
    "for c in cols:\n",
    "    s = mean_values[c]\n",
    "    mean_values[c + '_pctl'] = percentiledata(mean_values[c])\n",
    "    mean_values[c + '_rank'] = stats.rankdata(mean_values[c])\n",
    "    \n",
    "mean_values.head()"
   ]
  },
  {
   "cell_type": "code",
   "execution_count": 48,
   "metadata": {},
   "outputs": [],
   "source": [
    "\n",
    "cols_map = {'life_satisfaction':'V23',\n",
    "            'gov_confidence': 'V115',\n",
    "            'job_worries': 'V181',\n",
    "            'abortion_belief': 'V204',\n",
    "            'computer_use': 'V225'}\n",
    "\n",
    "def query_pivot(df, cols, vals, indices = ['V256', 'V256B'], aggfunc = 'mean'):\n",
    "    return df.pivot_table(values = vals, index = indices, columns = cols, aggfunc = aggfunc)"
   ]
  },
  {
   "cell_type": "code",
   "execution_count": 49,
   "metadata": {},
   "outputs": [
    {
     "data": {
      "text/html": [
       "<div>\n",
       "<style scoped>\n",
       "    .dataframe tbody tr th:only-of-type {\n",
       "        vertical-align: middle;\n",
       "    }\n",
       "\n",
       "    .dataframe tbody tr th {\n",
       "        vertical-align: top;\n",
       "    }\n",
       "\n",
       "    .dataframe thead th {\n",
       "        text-align: right;\n",
       "    }\n",
       "</style>\n",
       "<table border=\"1\" class=\"dataframe\">\n",
       "  <thead>\n",
       "    <tr style=\"text-align: right;\">\n",
       "      <th>V115</th>\n",
       "      <th>1.0</th>\n",
       "      <th>2.0</th>\n",
       "      <th>3.0</th>\n",
       "      <th>4.0</th>\n",
       "    </tr>\n",
       "    <tr>\n",
       "      <th>V256B</th>\n",
       "      <th></th>\n",
       "      <th></th>\n",
       "      <th></th>\n",
       "      <th></th>\n",
       "    </tr>\n",
       "  </thead>\n",
       "  <tbody>\n",
       "    <tr>\n",
       "      <th>US: NJ</th>\n",
       "      <td>NaN</td>\n",
       "      <td>5.791667</td>\n",
       "      <td>6.242424</td>\n",
       "      <td>6.750000</td>\n",
       "    </tr>\n",
       "    <tr>\n",
       "      <th>US: NY</th>\n",
       "      <td>6.6</td>\n",
       "      <td>6.233333</td>\n",
       "      <td>6.459016</td>\n",
       "      <td>6.600000</td>\n",
       "    </tr>\n",
       "    <tr>\n",
       "      <th>US: PA</th>\n",
       "      <td>6.5</td>\n",
       "      <td>5.318182</td>\n",
       "      <td>5.212766</td>\n",
       "      <td>5.583333</td>\n",
       "    </tr>\n",
       "  </tbody>\n",
       "</table>\n",
       "</div>"
      ],
      "text/plain": [
       "V115    1.0       2.0       3.0       4.0\n",
       "V256B                                    \n",
       "US: NJ  NaN  5.791667  6.242424  6.750000\n",
       "US: NY  6.6  6.233333  6.459016  6.600000\n",
       "US: PA  6.5  5.318182  5.212766  5.583333"
      ]
     },
     "execution_count": 49,
     "metadata": {},
     "output_type": "execute_result"
    }
   ],
   "source": [
    "query_pivot(us_numeric, cols_map['gov_confidence'], cols_map['abortion_belief']).T['US: Middle Atlantic States'].T"
   ]
  },
  {
   "cell_type": "code",
   "execution_count": 50,
   "metadata": {},
   "outputs": [
    {
     "data": {
      "text/plain": [
       "V115\n",
       "1.0    6.500000\n",
       "2.0    5.318182\n",
       "3.0    5.212766\n",
       "4.0    5.583333\n",
       "Name: US: PA, dtype: float64"
      ]
     },
     "execution_count": 50,
     "metadata": {},
     "output_type": "execute_result"
    }
   ],
   "source": [
    "query_pivot(us_numeric, cols_map['gov_confidence'], cols_map['abortion_belief']).T['US: Middle Atlantic States']['US: PA'].T"
   ]
  },
  {
   "cell_type": "code",
   "execution_count": 51,
   "metadata": {},
   "outputs": [
    {
     "data": {
      "text/html": [
       "<div>\n",
       "<style scoped>\n",
       "    .dataframe tbody tr th:only-of-type {\n",
       "        vertical-align: middle;\n",
       "    }\n",
       "\n",
       "    .dataframe tbody tr th {\n",
       "        vertical-align: top;\n",
       "    }\n",
       "\n",
       "    .dataframe thead th {\n",
       "        text-align: right;\n",
       "    }\n",
       "</style>\n",
       "<table border=\"1\" class=\"dataframe\">\n",
       "  <thead>\n",
       "    <tr style=\"text-align: right;\">\n",
       "      <th></th>\n",
       "      <th>V30</th>\n",
       "      <th>V78</th>\n",
       "      <th>V80</th>\n",
       "      <th>V81</th>\n",
       "      <th>V83</th>\n",
       "      <th>V122</th>\n",
       "    </tr>\n",
       "  </thead>\n",
       "  <tbody>\n",
       "    <tr>\n",
       "      <th>78255</th>\n",
       "      <td>0</td>\n",
       "      <td>Not at all like me</td>\n",
       "      <td>People living in poverty and need</td>\n",
       "      <td>2</td>\n",
       "      <td>2</td>\n",
       "      <td>4</td>\n",
       "    </tr>\n",
       "    <tr>\n",
       "      <th>78256</th>\n",
       "      <td>0</td>\n",
       "      <td>Somewhat like me</td>\n",
       "      <td>Inadequate education</td>\n",
       "      <td>2</td>\n",
       "      <td>2</td>\n",
       "      <td>3</td>\n",
       "    </tr>\n",
       "    <tr>\n",
       "      <th>78257</th>\n",
       "      <td>0</td>\n",
       "      <td>A little like me</td>\n",
       "      <td>Inadequate education</td>\n",
       "      <td>1</td>\n",
       "      <td>2</td>\n",
       "      <td>3</td>\n",
       "    </tr>\n",
       "    <tr>\n",
       "      <th>78258</th>\n",
       "      <td>0</td>\n",
       "      <td>Not like me</td>\n",
       "      <td>People living in poverty and need</td>\n",
       "      <td>2</td>\n",
       "      <td>2</td>\n",
       "      <td>3</td>\n",
       "    </tr>\n",
       "    <tr>\n",
       "      <th>78259</th>\n",
       "      <td>0</td>\n",
       "      <td>Somewhat like me</td>\n",
       "      <td>Inadequate education</td>\n",
       "      <td>2</td>\n",
       "      <td>2</td>\n",
       "      <td>2</td>\n",
       "    </tr>\n",
       "  </tbody>\n",
       "</table>\n",
       "</div>"
      ],
      "text/plain": [
       "      V30                 V78                                V80 V81 V83 V122\n",
       "78255   0  Not at all like me  People living in poverty and need   2   2    4\n",
       "78256   0    Somewhat like me               Inadequate education   2   2    3\n",
       "78257   0    A little like me               Inadequate education   1   2    3\n",
       "78258   0         Not like me  People living in poverty and need   2   2    3\n",
       "78259   0    Somewhat like me               Inadequate education   2   2    2"
      ]
     },
     "execution_count": 51,
     "metadata": {},
     "output_type": "execute_result"
    }
   ],
   "source": [
    "env = ['V30', 'V78', 'V80', 'V81', 'V83', 'V122']\n",
    "us_data[env].head()"
   ]
  },
  {
   "cell_type": "code",
   "execution_count": 52,
   "metadata": {},
   "outputs": [
    {
     "data": {
      "text/plain": [
       "<matplotlib.image.AxesImage at 0x7f9143811780>"
      ]
     },
     "execution_count": 52,
     "metadata": {},
     "output_type": "execute_result"
    },
    {
     "data": {
      "image/png": "[encoded data removed]",
      "text/plain": [
       "<Figure size 432x288 with 1 Axes>"
      ]
     },
     "metadata": {
      "needs_background": "light"
     },
     "output_type": "display_data"
    }
   ],
   "source": [
    "'''\n",
    "Doesn't control for sample population!\n",
    "'''\n",
    "\n",
    "plt.imshow(pd.crosstab(us_data['V256'], us_data['V80']).values)"
   ]
  },
  {
   "cell_type": "code",
   "execution_count": 54,
   "metadata": {},
   "outputs": [],
   "source": [
    "def axis_norm(df, ax):\n",
    "    if ax == 1:\n",
    "        return df.div(df.sum(axis=1), axis=0)\n",
    "    return df.div(df.sum(axis=0), axis=1)"
   ]
  },
  {
   "cell_type": "code",
   "execution_count": 55,
   "metadata": {},
   "outputs": [
    {
     "data": {
      "text/plain": [
       "<matplotlib.image.AxesImage at 0x7f91438c9f28>"
      ]
     },
     "execution_count": 55,
     "metadata": {},
     "output_type": "execute_result"
    },
    {
     "data": {
      "image/png": "[encoded data removed]",
      "text/plain": [
       "<Figure size 432x288 with 1 Axes>"
      ]
     },
     "metadata": {
      "needs_background": "light"
     },
     "output_type": "display_data"
    }
   ],
   "source": [
    "ct = pd.crosstab(us_data['V256'], us_data['V80'])\n",
    "ct_norm = axis_norm(ct, 1)\n",
    "plt.imshow(ct_norm.values)"
   ]
  },
  {
   "cell_type": "code",
   "execution_count": 57,
   "metadata": {},
   "outputs": [
    {
     "data": {
      "text/html": [
       "<div>\n",
       "<style scoped>\n",
       "    .dataframe tbody tr th:only-of-type {\n",
       "        vertical-align: middle;\n",
       "    }\n",
       "\n",
       "    .dataframe tbody tr th {\n",
       "        vertical-align: top;\n",
       "    }\n",
       "\n",
       "    .dataframe thead th {\n",
       "        text-align: right;\n",
       "    }\n",
       "</style>\n",
       "<table border=\"1\" class=\"dataframe\">\n",
       "  <thead>\n",
       "    <tr style=\"text-align: right;\">\n",
       "      <th>V80</th>\n",
       "      <th>Discrimination against girls and women</th>\n",
       "      <th>Environmental pollution</th>\n",
       "      <th>Inadequate education</th>\n",
       "      <th>People living in poverty and need</th>\n",
       "      <th>Poor sanitation and infectious diseases</th>\n",
       "    </tr>\n",
       "    <tr>\n",
       "      <th>V256</th>\n",
       "      <th></th>\n",
       "      <th></th>\n",
       "      <th></th>\n",
       "      <th></th>\n",
       "      <th></th>\n",
       "    </tr>\n",
       "  </thead>\n",
       "  <tbody>\n",
       "    <tr>\n",
       "      <th>US: East North Central</th>\n",
       "      <td>15</td>\n",
       "      <td>22</td>\n",
       "      <td>71</td>\n",
       "      <td>179</td>\n",
       "      <td>45</td>\n",
       "    </tr>\n",
       "    <tr>\n",
       "      <th>US: East South Central</th>\n",
       "      <td>3</td>\n",
       "      <td>7</td>\n",
       "      <td>19</td>\n",
       "      <td>81</td>\n",
       "      <td>15</td>\n",
       "    </tr>\n",
       "    <tr>\n",
       "      <th>US: Middle Atlantic States</th>\n",
       "      <td>14</td>\n",
       "      <td>32</td>\n",
       "      <td>56</td>\n",
       "      <td>165</td>\n",
       "      <td>39</td>\n",
       "    </tr>\n",
       "    <tr>\n",
       "      <th>US: New England</th>\n",
       "      <td>6</td>\n",
       "      <td>10</td>\n",
       "      <td>20</td>\n",
       "      <td>59</td>\n",
       "      <td>11</td>\n",
       "    </tr>\n",
       "    <tr>\n",
       "      <th>US: Pacific</th>\n",
       "      <td>19</td>\n",
       "      <td>48</td>\n",
       "      <td>66</td>\n",
       "      <td>178</td>\n",
       "      <td>35</td>\n",
       "    </tr>\n",
       "    <tr>\n",
       "      <th>US: Rocky Mountain state</th>\n",
       "      <td>3</td>\n",
       "      <td>18</td>\n",
       "      <td>41</td>\n",
       "      <td>82</td>\n",
       "      <td>22</td>\n",
       "    </tr>\n",
       "    <tr>\n",
       "      <th>US: South Atlantic</th>\n",
       "      <td>16</td>\n",
       "      <td>45</td>\n",
       "      <td>68</td>\n",
       "      <td>224</td>\n",
       "      <td>61</td>\n",
       "    </tr>\n",
       "    <tr>\n",
       "      <th>US: West North Central</th>\n",
       "      <td>7</td>\n",
       "      <td>19</td>\n",
       "      <td>40</td>\n",
       "      <td>88</td>\n",
       "      <td>18</td>\n",
       "    </tr>\n",
       "    <tr>\n",
       "      <th>US: West South Central</th>\n",
       "      <td>10</td>\n",
       "      <td>24</td>\n",
       "      <td>46</td>\n",
       "      <td>132</td>\n",
       "      <td>28</td>\n",
       "    </tr>\n",
       "  </tbody>\n",
       "</table>\n",
       "</div>"
      ],
      "text/plain": [
       "V80                         Discrimination against girls and women  \\\n",
       "V256                                                                 \n",
       "US: East North Central                                          15   \n",
       "US: East South Central                                           3   \n",
       "US: Middle Atlantic States                                      14   \n",
       "US: New England                                                  6   \n",
       "US: Pacific                                                     19   \n",
       "US: Rocky Mountain state                                         3   \n",
       "US: South Atlantic                                              16   \n",
       "US: West North Central                                           7   \n",
       "US: West South Central                                          10   \n",
       "\n",
       "V80                         Environmental pollution  Inadequate education  \\\n",
       "V256                                                                        \n",
       "US: East North Central                           22                    71   \n",
       "US: East South Central                            7                    19   \n",
       "US: Middle Atlantic States                       32                    56   \n",
       "US: New England                                  10                    20   \n",
       "US: Pacific                                      48                    66   \n",
       "US: Rocky Mountain state                         18                    41   \n",
       "US: South Atlantic                               45                    68   \n",
       "US: West North Central                           19                    40   \n",
       "US: West South Central                           24                    46   \n",
       "\n",
       "V80                         People living in poverty and need  \\\n",
       "V256                                                            \n",
       "US: East North Central                                    179   \n",
       "US: East South Central                                     81   \n",
       "US: Middle Atlantic States                                165   \n",
       "US: New England                                            59   \n",
       "US: Pacific                                               178   \n",
       "US: Rocky Mountain state                                   82   \n",
       "US: South Atlantic                                        224   \n",
       "US: West North Central                                     88   \n",
       "US: West South Central                                    132   \n",
       "\n",
       "V80                         Poor sanitation and infectious diseases  \n",
       "V256                                                                 \n",
       "US: East North Central                                           45  \n",
       "US: East South Central                                           15  \n",
       "US: Middle Atlantic States                                       39  \n",
       "US: New England                                                  11  \n",
       "US: Pacific                                                      35  \n",
       "US: Rocky Mountain state                                         22  \n",
       "US: South Atlantic                                               61  \n",
       "US: West North Central                                           18  \n",
       "US: West South Central                                           28  "
      ]
     },
     "execution_count": 57,
     "metadata": {},
     "output_type": "execute_result"
    }
   ],
   "source": [
    "ct"
   ]
  },
  {
   "cell_type": "code",
   "execution_count": 58,
   "metadata": {},
   "outputs": [
    {
     "data": {
      "text/html": [
       "<div>\n",
       "<style scoped>\n",
       "    .dataframe tbody tr th:only-of-type {\n",
       "        vertical-align: middle;\n",
       "    }\n",
       "\n",
       "    .dataframe tbody tr th {\n",
       "        vertical-align: top;\n",
       "    }\n",
       "\n",
       "    .dataframe thead th {\n",
       "        text-align: right;\n",
       "    }\n",
       "</style>\n",
       "<table border=\"1\" class=\"dataframe\">\n",
       "  <thead>\n",
       "    <tr style=\"text-align: right;\">\n",
       "      <th></th>\n",
       "      <th>V30</th>\n",
       "      <th>V78</th>\n",
       "      <th>V80</th>\n",
       "      <th>V81</th>\n",
       "      <th>V83</th>\n",
       "      <th>V122</th>\n",
       "    </tr>\n",
       "  </thead>\n",
       "  <tbody>\n",
       "    <tr>\n",
       "      <th>78255</th>\n",
       "      <td>0.0</td>\n",
       "      <td>Not at all like me</td>\n",
       "      <td>People living in poverty and need</td>\n",
       "      <td>2.0</td>\n",
       "      <td>2.0</td>\n",
       "      <td>4.0</td>\n",
       "    </tr>\n",
       "    <tr>\n",
       "      <th>78256</th>\n",
       "      <td>0.0</td>\n",
       "      <td>Somewhat like me</td>\n",
       "      <td>Inadequate education</td>\n",
       "      <td>2.0</td>\n",
       "      <td>2.0</td>\n",
       "      <td>3.0</td>\n",
       "    </tr>\n",
       "    <tr>\n",
       "      <th>78257</th>\n",
       "      <td>0.0</td>\n",
       "      <td>A little like me</td>\n",
       "      <td>Inadequate education</td>\n",
       "      <td>1.0</td>\n",
       "      <td>2.0</td>\n",
       "      <td>3.0</td>\n",
       "    </tr>\n",
       "    <tr>\n",
       "      <th>78258</th>\n",
       "      <td>0.0</td>\n",
       "      <td>Not like me</td>\n",
       "      <td>People living in poverty and need</td>\n",
       "      <td>2.0</td>\n",
       "      <td>2.0</td>\n",
       "      <td>3.0</td>\n",
       "    </tr>\n",
       "    <tr>\n",
       "      <th>78259</th>\n",
       "      <td>0.0</td>\n",
       "      <td>Somewhat like me</td>\n",
       "      <td>Inadequate education</td>\n",
       "      <td>2.0</td>\n",
       "      <td>2.0</td>\n",
       "      <td>2.0</td>\n",
       "    </tr>\n",
       "  </tbody>\n",
       "</table>\n",
       "</div>"
      ],
      "text/plain": [
       "       V30                 V78                                V80  V81  V83  \\\n",
       "78255  0.0  Not at all like me  People living in poverty and need  2.0  2.0   \n",
       "78256  0.0    Somewhat like me               Inadequate education  2.0  2.0   \n",
       "78257  0.0    A little like me               Inadequate education  1.0  2.0   \n",
       "78258  0.0         Not like me  People living in poverty and need  2.0  2.0   \n",
       "78259  0.0    Somewhat like me               Inadequate education  2.0  2.0   \n",
       "\n",
       "       V122  \n",
       "78255   4.0  \n",
       "78256   3.0  \n",
       "78257   3.0  \n",
       "78258   3.0  \n",
       "78259   2.0  "
      ]
     },
     "execution_count": 58,
     "metadata": {},
     "output_type": "execute_result"
    }
   ],
   "source": [
    "env_data = get_numeric(us_data[env], conv=True)\n",
    "env_data.head()"
   ]
  },
  {
   "cell_type": "code",
   "execution_count": 59,
   "metadata": {},
   "outputs": [
    {
     "name": "stderr",
     "output_type": "stream",
     "text": [
      "/Users/mgbvox/anaconda3/envs/tf/lib/python3.7/site-packages/ipykernel_launcher.py:11: SettingWithCopyWarning: \n",
      "A value is trying to be set on a copy of a slice from a DataFrame.\n",
      "Try using .loc[row_indexer,col_indexer] = value instead\n",
      "\n",
      "See the caveats in the documentation: http://pandas.pydata.org/pandas-docs/stable/user_guide/indexing.html#returning-a-view-versus-a-copy\n",
      "  # This is added back by InteractiveShellApp.init_path()\n"
     ]
    }
   ],
   "source": [
    "v78_map = {\n",
    " 'Very much like me' : 1,\n",
    " 'Like me' : 2,\n",
    " 'Somewhat like me' : 3,\n",
    " 'A little like me' : 4,\n",
    " 'Not like me' : 5,\n",
    " 'Not at all like me' : 6\n",
    "}\n",
    "\n",
    "    \n",
    "us_data['V78_int'] = env_data['V78'].apply(lambda x : v78_map.get(x))"
   ]
  },
  {
   "cell_type": "code",
   "execution_count": 60,
   "metadata": {},
   "outputs": [
    {
     "data": {
      "text/html": [
       "<div>\n",
       "<style scoped>\n",
       "    .dataframe tbody tr th:only-of-type {\n",
       "        vertical-align: middle;\n",
       "    }\n",
       "\n",
       "    .dataframe tbody tr th {\n",
       "        vertical-align: top;\n",
       "    }\n",
       "\n",
       "    .dataframe thead th {\n",
       "        text-align: right;\n",
       "    }\n",
       "</style>\n",
       "<table border=\"1\" class=\"dataframe\">\n",
       "  <thead>\n",
       "    <tr style=\"text-align: right;\">\n",
       "      <th></th>\n",
       "      <th>V256</th>\n",
       "      <th>V30</th>\n",
       "      <th>V78_int</th>\n",
       "      <th>V81</th>\n",
       "      <th>V83</th>\n",
       "      <th>V122</th>\n",
       "    </tr>\n",
       "  </thead>\n",
       "  <tbody>\n",
       "    <tr>\n",
       "      <th>78255</th>\n",
       "      <td>US: Pacific</td>\n",
       "      <td>0.0</td>\n",
       "      <td>6.0</td>\n",
       "      <td>2.0</td>\n",
       "      <td>2.0</td>\n",
       "      <td>4.0</td>\n",
       "    </tr>\n",
       "    <tr>\n",
       "      <th>78256</th>\n",
       "      <td>US: Pacific</td>\n",
       "      <td>0.0</td>\n",
       "      <td>3.0</td>\n",
       "      <td>2.0</td>\n",
       "      <td>2.0</td>\n",
       "      <td>3.0</td>\n",
       "    </tr>\n",
       "    <tr>\n",
       "      <th>78257</th>\n",
       "      <td>US: West South Central</td>\n",
       "      <td>0.0</td>\n",
       "      <td>4.0</td>\n",
       "      <td>1.0</td>\n",
       "      <td>2.0</td>\n",
       "      <td>3.0</td>\n",
       "    </tr>\n",
       "    <tr>\n",
       "      <th>78258</th>\n",
       "      <td>US: South Atlantic</td>\n",
       "      <td>0.0</td>\n",
       "      <td>5.0</td>\n",
       "      <td>2.0</td>\n",
       "      <td>2.0</td>\n",
       "      <td>3.0</td>\n",
       "    </tr>\n",
       "    <tr>\n",
       "      <th>78259</th>\n",
       "      <td>US: Middle Atlantic States</td>\n",
       "      <td>0.0</td>\n",
       "      <td>3.0</td>\n",
       "      <td>2.0</td>\n",
       "      <td>2.0</td>\n",
       "      <td>2.0</td>\n",
       "    </tr>\n",
       "  </tbody>\n",
       "</table>\n",
       "</div>"
      ],
      "text/plain": [
       "                             V256  V30  V78_int  V81  V83  V122\n",
       "78255                 US: Pacific  0.0      6.0  2.0  2.0   4.0\n",
       "78256                 US: Pacific  0.0      3.0  2.0  2.0   3.0\n",
       "78257      US: West South Central  0.0      4.0  1.0  2.0   3.0\n",
       "78258          US: South Atlantic  0.0      5.0  2.0  2.0   3.0\n",
       "78259  US: Middle Atlantic States  0.0      3.0  2.0  2.0   2.0"
      ]
     },
     "execution_count": 60,
     "metadata": {},
     "output_type": "execute_result"
    }
   ],
   "source": [
    "env_numeric = ['V30', 'V78_int', 'V81', 'V83', 'V122']\n",
    "\n",
    "env_numeric_data = get_numeric(us_data[['V256'] + env_numeric], conv=True)\n",
    "env_numeric_data.head()"
   ]
  },
  {
   "cell_type": "code",
   "execution_count": 61,
   "metadata": {},
   "outputs": [],
   "source": [
    "maxes = [2, 6, 3, 2, 4]\n",
    "\n",
    "mend = env_numeric_data.groupby('V256')[env_numeric].mean()\n"
   ]
  },
  {
   "cell_type": "code",
   "execution_count": 62,
   "metadata": {},
   "outputs": [
    {
     "data": {
      "text/plain": [
       "<matplotlib.image.AxesImage at 0x7f9158a49b70>"
      ]
     },
     "execution_count": 62,
     "metadata": {},
     "output_type": "execute_result"
    },
    {
     "data": {
      "image/png": "[encoded data removed]",
      "text/plain": [
       "<Figure size 432x288 with 1 Axes>"
      ]
     },
     "metadata": {
      "needs_background": "light"
     },
     "output_type": "display_data"
    }
   ],
   "source": [
    "plt.imshow(mend.div(maxes, axis=1))"
   ]
  },
  {
   "cell_type": "code",
   "execution_count": 63,
   "metadata": {},
   "outputs": [
    {
     "data": {
      "text/html": [
       "<div>\n",
       "<style scoped>\n",
       "    .dataframe tbody tr th:only-of-type {\n",
       "        vertical-align: middle;\n",
       "    }\n",
       "\n",
       "    .dataframe tbody tr th {\n",
       "        vertical-align: top;\n",
       "    }\n",
       "\n",
       "    .dataframe thead th {\n",
       "        text-align: right;\n",
       "    }\n",
       "</style>\n",
       "<table border=\"1\" class=\"dataframe\">\n",
       "  <thead>\n",
       "    <tr style=\"text-align: right;\">\n",
       "      <th></th>\n",
       "      <th>V30</th>\n",
       "      <th>V78_int</th>\n",
       "      <th>V81</th>\n",
       "      <th>V83</th>\n",
       "      <th>V122</th>\n",
       "    </tr>\n",
       "    <tr>\n",
       "      <th>V256</th>\n",
       "      <th></th>\n",
       "      <th></th>\n",
       "      <th></th>\n",
       "      <th></th>\n",
       "      <th></th>\n",
       "    </tr>\n",
       "  </thead>\n",
       "  <tbody>\n",
       "    <tr>\n",
       "      <th>US: East North Central</th>\n",
       "      <td>0.103659</td>\n",
       "      <td>0.506526</td>\n",
       "      <td>0.554878</td>\n",
       "      <td>0.978916</td>\n",
       "      <td>0.639319</td>\n",
       "    </tr>\n",
       "    <tr>\n",
       "      <th>US: East South Central</th>\n",
       "      <td>0.052419</td>\n",
       "      <td>0.541333</td>\n",
       "      <td>0.552910</td>\n",
       "      <td>0.984127</td>\n",
       "      <td>0.678862</td>\n",
       "    </tr>\n",
       "    <tr>\n",
       "      <th>US: Middle Atlantic States</th>\n",
       "      <td>0.150165</td>\n",
       "      <td>0.490164</td>\n",
       "      <td>0.543860</td>\n",
       "      <td>0.965461</td>\n",
       "      <td>0.618243</td>\n",
       "    </tr>\n",
       "    <tr>\n",
       "      <th>US: New England</th>\n",
       "      <td>0.158654</td>\n",
       "      <td>0.474603</td>\n",
       "      <td>0.505051</td>\n",
       "      <td>0.975962</td>\n",
       "      <td>0.603365</td>\n",
       "    </tr>\n",
       "    <tr>\n",
       "      <th>US: Pacific</th>\n",
       "      <td>0.113043</td>\n",
       "      <td>0.452590</td>\n",
       "      <td>0.510721</td>\n",
       "      <td>0.960983</td>\n",
       "      <td>0.624265</td>\n",
       "    </tr>\n",
       "    <tr>\n",
       "      <th>US: Rocky Mountain state</th>\n",
       "      <td>0.113095</td>\n",
       "      <td>0.500000</td>\n",
       "      <td>0.550201</td>\n",
       "      <td>0.987952</td>\n",
       "      <td>0.679878</td>\n",
       "    </tr>\n",
       "    <tr>\n",
       "      <th>US: South Atlantic</th>\n",
       "      <td>0.112469</td>\n",
       "      <td>0.488183</td>\n",
       "      <td>0.548203</td>\n",
       "      <td>0.970803</td>\n",
       "      <td>0.618193</td>\n",
       "    </tr>\n",
       "    <tr>\n",
       "      <th>US: West North Central</th>\n",
       "      <td>0.097633</td>\n",
       "      <td>0.502941</td>\n",
       "      <td>0.529412</td>\n",
       "      <td>0.968208</td>\n",
       "      <td>0.644578</td>\n",
       "    </tr>\n",
       "    <tr>\n",
       "      <th>US: West South Central</th>\n",
       "      <td>0.093750</td>\n",
       "      <td>0.510417</td>\n",
       "      <td>0.548523</td>\n",
       "      <td>0.962500</td>\n",
       "      <td>0.664894</td>\n",
       "    </tr>\n",
       "  </tbody>\n",
       "</table>\n",
       "</div>"
      ],
      "text/plain": [
       "                                 V30   V78_int       V81       V83      V122\n",
       "V256                                                                        \n",
       "US: East North Central      0.103659  0.506526  0.554878  0.978916  0.639319\n",
       "US: East South Central      0.052419  0.541333  0.552910  0.984127  0.678862\n",
       "US: Middle Atlantic States  0.150165  0.490164  0.543860  0.965461  0.618243\n",
       "US: New England             0.158654  0.474603  0.505051  0.975962  0.603365\n",
       "US: Pacific                 0.113043  0.452590  0.510721  0.960983  0.624265\n",
       "US: Rocky Mountain state    0.113095  0.500000  0.550201  0.987952  0.679878\n",
       "US: South Atlantic          0.112469  0.488183  0.548203  0.970803  0.618193\n",
       "US: West North Central      0.097633  0.502941  0.529412  0.968208  0.644578\n",
       "US: West South Central      0.093750  0.510417  0.548523  0.962500  0.664894"
      ]
     },
     "execution_count": 63,
     "metadata": {},
     "output_type": "execute_result"
    }
   ],
   "source": [
    "mend.div(maxes, axis=1)"
   ]
  },
  {
   "cell_type": "code",
   "execution_count": 65,
   "metadata": {},
   "outputs": [
    {
     "name": "stderr",
     "output_type": "stream",
     "text": [
      "/Users/mgbvox/anaconda3/envs/tf/lib/python3.7/site-packages/ipykernel_launcher.py:1: SettingWithCopyWarning: \n",
      "A value is trying to be set on a copy of a slice from a DataFrame.\n",
      "Try using .loc[row_indexer,col_indexer] = value instead\n",
      "\n",
      "See the caveats in the documentation: http://pandas.pydata.org/pandas-docs/stable/user_guide/indexing.html#returning-a-view-versus-a-copy\n",
      "  \"\"\"Entry point for launching an IPython kernel.\n"
     ]
    }
   ],
   "source": [
    "us_data['img_status'] = us_data['V245'].apply({'1':'born', '2':'immg'}.get)"
   ]
  },
  {
   "cell_type": "code",
   "execution_count": 66,
   "metadata": {},
   "outputs": [],
   "source": [
    "def inv(d):\n",
    "    return {v:k for k,v in d.items()}"
   ]
  },
  {
   "cell_type": "code",
   "execution_count": 67,
   "metadata": {},
   "outputs": [
    {
     "data": {
      "text/html": [
       "<div>\n",
       "<style scoped>\n",
       "    .dataframe tbody tr th:only-of-type {\n",
       "        vertical-align: middle;\n",
       "    }\n",
       "\n",
       "    .dataframe tbody tr th {\n",
       "        vertical-align: top;\n",
       "    }\n",
       "\n",
       "    .dataframe thead th {\n",
       "        text-align: right;\n",
       "    }\n",
       "</style>\n",
       "<table border=\"1\" class=\"dataframe\">\n",
       "  <thead>\n",
       "    <tr style=\"text-align: right;\">\n",
       "      <th>img_status</th>\n",
       "      <th>born</th>\n",
       "      <th>immg</th>\n",
       "    </tr>\n",
       "    <tr>\n",
       "      <th>V248</th>\n",
       "      <th></th>\n",
       "      <th></th>\n",
       "    </tr>\n",
       "  </thead>\n",
       "  <tbody>\n",
       "    <tr>\n",
       "      <th>1.0</th>\n",
       "      <td>0.002587</td>\n",
       "      <td>0.034965</td>\n",
       "    </tr>\n",
       "    <tr>\n",
       "      <th>2.0</th>\n",
       "      <td>0.003881</td>\n",
       "      <td>0.076923</td>\n",
       "    </tr>\n",
       "    <tr>\n",
       "      <th>3.0</th>\n",
       "      <td>0.009056</td>\n",
       "      <td>0.139860</td>\n",
       "    </tr>\n",
       "    <tr>\n",
       "      <th>6.0</th>\n",
       "      <td>0.197930</td>\n",
       "      <td>0.328671</td>\n",
       "    </tr>\n",
       "    <tr>\n",
       "      <th>7.0</th>\n",
       "      <td>0.786546</td>\n",
       "      <td>0.419580</td>\n",
       "    </tr>\n",
       "  </tbody>\n",
       "</table>\n",
       "</div>"
      ],
      "text/plain": [
       "img_status      born      immg\n",
       "V248                          \n",
       "1.0         0.002587  0.034965\n",
       "2.0         0.003881  0.076923\n",
       "3.0         0.009056  0.139860\n",
       "6.0         0.197930  0.328671\n",
       "7.0         0.786546  0.419580"
      ]
     },
     "execution_count": 67,
     "metadata": {},
     "output_type": "execute_result"
    }
   ],
   "source": [
    "{\n",
    "    'edu':'V248',\n",
    "    'live_w_parents':'V250',\n",
    "    'age':'V242',\n",
    "    'income':'V329'\n",
    "}\n",
    "\n",
    "edu = {\n",
    "1 : 'No formal education',\n",
    "2 : 'Incomplete primary school',\n",
    "3 : 'Complete primary school',\n",
    "4 : 'Incomplete secondary school: technical/ vocational type',\n",
    "5 : 'Complete secondary school: technical/ vocational type',\n",
    "6 : 'Incomplete secondary school: university-preparatory type',\n",
    "7 : 'Complete secondary school: university-preparatory type',\n",
    "8 : 'Some university-level education, without degree',\n",
    "9 : 'University - level education, with degree'\n",
    "}\n",
    "\n",
    "def parse_edu(x, map_):\n",
    "    if map_.get(x):\n",
    "        return map_.get(x)\n",
    "    inv_map = inv(map_)\n",
    "    if inv_map.get(x):\n",
    "        return inv_map.get(x)\n",
    "    return np.nan\n",
    "\n",
    "edu_img_crosstab = axis_norm(pd.crosstab(us_data['V248'].apply(lambda x : parse_edu(x, edu)), us_data['img_status']), 0)\n",
    "edu_img_crosstab"
   ]
  },
  {
   "cell_type": "code",
   "execution_count": 68,
   "metadata": {},
   "outputs": [
    {
     "data": {
      "text/plain": [
       "<matplotlib.image.AxesImage at 0x7f9143651978>"
      ]
     },
     "execution_count": 68,
     "metadata": {},
     "output_type": "execute_result"
    },
    {
     "data": {
      "image/png": "[encoded data removed]",
      "text/plain": [
       "<Figure size 432x288 with 1 Axes>"
      ]
     },
     "metadata": {
      "needs_background": "light"
     },
     "output_type": "display_data"
    }
   ],
   "source": [
    "plt.imshow(edu_img_crosstab)"
   ]
  },
  {
   "cell_type": "code",
   "execution_count": 69,
   "metadata": {},
   "outputs": [
    {
     "data": {
      "text/html": [
       "<div>\n",
       "<style scoped>\n",
       "    .dataframe tbody tr th:only-of-type {\n",
       "        vertical-align: middle;\n",
       "    }\n",
       "\n",
       "    .dataframe tbody tr th {\n",
       "        vertical-align: top;\n",
       "    }\n",
       "\n",
       "    .dataframe thead th {\n",
       "        text-align: right;\n",
       "    }\n",
       "</style>\n",
       "<table border=\"1\" class=\"dataframe\">\n",
       "  <thead>\n",
       "    <tr style=\"text-align: right;\">\n",
       "      <th>V228</th>\n",
       "      <th>US: Democrat</th>\n",
       "      <th>US: Republican</th>\n",
       "    </tr>\n",
       "    <tr>\n",
       "      <th>V248</th>\n",
       "      <th></th>\n",
       "      <th></th>\n",
       "    </tr>\n",
       "  </thead>\n",
       "  <tbody>\n",
       "    <tr>\n",
       "      <th>1.0</th>\n",
       "      <td>0.011278</td>\n",
       "      <td>0.000000</td>\n",
       "    </tr>\n",
       "    <tr>\n",
       "      <th>2.0</th>\n",
       "      <td>0.015038</td>\n",
       "      <td>0.013825</td>\n",
       "    </tr>\n",
       "    <tr>\n",
       "      <th>3.0</th>\n",
       "      <td>0.041353</td>\n",
       "      <td>0.004608</td>\n",
       "    </tr>\n",
       "    <tr>\n",
       "      <th>6.0</th>\n",
       "      <td>0.210526</td>\n",
       "      <td>0.138249</td>\n",
       "    </tr>\n",
       "    <tr>\n",
       "      <th>7.0</th>\n",
       "      <td>0.721805</td>\n",
       "      <td>0.843318</td>\n",
       "    </tr>\n",
       "  </tbody>\n",
       "</table>\n",
       "</div>"
      ],
      "text/plain": [
       "V228  US: Democrat  US: Republican\n",
       "V248                              \n",
       "1.0       0.011278        0.000000\n",
       "2.0       0.015038        0.013825\n",
       "3.0       0.041353        0.004608\n",
       "6.0       0.210526        0.138249\n",
       "7.0       0.721805        0.843318"
      ]
     },
     "execution_count": 69,
     "metadata": {},
     "output_type": "execute_result"
    }
   ],
   "source": [
    "edu_polit_crosstab = axis_norm(pd.crosstab(us_data['V248'].apply(lambda x : parse_edu(x, edu)), us_data['V228']).iloc[:,2:],0)\n",
    "edu_polit_crosstab"
   ]
  },
  {
   "cell_type": "code",
   "execution_count": 70,
   "metadata": {},
   "outputs": [
    {
     "data": {
      "text/plain": [
       "<matplotlib.image.AxesImage at 0x7f914396c6d8>"
      ]
     },
     "execution_count": 70,
     "metadata": {},
     "output_type": "execute_result"
    },
    {
     "data": {
      "image/png": "[encoded data removed]",
      "text/plain": [
       "<Figure size 432x288 with 1 Axes>"
      ]
     },
     "metadata": {
      "needs_background": "light"
     },
     "output_type": "display_data"
    }
   ],
   "source": [
    "plt.imshow(edu_polit_crosstab)"
   ]
  },
  {
   "cell_type": "code",
   "execution_count": 71,
   "metadata": {},
   "outputs": [
    {
     "data": {
      "text/html": [
       "<div>\n",
       "<style scoped>\n",
       "    .dataframe tbody tr th:only-of-type {\n",
       "        vertical-align: middle;\n",
       "    }\n",
       "\n",
       "    .dataframe tbody tr th {\n",
       "        vertical-align: top;\n",
       "    }\n",
       "\n",
       "    .dataframe thead th {\n",
       "        text-align: right;\n",
       "    }\n",
       "</style>\n",
       "<table border=\"1\" class=\"dataframe\">\n",
       "  <thead>\n",
       "    <tr style=\"text-align: right;\">\n",
       "      <th>V228</th>\n",
       "      <th>US: Democrat</th>\n",
       "      <th>US: Republican</th>\n",
       "    </tr>\n",
       "    <tr>\n",
       "      <th>img_status</th>\n",
       "      <th></th>\n",
       "      <th></th>\n",
       "    </tr>\n",
       "  </thead>\n",
       "  <tbody>\n",
       "    <tr>\n",
       "      <th>born</th>\n",
       "      <td>0.886686</td>\n",
       "      <td>0.941275</td>\n",
       "    </tr>\n",
       "    <tr>\n",
       "      <th>immg</th>\n",
       "      <td>0.113314</td>\n",
       "      <td>0.058725</td>\n",
       "    </tr>\n",
       "  </tbody>\n",
       "</table>\n",
       "</div>"
      ],
      "text/plain": [
       "V228        US: Democrat  US: Republican\n",
       "img_status                              \n",
       "born            0.886686        0.941275\n",
       "immg            0.113314        0.058725"
      ]
     },
     "execution_count": 71,
     "metadata": {},
     "output_type": "execute_result"
    }
   ],
   "source": [
    "edu_polit_crosstab = axis_norm(pd.crosstab(us_data['img_status'], us_data['V228']).iloc[:,2:],0)\n",
    "edu_polit_crosstab"
   ]
  },
  {
   "cell_type": "code",
   "execution_count": 72,
   "metadata": {},
   "outputs": [
    {
     "data": {
      "text/plain": [
       "0          .221111\n",
       "1          .276389\n",
       "2        .30472201\n",
       "3        .26305601\n",
       "4          .220833\n",
       "           ...    \n",
       "89560      .138056\n",
       "89561      .207222\n",
       "89562          .11\n",
       "89563      .220833\n",
       "89564      .234722\n",
       "Name: SACSECVAL, Length: 89565, dtype: object"
      ]
     },
     "execution_count": 72,
     "metadata": {},
     "output_type": "execute_result"
    }
   ],
   "source": [
    "df.SACSECVAL"
   ]
  },
  {
   "cell_type": "code",
   "execution_count": 73,
   "metadata": {},
   "outputs": [],
   "source": [
    "df['SACSECVAL'] = df.SACSECVAL.apply(to_float)\n",
    "\n",
    "\n",
    "df['secular_category'] = pd.cut(df.SACSECVAL, bins=[-999, .3, .7, 999], labels = ['Low','Med','High'])"
   ]
  },
  {
   "cell_type": "code",
   "execution_count": 74,
   "metadata": {},
   "outputs": [
    {
     "data": {
      "text/plain": [
       "'\\nList the countries where the proportion of \\nrespondents in the “Low” secular_category is \\ngreater than the “Medium” and “High” categories.\\n'"
      ]
     },
     "execution_count": 74,
     "metadata": {},
     "output_type": "execute_result"
    }
   ],
   "source": [
    "'''\n",
    "List the countries where the proportion of \n",
    "respondents in the “Low” secular_category is \n",
    "greater than the “Medium” and “High” categories.\n",
    "'''"
   ]
  },
  {
   "cell_type": "code",
   "execution_count": 75,
   "metadata": {},
   "outputs": [],
   "source": [
    "def nonsecularity_ratio(x):\n",
    "    try:\n",
    "        val = (x=='Low').sum()/((x!='Low').sum())\n",
    "    except:\n",
    "        val = np.nan\n",
    "    return val"
   ]
  },
  {
   "cell_type": "code",
   "execution_count": 76,
   "metadata": {},
   "outputs": [
    {
     "data": {
      "text/plain": [
       "V2\n",
       "Armenia                 1.301255\n",
       "Cyprus                  1.202643\n",
       "Georgia                 1.931707\n",
       "Ghana                   2.748792\n",
       "India                   2.342623\n",
       "Jordan                  5.282723\n",
       "Kuwait                  1.889135\n",
       "Libya                   2.493443\n",
       "Malaysia                1.093398\n",
       "Morocco                 3.255319\n",
       "Pakistan                1.247191\n",
       "Qatar                  22.043478\n",
       "Romania                 1.200586\n",
       "Trinidad and Tobago     1.722071\n",
       "Tunisia                 1.400398\n",
       "Turkey                  2.178218\n",
       "Uzbekistan              1.697842\n",
       "Yemen                   1.487562\n",
       "Zimbabwe                1.109705\n",
       "Name: secular_category, dtype: float64"
      ]
     },
     "execution_count": 76,
     "metadata": {},
     "output_type": "execute_result"
    }
   ],
   "source": [
    "sec_ratio_group = df.groupby('V2')['secular_category'].apply(nonsecularity_ratio)\n",
    "sec_ratio_group[sec_ratio_group>1]"
   ]
  },
  {
   "cell_type": "code",
   "execution_count": 77,
   "metadata": {},
   "outputs": [
    {
     "data": {
      "text/plain": [
       "continent\n",
       "EU    0.303068\n",
       "OC    0.499353\n",
       "NA    0.577603\n",
       "SA    0.583787\n",
       "AS    0.853739\n",
       "AF    0.953244\n",
       "Name: secular_category, dtype: float64"
      ]
     },
     "execution_count": 77,
     "metadata": {},
     "output_type": "execute_result"
    }
   ],
   "source": [
    "df.groupby('continent')['secular_category'].apply(nonsecularity_ratio).sort_values()"
   ]
  },
  {
   "cell_type": "code",
   "execution_count": 78,
   "metadata": {},
   "outputs": [],
   "source": [
    "df['gender'] = df.V240.apply({'1':'Male', '2':'Female'}.get)"
   ]
  },
  {
   "cell_type": "code",
   "execution_count": 79,
   "metadata": {},
   "outputs": [
    {
     "data": {
      "text/html": [
       "<div>\n",
       "<style scoped>\n",
       "    .dataframe tbody tr th:only-of-type {\n",
       "        vertical-align: middle;\n",
       "    }\n",
       "\n",
       "    .dataframe tbody tr th {\n",
       "        vertical-align: top;\n",
       "    }\n",
       "\n",
       "    .dataframe thead th {\n",
       "        text-align: right;\n",
       "    }\n",
       "</style>\n",
       "<table border=\"1\" class=\"dataframe\">\n",
       "  <thead>\n",
       "    <tr style=\"text-align: right;\">\n",
       "      <th></th>\n",
       "      <th>V45</th>\n",
       "      <th>V47</th>\n",
       "    </tr>\n",
       "    <tr>\n",
       "      <th>gender</th>\n",
       "      <th></th>\n",
       "      <th></th>\n",
       "    </tr>\n",
       "  </thead>\n",
       "  <tbody>\n",
       "    <tr>\n",
       "      <th>Female</th>\n",
       "      <td>0.531796</td>\n",
       "      <td>0.50685</td>\n",
       "    </tr>\n",
       "    <tr>\n",
       "      <th>Male</th>\n",
       "      <td>0.468204</td>\n",
       "      <td>0.49315</td>\n",
       "    </tr>\n",
       "  </tbody>\n",
       "</table>\n",
       "</div>"
      ],
      "text/plain": [
       "             V45      V47\n",
       "gender                   \n",
       "Female  0.531796  0.50685\n",
       "Male    0.468204  0.49315"
      ]
     },
     "execution_count": 79,
     "metadata": {},
     "output_type": "execute_result"
    }
   ],
   "source": [
    "gen_eq = ['V45','V47']\n",
    "\n",
    "gen_eq_data = get_numeric(df[['V2','gender']+gen_eq].dropna(), conv=True)\n",
    "\n",
    "axis_norm(gen_eq_data.groupby('gender')[gen_eq].mean(),0)"
   ]
  },
  {
   "cell_type": "code",
   "execution_count": 80,
   "metadata": {},
   "outputs": [
    {
     "data": {
      "text/html": [
       "<div>\n",
       "<style scoped>\n",
       "    .dataframe tbody tr th:only-of-type {\n",
       "        vertical-align: middle;\n",
       "    }\n",
       "\n",
       "    .dataframe tbody tr th {\n",
       "        vertical-align: top;\n",
       "    }\n",
       "\n",
       "    .dataframe thead th {\n",
       "        text-align: right;\n",
       "    }\n",
       "</style>\n",
       "<table border=\"1\" class=\"dataframe\">\n",
       "  <thead>\n",
       "    <tr style=\"text-align: right;\">\n",
       "      <th></th>\n",
       "      <th>V45</th>\n",
       "      <th>V47</th>\n",
       "    </tr>\n",
       "    <tr>\n",
       "      <th>gender</th>\n",
       "      <th></th>\n",
       "      <th></th>\n",
       "    </tr>\n",
       "  </thead>\n",
       "  <tbody>\n",
       "    <tr>\n",
       "      <th>Female</th>\n",
       "      <td>1.995851</td>\n",
       "      <td>2.168050</td>\n",
       "    </tr>\n",
       "    <tr>\n",
       "      <th>Male</th>\n",
       "      <td>1.388664</td>\n",
       "      <td>1.645749</td>\n",
       "    </tr>\n",
       "  </tbody>\n",
       "</table>\n",
       "</div>"
      ],
      "text/plain": [
       "             V45       V47\n",
       "gender                    \n",
       "Female  1.995851  2.168050\n",
       "Male    1.388664  1.645749"
      ]
     },
     "execution_count": 80,
     "metadata": {},
     "output_type": "execute_result"
    }
   ],
   "source": [
    "gen_eq_data.groupby(['V2', 'gender'])[gen_eq].mean().T['Morocco'].T"
   ]
  },
  {
   "cell_type": "code",
   "execution_count": 81,
   "metadata": {},
   "outputs": [
    {
     "data": {
      "text/html": [
       "<div>\n",
       "<style scoped>\n",
       "    .dataframe tbody tr th:only-of-type {\n",
       "        vertical-align: middle;\n",
       "    }\n",
       "\n",
       "    .dataframe tbody tr th {\n",
       "        vertical-align: top;\n",
       "    }\n",
       "\n",
       "    .dataframe thead th {\n",
       "        text-align: right;\n",
       "    }\n",
       "</style>\n",
       "<table border=\"1\" class=\"dataframe\">\n",
       "  <thead>\n",
       "    <tr style=\"text-align: right;\">\n",
       "      <th></th>\n",
       "      <th>V45</th>\n",
       "      <th>V47</th>\n",
       "    </tr>\n",
       "    <tr>\n",
       "      <th>gender</th>\n",
       "      <th></th>\n",
       "      <th></th>\n",
       "    </tr>\n",
       "  </thead>\n",
       "  <tbody>\n",
       "    <tr>\n",
       "      <th>Female</th>\n",
       "      <td>1.578947</td>\n",
       "      <td>2.175439</td>\n",
       "    </tr>\n",
       "    <tr>\n",
       "      <th>Male</th>\n",
       "      <td>1.480412</td>\n",
       "      <td>2.206186</td>\n",
       "    </tr>\n",
       "  </tbody>\n",
       "</table>\n",
       "</div>"
      ],
      "text/plain": [
       "             V45       V47\n",
       "gender                    \n",
       "Female  1.578947  2.175439\n",
       "Male    1.480412  2.206186"
      ]
     },
     "execution_count": 81,
     "metadata": {},
     "output_type": "execute_result"
    }
   ],
   "source": [
    "gen_eq_data.groupby(['V2', 'gender'])[gen_eq].mean().T['Qatar'].T"
   ]
  }
 ],
 "metadata": {
  "kernelspec": {
   "display_name": "Python 3",
   "language": "python",
   "name": "python3"
  },
  "language_info": {
   "codemirror_mode": {
    "name": "ipython",
    "version": 3
   },
   "file_extension": ".py",
   "mimetype": "text/x-python",
   "name": "python",
   "nbconvert_exporter": "python",
   "pygments_lexer": "ipython3",
   "version": "3.7.3"
  }
 },
 "nbformat": 4,
 "nbformat_minor": 4
}
