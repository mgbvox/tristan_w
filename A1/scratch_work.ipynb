{
 "cells": [
  {
   "cell_type": "code",
   "execution_count": 1,
   "metadata": {},
   "outputs": [
    {
     "name": "stdout",
     "output_type": "stream",
     "text": [
      "Populating the interactive namespace from numpy and matplotlib\n"
     ]
    }
   ],
   "source": [
    "%pylab inline\n",
    "import pandas as pd"
   ]
  },
  {
   "cell_type": "code",
   "execution_count": 4,
   "metadata": {},
   "outputs": [
    {
     "name": "stderr",
     "output_type": "stream",
     "text": [
      "/Users/mgbvox/anaconda3/envs/data_science/lib/python3.6/site-packages/IPython/core/interactiveshell.py:3063: DtypeWarning: Columns (4,5,6,7,8,9,10,11,24,25,26,27,28,29,30,31,32,33,34,35,36,37,38,39,40,41,42,43,44,46,47,48,49,50,51,52,53,54,55,62,63,64,65,66,67,68,69,70,71,77,84,85,86,87,88,89,90,91,92,93,94,95,96,97,105,106,107,108,109,110,111,112,113,114,115,116,117,118,119,120,122,123,124,125,126,127,144,145,146,147,148,149,150,162,163,167,168,169,170,171,177,178,179,180,181,182,183,184,185,190,191,192,193,194,195,196,197,198,199,206,207,208,217,218,234,239,244,245,246,264,281,282,283,295,296,298,302,303,304,305,308,309,310,311,312,313,314,315,316,321,322,323,327,332,335,337,346,347,348,349,351,352,353,436) have mixed types.Specify dtype option on import or set low_memory=False.\n",
      "  interactivity=interactivity, compiler=compiler, result=result)\n"
     ]
    },
    {
     "data": {
      "text/html": [
       "<div>\n",
       "<style scoped>\n",
       "    .dataframe tbody tr th:only-of-type {\n",
       "        vertical-align: middle;\n",
       "    }\n",
       "\n",
       "    .dataframe tbody tr th {\n",
       "        vertical-align: top;\n",
       "    }\n",
       "\n",
       "    .dataframe thead th {\n",
       "        text-align: right;\n",
       "    }\n",
       "</style>\n",
       "<table border=\"1\" class=\"dataframe\">\n",
       "  <thead>\n",
       "    <tr style=\"text-align: right;\">\n",
       "      <th></th>\n",
       "      <th>V1</th>\n",
       "      <th>V2</th>\n",
       "      <th>V2A</th>\n",
       "      <th>V3</th>\n",
       "      <th>V4</th>\n",
       "      <th>V5</th>\n",
       "      <th>V6</th>\n",
       "      <th>V7</th>\n",
       "      <th>V8</th>\n",
       "      <th>V9</th>\n",
       "      <th>...</th>\n",
       "      <th>VOICE</th>\n",
       "      <th>WEIGHT4B</th>\n",
       "      <th>S001</th>\n",
       "      <th>S007</th>\n",
       "      <th>S018</th>\n",
       "      <th>S019</th>\n",
       "      <th>S021</th>\n",
       "      <th>S024</th>\n",
       "      <th>S025</th>\n",
       "      <th>COW</th>\n",
       "    </tr>\n",
       "  </thead>\n",
       "  <tbody>\n",
       "    <tr>\n",
       "      <th>0</th>\n",
       "      <td>2010-2013</td>\n",
       "      <td>Algeria</td>\n",
       "      <td>Algeria</td>\n",
       "      <td>1</td>\n",
       "      <td>1</td>\n",
       "      <td>1</td>\n",
       "      <td>1</td>\n",
       "      <td>No answer</td>\n",
       "      <td>1</td>\n",
       "      <td>1</td>\n",
       "      <td>...</td>\n",
       "      <td>0.250</td>\n",
       "      <td>1.0</td>\n",
       "      <td>WVS</td>\n",
       "      <td>13761</td>\n",
       "      <td>0.833333</td>\n",
       "      <td>1.25</td>\n",
       "      <td>1206212014</td>\n",
       "      <td>Algeria (6)</td>\n",
       "      <td>Algeria (2014)</td>\n",
       "      <td>ALG Algeria</td>\n",
       "    </tr>\n",
       "    <tr>\n",
       "      <th>1</th>\n",
       "      <td>2010-2013</td>\n",
       "      <td>Algeria</td>\n",
       "      <td>Algeria</td>\n",
       "      <td>2</td>\n",
       "      <td>1</td>\n",
       "      <td>2</td>\n",
       "      <td>3</td>\n",
       "      <td>4</td>\n",
       "      <td>2</td>\n",
       "      <td>2</td>\n",
       "      <td>...</td>\n",
       "      <td>0.330</td>\n",
       "      <td>1.0</td>\n",
       "      <td>WVS</td>\n",
       "      <td>13762</td>\n",
       "      <td>0.833333</td>\n",
       "      <td>1.25</td>\n",
       "      <td>1206212014</td>\n",
       "      <td>Algeria (6)</td>\n",
       "      <td>Algeria (2014)</td>\n",
       "      <td>ALG Algeria</td>\n",
       "    </tr>\n",
       "    <tr>\n",
       "      <th>2</th>\n",
       "      <td>2010-2013</td>\n",
       "      <td>Algeria</td>\n",
       "      <td>Algeria</td>\n",
       "      <td>3</td>\n",
       "      <td>1</td>\n",
       "      <td>3</td>\n",
       "      <td>2</td>\n",
       "      <td>4</td>\n",
       "      <td>2</td>\n",
       "      <td>1</td>\n",
       "      <td>...</td>\n",
       "      <td>0.165</td>\n",
       "      <td>1.0</td>\n",
       "      <td>WVS</td>\n",
       "      <td>13763</td>\n",
       "      <td>0.833333</td>\n",
       "      <td>1.25</td>\n",
       "      <td>1206212014</td>\n",
       "      <td>Algeria (6)</td>\n",
       "      <td>Algeria (2014)</td>\n",
       "      <td>ALG Algeria</td>\n",
       "    </tr>\n",
       "    <tr>\n",
       "      <th>3</th>\n",
       "      <td>2010-2013</td>\n",
       "      <td>Algeria</td>\n",
       "      <td>Algeria</td>\n",
       "      <td>4</td>\n",
       "      <td>1</td>\n",
       "      <td>1</td>\n",
       "      <td>3</td>\n",
       "      <td>4</td>\n",
       "      <td>3</td>\n",
       "      <td>1</td>\n",
       "      <td>...</td>\n",
       "      <td>0.000</td>\n",
       "      <td>1.0</td>\n",
       "      <td>WVS</td>\n",
       "      <td>13764</td>\n",
       "      <td>0.833333</td>\n",
       "      <td>1.25</td>\n",
       "      <td>1206212014</td>\n",
       "      <td>Algeria (6)</td>\n",
       "      <td>Algeria (2014)</td>\n",
       "      <td>ALG Algeria</td>\n",
       "    </tr>\n",
       "    <tr>\n",
       "      <th>4</th>\n",
       "      <td>2010-2013</td>\n",
       "      <td>Algeria</td>\n",
       "      <td>Algeria</td>\n",
       "      <td>5</td>\n",
       "      <td>1</td>\n",
       "      <td>1</td>\n",
       "      <td>1</td>\n",
       "      <td>2</td>\n",
       "      <td>1</td>\n",
       "      <td>1</td>\n",
       "      <td>...</td>\n",
       "      <td>0.330</td>\n",
       "      <td>1.0</td>\n",
       "      <td>WVS</td>\n",
       "      <td>13765</td>\n",
       "      <td>0.833333</td>\n",
       "      <td>1.25</td>\n",
       "      <td>1206212014</td>\n",
       "      <td>Algeria (6)</td>\n",
       "      <td>Algeria (2014)</td>\n",
       "      <td>ALG Algeria</td>\n",
       "    </tr>\n",
       "  </tbody>\n",
       "</table>\n",
       "<p>5 rows × 440 columns</p>\n",
       "</div>"
      ],
      "text/plain": [
       "          V1       V2      V2A  V3 V4 V5 V6         V7 V8 V9  ...  VOICE  \\\n",
       "0  2010-2013  Algeria  Algeria   1  1  1  1  No answer  1  1  ...  0.250   \n",
       "1  2010-2013  Algeria  Algeria   2  1  2  3          4  2  2  ...  0.330   \n",
       "2  2010-2013  Algeria  Algeria   3  1  3  2          4  2  1  ...  0.165   \n",
       "3  2010-2013  Algeria  Algeria   4  1  1  3          4  3  1  ...  0.000   \n",
       "4  2010-2013  Algeria  Algeria   5  1  1  1          2  1  1  ...  0.330   \n",
       "\n",
       "  WEIGHT4B  S001   S007      S018  S019        S021         S024  \\\n",
       "0      1.0   WVS  13761  0.833333  1.25  1206212014  Algeria (6)   \n",
       "1      1.0   WVS  13762  0.833333  1.25  1206212014  Algeria (6)   \n",
       "2      1.0   WVS  13763  0.833333  1.25  1206212014  Algeria (6)   \n",
       "3      1.0   WVS  13764  0.833333  1.25  1206212014  Algeria (6)   \n",
       "4      1.0   WVS  13765  0.833333  1.25  1206212014  Algeria (6)   \n",
       "\n",
       "             S025          COW  \n",
       "0  Algeria (2014)  ALG Algeria  \n",
       "1  Algeria (2014)  ALG Algeria  \n",
       "2  Algeria (2014)  ALG Algeria  \n",
       "3  Algeria (2014)  ALG Algeria  \n",
       "4  Algeria (2014)  ALG Algeria  \n",
       "\n",
       "[5 rows x 440 columns]"
      ]
     },
     "execution_count": 4,
     "metadata": {},
     "output_type": "execute_result"
    }
   ],
   "source": [
    "df = pd.read_csv('worldvalues-data.csv')\n",
    "df.head()"
   ]
  },
  {
   "cell_type": "code",
   "execution_count": 11,
   "metadata": {},
   "outputs": [],
   "source": [
    "df['nnull'] = df.isnull().sum(axis=1)"
   ]
  },
  {
   "cell_type": "code",
   "execution_count": 13,
   "metadata": {},
   "outputs": [
    {
     "data": {
      "text/plain": [
       "V1\n",
       "2010-2013    89565\n",
       "Name: nnull, dtype: int64"
      ]
     },
     "execution_count": 13,
     "metadata": {},
     "output_type": "execute_result"
    }
   ],
   "source": [
    "df.groupby('V1').nnull.count()"
   ]
  },
  {
   "cell_type": "code",
   "execution_count": 14,
   "metadata": {},
   "outputs": [
    {
     "data": {
      "text/plain": [
       "2010-2013    89565\n",
       "Name: V1, dtype: int64"
      ]
     },
     "execution_count": 14,
     "metadata": {},
     "output_type": "execute_result"
    }
   ],
   "source": [
    "df.V1.value_counts()"
   ]
  },
  {
   "cell_type": "code",
   "execution_count": null,
   "metadata": {},
   "outputs": [],
   "source": []
  }
 ],
 "metadata": {
  "kernelspec": {
   "display_name": "data_science",
   "language": "python",
   "name": "data_science"
  },
  "language_info": {
   "codemirror_mode": {
    "name": "ipython",
    "version": 3
   },
   "file_extension": ".py",
   "mimetype": "text/x-python",
   "name": "python",
   "nbconvert_exporter": "python",
   "pygments_lexer": "ipython3",
   "version": "3.6.7"
  }
 },
 "nbformat": 4,
 "nbformat_minor": 4
}
