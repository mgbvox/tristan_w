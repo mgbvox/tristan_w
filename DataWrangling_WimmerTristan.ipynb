{
 "cells": [
  {
   "cell_type": "code",
   "execution_count": 1,
   "metadata": {},
   "outputs": [
    {
     "name": "stdout",
     "output_type": "stream",
     "text": [
      "Populating the interactive namespace from numpy and matplotlib\n"
     ]
    }
   ],
   "source": [
    "%pylab inline\n",
    "import pandas as pd\n",
    "import seaborn as sns\n",
    "df = pd.read_csv('worldvalues-data.csv', dtype='object', na_values = ['-5', '-4', '-3', '-2', '-1'])"
   ]
  },
  {
   "cell_type": "code",
   "execution_count": 82,
   "metadata": {},
   "outputs": [],
   "source": [
    "cols = {\n",
    "        'country' : 'V2',\n",
    "        'literacy' : 'V255',\n",
    "        'year' : 'V262',\n",
    "        'religion' : 'V144'\n",
    "        }\n",
    "\n",
    "codes = {\n",
    "        'literacy':{'1':'literate', '2':'illiterate'}\n",
    "        }"
   ]
  },
  {
   "cell_type": "code",
   "execution_count": 2,
   "metadata": {},
   "outputs": [],
   "source": [
    "'''\n",
    "Comment on the trends of missing values1 in the data. For example,\n",
    "a. Are the missing values from respondents increasing over the years?\n",
    "b. How do the proportion of records with missing values vary over the different countries?\n",
    "c. Create a new Pandas dataframe with the following columns, populate the dataframe\n",
    "with appropriate values, and write it out as a CSV file.\n",
    "\n",
    "In this context “missing values” refers to both NaN values and responses to survey questions\n",
    "that have been coded as “Missing” (or its numerical code, for example, “-5” \n",
    "for the question V4).\n",
    "'''\n",
    "\n",
    "df.replace(['Missing', 'Unknown', 'Not asked in survey', 'Not applicable', 'No answer', 'Dont know'], np.nan, inplace=True)\n",
    "df.replace(['BH','HT','RU','AR','DE','PS','SE', 'SG', 'TR'], np.nan, inplace=True)\n"
   ]
  },
  {
   "cell_type": "code",
   "execution_count": 3,
   "metadata": {},
   "outputs": [
    {
     "data": {
      "text/plain": [
       "<matplotlib.axes._subplots.AxesSubplot at 0x7fb352ce1550>"
      ]
     },
     "execution_count": 3,
     "metadata": {},
     "output_type": "execute_result"
    },
    {
     "data": {
      "image/png": "[encoded data removed]",
      "text/plain": [
       "<Figure size 432x288 with 1 Axes>"
      ]
     },
     "metadata": {
      "needs_background": "light"
     },
     "output_type": "display_data"
    }
   ],
   "source": [
    "df['n_null'] = df.isnull().sum(axis=1)\n",
    "df.groupby('V262').n_null.sum().plot()"
   ]
  },
  {
   "cell_type": "code",
   "execution_count": 4,
   "metadata": {
    "collapsed": true,
    "jupyter": {
     "outputs_hidden": true
    }
   },
   "outputs": [
    {
     "data": {
      "text/plain": [
       "V262  V2                 \n",
       "2010  Japan                  253082\n",
       "      Qatar                  109354\n",
       "      South Korea             95159\n",
       "      Trinidad and Tobago     85323\n",
       "2011  Armenia                 84895\n",
       "      Azerbaijan              61369\n",
       "      Belarus                125481\n",
       "      Cyprus                  75878\n",
       "      Estonia                108877\n",
       "      Kazakhstan              97277\n",
       "      Kyrgyzstan              99345\n",
       "      Morocco                131610\n",
       "      New Zealand             83991\n",
       "      Russia                 220664\n",
       "      Slovenia                84771\n",
       "      Spain                  107794\n",
       "      Sweden                  91382\n",
       "      Ukraine                100959\n",
       "      United States          178295\n",
       "      Uruguay                 75497\n",
       "      Uzbekistan             135120\n",
       "2012  Australia               97677\n",
       "      Chile                   70969\n",
       "      Colombia                80106\n",
       "      Egypt                  107084\n",
       "      Ghana                   95946\n",
       "      India                  405644\n",
       "      Malaysia                84563\n",
       "      Mexico                 122188\n",
       "      Netherlands            118074\n",
       "      Nigeria                108948\n",
       "      Pakistan                65188\n",
       "      Peru                    85777\n",
       "      Philippines             72231\n",
       "      Poland                  70116\n",
       "      Romania                107680\n",
       "      Rwanda                  85598\n",
       "      Singapore              124123\n",
       "      Taiwan                  89004\n",
       "      Turkey                 127394\n",
       "      Zimbabwe                95487\n",
       "2013  Argentina               73913\n",
       "      China                  213288\n",
       "      Ecuador                 64631\n",
       "      Germany                117221\n",
       "      Iraq                    65676\n",
       "      Lebanon                 64655\n",
       "      Palestine               62858\n",
       "      South Africa           204719\n",
       "      Thailand                69594\n",
       "      Tunisia                 75983\n",
       "2014  Algeria                 80817\n",
       "      Brazil                  81167\n",
       "      Georgia                 68715\n",
       "      Hong Kong               63901\n",
       "      Jordan                  63373\n",
       "      Kuwait                 128907\n",
       "      Libya                  132810\n",
       "      Yemen                   69012\n",
       "2016  Haiti                  114800\n",
       "Name: n_null, dtype: int64"
      ]
     },
     "execution_count": 4,
     "metadata": {},
     "output_type": "execute_result"
    }
   ],
   "source": [
    "df.groupby(['V262', 'V2']).n_null.sum()"
   ]
  },
  {
   "cell_type": "code",
   "execution_count": 5,
   "metadata": {
    "collapsed": true,
    "jupyter": {
     "outputs_hidden": true
    }
   },
   "outputs": [
    {
     "data": {
      "text/plain": [
       "V2\n",
       "India                  405644\n",
       "Japan                  253082\n",
       "Russia                 220664\n",
       "China                  213288\n",
       "South Africa           204719\n",
       "United States          178295\n",
       "Uzbekistan             135120\n",
       "Libya                  132810\n",
       "Morocco                131610\n",
       "Kuwait                 128907\n",
       "Turkey                 127394\n",
       "Belarus                125481\n",
       "Singapore              124123\n",
       "Mexico                 122188\n",
       "Netherlands            118074\n",
       "Germany                117221\n",
       "Haiti                  114800\n",
       "Qatar                  109354\n",
       "Nigeria                108948\n",
       "Estonia                108877\n",
       "Spain                  107794\n",
       "Romania                107680\n",
       "Egypt                  107084\n",
       "Ukraine                100959\n",
       "Kyrgyzstan              99345\n",
       "Australia               97677\n",
       "Kazakhstan              97277\n",
       "Ghana                   95946\n",
       "Zimbabwe                95487\n",
       "South Korea             95159\n",
       "Sweden                  91382\n",
       "Taiwan                  89004\n",
       "Peru                    85777\n",
       "Rwanda                  85598\n",
       "Trinidad and Tobago     85323\n",
       "Armenia                 84895\n",
       "Slovenia                84771\n",
       "Malaysia                84563\n",
       "New Zealand             83991\n",
       "Brazil                  81167\n",
       "Algeria                 80817\n",
       "Colombia                80106\n",
       "Tunisia                 75983\n",
       "Cyprus                  75878\n",
       "Uruguay                 75497\n",
       "Argentina               73913\n",
       "Philippines             72231\n",
       "Chile                   70969\n",
       "Poland                  70116\n",
       "Thailand                69594\n",
       "Yemen                   69012\n",
       "Georgia                 68715\n",
       "Iraq                    65676\n",
       "Pakistan                65188\n",
       "Lebanon                 64655\n",
       "Ecuador                 64631\n",
       "Hong Kong               63901\n",
       "Jordan                  63373\n",
       "Palestine               62858\n",
       "Azerbaijan              61369\n",
       "Name: n_null, dtype: int64"
      ]
     },
     "execution_count": 5,
     "metadata": {},
     "output_type": "execute_result"
    }
   ],
   "source": [
    "df.groupby('V2').n_null.sum().sort_values(ascending=False)"
   ]
  },
  {
   "cell_type": "code",
   "execution_count": 14,
   "metadata": {},
   "outputs": [
    {
     "data": {
      "text/html": [
       "<div>\n",
       "<style scoped>\n",
       "    .dataframe tbody tr th:only-of-type {\n",
       "        vertical-align: middle;\n",
       "    }\n",
       "\n",
       "    .dataframe tbody tr th {\n",
       "        vertical-align: top;\n",
       "    }\n",
       "\n",
       "    .dataframe thead th {\n",
       "        text-align: right;\n",
       "    }\n",
       "</style>\n",
       "<table border=\"1\" class=\"dataframe\">\n",
       "  <thead>\n",
       "    <tr style=\"text-align: right;\">\n",
       "      <th></th>\n",
       "      <th>V1</th>\n",
       "      <th>V2</th>\n",
       "      <th>V2A</th>\n",
       "      <th>V3</th>\n",
       "      <th>V4</th>\n",
       "      <th>V5</th>\n",
       "      <th>V6</th>\n",
       "      <th>V7</th>\n",
       "      <th>V8</th>\n",
       "      <th>V9</th>\n",
       "      <th>...</th>\n",
       "      <th>WEIGHT4B</th>\n",
       "      <th>S001</th>\n",
       "      <th>S007</th>\n",
       "      <th>S018</th>\n",
       "      <th>S019</th>\n",
       "      <th>S021</th>\n",
       "      <th>S024</th>\n",
       "      <th>S025</th>\n",
       "      <th>COW</th>\n",
       "      <th>n_null</th>\n",
       "    </tr>\n",
       "  </thead>\n",
       "  <tbody>\n",
       "    <tr>\n",
       "      <th>0</th>\n",
       "      <td>2010-2013</td>\n",
       "      <td>Algeria</td>\n",
       "      <td>Algeria</td>\n",
       "      <td>1</td>\n",
       "      <td>1</td>\n",
       "      <td>1</td>\n",
       "      <td>1</td>\n",
       "      <td>NaN</td>\n",
       "      <td>1</td>\n",
       "      <td>1</td>\n",
       "      <td>...</td>\n",
       "      <td>1</td>\n",
       "      <td>WVS</td>\n",
       "      <td>13761</td>\n",
       "      <td>.83333331</td>\n",
       "      <td>1.25</td>\n",
       "      <td>1206212014</td>\n",
       "      <td>Algeria (6)</td>\n",
       "      <td>Algeria (2014)</td>\n",
       "      <td>ALG Algeria</td>\n",
       "      <td>55</td>\n",
       "    </tr>\n",
       "    <tr>\n",
       "      <th>1</th>\n",
       "      <td>2010-2013</td>\n",
       "      <td>Algeria</td>\n",
       "      <td>Algeria</td>\n",
       "      <td>2</td>\n",
       "      <td>1</td>\n",
       "      <td>2</td>\n",
       "      <td>3</td>\n",
       "      <td>4</td>\n",
       "      <td>2</td>\n",
       "      <td>2</td>\n",
       "      <td>...</td>\n",
       "      <td>1</td>\n",
       "      <td>WVS</td>\n",
       "      <td>13762</td>\n",
       "      <td>.83333331</td>\n",
       "      <td>1.25</td>\n",
       "      <td>1206212014</td>\n",
       "      <td>Algeria (6)</td>\n",
       "      <td>Algeria (2014)</td>\n",
       "      <td>ALG Algeria</td>\n",
       "      <td>53</td>\n",
       "    </tr>\n",
       "    <tr>\n",
       "      <th>2</th>\n",
       "      <td>2010-2013</td>\n",
       "      <td>Algeria</td>\n",
       "      <td>Algeria</td>\n",
       "      <td>3</td>\n",
       "      <td>1</td>\n",
       "      <td>3</td>\n",
       "      <td>2</td>\n",
       "      <td>4</td>\n",
       "      <td>2</td>\n",
       "      <td>1</td>\n",
       "      <td>...</td>\n",
       "      <td>1</td>\n",
       "      <td>WVS</td>\n",
       "      <td>13763</td>\n",
       "      <td>.83333331</td>\n",
       "      <td>1.25</td>\n",
       "      <td>1206212014</td>\n",
       "      <td>Algeria (6)</td>\n",
       "      <td>Algeria (2014)</td>\n",
       "      <td>ALG Algeria</td>\n",
       "      <td>46</td>\n",
       "    </tr>\n",
       "    <tr>\n",
       "      <th>3</th>\n",
       "      <td>2010-2013</td>\n",
       "      <td>Algeria</td>\n",
       "      <td>Algeria</td>\n",
       "      <td>4</td>\n",
       "      <td>1</td>\n",
       "      <td>1</td>\n",
       "      <td>3</td>\n",
       "      <td>4</td>\n",
       "      <td>3</td>\n",
       "      <td>1</td>\n",
       "      <td>...</td>\n",
       "      <td>1</td>\n",
       "      <td>WVS</td>\n",
       "      <td>13764</td>\n",
       "      <td>.83333331</td>\n",
       "      <td>1.25</td>\n",
       "      <td>1206212014</td>\n",
       "      <td>Algeria (6)</td>\n",
       "      <td>Algeria (2014)</td>\n",
       "      <td>ALG Algeria</td>\n",
       "      <td>50</td>\n",
       "    </tr>\n",
       "    <tr>\n",
       "      <th>4</th>\n",
       "      <td>2010-2013</td>\n",
       "      <td>Algeria</td>\n",
       "      <td>Algeria</td>\n",
       "      <td>5</td>\n",
       "      <td>1</td>\n",
       "      <td>1</td>\n",
       "      <td>1</td>\n",
       "      <td>2</td>\n",
       "      <td>1</td>\n",
       "      <td>1</td>\n",
       "      <td>...</td>\n",
       "      <td>1</td>\n",
       "      <td>WVS</td>\n",
       "      <td>13765</td>\n",
       "      <td>.83333331</td>\n",
       "      <td>1.25</td>\n",
       "      <td>1206212014</td>\n",
       "      <td>Algeria (6)</td>\n",
       "      <td>Algeria (2014)</td>\n",
       "      <td>ALG Algeria</td>\n",
       "      <td>48</td>\n",
       "    </tr>\n",
       "    <tr>\n",
       "      <th>...</th>\n",
       "      <td>...</td>\n",
       "      <td>...</td>\n",
       "      <td>...</td>\n",
       "      <td>...</td>\n",
       "      <td>...</td>\n",
       "      <td>...</td>\n",
       "      <td>...</td>\n",
       "      <td>...</td>\n",
       "      <td>...</td>\n",
       "      <td>...</td>\n",
       "      <td>...</td>\n",
       "      <td>...</td>\n",
       "      <td>...</td>\n",
       "      <td>...</td>\n",
       "      <td>...</td>\n",
       "      <td>...</td>\n",
       "      <td>...</td>\n",
       "      <td>...</td>\n",
       "      <td>...</td>\n",
       "      <td>...</td>\n",
       "      <td>...</td>\n",
       "    </tr>\n",
       "    <tr>\n",
       "      <th>89560</th>\n",
       "      <td>2010-2013</td>\n",
       "      <td>Zimbabwe</td>\n",
       "      <td>Zimbabwe</td>\n",
       "      <td>1496</td>\n",
       "      <td>1</td>\n",
       "      <td>3</td>\n",
       "      <td>2</td>\n",
       "      <td>4</td>\n",
       "      <td>1</td>\n",
       "      <td>1</td>\n",
       "      <td>...</td>\n",
       "      <td>1</td>\n",
       "      <td>WVS</td>\n",
       "      <td>NaN</td>\n",
       "      <td>1.5200666</td>\n",
       "      <td>2.2801001</td>\n",
       "      <td>.z</td>\n",
       "      <td>Zimbabwe (6)</td>\n",
       "      <td>Zimbabwe (2012)</td>\n",
       "      <td>ZIM Zimbabwe</td>\n",
       "      <td>63</td>\n",
       "    </tr>\n",
       "    <tr>\n",
       "      <th>89561</th>\n",
       "      <td>2010-2013</td>\n",
       "      <td>Zimbabwe</td>\n",
       "      <td>Zimbabwe</td>\n",
       "      <td>1497</td>\n",
       "      <td>1</td>\n",
       "      <td>1</td>\n",
       "      <td>1</td>\n",
       "      <td>3</td>\n",
       "      <td>1</td>\n",
       "      <td>1</td>\n",
       "      <td>...</td>\n",
       "      <td>1</td>\n",
       "      <td>WVS</td>\n",
       "      <td>NaN</td>\n",
       "      <td>1.5200666</td>\n",
       "      <td>2.2801001</td>\n",
       "      <td>.z</td>\n",
       "      <td>Zimbabwe (6)</td>\n",
       "      <td>Zimbabwe (2012)</td>\n",
       "      <td>ZIM Zimbabwe</td>\n",
       "      <td>69</td>\n",
       "    </tr>\n",
       "    <tr>\n",
       "      <th>89562</th>\n",
       "      <td>2010-2013</td>\n",
       "      <td>Zimbabwe</td>\n",
       "      <td>Zimbabwe</td>\n",
       "      <td>1498</td>\n",
       "      <td>1</td>\n",
       "      <td>2</td>\n",
       "      <td>1</td>\n",
       "      <td>3</td>\n",
       "      <td>1</td>\n",
       "      <td>1</td>\n",
       "      <td>...</td>\n",
       "      <td>1</td>\n",
       "      <td>WVS</td>\n",
       "      <td>NaN</td>\n",
       "      <td>1.5200666</td>\n",
       "      <td>2.2801001</td>\n",
       "      <td>.z</td>\n",
       "      <td>Zimbabwe (6)</td>\n",
       "      <td>Zimbabwe (2012)</td>\n",
       "      <td>ZIM Zimbabwe</td>\n",
       "      <td>74</td>\n",
       "    </tr>\n",
       "    <tr>\n",
       "      <th>89563</th>\n",
       "      <td>2010-2013</td>\n",
       "      <td>Zimbabwe</td>\n",
       "      <td>Zimbabwe</td>\n",
       "      <td>1499</td>\n",
       "      <td>1</td>\n",
       "      <td>2</td>\n",
       "      <td>2</td>\n",
       "      <td>3</td>\n",
       "      <td>1</td>\n",
       "      <td>1</td>\n",
       "      <td>...</td>\n",
       "      <td>1</td>\n",
       "      <td>WVS</td>\n",
       "      <td>NaN</td>\n",
       "      <td>1.5200666</td>\n",
       "      <td>2.2801001</td>\n",
       "      <td>.z</td>\n",
       "      <td>Zimbabwe (6)</td>\n",
       "      <td>Zimbabwe (2012)</td>\n",
       "      <td>ZIM Zimbabwe</td>\n",
       "      <td>68</td>\n",
       "    </tr>\n",
       "    <tr>\n",
       "      <th>89564</th>\n",
       "      <td>2010-2013</td>\n",
       "      <td>Zimbabwe</td>\n",
       "      <td>Zimbabwe</td>\n",
       "      <td>1500</td>\n",
       "      <td>1</td>\n",
       "      <td>2</td>\n",
       "      <td>2</td>\n",
       "      <td>2</td>\n",
       "      <td>2</td>\n",
       "      <td>1</td>\n",
       "      <td>...</td>\n",
       "      <td>1</td>\n",
       "      <td>WVS</td>\n",
       "      <td>NaN</td>\n",
       "      <td>1.5200666</td>\n",
       "      <td>2.2801001</td>\n",
       "      <td>.z</td>\n",
       "      <td>Zimbabwe (6)</td>\n",
       "      <td>Zimbabwe (2012)</td>\n",
       "      <td>ZIM Zimbabwe</td>\n",
       "      <td>66</td>\n",
       "    </tr>\n",
       "  </tbody>\n",
       "</table>\n",
       "<p>89565 rows × 441 columns</p>\n",
       "</div>"
      ],
      "text/plain": [
       "              V1        V2       V2A    V3 V4 V5 V6   V7 V8 V9  ... WEIGHT4B  \\\n",
       "0      2010-2013   Algeria   Algeria     1  1  1  1  NaN  1  1  ...        1   \n",
       "1      2010-2013   Algeria   Algeria     2  1  2  3    4  2  2  ...        1   \n",
       "2      2010-2013   Algeria   Algeria     3  1  3  2    4  2  1  ...        1   \n",
       "3      2010-2013   Algeria   Algeria     4  1  1  3    4  3  1  ...        1   \n",
       "4      2010-2013   Algeria   Algeria     5  1  1  1    2  1  1  ...        1   \n",
       "...          ...       ...       ...   ... .. .. ..  ... .. ..  ...      ...   \n",
       "89560  2010-2013  Zimbabwe  Zimbabwe  1496  1  3  2    4  1  1  ...        1   \n",
       "89561  2010-2013  Zimbabwe  Zimbabwe  1497  1  1  1    3  1  1  ...        1   \n",
       "89562  2010-2013  Zimbabwe  Zimbabwe  1498  1  2  1    3  1  1  ...        1   \n",
       "89563  2010-2013  Zimbabwe  Zimbabwe  1499  1  2  2    3  1  1  ...        1   \n",
       "89564  2010-2013  Zimbabwe  Zimbabwe  1500  1  2  2    2  2  1  ...        1   \n",
       "\n",
       "      S001   S007       S018       S019        S021          S024  \\\n",
       "0      WVS  13761  .83333331       1.25  1206212014   Algeria (6)   \n",
       "1      WVS  13762  .83333331       1.25  1206212014   Algeria (6)   \n",
       "2      WVS  13763  .83333331       1.25  1206212014   Algeria (6)   \n",
       "3      WVS  13764  .83333331       1.25  1206212014   Algeria (6)   \n",
       "4      WVS  13765  .83333331       1.25  1206212014   Algeria (6)   \n",
       "...    ...    ...        ...        ...         ...           ...   \n",
       "89560  WVS    NaN  1.5200666  2.2801001          .z  Zimbabwe (6)   \n",
       "89561  WVS    NaN  1.5200666  2.2801001          .z  Zimbabwe (6)   \n",
       "89562  WVS    NaN  1.5200666  2.2801001          .z  Zimbabwe (6)   \n",
       "89563  WVS    NaN  1.5200666  2.2801001          .z  Zimbabwe (6)   \n",
       "89564  WVS    NaN  1.5200666  2.2801001          .z  Zimbabwe (6)   \n",
       "\n",
       "                  S025           COW n_null  \n",
       "0       Algeria (2014)   ALG Algeria     55  \n",
       "1       Algeria (2014)   ALG Algeria     53  \n",
       "2       Algeria (2014)   ALG Algeria     46  \n",
       "3       Algeria (2014)   ALG Algeria     50  \n",
       "4       Algeria (2014)   ALG Algeria     48  \n",
       "...                ...           ...    ...  \n",
       "89560  Zimbabwe (2012)  ZIM Zimbabwe     63  \n",
       "89561  Zimbabwe (2012)  ZIM Zimbabwe     69  \n",
       "89562  Zimbabwe (2012)  ZIM Zimbabwe     74  \n",
       "89563  Zimbabwe (2012)  ZIM Zimbabwe     68  \n",
       "89564  Zimbabwe (2012)  ZIM Zimbabwe     66  \n",
       "\n",
       "[89565 rows x 441 columns]"
      ]
     },
     "execution_count": 14,
     "metadata": {},
     "output_type": "execute_result"
    }
   ],
   "source": [
    "df"
   ]
  },
  {
   "cell_type": "code",
   "execution_count": 17,
   "metadata": {},
   "outputs": [
    {
     "data": {
      "text/plain": [
       "True"
      ]
     },
     "execution_count": 17,
     "metadata": {},
     "output_type": "execute_result"
    }
   ],
   "source": [
    "53 in df[c].values"
   ]
  },
  {
   "cell_type": "code",
   "execution_count": 6,
   "metadata": {},
   "outputs": [],
   "source": [
    "from tqdm import tqdm"
   ]
  },
  {
   "cell_type": "code",
   "execution_count": 22,
   "metadata": {},
   "outputs": [],
   "source": [
    "def search(term, df = df):\n",
    "    res = []\n",
    "    for c in tqdm(df.columns):\n",
    "        if (term in df[c].values) or (str(term) in df[c].values):\n",
    "            res.append(c)\n",
    "    return res"
   ]
  },
  {
   "cell_type": "code",
   "execution_count": 25,
   "metadata": {},
   "outputs": [
    {
     "name": "stderr",
     "output_type": "stream",
     "text": [
      " 53%|█████▎    | 235/441 [00:00<00:00, 333.57it/s]/Users/mgbvox/anaconda3/envs/tf/lib/python3.7/site-packages/ipykernel_launcher.py:4: FutureWarning: elementwise comparison failed; returning scalar instead, but in the future will perform elementwise comparison\n",
      "  after removing the cwd from sys.path.\n",
      "100%|██████████| 441/441 [00:01<00:00, 333.04it/s]\n"
     ]
    },
    {
     "data": {
      "text/plain": [
       "[]"
      ]
     },
     "execution_count": 25,
     "metadata": {},
     "output_type": "execute_result"
    }
   ],
   "source": [
    "search('not')"
   ]
  },
  {
   "cell_type": "code",
   "execution_count": 27,
   "metadata": {},
   "outputs": [
    {
     "name": "stdout",
     "output_type": "stream",
     "text": [
      "Collecting pycountry-convert\n",
      "  Using cached https://files.pythonhosted.org/packages/9b/e7/26c14899a43c34e04a58e3772007afe79dbd64fac15d2fbaeedff24082f2/pycountry_convert-0.7.2-py3-none-any.whl\n",
      "Collecting pytest>=3.4.0\n",
      "\u001b[?25l  Downloading https://files.pythonhosted.org/packages/a5/c0/34033b2df7718b91c667bd259d5ce632ec3720198b7068c0ba6f6104ff89/pytest-5.3.5-py3-none-any.whl (235kB)\n",
      "\u001b[K     |████████████████████████████████| 235kB 995kB/s eta 0:00:01\n",
      "\u001b[?25hCollecting pprintpp>=0.3.0\n",
      "  Using cached https://files.pythonhosted.org/packages/4e/d1/e4ed95fdd3ef13b78630280d9e9e240aeb65cc7c544ec57106149c3942fb/pprintpp-0.4.0-py2.py3-none-any.whl\n",
      "Collecting pytest-mock>=1.6.3\n",
      "  Using cached https://files.pythonhosted.org/packages/99/95/d108de3eed0ae29d98c94c918c1245713e7f222dead2d77c24bc4ca7ca0c/pytest_mock-2.0.0-py2.py3-none-any.whl\n",
      "Collecting repoze.lru>=0.7\n",
      "  Using cached https://files.pythonhosted.org/packages/b0/30/6cc0c95f0b59ad4b3b9163bff7cdcf793cc96fac64cf398ff26271f5cf5e/repoze.lru-0.7-py3-none-any.whl\n",
      "Collecting pycountry>=16.11.27.1\n",
      "  Using cached https://files.pythonhosted.org/packages/16/b6/154fe93072051d8ce7bf197690957b6d0ac9a21d51c9a1d05bd7c6fdb16f/pycountry-19.8.18.tar.gz\n",
      "Requirement already satisfied: wheel>=0.30.0 in /Users/mgbvox/anaconda3/envs/tf/lib/python3.7/site-packages (from pycountry-convert) (0.33.6)\n",
      "Collecting pytest-cov>=2.5.1\n",
      "  Using cached https://files.pythonhosted.org/packages/b9/54/3673ee8be482f81527678ac894276223b9814bb7262e4f730469bb7bf70e/pytest_cov-2.8.1-py2.py3-none-any.whl\n",
      "Requirement already satisfied: importlib-metadata>=0.12; python_version < \"3.8\" in /Users/mgbvox/anaconda3/envs/tf/lib/python3.7/site-packages (from pytest>=3.4.0->pycountry-convert) (0.23)\n",
      "Requirement already satisfied: more-itertools>=4.0.0 in /Users/mgbvox/anaconda3/envs/tf/lib/python3.7/site-packages (from pytest>=3.4.0->pycountry-convert) (7.2.0)\n",
      "Requirement already satisfied: attrs>=17.4.0 in /Users/mgbvox/anaconda3/envs/tf/lib/python3.7/site-packages (from pytest>=3.4.0->pycountry-convert) (19.3.0)\n",
      "Collecting packaging\n",
      "  Downloading https://files.pythonhosted.org/packages/98/42/87c585dd3b113c775e65fd6b8d9d0a43abe1819c471d7af702d4e01e9b20/packaging-20.1-py2.py3-none-any.whl\n",
      "Collecting py>=1.5.0\n",
      "\u001b[?25l  Downloading https://files.pythonhosted.org/packages/99/8d/21e1767c009211a62a8e3067280bfce76e89c9f876180308515942304d2d/py-1.8.1-py2.py3-none-any.whl (83kB)\n",
      "\u001b[K     |████████████████████████████████| 92kB 22.6MB/s eta 0:00:01\n",
      "\u001b[?25hRequirement already satisfied: wcwidth in /Users/mgbvox/anaconda3/envs/tf/lib/python3.7/site-packages (from pytest>=3.4.0->pycountry-convert) (0.1.7)\n",
      "Collecting pluggy<1.0,>=0.12\n",
      "  Downloading https://files.pythonhosted.org/packages/a0/28/85c7aa31b80d150b772fbe4a229487bc6644da9ccb7e427dd8cc60cb8a62/pluggy-0.13.1-py2.py3-none-any.whl\n",
      "Collecting coverage>=4.4\n",
      "\u001b[?25l  Downloading https://files.pythonhosted.org/packages/09/9a/d034d628e37cbbaf54c7bcb7eea1706cfda98291fcddedea562e79167348/coverage-5.0.3-cp37-cp37m-macosx_10_13_x86_64.whl (202kB)\n",
      "\u001b[K     |████████████████████████████████| 204kB 30.0MB/s eta 0:00:01\n",
      "\u001b[?25hRequirement already satisfied: zipp>=0.5 in /Users/mgbvox/anaconda3/envs/tf/lib/python3.7/site-packages (from importlib-metadata>=0.12; python_version < \"3.8\"->pytest>=3.4.0->pycountry-convert) (0.6.0)\n",
      "Requirement already satisfied: six in /Users/mgbvox/anaconda3/envs/tf/lib/python3.7/site-packages (from packaging->pytest>=3.4.0->pycountry-convert) (1.13.0)\n",
      "Requirement already satisfied: pyparsing>=2.0.2 in /Users/mgbvox/anaconda3/envs/tf/lib/python3.7/site-packages (from packaging->pytest>=3.4.0->pycountry-convert) (2.4.2)\n",
      "Building wheels for collected packages: pycountry\n",
      "  Building wheel for pycountry (setup.py) ... \u001b[?25ldone\n",
      "\u001b[?25h  Created wheel for pycountry: filename=pycountry-19.8.18-py2.py3-none-any.whl size=10627360 sha256=952fed18582889a77a17facd6e8b36a08cbb0b09aeedcf3dd9821e56d7157196\n",
      "  Stored in directory: /Users/mgbvox/Library/Caches/pip/wheels/a2/98/bf/f0fa1c6bf8cf2cbdb750d583f84be51c2cd8272460b8b36bd3\n",
      "Successfully built pycountry\n",
      "Installing collected packages: packaging, py, pluggy, pytest, pprintpp, pytest-mock, repoze.lru, pycountry, coverage, pytest-cov, pycountry-convert\n",
      "Successfully installed coverage-5.0.3 packaging-20.1 pluggy-0.13.1 pprintpp-0.4.0 py-1.8.1 pycountry-19.8.18 pycountry-convert-0.7.2 pytest-5.3.5 pytest-cov-2.8.1 pytest-mock-2.0.0 repoze.lru-0.7\n"
     ]
    }
   ],
   "source": [
    "!pip install pycountry-convert"
   ]
  },
  {
   "cell_type": "code",
   "execution_count": 28,
   "metadata": {},
   "outputs": [
    {
     "name": "stdout",
     "output_type": "stream",
     "text": [
      "Requirement already satisfied: pycountry in /Users/mgbvox/anaconda3/envs/tf/lib/python3.7/site-packages (19.8.18)\n"
     ]
    }
   ],
   "source": [
    "!pip install pycountry"
   ]
  },
  {
   "cell_type": "code",
   "execution_count": 29,
   "metadata": {},
   "outputs": [],
   "source": [
    "\n",
    "import pycountry\n",
    "import pycountry_convert as pc\n",
    "\n",
    "def get_continent(country):\n",
    "    country_code = pc.country_name_to_country_alpha2(country, cn_name_format=\"default\")\n",
    "    continent_name = pc.country_alpha2_to_continent_code(country_code)\n",
    "    return continent_name\n",
    "\n",
    "def parse_continents(s):\n",
    "    try:\n",
    "        code = get_continent(s)\n",
    "        return code\n",
    "    except:\n",
    "        return np.nan"
   ]
  },
  {
   "cell_type": "code",
   "execution_count": 30,
   "metadata": {},
   "outputs": [],
   "source": [
    "df['continent'] = df.V2.apply(lambda x: parse_continents(x))"
   ]
  },
  {
   "cell_type": "code",
   "execution_count": 31,
   "metadata": {},
   "outputs": [],
   "source": [
    "'''\n",
    "Make function that:\n",
    "casts an input to int if possible and returns\n",
    "otherwise\n",
    "returns np.nan\n",
    "'''\n",
    "\n",
    "def to_int(x): \n",
    "    try: \n",
    "        res = float(x)\n",
    "        return res\n",
    "    except:\n",
    "        return np.nan\n",
    "    \n",
    "    \n",
    "df.V5 = df.V5.apply(to_int)"
   ]
  },
  {
   "cell_type": "code",
   "execution_count": 32,
   "metadata": {},
   "outputs": [],
   "source": [
    "df['missing_more_than_five'] = (df.n_null > 5)"
   ]
  },
  {
   "cell_type": "code",
   "execution_count": 33,
   "metadata": {},
   "outputs": [],
   "source": [
    "table = df.groupby(['V262', 'continent', 'V2'])[['n_null', 'missing_more_than_five']].agg(['count'])"
   ]
  },
  {
   "cell_type": "code",
   "execution_count": 34,
   "metadata": {},
   "outputs": [],
   "source": [
    "table.to_csv('1c_out.csv')"
   ]
  },
  {
   "cell_type": "code",
   "execution_count": null,
   "metadata": {},
   "outputs": [],
   "source": []
  },
  {
   "cell_type": "code",
   "execution_count": 61,
   "metadata": {
    "collapsed": true,
    "jupyter": {
     "outputs_hidden": true
    }
   },
   "outputs": [
    {
     "data": {
      "text/html": [
       "<div>\n",
       "<style scoped>\n",
       "    .dataframe tbody tr th:only-of-type {\n",
       "        vertical-align: middle;\n",
       "    }\n",
       "\n",
       "    .dataframe tbody tr th {\n",
       "        vertical-align: top;\n",
       "    }\n",
       "\n",
       "    .dataframe thead th {\n",
       "        text-align: right;\n",
       "    }\n",
       "</style>\n",
       "<table border=\"1\" class=\"dataframe\">\n",
       "  <thead>\n",
       "    <tr style=\"text-align: right;\">\n",
       "      <th></th>\n",
       "      <th></th>\n",
       "      <th>count</th>\n",
       "    </tr>\n",
       "    <tr>\n",
       "      <th>V2</th>\n",
       "      <th>V255</th>\n",
       "      <th></th>\n",
       "    </tr>\n",
       "  </thead>\n",
       "  <tbody>\n",
       "    <tr>\n",
       "      <th rowspan=\"2\" valign=\"top\">Algeria</th>\n",
       "      <th>1</th>\n",
       "      <td>992</td>\n",
       "    </tr>\n",
       "    <tr>\n",
       "      <th>2</th>\n",
       "      <td>208</td>\n",
       "    </tr>\n",
       "    <tr>\n",
       "      <th rowspan=\"2\" valign=\"top\">Armenia</th>\n",
       "      <th>1</th>\n",
       "      <td>1062</td>\n",
       "    </tr>\n",
       "    <tr>\n",
       "      <th>2</th>\n",
       "      <td>20</td>\n",
       "    </tr>\n",
       "    <tr>\n",
       "      <th>Azerbaijan</th>\n",
       "      <th>1</th>\n",
       "      <td>980</td>\n",
       "    </tr>\n",
       "    <tr>\n",
       "      <th>...</th>\n",
       "      <th>...</th>\n",
       "      <td>...</td>\n",
       "    </tr>\n",
       "    <tr>\n",
       "      <th>Uzbekistan</th>\n",
       "      <th>2</th>\n",
       "      <td>13</td>\n",
       "    </tr>\n",
       "    <tr>\n",
       "      <th rowspan=\"2\" valign=\"top\">Yemen</th>\n",
       "      <th>1</th>\n",
       "      <td>596</td>\n",
       "    </tr>\n",
       "    <tr>\n",
       "      <th>2</th>\n",
       "      <td>404</td>\n",
       "    </tr>\n",
       "    <tr>\n",
       "      <th rowspan=\"2\" valign=\"top\">Zimbabwe</th>\n",
       "      <th>1</th>\n",
       "      <td>1388</td>\n",
       "    </tr>\n",
       "    <tr>\n",
       "      <th>2</th>\n",
       "      <td>112</td>\n",
       "    </tr>\n",
       "  </tbody>\n",
       "</table>\n",
       "<p>99 rows × 1 columns</p>\n",
       "</div>"
      ],
      "text/plain": [
       "                 count\n",
       "V2         V255       \n",
       "Algeria    1       992\n",
       "           2       208\n",
       "Armenia    1      1062\n",
       "           2        20\n",
       "Azerbaijan 1       980\n",
       "...                ...\n",
       "Uzbekistan 2        13\n",
       "Yemen      1       596\n",
       "           2       404\n",
       "Zimbabwe   1      1388\n",
       "           2       112\n",
       "\n",
       "[99 rows x 1 columns]"
      ]
     },
     "execution_count": 61,
     "metadata": {},
     "output_type": "execute_result"
    }
   ],
   "source": [
    "\n",
    "\n",
    "\n",
    "\n",
    "'''\n",
    "a. How does the proportion of respondents who are illiterate vary across countries?\n",
    "'''\n",
    "df.groupby([cols['country'], cols['literacy']]).agg(['count']).V1"
   ]
  },
  {
   "cell_type": "code",
   "execution_count": 64,
   "metadata": {},
   "outputs": [
    {
     "data": {
      "text/html": [
       "<div>\n",
       "<style scoped>\n",
       "    .dataframe tbody tr th:only-of-type {\n",
       "        vertical-align: middle;\n",
       "    }\n",
       "\n",
       "    .dataframe tbody tr th {\n",
       "        vertical-align: top;\n",
       "    }\n",
       "\n",
       "    .dataframe thead th {\n",
       "        text-align: right;\n",
       "    }\n",
       "</style>\n",
       "<table border=\"1\" class=\"dataframe\">\n",
       "  <thead>\n",
       "    <tr style=\"text-align: right;\">\n",
       "      <th></th>\n",
       "      <th></th>\n",
       "      <th>count</th>\n",
       "    </tr>\n",
       "    <tr>\n",
       "      <th>V2</th>\n",
       "      <th>V255</th>\n",
       "      <th></th>\n",
       "    </tr>\n",
       "  </thead>\n",
       "  <tbody>\n",
       "    <tr>\n",
       "      <th rowspan=\"2\" valign=\"top\">Algeria</th>\n",
       "      <th>1</th>\n",
       "      <td>992</td>\n",
       "    </tr>\n",
       "    <tr>\n",
       "      <th>2</th>\n",
       "      <td>208</td>\n",
       "    </tr>\n",
       "    <tr>\n",
       "      <th rowspan=\"2\" valign=\"top\">Armenia</th>\n",
       "      <th>1</th>\n",
       "      <td>1062</td>\n",
       "    </tr>\n",
       "    <tr>\n",
       "      <th>2</th>\n",
       "      <td>20</td>\n",
       "    </tr>\n",
       "    <tr>\n",
       "      <th>Azerbaijan</th>\n",
       "      <th>1</th>\n",
       "      <td>980</td>\n",
       "    </tr>\n",
       "    <tr>\n",
       "      <th>...</th>\n",
       "      <th>...</th>\n",
       "      <td>...</td>\n",
       "    </tr>\n",
       "    <tr>\n",
       "      <th>Uzbekistan</th>\n",
       "      <th>2</th>\n",
       "      <td>13</td>\n",
       "    </tr>\n",
       "    <tr>\n",
       "      <th rowspan=\"2\" valign=\"top\">Yemen</th>\n",
       "      <th>1</th>\n",
       "      <td>596</td>\n",
       "    </tr>\n",
       "    <tr>\n",
       "      <th>2</th>\n",
       "      <td>404</td>\n",
       "    </tr>\n",
       "    <tr>\n",
       "      <th rowspan=\"2\" valign=\"top\">Zimbabwe</th>\n",
       "      <th>1</th>\n",
       "      <td>1388</td>\n",
       "    </tr>\n",
       "    <tr>\n",
       "      <th>2</th>\n",
       "      <td>112</td>\n",
       "    </tr>\n",
       "  </tbody>\n",
       "</table>\n",
       "<p>99 rows × 1 columns</p>\n",
       "</div>"
      ],
      "text/plain": [
       "                 count\n",
       "V2         V255       \n",
       "Algeria    1       992\n",
       "           2       208\n",
       "Armenia    1      1062\n",
       "           2        20\n",
       "Azerbaijan 1       980\n",
       "...                ...\n",
       "Uzbekistan 2        13\n",
       "Yemen      1       596\n",
       "           2       404\n",
       "Zimbabwe   1      1388\n",
       "           2       112\n",
       "\n",
       "[99 rows x 1 columns]"
      ]
     },
     "execution_count": 64,
     "metadata": {},
     "output_type": "execute_result"
    }
   ],
   "source": [
    "table"
   ]
  },
  {
   "cell_type": "code",
   "execution_count": null,
   "metadata": {},
   "outputs": [],
   "source": []
  },
  {
   "cell_type": "code",
   "execution_count": 74,
   "metadata": {},
   "outputs": [],
   "source": [
    "def get_literacy_ratio(x):\n",
    "    try:\n",
    "        val = (x=='2').sum()/(x.count())\n",
    "    except:\n",
    "        val = np.nan\n",
    "    return val"
   ]
  },
  {
   "cell_type": "code",
   "execution_count": 78,
   "metadata": {},
   "outputs": [
    {
     "name": "stderr",
     "output_type": "stream",
     "text": [
      "/Users/mgbvox/anaconda3/envs/tf/lib/python3.7/site-packages/ipykernel_launcher.py:3: RuntimeWarning: invalid value encountered in long_scalars\n",
      "  This is separate from the ipykernel package so we can avoid doing imports until\n"
     ]
    },
    {
     "data": {
      "text/plain": [
       "<matplotlib.axes._subplots.AxesSubplot at 0x7fb366540550>"
      ]
     },
     "execution_count": 78,
     "metadata": {},
     "output_type": "execute_result"
    },
    {
     "data": {
      "image/png": "[encoded data removed]",
      "text/plain": [
       "<Figure size 432x288 with 1 Axes>"
      ]
     },
     "metadata": {
      "needs_background": "light"
     },
     "output_type": "display_data"
    }
   ],
   "source": [
    "df.groupby(cols['country'])[cols['literacy']].apply(get_literacy_ratio).sort_values(ascending=False).plot(kind='hist')"
   ]
  },
  {
   "cell_type": "code",
   "execution_count": 81,
   "metadata": {},
   "outputs": [
    {
     "data": {
      "text/plain": [
       "Muslim             18331\n",
       "None               16033\n",
       "Roman Catholic     14802\n",
       "Orthodox            8036\n",
       "Protestant          5655\n",
       "                   ...  \n",
       "Spiritualists          2\n",
       "Assembly of God        1\n",
       "Born again             1\n",
       "Zionist                1\n",
       "Druse                  1\n",
       "Name: V144, Length: 64, dtype: int64"
      ]
     },
     "execution_count": 81,
     "metadata": {},
     "output_type": "execute_result"
    }
   ],
   "source": [
    "df['V144'].value_counts()"
   ]
  },
  {
   "cell_type": "code",
   "execution_count": null,
   "metadata": {},
   "outputs": [],
   "source": [
    "#V144-156 have to do with religion"
   ]
  },
  {
   "cell_type": "code",
   "execution_count": 87,
   "metadata": {
    "collapsed": true,
    "jupyter": {
     "outputs_hidden": true
    }
   },
   "outputs": [
    {
     "name": "stderr",
     "output_type": "stream",
     "text": [
      "/Users/mgbvox/anaconda3/envs/tf/lib/python3.7/site-packages/ipykernel_launcher.py:3: RuntimeWarning: invalid value encountered in long_scalars\n",
      "  This is separate from the ipykernel package so we can avoid doing imports until\n"
     ]
    },
    {
     "data": {
      "text/plain": [
       "V144\n",
       "Shia                                                                     0.431373\n",
       "Hindu                                                                    0.262379\n",
       "Zoroastrian                                                              0.250000\n",
       "Alliance                                                                 0.212454\n",
       "Paganism                                                                 0.181818\n",
       "Al-Hadis                                                                 0.174603\n",
       "DZ: Christian (Quakers, Jehovah's Witnesses, Evangelical, Protestant)    0.166667\n",
       "Muslim                                                                   0.147138\n",
       "Sunni                                                                    0.141682\n",
       "Independent African Church (e.g. ZCC, Shembe, etc.)                      0.141104\n",
       "Aglipayan                                                                0.140187\n",
       "Anglican                                                                 0.138943\n",
       "Baptist                                                                  0.136364\n",
       "Ancestral worshipping / Tradition                                        0.134615\n",
       "ZA: African Traditional Religion                                         0.124224\n",
       "ZA: Evangelical/Apostolic Faith Mission                                  0.109375\n",
       "Pentecostal                                                              0.085714\n",
       "Other;Not specific                                                       0.085198\n",
       "Confucianism                                                             0.076923\n",
       "Armenian Apostolic Church                                                0.073082\n",
       "Jehovah witnesses                                                        0.071429\n",
       "Iglesia ni Cristo (INC)                                                  0.066667\n",
       "Protestant                                                               0.065090\n",
       "Jew                                                                      0.061856\n",
       "Mormon                                                                   0.058824\n",
       "Native, Folk religion                                                    0.050691\n",
       "Christian                                                                0.050435\n",
       "Seven Day Adventist                                                      0.050000\n",
       "Yiguan Dao                                                               0.044444\n",
       "Daoism                                                                   0.044000\n",
       "Name: V255, dtype: float64"
      ]
     },
     "execution_count": 87,
     "metadata": {},
     "output_type": "execute_result"
    }
   ],
   "source": [
    "df.groupby('V144')[cols['literacy']].apply(get_literacy_ratio).sort_values(ascending=False).head(30)"
   ]
  },
  {
   "cell_type": "code",
   "execution_count": 108,
   "metadata": {},
   "outputs": [
    {
     "name": "stderr",
     "output_type": "stream",
     "text": [
      "/Users/mgbvox/anaconda3/envs/tf/lib/python3.7/site-packages/ipykernel_launcher.py:3: RuntimeWarning: invalid value encountered in long_scalars\n",
      "  This is separate from the ipykernel package so we can avoid doing imports until\n"
     ]
    },
    {
     "data": {
      "text/plain": [
       "V2        V144                                                                 \n",
       "Algeria   DZ: Christian (Quakers, Jehovah's Witnesses, Evangelical, Protestant)    0.166667\n",
       "          Muslim                                                                   0.173367\n",
       "Armenia   Armenian Apostolic Church                                                0.017418\n",
       "          Buddhist                                                                 0.000000\n",
       "          Jew                                                                      0.500000\n",
       "                                                                                     ...   \n",
       "Zimbabwe  None                                                                     0.053763\n",
       "          Orthodox                                                                 0.000000\n",
       "          Protestant                                                               0.073377\n",
       "          Roman Catholic                                                           0.086667\n",
       "          Zionist                                                                  0.000000\n",
       "Name: V255, Length: 365, dtype: float64"
      ]
     },
     "execution_count": 108,
     "metadata": {},
     "output_type": "execute_result"
    }
   ],
   "source": [
    "df.groupby([cols['country'], cols['religion']])[cols['literacy']].apply(get_literacy_ratio).dropna()"
   ]
  },
  {
   "cell_type": "code",
   "execution_count": 111,
   "metadata": {},
   "outputs": [
    {
     "name": "stderr",
     "output_type": "stream",
     "text": [
      "/Users/mgbvox/anaconda3/envs/tf/lib/python3.7/site-packages/ipykernel_launcher.py:3: RuntimeWarning: invalid value encountered in long_scalars\n",
      "  This is separate from the ipykernel package so we can avoid doing imports until\n"
     ]
    },
    {
     "data": {
      "text/plain": [
       "continent  V144                                                                 \n",
       "AF         Ancestral worshipping / Tradition                                        0.071429\n",
       "           Buddhist                                                                 0.066667\n",
       "           DZ: Christian (Quakers, Jehovah's Witnesses, Evangelical, Protestant)    0.166667\n",
       "           Hindu                                                                    0.073529\n",
       "           Independent African Church (e.g. ZCC, Shembe, etc.)                      0.141104\n",
       "                                                                                      ...   \n",
       "SA         Pentecostal                                                              0.100000\n",
       "           Protestant                                                               0.026936\n",
       "           Roman Catholic                                                           0.018018\n",
       "           Seven Day Adventist                                                      0.071429\n",
       "           Spiritista                                                               0.018519\n",
       "Name: V255, Length: 105, dtype: float64"
      ]
     },
     "execution_count": 111,
     "metadata": {},
     "output_type": "execute_result"
    }
   ],
   "source": [
    "df.groupby(['continent', cols['religion']])[cols['literacy']].apply(get_literacy_ratio).dropna()"
   ]
  },
  {
   "cell_type": "code",
   "execution_count": 113,
   "metadata": {},
   "outputs": [
    {
     "data": {
      "text/plain": [
       "0        False\n",
       "1        False\n",
       "2        False\n",
       "3        False\n",
       "4        False\n",
       "         ...  \n",
       "89560    False\n",
       "89561    False\n",
       "89562    False\n",
       "89563    False\n",
       "89564    False\n",
       "Name: V2, Length: 89565, dtype: bool"
      ]
     },
     "execution_count": 113,
     "metadata": {},
     "output_type": "execute_result"
    }
   ],
   "source": [
    "df['V2'] == 'United States'"
   ]
  },
  {
   "cell_type": "code",
   "execution_count": null,
   "metadata": {},
   "outputs": [],
   "source": []
  }
 ],
 "metadata": {
  "kernelspec": {
   "display_name": "Python 3",
   "language": "python",
   "name": "python3"
  },
  "language_info": {
   "codemirror_mode": {
    "name": "ipython",
    "version": 3
   },
   "file_extension": ".py",
   "mimetype": "text/x-python",
   "name": "python",
   "nbconvert_exporter": "python",
   "pygments_lexer": "ipython3",
   "version": "3.7.3"
  }
 },
 "nbformat": 4,
 "nbformat_minor": 4
}
