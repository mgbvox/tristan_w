{
 "cells": [
  {
   "cell_type": "code",
   "execution_count": 8,
   "metadata": {},
   "outputs": [
    {
     "name": "stdout",
     "output_type": "stream",
     "text": [
      "Populating the interactive namespace from numpy and matplotlib\n"
     ]
    }
   ],
   "source": [
    "%pylab inline\n",
    "import pandas as pd\n",
    "from dateparser import parse\n",
    "from tqdm import tqdm\n",
    "\n",
    "from sklearn.linear_model import LinearRegression"
   ]
  },
  {
   "cell_type": "code",
   "execution_count": 4,
   "metadata": {},
   "outputs": [],
   "source": [
    "ex = pd.ExcelFile('WDImetadata.xlsx')\n",
    "explainer = ex.parse('2010-2019 MetaData').set_index('Code').fillna('')\n",
    "def explain(c):\n",
    "    global explainer\n",
    "    return explainer.loc[c]['Long definition']"
   ]
  },
  {
   "cell_type": "code",
   "execution_count": 5,
   "metadata": {},
   "outputs": [],
   "source": [
    "'''\n",
    "Data Cleaning\n",
    "'''\n",
    "\n",
    "df = pd.read_excel('WDIdata3decades.xlsx')\n",
    "df.iloc[:,2:] = df.iloc[:,2:].apply(pd.to_numeric, errors='coerce')\n",
    "\n",
    "'''\n",
    "Find codes that exist in all three decades:\n",
    "'''\n",
    "decades = ['1990-1999 MetaData',\n",
    "           '2000-2010 MetaData',\n",
    "           '2010-2019 MetaData']\n",
    "decade_codes = [set(ex.parse(d)['Code']) for d in decades]\n",
    "\n",
    "'''\n",
    "Only include columns where data is preserved accross the decades Not_Null_Thresh times.\n",
    "'''\n",
    "decade_count = df.groupby('Custom_Time_Code').apply(lambda x: pd.notnull(x).sum(0))\n",
    "not_null_thresh = 20\n",
    "preserved = ((decade_count > not_null_thresh).sum() == decade_count.shape[0])\n",
    "data = df.T[preserved].T\n",
    "\n",
    "#Cast time code to datetime\n",
    "data.Custom_Time_Code = data.Custom_Time_Code.apply(lambda x: parse(x[:4]))"
   ]
  },
  {
   "cell_type": "code",
   "execution_count": 9,
   "metadata": {},
   "outputs": [],
   "source": [
    "def interp_w_nan(s, drop_idx = True):\n",
    "    if sum(pd.notnull(s))==0:\n",
    "        return s\n",
    "    else:\n",
    "        old_idx = s.index\n",
    "        if drop_idx:\n",
    "            s = s.reset_index(drop=True)\n",
    "\n",
    "        null_idxs = s.index[~pd.notnull(s)]\n",
    "\n",
    "        x = np.array(s.dropna().index)[:, np.newaxis]\n",
    "        y = s.dropna().astype(float).values\n",
    "        reg = LinearRegression().fit(x, y)\n",
    "\n",
    "        for i in null_idxs:\n",
    "            s.loc[i] = reg.predict(np.array([[i]]))[0]\n",
    "\n",
    "        s.index = old_idx\n",
    "\n",
    "        return s\n"
   ]
  },
  {
   "cell_type": "code",
   "execution_count": 10,
   "metadata": {},
   "outputs": [
    {
     "name": "stderr",
     "output_type": "stream",
     "text": [
      "100%|██████████| 11/11 [00:01<00:00,  6.42it/s]\n"
     ]
    }
   ],
   "source": [
    "filled = data.copy()\n",
    "for col in tqdm(filled.columns[2:]):\n",
    "    filled[col] = filled.groupby('Country Code')[col].apply(interp_w_nan).astype(float)"
   ]
  },
  {
   "cell_type": "code",
   "execution_count": 11,
   "metadata": {},
   "outputs": [
    {
     "data": {
      "text/plain": [
       "Country Code          0\n",
       "SP.DYN.IMRT.IN        0\n",
       "SP.ADO.TFRT           0\n",
       "VC.IHR.PSRC.P5       63\n",
       "SI.POV.GINI          15\n",
       "NY.GDP.PCAP.CD        3\n",
       "SE.PRM.TENR           3\n",
       "SE.PRM.TENR.FE        9\n",
       "SE.PRM.TENR.MA        9\n",
       "EN.ATM.GHGT.KT.CE     6\n",
       "EG.USE.ELEC.KH.PC    96\n",
       "EG.ELC.ACCS.ZS        0\n",
       "dtype: int64"
      ]
     },
     "execution_count": 11,
     "metadata": {},
     "output_type": "execute_result"
    }
   ],
   "source": [
    "(pd.notnull(filled)==False).sum()"
   ]
  },
  {
   "cell_type": "code",
   "execution_count": 30,
   "metadata": {},
   "outputs": [],
   "source": [
    "grouped = filled.groupby('Country Code')\n",
    "\n",
    "drop = set()\n",
    "for col in tqdm(features):\n",
    "    counted = grouped[col].count()\n",
    "    for country in counted.index[counted < 3]:\n",
    "        drop.add(country)\n",
    "\n",
    "cleaned = filled[filled['Country Code'].apply(lambda x: x not in drop)]"
   ]
  },
  {
   "cell_type": "code",
   "execution_count": null,
   "metadata": {},
   "outputs": [],
   "source": []
  }
 ],
 "metadata": {
  "kernelspec": {
   "display_name": "Python 3",
   "language": "python",
   "name": "python3"
  },
  "language_info": {
   "codemirror_mode": {
    "name": "ipython",
    "version": 3
   },
   "file_extension": ".py",
   "mimetype": "text/x-python",
   "name": "python",
   "nbconvert_exporter": "python",
   "pygments_lexer": "ipython3",
   "version": "3.7.7"
  }
 },
 "nbformat": 4,
 "nbformat_minor": 4
}
