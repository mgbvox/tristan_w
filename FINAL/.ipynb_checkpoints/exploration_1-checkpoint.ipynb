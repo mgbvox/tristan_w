{
 "cells": [
  {
   "cell_type": "code",
   "execution_count": 1,
   "metadata": {},
   "outputs": [
    {
     "name": "stdout",
     "output_type": "stream",
     "text": [
      "Populating the interactive namespace from numpy and matplotlib\n"
     ]
    }
   ],
   "source": [
    "%pylab inline\n",
    "import pandas as pd\n",
    "from dateparser import parse\n",
    "from tqdm import tqdm"
   ]
  },
  {
   "cell_type": "code",
   "execution_count": 2,
   "metadata": {},
   "outputs": [],
   "source": [
    "#!pip install dateparser"
   ]
  },
  {
   "cell_type": "code",
   "execution_count": 3,
   "metadata": {},
   "outputs": [],
   "source": [
    "ex = pd.ExcelFile('WDImetadata.xlsx')\n",
    "explainer = ex.parse('2010-2019 MetaData').set_index('Code').fillna('')\n",
    "def explain(c):\n",
    "    global explainer\n",
    "    return explainer.loc[c]['Long definition']"
   ]
  },
  {
   "cell_type": "code",
   "execution_count": 4,
   "metadata": {},
   "outputs": [],
   "source": [
    "'''\n",
    "Data Cleaning\n",
    "'''\n",
    "\n",
    "df = pd.read_excel('WDIdata3decades.xlsx')\n",
    "data.iloc[:,2:] = data.iloc[:,2:].apply(pd.to_numeric, errors='coerce')\n",
    "\n",
    "'''\n",
    "Find codes that exist in all three decades:\n",
    "'''\n",
    "decades = ['1990-1999 MetaData',\n",
    "           '2000-2010 MetaData',\n",
    "           '2010-2019 MetaData']\n",
    "decade_codes = [set(ex.parse(d)['Code']) for d in decades]\n",
    "\n",
    "'''\n",
    "Only include columns where data is preserved accross the decades Not_Null_Thresh times.\n",
    "'''\n",
    "decade_count = df.groupby('Custom_Time_Code').apply(lambda x: pd.notnull(x).sum(0))\n",
    "not_null_thresh = 20\n",
    "preserved = ((decade_count > not_null_thresh).sum() == decade_count.shape[0])\n",
    "data = df.T[preserved].T\n",
    "\n",
    "#Cast time code to datetime\n",
    "data.Custom_Time_Code = data.Custom_Time_Code.apply(lambda x: parse(x[:4]))\n",
    "\n",
    "#data.index = data['Country Code'] + '_' + pd.Series(data.index).apply(str)"
   ]
  },
  {
   "cell_type": "code",
   "execution_count": 5,
   "metadata": {},
   "outputs": [],
   "source": [
    "def find_codes(input_string):\n",
    "    terms = input_string.split()\n",
    "    for code in explainer.T.columns:\n",
    "        if False not in [s.upper() in str(explainer['Long definition'][code]).upper() or \\\n",
    "                          s.upper() in str(explainer['Indicator Name'][code]).upper() or \\\n",
    "                          s.upper() in str(explainer['Unit of measure'][code]).upper() for s in terms]:\n",
    "            if code in data.columns:\n",
    "                print(code)\n",
    "                print(explainer.loc[code]['Indicator Name'])\n",
    "                print(explain(code))\n",
    "                print()"
   ]
  },
  {
   "cell_type": "code",
   "execution_count": 6,
   "metadata": {},
   "outputs": [
    {
     "data": {
      "text/plain": [
       "'Adjusted net national income is GNI minus consumption of fixed capital and natural resources depletion.'"
      ]
     },
     "execution_count": 6,
     "metadata": {},
     "output_type": "execute_result"
    }
   ],
   "source": [
    "explain('NY.ADJ.NNTY.KD')"
   ]
  },
  {
   "cell_type": "code",
   "execution_count": 7,
   "metadata": {},
   "outputs": [
    {
     "name": "stdout",
     "output_type": "stream",
     "text": [
      "BN.KLT.DINV.CD\n",
      "Foreign direct investment, net (BoP, current US$)\n",
      "Foreign direct investment are the net inflows of investment to acquire a lasting management interest (10 percent or more of voting stock) in an enterprise operating in an economy other than that of the investor. It is the sum of equity capital, reinvestment of earnings, other long-term capital, and short-term capital as shown in the balance of payments. This series shows total net FDI. In BPM6, financial account balances are calculated as the change in assets minus the change in liabilities. Net FDI outflows are assets and net FDI inflows are liabilities. Data are in current U.S. dollars.\n",
      "\n",
      "BX.KLT.DINV.WD.GD.ZS\n",
      "Foreign direct investment, net inflows (% of GDP)\n",
      "Foreign direct investment are the net inflows of investment to acquire a lasting management interest (10 percent or more of voting stock) in an enterprise operating in an economy other than that of the investor. It is the sum of equity capital, reinvestment of earnings, other long-term capital, and short-term capital as shown in the balance of payments. This series shows net inflows (new investment inflows less disinvestment) in the reporting economy from foreign investors, and is divided by GDP.\n",
      "\n",
      "BX.KLT.DINV.CD.WD\n",
      "Foreign direct investment, net inflows (BoP, current US$)\n",
      "Foreign direct investment refers to direct investment equity flows in the reporting economy. It is the sum of equity capital, reinvestment of earnings, and other capital. Direct investment is a category of cross-border investment associated with a resident in one economy having control or a significant degree of influence on the management of an enterprise that is resident in another economy. Ownership of 10 percent or more of the ordinary shares of voting stock is the criterion for determining the existence of a direct investment relationship. Data are in current U.S. dollars.\n",
      "\n",
      "BM.KLT.DINV.WD.GD.ZS\n",
      "Foreign direct investment, net outflows (% of GDP)\n",
      "Foreign direct investment refers to direct investment equity flows in an economy. It is the sum of equity capital, reinvestment of earnings, and other capital. Direct investment is a category of cross-border investment associated with a resident in one economy having control or a significant degree of influence on the management of an enterprise that is resident in another economy. Ownership of 10 percent or more of the ordinary shares of voting stock is the criterion for determining the existence of a direct investment relationship. This series shows net outflows of investment from the reporting economy to the rest of the world, and is divided by GDP.\n",
      "\n",
      "BM.KLT.DINV.CD.WD\n",
      "Foreign direct investment, net outflows (BoP, current US$)\n",
      "Foreign direct investment refers to direct investment equity flows in an economy. It is the sum of equity capital, reinvestment of earnings, and other capital. Direct investment is a category of cross-border investment associated with a resident in one economy having control or a significant degree of influence on the management of an enterprise that is resident in another economy. Ownership of 10 percent or more of the ordinary shares of voting stock is the criterion for determining the existence of a direct investment relationship. This series shows net outflows of investment from the reporting economy to the rest of the world. Data are in current U.S. dollars.\n",
      "\n",
      "NY.GDP.MKTP.KD\n",
      "GDP (constant 2010 US$)\n",
      "GDP at purchaser's prices is the sum of gross value added by all resident producers in the economy plus any product taxes and minus any subsidies not included in the value of the products. It is calculated without making deductions for depreciation of fabricated assets or for depletion and degradation of natural resources. Data are in constant 2010 U.S. dollars. Dollar figures for GDP are converted from domestic currencies using 2010 official exchange rates. For a few countries where the official exchange rate does not reflect the rate effectively applied to actual foreign exchange transactions, an alternative conversion factor is used.\n",
      "\n",
      "NY.GDP.MKTP.KN\n",
      "GDP (constant LCU)\n",
      "GDP is the sum of gross value added by all resident producers in the economy plus any product taxes and minus any subsidies not included in the value of the products. It is calculated without making deductions for depreciation of fabricated assets or for depletion and degradation of natural resources. Data are in constant local currency.\n",
      "\n",
      "NY.GDP.MKTP.CN\n",
      "GDP (current LCU)\n",
      "GDP at purchaser's prices is the sum of gross value added by all resident producers in the economy plus any product taxes and minus any subsidies not included in the value of the products. It is calculated without making deductions for depreciation of fabricated assets or for depletion and degradation of natural resources. Data are in current local currency.\n",
      "\n",
      "NY.GDP.MKTP.CD\n",
      "GDP (current US$)\n",
      "GDP at purchaser's prices is the sum of gross value added by all resident producers in the economy plus any product taxes and minus any subsidies not included in the value of the products. It is calculated without making deductions for depreciation of fabricated assets or for depletion and degradation of natural resources. Data are in current U.S. dollars. Dollar figures for GDP are converted from domestic currencies using single year official exchange rates. For a few countries where the official exchange rate does not reflect the rate effectively applied to actual foreign exchange transactions, an alternative conversion factor is used.\n",
      "\n",
      "NY.GDP.MKTP.KD.ZG\n",
      "GDP growth (annual %)\n",
      "Annual percentage growth rate of GDP at market prices based on constant local currency. Aggregates are based on constant 2010 U.S. dollars. GDP is the sum of gross value added by all resident producers in the economy plus any product taxes and minus any subsidies not included in the value of the products. It is calculated without making deductions for depreciation of fabricated assets or for depletion and degradation of natural resources.\n",
      "\n",
      "NY.GDP.PCAP.KD\n",
      "GDP per capita (constant 2010 US$)\n",
      "GDP per capita is gross domestic product divided by midyear population. GDP is the sum of gross value added by all resident producers in the economy plus any product taxes and minus any subsidies not included in the value of the products. It is calculated without making deductions for depreciation of fabricated assets or for depletion and degradation of natural resources. Data are in constant 2010 U.S. dollars.\n",
      "\n",
      "NY.GDP.PCAP.KN\n",
      "GDP per capita (constant LCU)\n",
      "GDP per capita is gross domestic product divided by midyear population. GDP at purchaser's prices is the sum of gross value added by all resident producers in the economy plus any product taxes and minus any subsidies not included in the value of the products. It is calculated without making deductions for depreciation of fabricated assets or for depletion and degradation of natural resources. Data are in constant local currency.\n",
      "\n",
      "NY.GDP.PCAP.CN\n",
      "GDP per capita (current LCU)\n",
      "GDP per capita is gross domestic product divided by midyear population. GDP is the sum of gross value added by all resident producers in the economy plus any product taxes and minus any subsidies not included in the value of the products. It is calculated without making deductions for depreciation of fabricated assets or for depletion and degradation of natural resources. Data are in current local currency.\n",
      "\n",
      "NY.GDP.PCAP.CD\n",
      "GDP per capita (current US$)\n",
      "GDP per capita is gross domestic product divided by midyear population. GDP is the sum of gross value added by all resident producers in the economy plus any product taxes and minus any subsidies not included in the value of the products. It is calculated without making deductions for depreciation of fabricated assets or for depletion and degradation of natural resources. Data are in current U.S. dollars.\n",
      "\n",
      "NY.GDP.PCAP.KD.ZG\n",
      "GDP per capita growth (annual %)\n",
      "Annual percentage growth rate of GDP per capita based on constant local currency. Aggregates are based on constant 2010 U.S. dollars. GDP per capita is gross domestic product divided by midyear population. GDP at purchaser's prices is the sum of gross value added by all resident producers in the economy plus any product taxes and minus any subsidies not included in the value of the products. It is calculated without making deductions for depreciation of fabricated assets or for depletion and degradation of natural resources.\n",
      "\n",
      "NY.GDP.PCAP.PP.KD\n",
      "GDP per capita, PPP (constant 2011 international $)\n",
      "GDP per capita based on purchasing power parity (PPP). PPP GDP is gross domestic product converted to international dollars using purchasing power parity rates. An international dollar has the same purchasing power over GDP as the U.S. dollar has in the United States. GDP at purchaser's prices is the sum of gross value added by all resident producers in the economy plus any product taxes and minus any subsidies not included in the value of the products. It is calculated without making deductions for depreciation of fabricated assets or for depletion and degradation of natural resources. Data are in constant 2011 international dollars.\n",
      "\n",
      "NY.GDP.PCAP.PP.CD\n",
      "GDP per capita, PPP (current international $)\n",
      "GDP per capita based on purchasing power parity (PPP). PPP GDP is gross domestic product converted to international dollars using purchasing power parity rates. An international dollar has the same purchasing power over GDP as the U.S. dollar has in the United States. GDP at purchaser's prices is the sum of gross value added by all resident producers in the economy plus any product taxes and minus any subsidies not included in the value of the products. It is calculated without making deductions for depreciation of fabricated assets or for depletion and degradation of natural resources. Data are in current international dollars based on the 2011 ICP round.\n",
      "\n",
      "SL.GDP.PCAP.EM.KD\n",
      "GDP per person employed (constant 2011 PPP $)\n",
      "GDP per person employed is gross domestic product (GDP) divided by total employment in the economy. Purchasing power parity (PPP) GDP is GDP converted to 2011 constant international dollars using PPP rates. An international dollar has the same purchasing power over GDP that a U.S. dollar has in the United States.\n",
      "\n",
      "NY.GDP.MKTP.PP.KD\n",
      "GDP, PPP (constant 2011 international $)\n",
      "PPP GDP is gross domestic product converted to international dollars using purchasing power parity rates. An international dollar has the same purchasing power over GDP as the U.S. dollar has in the United States. GDP is the sum of gross value added by all resident producers in the economy plus any product taxes and minus any subsidies not included in the value of the products. It is calculated without making deductions for depreciation of fabricated assets or for depletion and degradation of natural resources. Data are in constant 2011 international dollars.\n",
      "\n",
      "NY.GDP.MKTP.PP.CD\n",
      "GDP, PPP (current international $)\n",
      "PPP GDP is gross domestic product converted to international dollars using purchasing power parity rates. An international dollar has the same purchasing power over GDP as the U.S. dollar has in the United States. GDP is the sum of gross value added by all resident producers in the economy plus any product taxes and minus any subsidies not included in the value of the products. It is calculated without making deductions for depreciation of fabricated assets or for depletion and degradation of natural resources. Data are in current international dollars. For most economies PPP figures are extrapolated from the 2011 International Comparison Program (ICP) benchmark estimates or imputed using a statistical model based on the 2011 ICP. For 47 high- and upper middle-income economies conversion factors are provided by Eurostat and the Organisation for Economic Co-operation and Development (OECD).\n",
      "\n",
      "NY.GDP.MKTP.CN.AD\n",
      "GDP at market prices: linked series (current LCU)\n",
      "GDP at purchaser's prices is the sum of gross value added by all resident producers in the economy plus any product taxes and minus any subsidies not included in the value of the products. It is calculated without making deductions for depreciation of fabricated assets or for depletion and degradation of natural resources. This series has been linked to produce a consistent time series to counteract breaks in series over time due to changes in base years, source data and methodologies. Thus, it may not be comparable with other national accounts series in the database for historical years. Data are in current local currency.\n",
      "\n",
      "SI.POV.GINI\n",
      "GINI index (World Bank estimate)\n",
      "Gini index measures the extent to which the distribution of income (or, in some cases, consumption expenditure) among individuals or households within an economy deviates from a perfectly equal distribution. A Lorenz curve plots the cumulative percentages of total income received against the cumulative number of recipients, starting with the poorest individual or household. The Gini index measures the area between the Lorenz curve and a hypothetical line of absolute equality, expressed as a percentage of the maximum area under the line. Thus a Gini index of 0 represents perfect equality, while an index of 100 implies perfect inequality.\n",
      "\n",
      "NE.GDI.TOTL.ZS\n",
      "Gross capital formation (% of GDP)\n",
      "Gross capital formation (formerly gross domestic investment) consists of outlays on additions to the fixed assets of the economy plus net changes in the level of inventories. Fixed assets include land improvements (fences, ditches, drains, and so on); plant, machinery, and equipment purchases; and the construction of roads, railways, and the like, including schools, offices, hospitals, private residential dwellings, and commercial and industrial buildings. Inventories are stocks of goods held by firms to meet temporary or unexpected fluctuations in production or sales, and \"work in progress.\" According to the 1993 SNA, net acquisitions of valuables are also considered capital formation.\n",
      "\n",
      "NE.GDI.TOTL.KD.ZG\n",
      "Gross capital formation (annual % growth)\n",
      "Annual growth rate of gross capital formation based on constant local currency. Aggregates are based on constant 2010 U.S. dollars. Gross capital formation (formerly gross domestic investment) consists of outlays on additions to the fixed assets of the economy plus net changes in the level of inventories. Fixed assets include land improvements (fences, ditches, drains, and so on); plant, machinery, and equipment purchases; and the construction of roads, railways, and the like, including schools, offices, hospitals, private residential dwellings, and commercial and industrial buildings. Inventories are stocks of goods held by firms to meet temporary or unexpected fluctuations in production or sales, and \"work in progress.\" According to the 1993 SNA, net acquisitions of valuables are also considered capital formation.\n",
      "\n",
      "NE.GDI.TOTL.KD\n",
      "Gross capital formation (constant 2010 US$)\n",
      "Gross capital formation (formerly gross domestic investment) consists of outlays on additions to the fixed assets of the economy plus net changes in the level of inventories. Fixed assets include land improvements (fences, ditches, drains, and so on); plant, machinery, and equipment purchases; and the construction of roads, railways, and the like, including schools, offices, hospitals, private residential dwellings, and commercial and industrial buildings. Inventories are stocks of goods held by firms to meet temporary or unexpected fluctuations in production or sales, and \"work in progress.\" According to the 1993 SNA, net acquisitions of valuables are also considered capital formation. Data are in constant 2010 U.S. dollars.\n",
      "\n",
      "NE.GDI.TOTL.KN\n",
      "Gross capital formation (constant LCU)\n",
      "Gross capital formation (formerly gross domestic investment) consists of outlays on additions to the fixed assets of the economy plus net changes in the level of inventories. Fixed assets include land improvements (fences, ditches, drains, and so on); plant, machinery, and equipment purchases; and the construction of roads, railways, and the like, including schools, offices, hospitals, private residential dwellings, and commercial and industrial buildings. Inventories are stocks of goods held by firms to meet temporary or unexpected fluctuations in production or sales, and \"work in progress.\" According to the 1993 SNA, net acquisitions of valuables are also considered capital formation. Data are in constant local currency.\n",
      "\n",
      "NE.GDI.TOTL.CN\n",
      "Gross capital formation (current LCU)\n",
      "Gross capital formation (formerly gross domestic investment) consists of outlays on additions to the fixed assets of the economy plus net changes in the level of inventories. Fixed assets include land improvements (fences, ditches, drains, and so on); plant, machinery, and equipment purchases; and the construction of roads, railways, and the like, including schools, offices, hospitals, private residential dwellings, and commercial and industrial buildings. Inventories are stocks of goods held by firms to meet temporary or unexpected fluctuations in production or sales, and \"work in progress.\" According to the 1993 SNA, net acquisitions of valuables are also considered capital formation. Data are in current local currency.\n",
      "\n",
      "NE.GDI.TOTL.CD\n",
      "Gross capital formation (current US$)\n",
      "Gross capital formation (formerly gross domestic investment) consists of outlays on additions to the fixed assets of the economy plus net changes in the level of inventories. Fixed assets include land improvements (fences, ditches, drains, and so on); plant, machinery, and equipment purchases; and the construction of roads, railways, and the like, including schools, offices, hospitals, private residential dwellings, and commercial and industrial buildings. Inventories are stocks of goods held by firms to meet temporary or unexpected fluctuations in production or sales, and \"work in progress.\" According to the 1993 SNA, net acquisitions of valuables are also considered capital formation. Data are in current U.S. dollars.\n",
      "\n",
      "NY.GDP.DEFL.KD.ZG\n",
      "Inflation, GDP deflator (annual %)\n",
      "Inflation as measured by the annual growth rate of the GDP implicit deflator shows the rate of price change in the economy as a whole. The GDP implicit deflator is the ratio of GDP in current local currency to GDP in constant local currency.\n",
      "\n",
      "NY.GDP.DEFL.KD.ZG.AD\n",
      "Inflation, GDP deflator: linked series (annual %)\n",
      "Inflation as measured by the annual growth rate of the GDP implicit deflator shows the rate of price change in the economy as a whole. This series has been linked to produce a consistent time series to counteract breaks in series over time due to changes in base years, source data and methodologies. Thus, it may not be comparable with other national accounts series in the database for historical years.\n",
      "\n",
      "ST.INT.TRNX.CD\n",
      "International tourism, expenditures for passenger transport items (current US$)\n",
      "International tourism expenditures for passenger transport items are expenditures of international outbound visitors in other countries for all services provided during international transportation by nonresident carriers. Also included are passenger services performed within an economy by nonresident carriers. Excluded are passenger services provided to nonresidents by resident carriers within the resident economies; these are included in travel items. In addition to the services covered by passenger fares--including fares that are a part of package tours but excluding cruise fares, which are included in travel--passenger services include such items as charges for excess baggage, vehicles, or other personal accompanying effects and expenditures for food, drink, or other items for which passengers make expenditures while on board carriers. Data are in current U.S. dollars.\n",
      "\n",
      "ST.INT.TRNR.CD\n",
      "International tourism, receipts for passenger transport items (current US$)\n",
      "International tourism receipts for passenger transport items are expenditures by international inbound visitors for all services provided in the international transportation by resident carriers. Also included are passenger services performed within an economy by nonresident carriers. Excluded are passenger services provided to nonresidents by resident carriers within the resident economies; these are included in travel items. In addition to the services covered by passenger fares--including fares that are a part of package tours but excluding cruise fares, which are included in travel--passenger services include such items as charges for excess baggage, vehicles, or other personal accompanying effects and expenditures for food, drink, or other items for which passengers make expenditures while on board carriers. Data are in current U.S. dollars.\n",
      "\n",
      "ST.INT.TVLR.CD\n",
      "International tourism, receipts for travel items (current US$)\n",
      "International tourism receipts for travel items are expenditures by international inbound visitors in the reporting economy. The goods and services are purchased by, or on behalf of, the traveler or provided, without a quid pro quo, for the traveler to use or give away. These receipts should include any other prepayment made for goods or services received in the destination country. They also may include receipts from same-day visitors, except in cases where these are so important as to justify a separate classification. Excluded is the international carriage of travelers, which is covered in passenger travel items. Data are in current U.S. dollars.\n",
      "\n",
      "TX.VAL.MRCH.WL.CD\n",
      "Merchandise exports by the reporting economy (current US$)\n",
      "Merchandise exports by the reporting economy are the total merchandise exports by the reporting economy to the rest of the world, as reported in the IMF's Direction of trade database. Data are in current US$.\n",
      "\n",
      "TX.VAL.MRCH.RS.ZS\n",
      "Merchandise exports by the reporting economy, residual (% of total merchandise exports)\n",
      "Merchandise exports by the reporting economy residuals are the total merchandise exports by the reporting economy to the rest of the world as reported in the IMF's Direction of trade database, less the sum of exports by the reporting economy to high-, low-, and middle-income economies according to the World Bank classification of economies. Includes trade with unspecified partners or with economies not covered by World Bank classification. Data are as a percentage of total merchandise exports by the economy.\n",
      "\n",
      "TX.VAL.MRCH.AL.ZS\n",
      "Merchandise exports to economies in the Arab World (% of total merchandise exports)\n",
      "Merchandise exports to economies in the Arab World are the sum of merchandise exports by the reporting economy to economies in the Arab World. Data are expressed as a percentage of total merchandise exports by the economy. Data are computed only if at least half of the economies in the partner country group had non-missing data.\n",
      "\n",
      "TX.VAL.MRCH.HI.ZS\n",
      "Merchandise exports to high-income economies (% of total merchandise exports)\n",
      "Merchandise exports to high-income economies are the sum of merchandise exports from the reporting economy to high-income economies according to the World Bank classification of economies. Data are expressed as a percentage of total merchandise exports by the economy. Data are computed only if at least half of the economies in the partner country group had non-missing data.\n",
      "\n",
      "TX.VAL.MRCH.R1.ZS\n",
      "Merchandise exports to low- and middle-income economies in East Asia & Pacific (% of total merchandise exports)\n",
      "Merchandise exports to low- and middle-income economies in East Asia and Pacific are the sum of merchandise exports from the reporting economy to low- and middle-income economies in the East Asia and Pacific region according to World Bank classification of economies. Data are as a percentage of total merchandise exports by the economy. Data are computed only if at least half of the economies in the partner country group had non-missing data.\n",
      "\n",
      "TX.VAL.MRCH.R2.ZS\n",
      "Merchandise exports to low- and middle-income economies in Europe & Central Asia (% of total merchandise exports)\n",
      "Merchandise exports to low- and middle-income economies in Europe and Central Asia are the sum of merchandise exports from the reporting economy to low- and middle-income economies in the Europe and Central Asia region according to World Bank classification of economies. Data are as a percentage of total merchandise exports by the economy. Data are computed only if at least half of the economies in the partner country group had non-missing data.\n",
      "\n",
      "TX.VAL.MRCH.R3.ZS\n",
      "Merchandise exports to low- and middle-income economies in Latin America & the Caribbean (% of total merchandise exports)\n",
      "Merchandise exports to low- and middle-income economies in Latin America and the Caribbean are the sum of merchandise exports from the reporting economy to low- and middle-income economies in the Latin America and the Caribbean region according to World Bank classification of economies. Data are as a percentage of total merchandise exports by the economy. Data are computed only if at least half of the economies in the partner country group had non-missing data.\n",
      "\n",
      "TX.VAL.MRCH.R4.ZS\n",
      "Merchandise exports to low- and middle-income economies in Middle East & North Africa (% of total merchandise exports)\n",
      "Merchandise exports to low- and middle-income economies in Middle East and North Africa are the sum of merchandise exports from the reporting economy to low- and middle-income economies in the Middle East and North Africa region according to World Bank classification of economies. Data are as a percentage of total merchandise exports by the economy. Data are computed only if at least half of the economies in the partner country group had non-missing data.\n",
      "\n",
      "TX.VAL.MRCH.R5.ZS\n",
      "Merchandise exports to low- and middle-income economies in South Asia (% of total merchandise exports)\n",
      "Merchandise exports to low- and middle-income economies in South Asia are the sum of merchandise exports from the reporting economy to low- and middle-income economies in the South Asia region according to World Bank classification of economies. Data are as a percentage of total merchandise exports by the economy. Data are computed only if at least half of the economies in the partner country group had non-missing data.\n",
      "\n",
      "TX.VAL.MRCH.R6.ZS\n",
      "Merchandise exports to low- and middle-income economies in Sub-Saharan Africa (% of total merchandise exports)\n",
      "Merchandise exports to low- and middle-income economies in Sub-Saharan Africa are the sum of merchandise exports from the reporting economy to low- and middle-income economies in the Sub-Saharan Africa region according to World Bank classification of economies. Data are as a percentage of total merchandise exports by the economy. Data are computed only if at least half of the economies in the partner country group had non-missing data.\n",
      "\n",
      "TX.VAL.MRCH.OR.ZS\n",
      "Merchandise exports to low- and middle-income economies outside region (% of total merchandise exports)\n",
      "Merchandise exports to low- and middle-income economies outside region are the sum of merchandise exports from the reporting economy to other low- and middle-income economies in other World Bank regions according to the World Bank classification of economies. Data are expressed as a percentage of total merchandise exports by the economy. Data are computed only if at least half of the economies in the partner country group had non-missing data.\n",
      "\n",
      "TX.VAL.MRCH.WR.ZS\n",
      "Merchandise exports to low- and middle-income economies within region (% of total merchandise exports)\n",
      "Merchandise exports to low- and middle-income economies within region are the sum of merchandise exports from the reporting economy to other low- and middle-income economies in the same World Bank region as a percentage of total merchandise exports by the economy. Data are computed only if at least half of the economies in the partner country group had non-missing data. No figures are shown for high-income economies, because they are a separate category in the World Bank classification of economies.\n",
      "\n",
      "TM.VAL.MRCH.WL.CD\n",
      "Merchandise imports by the reporting economy (current US$)\n",
      "Merchandise imports by the reporting economy are the total merchandise imports by the reporting economy from the rest of the world, as reported in the IMF's Direction of trade database. Data are in current U.S. dollars.\n",
      "\n",
      "TM.VAL.MRCH.RS.ZS\n",
      "Merchandise imports by the reporting economy, residual (% of total merchandise imports)\n",
      "Merchandise imports by the reporting economy residuals are the total merchandise imports by the reporting economy from the rest of the world as reported in the IMF's Direction of trade database, less the sum of imports by the reporting economy from high-, low-, and middle-income economies according to the World Bank classification of economies. Includes trade with unspecified partners or with economies not covered by World Bank classification. Data are as a percentage of total merchandise imports by the economy.\n",
      "\n",
      "TM.VAL.MRCH.AL.ZS\n",
      "Merchandise imports from economies in the Arab World (% of total merchandise imports)\n",
      "Merchandise imports from economies in the Arab World are the sum of merchandise imports by the reporting economy from economies in the Arab World. Data are expressed as a percentage of total merchandise imports by the economy. Data are computed only if at least half of the economies in the partner country group had non-missing data.\n",
      "\n",
      "TM.VAL.MRCH.HI.ZS\n",
      "Merchandise imports from high-income economies (% of total merchandise imports)\n",
      "Merchandise imports from high-income economies are the sum of merchandise imports by the reporting economy from high-income economies according to the World Bank classification of economies. Data are expressed as a percentage of total merchandise imports by the economy. Data are computed only if at least half of the economies in the partner country group had non-missing data.\n",
      "\n",
      "TM.VAL.MRCH.R1.ZS\n",
      "Merchandise imports from low- and middle-income economies in East Asia & Pacific (% of total merchandise imports)\n",
      "Merchandise imports from low- and middle-income economies in East Asia and Pacific are the sum of merchandise imports by the reporting economy from low- and middle-income economies in the East Asia and Pacific region according to the World Bank classification of economies. Data are expressed as a percentage of total merchandise imports by the economy. Data are computed only if at least half of the economies in the partner country group had non-missing data.\n",
      "\n",
      "TM.VAL.MRCH.R2.ZS\n",
      "Merchandise imports from low- and middle-income economies in Europe & Central Asia (% of total merchandise imports)\n",
      "Merchandise imports from low- and middle-income economies in Europe and Central Asia are the sum of merchandise imports by the reporting economy from low- and middle-income economies in the Europe and Central Asia region according to the World Bank classification of economies. Data are expressed as a percentage of total merchandise imports by the economy. Data are computed only if at least half of the economies in the partner country group had non-missing data.\n",
      "\n",
      "TM.VAL.MRCH.R3.ZS\n",
      "Merchandise imports from low- and middle-income economies in Latin America & the Caribbean (% of total merchandise imports)\n",
      "Merchandise imports from low- and middle-income economies in Latin America and the Caribbean are the sum of merchandise imports by the reporting economy from low- and middle-income economies in the Latin America and the Caribbean region according to the World Bank classification of economies. Data are expressed as a percentage of total merchandise imports by the economy. Data are computed only if at least half of the economies in the partner country group had non-missing data.\n",
      "\n",
      "TM.VAL.MRCH.R4.ZS\n",
      "Merchandise imports from low- and middle-income economies in Middle East & North Africa (% of total merchandise imports)\n",
      "Merchandise imports from low- and middle-income economies in Middle East and North Africa are the sum of merchandise imports by the reporting economy from low- and middle-income economies in the Middle East and North Africa region according to the World Bank classification of economies. Data are expressed as a percentage of total merchandise imports by the economy. Data are computed only if at least half of the economies in the partner country group had non-missing data.\n",
      "\n",
      "TM.VAL.MRCH.R5.ZS\n",
      "Merchandise imports from low- and middle-income economies in South Asia (% of total merchandise imports)\n",
      "Merchandise imports from low- and middle-income economies in South Asia are the sum of merchandise imports by the reporting economy from low- and middle-income economies in the South Asia region according to the World Bank classification of economies. Data are expressed as a percentage of total merchandise imports by the economy. Data are computed only if at least half of the economies in the partner country group had non-missing data.\n",
      "\n",
      "TM.VAL.MRCH.R6.ZS\n",
      "Merchandise imports from low- and middle-income economies in Sub-Saharan Africa (% of total merchandise imports)\n",
      "Merchandise imports from low- and middle-income economies in Sub-Saharan Africa are the sum of merchandise imports by the reporting economy from low- and middle-income economies in the Sub-Saharan Africa region according to the World Bank classification of economies. Data are expressed as a percentage of total merchandise imports by the economy. Data are computed only if at least half of the economies in the partner country group had non-missing data.\n",
      "\n",
      "TM.VAL.MRCH.OR.ZS\n",
      "Merchandise imports from low- and middle-income economies outside region (% of total merchandise imports)\n",
      "Merchandise imports from low- and middle-income economies outside region are the sum of merchandise imports by the reporting economy from other low- and middle-income economies in other World Bank regions according to the World Bank classification of economies. Data are expressed as a percentage of total merchandise imports by the economy. Data are computed only if at least half of the economies in the partner country group had non-missing data.\n",
      "\n",
      "TM.VAL.MRCH.WR.ZS\n",
      "Merchandise imports from low- and middle-income economies within region (% of total merchandise imports)\n",
      "Merchandise imports from low- and middle-income economies within region are the sum of merchandise imports by the reporting economy from other low- and middle-income economies in the same World Bank region according to the World Bank classification of economies. Data are as a percentage of total merchandise imports by the economy. Data are computed only if at least half of the economies in the partner country group had non-missing data. No figures are shown for high-income economies, because they are a separate category in the World Bank classification of economies.\n",
      "\n",
      "FM.AST.DOMS.CN\n",
      "Net domestic credit (current LCU)\n",
      "Net domestic credit is the sum of net claims on the central government and claims on other sectors of the domestic economy (IFS line 32). Data are in current local currency.\n",
      "\n",
      "DT.NFL.DPNG.CD\n",
      "Net flows on external debt, private nonguaranteed (PNG) (NFL, current US$)\n",
      "Private nonguaranteed external debt is an external obligation of a private debtor that is not guaranteed for repayment by a public entity. Net flows (or net lending or net disbursements) received by the borrower during the year are disbursements minus principal repayments. Long-term external debt is defined as debt that has an original or extended maturity of more than one year and that is owed to nonresidents by residents of an economy and repayable in currency, goods, or services. Data are in current U.S. dollars.\n",
      "\n",
      "GC.NLD.TOTL.GD.ZS\n",
      "Net lending (+) / net borrowing (-) (% of GDP)\n",
      "Net lending (+) / net borrowing (–) equals government revenue minus expense, minus net investment in nonfinancial assets. It is also equal to the net result of transactions in financial assets and liabilities. Net lending/net borrowing is a summary measure indicating the extent to which government is either putting financial resources at the disposal of other sectors in the economy or abroad, or utilizing the financial resources generated by other sectors in the economy or from abroad.\n",
      "\n",
      "GC.NLD.TOTL.CN\n",
      "Net lending (+) / net borrowing (-) (current LCU)\n",
      "Net lending (+) / net borrowing (–) equals government revenue minus expense, minus net investment in nonfinancial assets. It is also equal to the net result of transactions in financial assets and liabilities. Net lending/net borrowing is a summary measure indicating the extent to which government is either putting financial resources at the disposal of other sectors in the economy or abroad, or utilizing the financial resources generated by other sectors in the economy or from abroad.\n",
      "\n",
      "BN.TRF.CURR.CD\n",
      "Net secondary income (BoP, current US$)\n",
      "Secondary income refers to transfers recorded in the balance of payments whenever an economy provides or receives goods, services, income, or financial items without a quid pro quo. All transfers not considered to be capital are current. Data are in current U.S. dollars.\n",
      "\n",
      "BM.TRF.PWKR.CD.DT\n",
      "Personal remittances, paid (current US$)\n",
      "Personal remittances comprise personal transfers and compensation of employees. Personal transfers consist of all current transfers in cash or in kind made or received by resident households to or from nonresident households. Personal transfers thus include all current transfers between resident and nonresident individuals. Compensation of employees refers to the income of border, seasonal, and other short-term workers who are employed in an economy where they are not resident and of residents employed by nonresident entities. Data are the sum of two items defined in the sixth edition of the IMF's Balance of Payments Manual: personal transfers and compensation of employees. Data are in current U.S. dollars.\n",
      "\n",
      "BX.TRF.PWKR.DT.GD.ZS\n",
      "Personal remittances, received (% of GDP)\n",
      "Personal remittances comprise personal transfers and compensation of employees. Personal transfers consist of all current transfers in cash or in kind made or received by resident households to or from nonresident households. Personal transfers thus include all current transfers between resident and nonresident individuals. Compensation of employees refers to the income of border, seasonal, and other short-term workers who are employed in an economy where they are not resident and of residents employed by nonresident entities. Data are the sum of two items defined in the sixth edition of the IMF's Balance of Payments Manual: personal transfers and compensation of employees.\n",
      "\n",
      "BX.TRF.PWKR.CD.DT\n",
      "Personal remittances, received (current US$)\n",
      "Personal remittances comprise personal transfers and compensation of employees. Personal transfers consist of all current transfers in cash or in kind made or received by resident households to or from nonresident households. Personal transfers thus include all current transfers between resident and nonresident individuals. Compensation of employees refers to the income of border, seasonal, and other short-term workers who are employed in an economy where they are not resident and of residents employed by nonresident entities. Data are the sum of two items defined in the sixth edition of the IMF's Balance of Payments Manual: personal transfers and compensation of employees. Data are in current U.S. dollars.\n",
      "\n",
      "BX.TRF.CURR.CD\n",
      "Secondary income receipts (BoP, current US$)\n",
      "Secondary income refers to transfers recorded in the balance of payments whenever an economy provides or receives goods, services, income, or financial items without a quid pro quo. All transfers not considered to be capital are current. Data are in current U.S. dollars.\n",
      "\n",
      "BM.TRF.PRVT.CD\n",
      "Secondary income, other sectors, payments (BoP, current US$)\n",
      "Secondary income refers to transfers recorded in the balance of payments whenever an economy provides or receives goods, services, income, or financial items without a quid pro quo. All transfers not considered to be capital are current. Data are in current U.S. dollars.\n",
      "\n",
      "TX.VAL.TRAN.ZS.WT\n",
      "Transport services (% of commercial service exports)\n",
      "Transport services (% of commercial service exports) covers all transport services (sea, air, land, internal waterway, space, and pipeline) performed by residents of one economy for those of another and involving the carriage of passengers, movement of goods (freight), rental of carriers with crew, and related support and auxiliary services. Excluded are freight insurance, which is included in insurance services; goods procured in ports by nonresident carriers and repairs of transport equipment, which are included in goods; repairs of railway facilities, harbors, and airfield facilities, which are included in construction services; and rental of carriers without crew, which is included in other services.\n",
      "\n",
      "TM.VAL.TRAN.ZS.WT\n",
      "Transport services (% of commercial service imports)\n",
      "Transport services (% of commercial service imports) covers all transport services (sea, air, land, internal waterway, space, and pipeline) performed by residents of one economy for those of another and involving the carriage of passengers, movement of goods (freight), rental of carriers with crew, and related support and auxiliary services. Excluded are freight insurance, which is included in insurance services; goods procured in ports by nonresident carriers and repairs of transport equipment, which are included in goods; repairs of railway facilities, harbors, and airfield facilities, which are included in construction services; and rental of carriers without crew, which is included in other services.\n",
      "\n",
      "BX.GSR.TRAN.ZS\n",
      "Transport services (% of service exports, BoP)\n",
      "Transport covers all transport services (sea, air, land, internal waterway, pipeline, space and electricity transmission) performed by residents of one economy for those of another and involving the carriage of passengers, the movement of goods (freight), rental of carriers with crew, and related support and auxiliary services. Also included are postal and courier services. Excluded are freight insurance (included in insurance services); goods procured in ports by nonresident carriers (included in goods); maintenance and repairs on transport equipment (included in maintenance and repair services n.i.e.); and repairs of railway facilities, harbors, and airfield facilities (included in construction).\n",
      "\n",
      "BM.GSR.TRAN.ZS\n",
      "Transport services (% of service imports, BoP)\n",
      "Transport covers all transport services (sea, air, land, internal waterway, pipeline, space and electricity transmission) performed by residents of one economy for those of another and involving the carriage of passengers, the movement of goods (freight), rental of carriers with crew, and related support and auxiliary services. Also included are postal and courier services. Excluded are freight insurance (included in insurance services); goods procured in ports by nonresident carriers (included in goods); maintenance and repairs on transport equipment (included in maintenance and repair services n.i.e.); and repairs of railway facilities, harbors, and airfield facilities (included in construction).\n",
      "\n",
      "TX.VAL.TRVL.ZS.WT\n",
      "Travel services (% of commercial service exports)\n",
      "Travel services (% of commercial service exports) covers goods and services acquired from an economy by travelers in that economy for their own use during visits of less than one year for business or personal purposes. Travel services include the goods and services consumed by travelers, such as lodging and meals and transport (within the economy visited).\n",
      "\n",
      "TM.VAL.TRVL.ZS.WT\n",
      "Travel services (% of commercial service imports)\n",
      "Travel services (% of commercial service imports) covers goods and services acquired from an economy by travelers in that economy for their own use during visits of less than one year for business or personal purposes. Travel services include the goods and services consumed by travelers, such as lodging, meals, and transport (within the economy visited).\n",
      "\n",
      "BX.GSR.TRVL.ZS\n",
      "Travel services (% of service exports, BoP)\n",
      "Travel covers goods and services acquired from an economy by travelers for their own use during visits of less than one year in that economy for either business or personal purposes. Travel includes local transport (i.e., transport within the economy being visited and provided by a resident of that economy), but excludes international transport (which is included in passenger transport. Travel also excludes goods for resale, which are included in general merchandise.\n",
      "\n",
      "BM.GSR.TRVL.ZS\n",
      "Travel services (% of service imports, BoP)\n",
      "Travel covers goods and services acquired from an economy by travelers for their own use during visits of less than one year in that economy for either business or personal purposes. Travel includes local transport (i.e., transport within the economy being visited and provided by a resident of that economy), but excludes international transport (which is included in passenger transport. Travel also excludes goods for resale, which are included in general merchandise.\n",
      "\n"
     ]
    }
   ],
   "source": [
    "find_codes('economy')"
   ]
  },
  {
   "cell_type": "code",
   "execution_count": 8,
   "metadata": {},
   "outputs": [
    {
     "data": {
      "text/html": [
       "<div>\n",
       "<style scoped>\n",
       "    .dataframe tbody tr th:only-of-type {\n",
       "        vertical-align: middle;\n",
       "    }\n",
       "\n",
       "    .dataframe tbody tr th {\n",
       "        vertical-align: top;\n",
       "    }\n",
       "\n",
       "    .dataframe thead th {\n",
       "        text-align: right;\n",
       "    }\n",
       "</style>\n",
       "<table border=\"1\" class=\"dataframe\">\n",
       "  <thead>\n",
       "    <tr style=\"text-align: right;\">\n",
       "      <th></th>\n",
       "      <th>Custom_Time_Code</th>\n",
       "      <th>Country Code</th>\n",
       "      <th>EG.ELC.ACCS.ZS</th>\n",
       "      <th>EG.ELC.ACCS.RU.ZS</th>\n",
       "      <th>EG.ELC.ACCS.UR.ZS</th>\n",
       "      <th>SE.PRM.TENR</th>\n",
       "      <th>SE.PRM.TENR.FE</th>\n",
       "      <th>SE.PRM.TENR.MA</th>\n",
       "      <th>NY.ADJ.NNTY.KD.ZG</th>\n",
       "      <th>NY.ADJ.NNTY.KD</th>\n",
       "      <th>...</th>\n",
       "      <th>SL.EMP.VULN.FE.ZS</th>\n",
       "      <th>SL.EMP.VULN.MA.ZS</th>\n",
       "      <th>SL.EMP.VULN.ZS</th>\n",
       "      <th>SL.EMP.WORK.FE.ZS</th>\n",
       "      <th>SL.EMP.WORK.MA.ZS</th>\n",
       "      <th>SL.EMP.WORK.ZS</th>\n",
       "      <th>SP.DYN.WFRT</th>\n",
       "      <th>SP.M15.2024.FE.ZS</th>\n",
       "      <th>SP.M18.2024.FE.ZS</th>\n",
       "      <th>SH.DYN.AIDS.FE.ZS</th>\n",
       "    </tr>\n",
       "  </thead>\n",
       "  <tbody>\n",
       "    <tr>\n",
       "      <th>72</th>\n",
       "      <td>1990-04-15</td>\n",
       "      <td>USA</td>\n",
       "      <td>100</td>\n",
       "      <td>100</td>\n",
       "      <td>100</td>\n",
       "      <td>97.3845</td>\n",
       "      <td>97.5423</td>\n",
       "      <td>97.234</td>\n",
       "      <td>3.52104</td>\n",
       "      <td>8.70082e+12</td>\n",
       "      <td>...</td>\n",
       "      <td>4.34478</td>\n",
       "      <td>5.60278</td>\n",
       "      <td>5.03533</td>\n",
       "      <td>93.3649</td>\n",
       "      <td>90.027</td>\n",
       "      <td>91.5322</td>\n",
       "      <td>NaN</td>\n",
       "      <td>NaN</td>\n",
       "      <td>NaN</td>\n",
       "      <td>NaN</td>\n",
       "    </tr>\n",
       "    <tr>\n",
       "      <th>151</th>\n",
       "      <td>2000-04-15</td>\n",
       "      <td>USA</td>\n",
       "      <td>100</td>\n",
       "      <td>100</td>\n",
       "      <td>100</td>\n",
       "      <td>98.5781</td>\n",
       "      <td>98.7026</td>\n",
       "      <td>98.1999</td>\n",
       "      <td>1.59212</td>\n",
       "      <td>1.18916e+13</td>\n",
       "      <td>...</td>\n",
       "      <td>3.8415</td>\n",
       "      <td>4.8704</td>\n",
       "      <td>4.398</td>\n",
       "      <td>94.0405</td>\n",
       "      <td>91.4237</td>\n",
       "      <td>92.6249</td>\n",
       "      <td>NaN</td>\n",
       "      <td>NaN</td>\n",
       "      <td>NaN</td>\n",
       "      <td>NaN</td>\n",
       "    </tr>\n",
       "    <tr>\n",
       "      <th>230</th>\n",
       "      <td>2010-04-15</td>\n",
       "      <td>USA</td>\n",
       "      <td>100</td>\n",
       "      <td>100</td>\n",
       "      <td>100</td>\n",
       "      <td>97.5206</td>\n",
       "      <td>97.5436</td>\n",
       "      <td>97.4986</td>\n",
       "      <td>2.66491</td>\n",
       "      <td>1.39244e+13</td>\n",
       "      <td>...</td>\n",
       "      <td>3.4324</td>\n",
       "      <td>4.2991</td>\n",
       "      <td>3.8994</td>\n",
       "      <td>94.6312</td>\n",
       "      <td>92.5103</td>\n",
       "      <td>93.4884</td>\n",
       "      <td>NaN</td>\n",
       "      <td>NaN</td>\n",
       "      <td>NaN</td>\n",
       "      <td>NaN</td>\n",
       "    </tr>\n",
       "  </tbody>\n",
       "</table>\n",
       "<p>3 rows × 940 columns</p>\n",
       "</div>"
      ],
      "text/plain": [
       "    Custom_Time_Code Country Code EG.ELC.ACCS.ZS EG.ELC.ACCS.RU.ZS  \\\n",
       "72        1990-04-15          USA            100               100   \n",
       "151       2000-04-15          USA            100               100   \n",
       "230       2010-04-15          USA            100               100   \n",
       "\n",
       "    EG.ELC.ACCS.UR.ZS SE.PRM.TENR SE.PRM.TENR.FE SE.PRM.TENR.MA  \\\n",
       "72                100     97.3845        97.5423         97.234   \n",
       "151               100     98.5781        98.7026        98.1999   \n",
       "230               100     97.5206        97.5436        97.4986   \n",
       "\n",
       "    NY.ADJ.NNTY.KD.ZG NY.ADJ.NNTY.KD  ... SL.EMP.VULN.FE.ZS SL.EMP.VULN.MA.ZS  \\\n",
       "72            3.52104    8.70082e+12  ...           4.34478           5.60278   \n",
       "151           1.59212    1.18916e+13  ...            3.8415            4.8704   \n",
       "230           2.66491    1.39244e+13  ...            3.4324            4.2991   \n",
       "\n",
       "    SL.EMP.VULN.ZS SL.EMP.WORK.FE.ZS SL.EMP.WORK.MA.ZS SL.EMP.WORK.ZS  \\\n",
       "72         5.03533           93.3649            90.027        91.5322   \n",
       "151          4.398           94.0405           91.4237        92.6249   \n",
       "230         3.8994           94.6312           92.5103        93.4884   \n",
       "\n",
       "    SP.DYN.WFRT SP.M15.2024.FE.ZS SP.M18.2024.FE.ZS SH.DYN.AIDS.FE.ZS  \n",
       "72          NaN               NaN               NaN               NaN  \n",
       "151         NaN               NaN               NaN               NaN  \n",
       "230         NaN               NaN               NaN               NaN  \n",
       "\n",
       "[3 rows x 940 columns]"
      ]
     },
     "execution_count": 8,
     "metadata": {},
     "output_type": "execute_result"
    }
   ],
   "source": [
    "data[data['Country Code']=='USA']"
   ]
  },
  {
   "cell_type": "code",
   "execution_count": 9,
   "metadata": {},
   "outputs": [
    {
     "data": {
      "text/plain": [
       "0       NaN\n",
       "1       NaN\n",
       "2       NaN\n",
       "3       NaN\n",
       "4       NaN\n",
       "       ... \n",
       "232     1.5\n",
       "233     NaN\n",
       "234     5.9\n",
       "235     5.7\n",
       "236    5.85\n",
       "Name: VC.IHR.PSRC.P5, Length: 237, dtype: object"
      ]
     },
     "execution_count": 9,
     "metadata": {},
     "output_type": "execute_result"
    }
   ],
   "source": [
    "data['VC.IHR.PSRC.P5']"
   ]
  },
  {
   "cell_type": "code",
   "execution_count": 10,
   "metadata": {},
   "outputs": [],
   "source": [
    "data['f_to_m_enrollment'] = (data['SE.PRM.TENR.FE']/data['SE.PRM.TENR.MA'])"
   ]
  },
  {
   "cell_type": "code",
   "execution_count": 11,
   "metadata": {},
   "outputs": [
    {
     "data": {
      "text/plain": [
       "<matplotlib.axes._subplots.AxesSubplot at 0x11f415210>"
      ]
     },
     "execution_count": 11,
     "metadata": {},
     "output_type": "execute_result"
    },
    {
     "data": {
      "image/png": "[encoded data removed]",
      "text/plain": [
       "<Figure size 432x288 with 1 Axes>"
      ]
     },
     "metadata": {
      "needs_background": "light"
     },
     "output_type": "display_data"
    }
   ],
   "source": [
    "def agg_w_nan(s, func):\n",
    "    s = s.dropna()\n",
    "    if len(s)>=1:\n",
    "        return s.agg(func)\n",
    "    else:\n",
    "        return np.nan\n",
    "\n",
    "data.groupby('Country Code').f_to_m_enrollment.apply(lambda x: agg_w_nan(x, 'mean')).dropna().sort_values().plot()"
   ]
  },
  {
   "cell_type": "code",
   "execution_count": 12,
   "metadata": {},
   "outputs": [
    {
     "data": {
      "text/plain": [
       "<matplotlib.axes._subplots.AxesSubplot at 0x11c101dd0>"
      ]
     },
     "execution_count": 12,
     "metadata": {},
     "output_type": "execute_result"
    },
    {
     "data": {
      "image/png": "[encoded data removed]",
      "text/plain": [
       "<Figure size 432x288 with 1 Axes>"
      ]
     },
     "metadata": {
      "needs_background": "light"
     },
     "output_type": "display_data"
    }
   ],
   "source": [
    "def s_chg(s):\n",
    "    s = s.values\n",
    "    return s[-1]-s[0]\n",
    "\n",
    "data.groupby('Country Code').f_to_m_enrollment.apply(lambda x: agg_w_nan(x, s_chg)).dropna().sort_values().plot()\n"
   ]
  },
  {
   "cell_type": "code",
   "execution_count": 13,
   "metadata": {},
   "outputs": [
    {
     "data": {
      "text/plain": [
       "<matplotlib.axes._subplots.AxesSubplot at 0x11ffda510>"
      ]
     },
     "execution_count": 13,
     "metadata": {},
     "output_type": "execute_result"
    },
    {
     "data": {
      "image/png": "[encoded data removed]",
      "text/plain": [
       "<Figure size 432x288 with 1 Axes>"
      ]
     },
     "metadata": {
      "needs_background": "light"
     },
     "output_type": "display_data"
    }
   ],
   "source": [
    "data.groupby('Country Code')['SE.PRM.TENR'].apply(lambda x: agg_w_nan(x, s_chg)).dropna().sort_values().plot()\n",
    "\n"
   ]
  },
  {
   "cell_type": "code",
   "execution_count": 14,
   "metadata": {},
   "outputs": [],
   "source": [
    "gini_chg = data.groupby('Country Code')['SI.POV.GINI'].apply(lambda x: agg_w_nan(x, s_chg)).dropna()\n",
    "gdp_chg = data.groupby('Country Code')['NY.GDP.PCAP.CD'].apply(lambda x: agg_w_nan(x, s_chg)).dropna()\n",
    "\n"
   ]
  },
  {
   "cell_type": "code",
   "execution_count": 15,
   "metadata": {},
   "outputs": [
    {
     "data": {
      "text/plain": [
       "<matplotlib.axes._subplots.AxesSubplot at 0x12085ef90>"
      ]
     },
     "execution_count": 15,
     "metadata": {},
     "output_type": "execute_result"
    },
    {
     "data": {
      "image/png": "[encoded data removed]",
      "text/plain": [
       "<Figure size 432x288 with 1 Axes>"
      ]
     },
     "metadata": {
      "needs_background": "light"
     },
     "output_type": "display_data"
    }
   ],
   "source": [
    "both = pd.concat([gini_chg, gdp_chg], axis=1).dropna()\n",
    "both['country'] = both.index\n",
    "both[both.country != 'USA'].plot.scatter(x = 'SI.POV.GINI', y='NY.GDP.PCAP.CD')"
   ]
  },
  {
   "cell_type": "code",
   "execution_count": 16,
   "metadata": {},
   "outputs": [],
   "source": [
    "features = [\n",
    "    'SP.DYN.IMRT.IN',\n",
    "    'SP.ADO.TFRT',\n",
    "    'VC.IHR.PSRC.P5',\n",
    "    'SI.POV.GINI',\n",
    "    'NY.GDP.PCAP.CD',\n",
    "    'SE.PRM.TENR',\n",
    "    'SE.PRM.TENR.FE',\n",
    "    'SE.PRM.TENR.MA',\n",
    "    'EN.ATM.GHGT.KT.CE',\n",
    "    'EG.USE.ELEC.KH.PC',\n",
    "    'EG.ELC.ACCS.ZS']"
   ]
  },
  {
   "cell_type": "code",
   "execution_count": 17,
   "metadata": {},
   "outputs": [],
   "source": [
    "'''\n",
    "TODO: \n",
    "Change to work with leading/ending NANs\n",
    "'''\n",
    "def interp(s):\n",
    "    i = s.interpolate(method='linear')\n",
    "    return i.fillna(i.mean())"
   ]
  },
  {
   "cell_type": "code",
   "execution_count": 18,
   "metadata": {},
   "outputs": [
    {
     "name": "stderr",
     "output_type": "stream",
     "text": [
      "100%|██████████| 939/939 [01:30<00:00, 10.38it/s]\n"
     ]
    }
   ],
   "source": [
    "filled = data.copy()\n",
    "\n",
    "def fill_by_grouping(s):\n",
    "    global col\n",
    "    global filled\n",
    "    null_idxs = s.index[~pd.notnull(s)]\n",
    "    interpd = interp(s)\n",
    "    for idx in null_idxs:\n",
    "        filled[col].loc[idx] = interpd[idx]\n",
    "    \n",
    "\n",
    "for col in tqdm(data.columns[2:]):\n",
    "    data.groupby('Country Code')[col].apply(lambda x: fill_by_grouping(x))"
   ]
  },
  {
   "cell_type": "code",
   "execution_count": 25,
   "metadata": {},
   "outputs": [],
   "source": [
    "filled.to_csv('cleaned.csv')"
   ]
  },
  {
   "cell_type": "code",
   "execution_count": 33,
   "metadata": {},
   "outputs": [],
   "source": [
    "\n"
   ]
  }
 ],
 "metadata": {
  "kernelspec": {
   "display_name": "Python 3",
   "language": "python",
   "name": "python3"
  },
  "language_info": {
   "codemirror_mode": {
    "name": "ipython",
    "version": 3
   },
   "file_extension": ".py",
   "mimetype": "text/x-python",
   "name": "python",
   "nbconvert_exporter": "python",
   "pygments_lexer": "ipython3",
   "version": "3.7.7"
  }
 },
 "nbformat": 4,
 "nbformat_minor": 4
}
