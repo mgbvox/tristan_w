{
 "cells": [
  {
   "cell_type": "code",
   "execution_count": 1,
   "metadata": {},
   "outputs": [
    {
     "name": "stdout",
     "output_type": "stream",
     "text": [
      "Populating the interactive namespace from numpy and matplotlib\n"
     ]
    }
   ],
   "source": [
    "%pylab inline\n",
    "import pandas as pd\n",
    "from dateparser import parse\n",
    "from tqdm import tqdm\n",
    "\n",
    "from sklearn.linear_model import LinearRegression\n",
    "import itertools as it"
   ]
  },
  {
   "cell_type": "code",
   "execution_count": 2,
   "metadata": {},
   "outputs": [],
   "source": [
    "ex = pd.ExcelFile('WDImetadata.xlsx')\n",
    "explainer = ex.parse('2010-2019 MetaData').set_index('Code').fillna('')\n",
    "def explain(c, topic='Long definition'):\n",
    "    global explainer\n",
    "    return explainer.loc[c][topic]"
   ]
  },
  {
   "cell_type": "code",
   "execution_count": 3,
   "metadata": {},
   "outputs": [],
   "source": [
    "def z_score(s):\n",
    "    return (s-s.mean())/s.std()"
   ]
  },
  {
   "cell_type": "code",
   "execution_count": 56,
   "metadata": {},
   "outputs": [
    {
     "name": "stderr",
     "output_type": "stream",
     "text": [
      "\n",
      "  0%|          | 0/941 [00:00<?, ?it/s]\u001b[A\n",
      " 20%|█▉        | 185/941 [00:00<00:00, 1847.69it/s]\u001b[A\n",
      " 37%|███▋      | 345/941 [00:00<00:00, 1765.17it/s]\u001b[A\n",
      " 56%|█████▌    | 528/941 [00:00<00:00, 1784.01it/s]\u001b[A\n",
      " 74%|███████▍  | 698/941 [00:00<00:00, 1757.38it/s]\u001b[A\n",
      "100%|██████████| 941/941 [00:00<00:00, 1745.89it/s]\u001b[A\n"
     ]
    }
   ],
   "source": [
    "df = pd.read_csv('cleaned.csv', parse_dates=['Custom_Time_Code'])\n",
    "df = df[df['Country Code'] != 'USA']\n",
    "\n",
    "df_z = pd.concat([z_score(df[col]) for col in tqdm(df.columns) if col not in ['Country Code', 'Custom_Time_Code']], axis=1)\n",
    "df_z.columns = df.columns[2:]\n",
    "\n",
    "df_no_outliers = df.where(df_z.abs() < 2).iloc[:,2:]\n",
    "df_no_outliers = pd.concat([df['Country Code'], df['Custom_Time_Code'], df_no_outliers], axis=1)\n",
    "df_no_outliers = df_no_outliers.T.drop_duplicates().T\n",
    "df_no_outliers = pd.concat([df_no_outliers.iloc[:,:2]]+[df_no_outliers[c].astype(float) for c in df_no_outliers.iloc[:,2:].columns], axis=1)"
   ]
  },
  {
   "cell_type": "code",
   "execution_count": 17,
   "metadata": {},
   "outputs": [],
   "source": [
    "def s_chg(s):\n",
    "    s = s.values\n",
    "    return s[-1]-s[0]\n",
    "\n",
    "def df_chg(df):\n",
    "    new = []\n",
    "    for c in df.columns:\n",
    "        new.append(s_chg(df[c]))\n",
    "    new = pd.Series(new)\n",
    "    new.index = ['DELTA_' + c for c in df.columns]\n",
    "    return new"
   ]
  },
  {
   "cell_type": "code",
   "execution_count": 18,
   "metadata": {},
   "outputs": [],
   "source": [
    "gini = 'SI.POV.GINI'\n",
    "gdp  = 'NY.GDP.PCAP.CD'\n",
    "ccode = 'Country Code'"
   ]
  },
  {
   "cell_type": "code",
   "execution_count": 19,
   "metadata": {},
   "outputs": [],
   "source": [
    "chg = df_no_outliers[[ccode, gini, gdp]].groupby(ccode).apply(df_chg).dropna()"
   ]
  },
  {
   "cell_type": "code",
   "execution_count": 20,
   "metadata": {},
   "outputs": [
    {
     "data": {
      "text/plain": [
       "<matplotlib.axes._subplots.AxesSubplot at 0x1a264f8410>"
      ]
     },
     "execution_count": 20,
     "metadata": {},
     "output_type": "execute_result"
    },
    {
     "data": {
      "image/png": "[encoded data removed]",
      "text/plain": [
       "<Figure size 432x288 with 1 Axes>"
      ]
     },
     "metadata": {
      "needs_background": "light"
     },
     "output_type": "display_data"
    }
   ],
   "source": [
    "chg.plot.scatter('DELTA_'+gini, 'DELTA_'+gdp)"
   ]
  },
  {
   "cell_type": "code",
   "execution_count": 28,
   "metadata": {},
   "outputs": [
    {
     "name": "stderr",
     "output_type": "stream",
     "text": [
      "\n",
      "  0%|          | 0/938 [00:00<?, ?it/s]\u001b[A\n",
      " 17%|█▋        | 158/938 [00:00<00:00, 1576.12it/s]\u001b[A\n",
      " 37%|███▋      | 347/938 [00:00<00:00, 1657.11it/s]\u001b[A\n",
      " 58%|█████▊    | 542/938 [00:00<00:00, 1733.79it/s]\u001b[A\n",
      " 79%|███████▉  | 739/938 [00:00<00:00, 1797.41it/s]\u001b[A\n",
      "100%|██████████| 938/938 [00:00<00:00, 1854.94it/s]\u001b[A\n"
     ]
    }
   ],
   "source": [
    "df_2010 = df[df['Custom_Time_Code'] > parse('Jan 1st 2009')]\n",
    "data = df_2010.iloc[:,3:]\n",
    "\n",
    "data_z = pd.concat([z_score(data[col]) for col in tqdm(data.columns)], axis=1)\n",
    "data_z.columns = data.columns\n",
    "\n",
    "data_no_outliers = data.where(data_z.abs() < 2)\n",
    "data_no_outliers = data_no_outliers.set_index(df_2010['Country Code'])"
   ]
  },
  {
   "cell_type": "code",
   "execution_count": 57,
   "metadata": {},
   "outputs": [
    {
     "data": {
      "text/plain": [
       "<matplotlib.axes._subplots.AxesSubplot at 0x1a27541c10>"
      ]
     },
     "execution_count": 57,
     "metadata": {},
     "output_type": "execute_result"
    },
    {
     "data": {
      "image/png": "[encoded data removed]",
      "text/plain": [
       "<Figure size 432x288 with 1 Axes>"
      ]
     },
     "metadata": {
      "needs_background": "light"
     },
     "output_type": "display_data"
    }
   ],
   "source": [
    "data_no_outliers.plot.scatter(gini, gdp)"
   ]
  },
  {
   "cell_type": "code",
   "execution_count": 58,
   "metadata": {
    "collapsed": true,
    "jupyter": {
     "outputs_hidden": true
    }
   },
   "outputs": [
    {
     "name": "stderr",
     "output_type": "stream",
     "text": [
      "\n",
      "0it [00:00, ?it/s]\u001b[A\n",
      "6287it [00:00, 62867.36it/s]\u001b[A\n",
      "16245it [00:00, 70685.20it/s]\u001b[A\n",
      "25786it [00:00, 76643.14it/s]\u001b[A\n",
      "35776it [00:00, 82397.62it/s]\u001b[A\n",
      "45956it [00:00, 87393.51it/s]\u001b[A\n",
      "55663it [00:00, 90050.31it/s]\u001b[A\n",
      "65448it [00:00, 92255.48it/s]\u001b[A\n",
      "76110it [00:00, 96141.28it/s]\u001b[A\n",
      "86690it [00:00, 98839.35it/s]\u001b[A\n",
      "97388it [00:01, 101146.40it/s]\u001b[A\n",
      "107853it [00:01, 102170.48it/s]\u001b[A\n",
      "118865it [00:01, 104431.26it/s]\u001b[A\n",
      "130200it [00:01, 106955.69it/s]\u001b[A\n",
      "141759it [00:01, 109407.17it/s]\u001b[A\n",
      "153195it [00:01, 110835.35it/s]\u001b[A\n",
      "164691it [00:01, 112040.66it/s]\u001b[A\n",
      "176003it [00:01, 112359.69it/s]\u001b[A\n",
      "187250it [00:01, 112331.77it/s]\u001b[A\n",
      "199118it [00:01, 114162.15it/s]\u001b[A\n",
      "211008it [00:02, 115542.05it/s]\u001b[A\n",
      "222575it [00:02, 113490.11it/s]\u001b[A\n",
      "234975it [00:02, 116450.14it/s]\u001b[A\n",
      "247496it [00:02, 118945.30it/s]\u001b[A\n",
      "259651it [00:02, 119713.85it/s]\u001b[A\n",
      "272615it [00:02, 122527.21it/s]\u001b[A\n",
      "285304it [00:02, 123804.17it/s]\u001b[A\n",
      "298812it [00:02, 126976.36it/s]\u001b[A\n",
      "312261it [00:02, 129140.03it/s]\u001b[A\n",
      "325212it [00:02, 128720.12it/s]\u001b[A\n",
      "338110it [00:03, 128767.02it/s]\u001b[A\n",
      "351005it [00:03, 126758.24it/s]\u001b[A\n",
      "364453it [00:03, 128979.98it/s]\u001b[A\n",
      "377590it [00:03, 129685.46it/s]\u001b[A\n",
      "392547it [00:03, 135072.30it/s]\u001b[A\n",
      "408696it [00:03, 142039.79it/s]\u001b[A\n",
      "424352it [00:03, 146104.60it/s]\u001b[A\n",
      "439635it [00:03, 148055.79it/s]\u001b[A\n",
      "454538it [00:03, 148086.34it/s]\u001b[A\n",
      "469911it [00:03, 149733.29it/s]\u001b[A\n",
      "486817it [00:04, 155047.44it/s]\u001b[A\n",
      "504670it [00:04, 161416.86it/s]\u001b[A\n",
      "521270it [00:04, 162758.78it/s]\u001b[A\n",
      "540075it [00:04, 169599.55it/s]\u001b[A\n",
      "559966it [00:04, 177439.93it/s]\u001b[A\n",
      "580572it [00:04, 185038.15it/s]\u001b[A\n",
      "603085it [00:04, 195479.25it/s]\u001b[A\n",
      "629147it [00:04, 211277.31it/s]\u001b[A\n",
      "656375it [00:04, 226487.08it/s]\u001b[A\n",
      "684731it [00:04, 241039.04it/s]\u001b[A\n",
      "718076it [00:05, 262885.39it/s]\u001b[A\n",
      "754121it [00:05, 286116.87it/s]\u001b[A\n",
      "796311it [00:05, 316686.81it/s]\u001b[A\n",
      "879844it [00:05, 163970.03it/s]\u001b[A\n"
     ]
    }
   ],
   "source": [
    "corr_no_outliers = data_no_outliers.corr('pearson')\n",
    "\n",
    "visited = set()\n",
    "r_values = []\n",
    "for i,j in tqdm(it.product(data.columns, data.columns)):\n",
    "    i_prefix = i.split('.')[0]\n",
    "    j_prefix = j.split('.')[0]\n",
    "    if (i!=j) and (i_prefix != j_prefix) and ((j,i) not in visited):\n",
    "        r = corr_no_outliers.loc[i, j]\n",
    "        r_values.append((r, i, j))\n",
    "        visited.add((i,j))\n",
    "        \n",
    "between_set_corr = pd.DataFrame.from_records(r_values)\n",
    "\n",
    "between_set_corr.columns = ['r', 'i', 'j']"
   ]
  },
  {
   "cell_type": "code",
   "execution_count": 59,
   "metadata": {},
   "outputs": [],
   "source": [
    "g_corr = between_set_corr[between_set_corr.i==gini]"
   ]
  },
  {
   "cell_type": "code",
   "execution_count": 60,
   "metadata": {},
   "outputs": [
    {
     "data": {
      "text/html": [
       "<div>\n",
       "<style scoped>\n",
       "    .dataframe tbody tr th:only-of-type {\n",
       "        vertical-align: middle;\n",
       "    }\n",
       "\n",
       "    .dataframe tbody tr th {\n",
       "        vertical-align: top;\n",
       "    }\n",
       "\n",
       "    .dataframe thead th {\n",
       "        text-align: right;\n",
       "    }\n",
       "</style>\n",
       "<table border=\"1\" class=\"dataframe\">\n",
       "  <thead>\n",
       "    <tr style=\"text-align: right;\">\n",
       "      <th></th>\n",
       "      <th>r</th>\n",
       "      <th>i</th>\n",
       "      <th>j</th>\n",
       "    </tr>\n",
       "  </thead>\n",
       "  <tbody>\n",
       "    <tr>\n",
       "      <td>201849</td>\n",
       "      <td>-0.494758</td>\n",
       "      <td>SI.POV.GINI</td>\n",
       "      <td>EN.ATM.HFCG.KT.CE</td>\n",
       "    </tr>\n",
       "    <tr>\n",
       "      <td>201850</td>\n",
       "      <td>-0.409749</td>\n",
       "      <td>SI.POV.GINI</td>\n",
       "      <td>SH.MED.BEDS.ZS</td>\n",
       "    </tr>\n",
       "    <tr>\n",
       "      <td>201923</td>\n",
       "      <td>0.413501</td>\n",
       "      <td>SI.POV.GINI</td>\n",
       "      <td>SL.TLF.ACTI.1524.NE.ZS</td>\n",
       "    </tr>\n",
       "    <tr>\n",
       "      <td>201930</td>\n",
       "      <td>0.415994</td>\n",
       "      <td>SI.POV.GINI</td>\n",
       "      <td>SL.TLF.CACT.ZS</td>\n",
       "    </tr>\n",
       "    <tr>\n",
       "      <td>202265</td>\n",
       "      <td>-0.492661</td>\n",
       "      <td>SI.POV.GINI</td>\n",
       "      <td>IS.RRS.TOTL.KM</td>\n",
       "    </tr>\n",
       "    <tr>\n",
       "      <td>202266</td>\n",
       "      <td>-0.418598</td>\n",
       "      <td>SI.POV.GINI</td>\n",
       "      <td>IS.RRS.GOOD.MT.K6</td>\n",
       "    </tr>\n",
       "    <tr>\n",
       "      <td>202278</td>\n",
       "      <td>0.423019</td>\n",
       "      <td>SI.POV.GINI</td>\n",
       "      <td>SE.PRM.REPT.FE.ZS</td>\n",
       "    </tr>\n",
       "    <tr>\n",
       "      <td>202279</td>\n",
       "      <td>0.403886</td>\n",
       "      <td>SI.POV.GINI</td>\n",
       "      <td>SE.PRM.REPT.MA.ZS</td>\n",
       "    </tr>\n",
       "    <tr>\n",
       "      <td>202280</td>\n",
       "      <td>0.421318</td>\n",
       "      <td>SI.POV.GINI</td>\n",
       "      <td>SE.PRM.REPT.ZS</td>\n",
       "    </tr>\n",
       "    <tr>\n",
       "      <td>202340</td>\n",
       "      <td>-0.464118</td>\n",
       "      <td>SI.POV.GINI</td>\n",
       "      <td>SP.POP.BRTH.MF</td>\n",
       "    </tr>\n",
       "    <tr>\n",
       "      <td>202353</td>\n",
       "      <td>-0.459600</td>\n",
       "      <td>SI.POV.GINI</td>\n",
       "      <td>GC.XPN.TRFT.ZS</td>\n",
       "    </tr>\n",
       "    <tr>\n",
       "      <td>202445</td>\n",
       "      <td>0.427530</td>\n",
       "      <td>SI.POV.GINI</td>\n",
       "      <td>SH.DYN.AIDS.FE.ZS</td>\n",
       "    </tr>\n",
       "  </tbody>\n",
       "</table>\n",
       "</div>"
      ],
      "text/plain": [
       "               r            i                       j\n",
       "201849 -0.494758  SI.POV.GINI       EN.ATM.HFCG.KT.CE\n",
       "201850 -0.409749  SI.POV.GINI          SH.MED.BEDS.ZS\n",
       "201923  0.413501  SI.POV.GINI  SL.TLF.ACTI.1524.NE.ZS\n",
       "201930  0.415994  SI.POV.GINI          SL.TLF.CACT.ZS\n",
       "202265 -0.492661  SI.POV.GINI          IS.RRS.TOTL.KM\n",
       "202266 -0.418598  SI.POV.GINI       IS.RRS.GOOD.MT.K6\n",
       "202278  0.423019  SI.POV.GINI       SE.PRM.REPT.FE.ZS\n",
       "202279  0.403886  SI.POV.GINI       SE.PRM.REPT.MA.ZS\n",
       "202280  0.421318  SI.POV.GINI          SE.PRM.REPT.ZS\n",
       "202340 -0.464118  SI.POV.GINI          SP.POP.BRTH.MF\n",
       "202353 -0.459600  SI.POV.GINI          GC.XPN.TRFT.ZS\n",
       "202445  0.427530  SI.POV.GINI       SH.DYN.AIDS.FE.ZS"
      ]
     },
     "execution_count": 60,
     "metadata": {},
     "output_type": "execute_result"
    }
   ],
   "source": [
    "g_corr[(g_corr.r.abs() > .4)]"
   ]
  },
  {
   "cell_type": "code",
   "execution_count": 61,
   "metadata": {},
   "outputs": [
    {
     "data": {
      "text/plain": [
       "'HFC gas emissions (thousand metric tons of CO2 equivalent)'"
      ]
     },
     "execution_count": 61,
     "metadata": {},
     "output_type": "execute_result"
    }
   ],
   "source": [
    "explain('EN.ATM.HFCG.KT.CE', topic='Indicator Name')"
   ]
  },
  {
   "cell_type": "code",
   "execution_count": 62,
   "metadata": {},
   "outputs": [],
   "source": [
    "hiv = 'SH.DYN.AIDS.FE.ZS'\n",
    "hfc_emissions = 'EN.ATM.HFCG.KT.CE'"
   ]
  },
  {
   "cell_type": "code",
   "execution_count": 63,
   "metadata": {},
   "outputs": [
    {
     "data": {
      "text/plain": [
       "<matplotlib.axes._subplots.AxesSubplot at 0x1a26709b10>"
      ]
     },
     "execution_count": 63,
     "metadata": {},
     "output_type": "execute_result"
    },
    {
     "data": {
      "image/png": "[encoded data removed]",
      "text/plain": [
       "<Figure size 432x288 with 1 Axes>"
      ]
     },
     "metadata": {
      "needs_background": "light"
     },
     "output_type": "display_data"
    }
   ],
   "source": [
    "data_no_outliers.plot.scatter(gini, hiv)"
   ]
  },
  {
   "cell_type": "code",
   "execution_count": 64,
   "metadata": {},
   "outputs": [
    {
     "data": {
      "text/plain": [
       "<matplotlib.axes._subplots.AxesSubplot at 0x1a26ddded0>"
      ]
     },
     "execution_count": 64,
     "metadata": {},
     "output_type": "execute_result"
    },
    {
     "data": {
      "image/png": "[encoded data removed]",
      "text/plain": [
       "<Figure size 432x288 with 1 Axes>"
      ]
     },
     "metadata": {
      "needs_background": "light"
     },
     "output_type": "display_data"
    }
   ],
   "source": [
    "data_no_outliers.plot.scatter(gini, hfc_emissions)"
   ]
  },
  {
   "cell_type": "code",
   "execution_count": null,
   "metadata": {},
   "outputs": [],
   "source": [
    "\n"
   ]
  },
  {
   "cell_type": "code",
   "execution_count": 65,
   "metadata": {},
   "outputs": [
    {
     "data": {
      "text/plain": [
       "<matplotlib.axes._subplots.AxesSubplot at 0x1a291140d0>"
      ]
     },
     "execution_count": 65,
     "metadata": {},
     "output_type": "execute_result"
    },
    {
     "data": {
      "image/png": "[encoded data removed]",
      "text/plain": [
       "<Figure size 432x288 with 1 Axes>"
      ]
     },
     "metadata": {
      "needs_background": "light"
     },
     "output_type": "display_data"
    }
   ],
   "source": [
    "df_no_outliers.groupby('Custom_Time_Code')[gdp].mean().pct_change().plot()\n"
   ]
  },
  {
   "cell_type": "code",
   "execution_count": 66,
   "metadata": {},
   "outputs": [
    {
     "data": {
      "text/plain": [
       "Text(0.5, 1.0, 'Equality Growth: 1/gini % change')"
      ]
     },
     "execution_count": 66,
     "metadata": {},
     "output_type": "execute_result"
    },
    {
     "data": {
      "image/png": "[encoded data removed]",
      "text/plain": [
       "<Figure size 432x288 with 1 Axes>"
      ]
     },
     "metadata": {
      "needs_background": "light"
     },
     "output_type": "display_data"
    }
   ],
   "source": [
    "(1/df_no_outliers.groupby('Custom_Time_Code')[gini].mean()).pct_change().plot()\n",
    "plt.title('Equality Growth: 1/gini % change')"
   ]
  },
  {
   "cell_type": "code",
   "execution_count": 67,
   "metadata": {},
   "outputs": [
    {
     "data": {
      "text/plain": [
       "<matplotlib.axes._subplots.AxesSubplot at 0x1a2f490790>"
      ]
     },
     "execution_count": 67,
     "metadata": {},
     "output_type": "execute_result"
    },
    {
     "data": {
      "image/png": "[encoded data removed]",
      "text/plain": [
       "<Figure size 432x288 with 1 Axes>"
      ]
     },
     "metadata": {
      "needs_background": "light"
     },
     "output_type": "display_data"
    }
   ],
   "source": [
    "df_no_outliers.groupby('Country Code')[gini].apply(lambda x: s_chg(x)).sort_values().plot(kind='hist')"
   ]
  },
  {
   "cell_type": "code",
   "execution_count": null,
   "metadata": {},
   "outputs": [],
   "source": []
  }
 ],
 "metadata": {
  "kernelspec": {
   "display_name": "Python 3",
   "language": "python",
   "name": "python3"
  },
  "language_info": {
   "codemirror_mode": {
    "name": "ipython",
    "version": 3
   },
   "file_extension": ".py",
   "mimetype": "text/x-python",
   "name": "python",
   "nbconvert_exporter": "python",
   "pygments_lexer": "ipython3",
   "version": "3.7.4"
  }
 },
 "nbformat": 4,
 "nbformat_minor": 4
}
