{
 "cells": [
  {
   "cell_type": "code",
   "execution_count": 18,
   "metadata": {},
   "outputs": [
    {
     "name": "stdout",
     "output_type": "stream",
     "text": [
      "Populating the interactive namespace from numpy and matplotlib\n"
     ]
    }
   ],
   "source": [
    "%pylab inline\n",
    "import pandas as pd\n",
    "from dateparser import parse\n",
    "from tqdm import tqdm\n",
    "\n",
    "from sklearn.linear_model import LinearRegression"
   ]
  },
  {
   "cell_type": "code",
   "execution_count": 19,
   "metadata": {},
   "outputs": [],
   "source": [
    "ex = pd.ExcelFile('WDImetadata.xlsx')\n",
    "explainer = ex.parse('2010-2019 MetaData').set_index('Code').fillna('')\n",
    "def explain(c):\n",
    "    global explainer\n",
    "    return explainer.loc[c]['Long definition']"
   ]
  },
  {
   "cell_type": "code",
   "execution_count": 20,
   "metadata": {},
   "outputs": [],
   "source": [
    "'''\n",
    "Data Cleaning\n",
    "'''\n",
    "\n",
    "df = pd.read_excel('WDIdata3decades.xlsx')\n",
    "df.iloc[:,2:] = df.iloc[:,2:].apply(pd.to_numeric, errors='coerce')\n",
    "\n",
    "'''\n",
    "Find codes that exist in all three decades:\n",
    "'''\n",
    "decades = ['1990-1999 MetaData',\n",
    "           '2000-2010 MetaData',\n",
    "           '2010-2019 MetaData']\n",
    "decade_codes = [set(ex.parse(d)['Code']) for d in decades]\n",
    "\n",
    "'''\n",
    "Only include columns where data is preserved accross the decades Not_Null_Thresh times.\n",
    "'''\n",
    "decade_count = df.groupby('Custom_Time_Code').apply(lambda x: pd.notnull(x).sum(0))\n",
    "not_null_thresh = 20\n",
    "preserved = ((decade_count > not_null_thresh).sum() == decade_count.shape[0])\n",
    "data = df.T[preserved].T\n",
    "\n",
    "#Cast time code to datetime\n",
    "data.Custom_Time_Code = data.Custom_Time_Code.apply(lambda x: parse(x[:4]))"
   ]
  },
  {
   "cell_type": "code",
   "execution_count": 21,
   "metadata": {},
   "outputs": [],
   "source": [
    "def interp_w_nan(s, drop_idx = True, clip = True):\n",
    "    if sum(pd.notnull(s))==0:\n",
    "        return s\n",
    "    else:\n",
    "        old_idx = s.index\n",
    "        if drop_idx:\n",
    "            s = s.reset_index(drop=True)\n",
    "\n",
    "        null_idxs = s.index[~pd.notnull(s)]\n",
    "\n",
    "        x = np.array(s.dropna().index)[:, np.newaxis]\n",
    "        y = s.dropna().astype(float).values\n",
    "        reg = LinearRegression().fit(x, y)\n",
    "\n",
    "        for i in null_idxs:\n",
    "            pred = reg.predict(np.array([[i]]))[0]\n",
    "            if pred < 0 and clip:\n",
    "                pred = 0\n",
    "            s.loc[i] = pred\n",
    "\n",
    "        s.index = old_idx\n",
    "\n",
    "        return s\n"
   ]
  },
  {
   "cell_type": "code",
   "execution_count": 22,
   "metadata": {},
   "outputs": [
    {
     "name": "stderr",
     "output_type": "stream",
     "text": [
      "100%|██████████| 938/938 [02:04<00:00,  7.52it/s]\n"
     ]
    }
   ],
   "source": [
    "filled = data.copy()\n",
    "for col in tqdm(filled.columns[2:]):\n",
    "    filled[col] = filled.groupby('Country Code')[col].apply(interp_w_nan).astype(float)"
   ]
  },
  {
   "cell_type": "code",
   "execution_count": 23,
   "metadata": {},
   "outputs": [],
   "source": [
    "filled.to_csv('cleaned.csv')"
   ]
  },
  {
   "cell_type": "code",
   "execution_count": null,
   "metadata": {},
   "outputs": [],
   "source": []
  }
 ],
 "metadata": {
  "kernelspec": {
   "display_name": "Python 3",
   "language": "python",
   "name": "python3"
  },
  "language_info": {
   "codemirror_mode": {
    "name": "ipython",
    "version": 3
   },
   "file_extension": ".py",
   "mimetype": "text/x-python",
   "name": "python",
   "nbconvert_exporter": "python",
   "pygments_lexer": "ipython3",
   "version": "3.7.4"
  }
 },
 "nbformat": 4,
 "nbformat_minor": 4
}
