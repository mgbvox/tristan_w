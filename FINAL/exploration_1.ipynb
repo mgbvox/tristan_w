{
 "cells": [
  {
   "cell_type": "code",
   "execution_count": 1,
   "metadata": {},
   "outputs": [
    {
     "name": "stdout",
     "output_type": "stream",
     "text": [
      "Populating the interactive namespace from numpy and matplotlib\n"
     ]
    }
   ],
   "source": [
    "%pylab inline\n",
    "import pandas as pd\n",
    "from dateparser import parse\n",
    "from tqdm import tqdm"
   ]
  },
  {
   "cell_type": "code",
   "execution_count": 2,
   "metadata": {},
   "outputs": [],
   "source": [
    "#!pip install dateparser\n",
    "#!pip install statsmodels"
   ]
  },
  {
   "cell_type": "code",
   "execution_count": 3,
   "metadata": {},
   "outputs": [],
   "source": [
    "ex = pd.ExcelFile('WDImetadata.xlsx')\n",
    "explainer = ex.parse('2010-2019 MetaData').set_index('Code').fillna('')\n",
    "def explain(c):\n",
    "    global explainer\n",
    "    return explainer.loc[c]['Long definition']\n",
    "\n",
    "def z_score(s):\n",
    "    return (s-s.mean())/s.std()"
   ]
  },
  {
   "cell_type": "code",
   "execution_count": 14,
   "metadata": {},
   "outputs": [
    {
     "name": "stderr",
     "output_type": "stream",
     "text": [
      "100%|██████████| 940/940 [00:00<00:00, 2057.03it/s]\n",
      "100%|██████████| 938/938 [00:00<00:00, 1811.36it/s]\n"
     ]
    }
   ],
   "source": [
    "fill_nans = True\n",
    "\n",
    "df = pd.read_csv('cleaned.csv', parse_dates=['Custom_Time_Code']).iloc[:, 1:]\n",
    "df = df[df['Country Code'] != 'USA']\n",
    "\n",
    "df_z = pd.concat([z_score(df[col]) for col in tqdm(df.columns) if col not in ['Country Code', 'Custom_Time_Code']], axis=1)\n",
    "df_z.columns = df.columns[2:]\n",
    "\n",
    "df_no_outliers = df.where(df_z.abs() < 2).iloc[:,2:]\n",
    "df_no_outliers = pd.concat([df['Country Code'], df['Custom_Time_Code'], df_no_outliers], axis=1)\n",
    "if fill_nans:\n",
    "    df_no_outliers = df_no_outliers.fillna(df_no_outliers.mean())\n",
    "\n",
    "df_2010 = df[df['Custom_Time_Code'] > parse('Jan 1st 2009')]\n",
    "data = df_2010.iloc[:, 2:]\n",
    "\n",
    "data_z = pd.concat([z_score(data[col]) for col in tqdm(data.columns) if col not in ['Country Code', 'Custom_Time_Code']], axis=1)\n",
    "data_z.columns = data.columns\n",
    "\n",
    "data_no_outliers = data.where(data_z.abs() < 2)\n",
    "data_no_outliers = data_no_outliers.set_index(df_2010['Country Code'])\n",
    "if fill_nans:\n",
    "    data_no_outliers = data_no_outliers.fillna(data_no_outliers.mean())"
   ]
  },
  {
   "cell_type": "code",
   "execution_count": 15,
   "metadata": {},
   "outputs": [],
   "source": [
    "def find_codes(input_string):\n",
    "    terms = input_string.split()\n",
    "    for code in explainer.T.columns:\n",
    "        if False not in [s.upper() in str(explainer['Long definition'][code]).upper() or \\\n",
    "                          s.upper() in str(explainer['Indicator Name'][code]).upper() or \\\n",
    "                          s.upper() in str(explainer['Unit of measure'][code]).upper() for s in terms]:\n",
    "            if code in data.columns:\n",
    "                print(code)\n",
    "                print(explainer.loc[code]['Indicator Name'])\n",
    "                print(explain(code))\n",
    "                print()"
   ]
  },
  {
   "cell_type": "code",
   "execution_count": 16,
   "metadata": {},
   "outputs": [
    {
     "data": {
      "text/plain": [
       "'Adjusted net national income is GNI minus consumption of fixed capital and natural resources depletion.'"
      ]
     },
     "execution_count": 16,
     "metadata": {},
     "output_type": "execute_result"
    }
   ],
   "source": [
    "explain('NY.ADJ.NNTY.KD')"
   ]
  },
  {
   "cell_type": "code",
   "execution_count": 17,
   "metadata": {
    "collapsed": true,
    "jupyter": {
     "outputs_hidden": true
    }
   },
   "outputs": [
    {
     "name": "stdout",
     "output_type": "stream",
     "text": [
      "BN.KLT.DINV.CD\n",
      "Foreign direct investment, net (BoP, current US$)\n",
      "Foreign direct investment are the net inflows of investment to acquire a lasting management interest (10 percent or more of voting stock) in an enterprise operating in an economy other than that of the investor. It is the sum of equity capital, reinvestment of earnings, other long-term capital, and short-term capital as shown in the balance of payments. This series shows total net FDI. In BPM6, financial account balances are calculated as the change in assets minus the change in liabilities. Net FDI outflows are assets and net FDI inflows are liabilities. Data are in current U.S. dollars.\n",
      "\n",
      "BX.KLT.DINV.WD.GD.ZS\n",
      "Foreign direct investment, net inflows (% of GDP)\n",
      "Foreign direct investment are the net inflows of investment to acquire a lasting management interest (10 percent or more of voting stock) in an enterprise operating in an economy other than that of the investor. It is the sum of equity capital, reinvestment of earnings, other long-term capital, and short-term capital as shown in the balance of payments. This series shows net inflows (new investment inflows less disinvestment) in the reporting economy from foreign investors, and is divided by GDP.\n",
      "\n",
      "BX.KLT.DINV.CD.WD\n",
      "Foreign direct investment, net inflows (BoP, current US$)\n",
      "Foreign direct investment refers to direct investment equity flows in the reporting economy. It is the sum of equity capital, reinvestment of earnings, and other capital. Direct investment is a category of cross-border investment associated with a resident in one economy having control or a significant degree of influence on the management of an enterprise that is resident in another economy. Ownership of 10 percent or more of the ordinary shares of voting stock is the criterion for determining the existence of a direct investment relationship. Data are in current U.S. dollars.\n",
      "\n",
      "BM.KLT.DINV.WD.GD.ZS\n",
      "Foreign direct investment, net outflows (% of GDP)\n",
      "Foreign direct investment refers to direct investment equity flows in an economy. It is the sum of equity capital, reinvestment of earnings, and other capital. Direct investment is a category of cross-border investment associated with a resident in one economy having control or a significant degree of influence on the management of an enterprise that is resident in another economy. Ownership of 10 percent or more of the ordinary shares of voting stock is the criterion for determining the existence of a direct investment relationship. This series shows net outflows of investment from the reporting economy to the rest of the world, and is divided by GDP.\n",
      "\n",
      "BM.KLT.DINV.CD.WD\n",
      "Foreign direct investment, net outflows (BoP, current US$)\n",
      "Foreign direct investment refers to direct investment equity flows in an economy. It is the sum of equity capital, reinvestment of earnings, and other capital. Direct investment is a category of cross-border investment associated with a resident in one economy having control or a significant degree of influence on the management of an enterprise that is resident in another economy. Ownership of 10 percent or more of the ordinary shares of voting stock is the criterion for determining the existence of a direct investment relationship. This series shows net outflows of investment from the reporting economy to the rest of the world. Data are in current U.S. dollars.\n",
      "\n",
      "NY.GDP.MKTP.KD\n",
      "GDP (constant 2010 US$)\n",
      "GDP at purchaser's prices is the sum of gross value added by all resident producers in the economy plus any product taxes and minus any subsidies not included in the value of the products. It is calculated without making deductions for depreciation of fabricated assets or for depletion and degradation of natural resources. Data are in constant 2010 U.S. dollars. Dollar figures for GDP are converted from domestic currencies using 2010 official exchange rates. For a few countries where the official exchange rate does not reflect the rate effectively applied to actual foreign exchange transactions, an alternative conversion factor is used.\n",
      "\n",
      "NY.GDP.MKTP.KN\n",
      "GDP (constant LCU)\n",
      "GDP is the sum of gross value added by all resident producers in the economy plus any product taxes and minus any subsidies not included in the value of the products. It is calculated without making deductions for depreciation of fabricated assets or for depletion and degradation of natural resources. Data are in constant local currency.\n",
      "\n",
      "NY.GDP.MKTP.CN\n",
      "GDP (current LCU)\n",
      "GDP at purchaser's prices is the sum of gross value added by all resident producers in the economy plus any product taxes and minus any subsidies not included in the value of the products. It is calculated without making deductions for depreciation of fabricated assets or for depletion and degradation of natural resources. Data are in current local currency.\n",
      "\n",
      "NY.GDP.MKTP.CD\n",
      "GDP (current US$)\n",
      "GDP at purchaser's prices is the sum of gross value added by all resident producers in the economy plus any product taxes and minus any subsidies not included in the value of the products. It is calculated without making deductions for depreciation of fabricated assets or for depletion and degradation of natural resources. Data are in current U.S. dollars. Dollar figures for GDP are converted from domestic currencies using single year official exchange rates. For a few countries where the official exchange rate does not reflect the rate effectively applied to actual foreign exchange transactions, an alternative conversion factor is used.\n",
      "\n",
      "NY.GDP.MKTP.KD.ZG\n",
      "GDP growth (annual %)\n",
      "Annual percentage growth rate of GDP at market prices based on constant local currency. Aggregates are based on constant 2010 U.S. dollars. GDP is the sum of gross value added by all resident producers in the economy plus any product taxes and minus any subsidies not included in the value of the products. It is calculated without making deductions for depreciation of fabricated assets or for depletion and degradation of natural resources.\n",
      "\n",
      "NY.GDP.PCAP.KD\n",
      "GDP per capita (constant 2010 US$)\n",
      "GDP per capita is gross domestic product divided by midyear population. GDP is the sum of gross value added by all resident producers in the economy plus any product taxes and minus any subsidies not included in the value of the products. It is calculated without making deductions for depreciation of fabricated assets or for depletion and degradation of natural resources. Data are in constant 2010 U.S. dollars.\n",
      "\n",
      "NY.GDP.PCAP.KN\n",
      "GDP per capita (constant LCU)\n",
      "GDP per capita is gross domestic product divided by midyear population. GDP at purchaser's prices is the sum of gross value added by all resident producers in the economy plus any product taxes and minus any subsidies not included in the value of the products. It is calculated without making deductions for depreciation of fabricated assets or for depletion and degradation of natural resources. Data are in constant local currency.\n",
      "\n",
      "NY.GDP.PCAP.CN\n",
      "GDP per capita (current LCU)\n",
      "GDP per capita is gross domestic product divided by midyear population. GDP is the sum of gross value added by all resident producers in the economy plus any product taxes and minus any subsidies not included in the value of the products. It is calculated without making deductions for depreciation of fabricated assets or for depletion and degradation of natural resources. Data are in current local currency.\n",
      "\n",
      "NY.GDP.PCAP.CD\n",
      "GDP per capita (current US$)\n",
      "GDP per capita is gross domestic product divided by midyear population. GDP is the sum of gross value added by all resident producers in the economy plus any product taxes and minus any subsidies not included in the value of the products. It is calculated without making deductions for depreciation of fabricated assets or for depletion and degradation of natural resources. Data are in current U.S. dollars.\n",
      "\n",
      "NY.GDP.PCAP.KD.ZG\n",
      "GDP per capita growth (annual %)\n",
      "Annual percentage growth rate of GDP per capita based on constant local currency. Aggregates are based on constant 2010 U.S. dollars. GDP per capita is gross domestic product divided by midyear population. GDP at purchaser's prices is the sum of gross value added by all resident producers in the economy plus any product taxes and minus any subsidies not included in the value of the products. It is calculated without making deductions for depreciation of fabricated assets or for depletion and degradation of natural resources.\n",
      "\n",
      "NY.GDP.PCAP.PP.KD\n",
      "GDP per capita, PPP (constant 2011 international $)\n",
      "GDP per capita based on purchasing power parity (PPP). PPP GDP is gross domestic product converted to international dollars using purchasing power parity rates. An international dollar has the same purchasing power over GDP as the U.S. dollar has in the United States. GDP at purchaser's prices is the sum of gross value added by all resident producers in the economy plus any product taxes and minus any subsidies not included in the value of the products. It is calculated without making deductions for depreciation of fabricated assets or for depletion and degradation of natural resources. Data are in constant 2011 international dollars.\n",
      "\n",
      "NY.GDP.PCAP.PP.CD\n",
      "GDP per capita, PPP (current international $)\n",
      "GDP per capita based on purchasing power parity (PPP). PPP GDP is gross domestic product converted to international dollars using purchasing power parity rates. An international dollar has the same purchasing power over GDP as the U.S. dollar has in the United States. GDP at purchaser's prices is the sum of gross value added by all resident producers in the economy plus any product taxes and minus any subsidies not included in the value of the products. It is calculated without making deductions for depreciation of fabricated assets or for depletion and degradation of natural resources. Data are in current international dollars based on the 2011 ICP round.\n",
      "\n",
      "SL.GDP.PCAP.EM.KD\n",
      "GDP per person employed (constant 2011 PPP $)\n",
      "GDP per person employed is gross domestic product (GDP) divided by total employment in the economy. Purchasing power parity (PPP) GDP is GDP converted to 2011 constant international dollars using PPP rates. An international dollar has the same purchasing power over GDP that a U.S. dollar has in the United States.\n",
      "\n",
      "NY.GDP.MKTP.PP.KD\n",
      "GDP, PPP (constant 2011 international $)\n",
      "PPP GDP is gross domestic product converted to international dollars using purchasing power parity rates. An international dollar has the same purchasing power over GDP as the U.S. dollar has in the United States. GDP is the sum of gross value added by all resident producers in the economy plus any product taxes and minus any subsidies not included in the value of the products. It is calculated without making deductions for depreciation of fabricated assets or for depletion and degradation of natural resources. Data are in constant 2011 international dollars.\n",
      "\n",
      "NY.GDP.MKTP.PP.CD\n",
      "GDP, PPP (current international $)\n",
      "PPP GDP is gross domestic product converted to international dollars using purchasing power parity rates. An international dollar has the same purchasing power over GDP as the U.S. dollar has in the United States. GDP is the sum of gross value added by all resident producers in the economy plus any product taxes and minus any subsidies not included in the value of the products. It is calculated without making deductions for depreciation of fabricated assets or for depletion and degradation of natural resources. Data are in current international dollars. For most economies PPP figures are extrapolated from the 2011 International Comparison Program (ICP) benchmark estimates or imputed using a statistical model based on the 2011 ICP. For 47 high- and upper middle-income economies conversion factors are provided by Eurostat and the Organisation for Economic Co-operation and Development (OECD).\n",
      "\n",
      "NY.GDP.MKTP.CN.AD\n",
      "GDP at market prices: linked series (current LCU)\n",
      "GDP at purchaser's prices is the sum of gross value added by all resident producers in the economy plus any product taxes and minus any subsidies not included in the value of the products. It is calculated without making deductions for depreciation of fabricated assets or for depletion and degradation of natural resources. This series has been linked to produce a consistent time series to counteract breaks in series over time due to changes in base years, source data and methodologies. Thus, it may not be comparable with other national accounts series in the database for historical years. Data are in current local currency.\n",
      "\n",
      "SI.POV.GINI\n",
      "GINI index (World Bank estimate)\n",
      "Gini index measures the extent to which the distribution of income (or, in some cases, consumption expenditure) among individuals or households within an economy deviates from a perfectly equal distribution. A Lorenz curve plots the cumulative percentages of total income received against the cumulative number of recipients, starting with the poorest individual or household. The Gini index measures the area between the Lorenz curve and a hypothetical line of absolute equality, expressed as a percentage of the maximum area under the line. Thus a Gini index of 0 represents perfect equality, while an index of 100 implies perfect inequality.\n",
      "\n",
      "NE.GDI.TOTL.ZS\n",
      "Gross capital formation (% of GDP)\n",
      "Gross capital formation (formerly gross domestic investment) consists of outlays on additions to the fixed assets of the economy plus net changes in the level of inventories. Fixed assets include land improvements (fences, ditches, drains, and so on); plant, machinery, and equipment purchases; and the construction of roads, railways, and the like, including schools, offices, hospitals, private residential dwellings, and commercial and industrial buildings. Inventories are stocks of goods held by firms to meet temporary or unexpected fluctuations in production or sales, and \"work in progress.\" According to the 1993 SNA, net acquisitions of valuables are also considered capital formation.\n",
      "\n",
      "NE.GDI.TOTL.KD.ZG\n",
      "Gross capital formation (annual % growth)\n",
      "Annual growth rate of gross capital formation based on constant local currency. Aggregates are based on constant 2010 U.S. dollars. Gross capital formation (formerly gross domestic investment) consists of outlays on additions to the fixed assets of the economy plus net changes in the level of inventories. Fixed assets include land improvements (fences, ditches, drains, and so on); plant, machinery, and equipment purchases; and the construction of roads, railways, and the like, including schools, offices, hospitals, private residential dwellings, and commercial and industrial buildings. Inventories are stocks of goods held by firms to meet temporary or unexpected fluctuations in production or sales, and \"work in progress.\" According to the 1993 SNA, net acquisitions of valuables are also considered capital formation.\n",
      "\n",
      "NE.GDI.TOTL.KD\n",
      "Gross capital formation (constant 2010 US$)\n",
      "Gross capital formation (formerly gross domestic investment) consists of outlays on additions to the fixed assets of the economy plus net changes in the level of inventories. Fixed assets include land improvements (fences, ditches, drains, and so on); plant, machinery, and equipment purchases; and the construction of roads, railways, and the like, including schools, offices, hospitals, private residential dwellings, and commercial and industrial buildings. Inventories are stocks of goods held by firms to meet temporary or unexpected fluctuations in production or sales, and \"work in progress.\" According to the 1993 SNA, net acquisitions of valuables are also considered capital formation. Data are in constant 2010 U.S. dollars.\n",
      "\n",
      "NE.GDI.TOTL.KN\n",
      "Gross capital formation (constant LCU)\n",
      "Gross capital formation (formerly gross domestic investment) consists of outlays on additions to the fixed assets of the economy plus net changes in the level of inventories. Fixed assets include land improvements (fences, ditches, drains, and so on); plant, machinery, and equipment purchases; and the construction of roads, railways, and the like, including schools, offices, hospitals, private residential dwellings, and commercial and industrial buildings. Inventories are stocks of goods held by firms to meet temporary or unexpected fluctuations in production or sales, and \"work in progress.\" According to the 1993 SNA, net acquisitions of valuables are also considered capital formation. Data are in constant local currency.\n",
      "\n",
      "NE.GDI.TOTL.CN\n",
      "Gross capital formation (current LCU)\n",
      "Gross capital formation (formerly gross domestic investment) consists of outlays on additions to the fixed assets of the economy plus net changes in the level of inventories. Fixed assets include land improvements (fences, ditches, drains, and so on); plant, machinery, and equipment purchases; and the construction of roads, railways, and the like, including schools, offices, hospitals, private residential dwellings, and commercial and industrial buildings. Inventories are stocks of goods held by firms to meet temporary or unexpected fluctuations in production or sales, and \"work in progress.\" According to the 1993 SNA, net acquisitions of valuables are also considered capital formation. Data are in current local currency.\n",
      "\n",
      "NE.GDI.TOTL.CD\n",
      "Gross capital formation (current US$)\n",
      "Gross capital formation (formerly gross domestic investment) consists of outlays on additions to the fixed assets of the economy plus net changes in the level of inventories. Fixed assets include land improvements (fences, ditches, drains, and so on); plant, machinery, and equipment purchases; and the construction of roads, railways, and the like, including schools, offices, hospitals, private residential dwellings, and commercial and industrial buildings. Inventories are stocks of goods held by firms to meet temporary or unexpected fluctuations in production or sales, and \"work in progress.\" According to the 1993 SNA, net acquisitions of valuables are also considered capital formation. Data are in current U.S. dollars.\n",
      "\n",
      "NY.GDP.DEFL.KD.ZG\n",
      "Inflation, GDP deflator (annual %)\n",
      "Inflation as measured by the annual growth rate of the GDP implicit deflator shows the rate of price change in the economy as a whole. The GDP implicit deflator is the ratio of GDP in current local currency to GDP in constant local currency.\n",
      "\n",
      "NY.GDP.DEFL.KD.ZG.AD\n",
      "Inflation, GDP deflator: linked series (annual %)\n",
      "Inflation as measured by the annual growth rate of the GDP implicit deflator shows the rate of price change in the economy as a whole. This series has been linked to produce a consistent time series to counteract breaks in series over time due to changes in base years, source data and methodologies. Thus, it may not be comparable with other national accounts series in the database for historical years.\n",
      "\n",
      "ST.INT.TRNX.CD\n",
      "International tourism, expenditures for passenger transport items (current US$)\n",
      "International tourism expenditures for passenger transport items are expenditures of international outbound visitors in other countries for all services provided during international transportation by nonresident carriers. Also included are passenger services performed within an economy by nonresident carriers. Excluded are passenger services provided to nonresidents by resident carriers within the resident economies; these are included in travel items. In addition to the services covered by passenger fares--including fares that are a part of package tours but excluding cruise fares, which are included in travel--passenger services include such items as charges for excess baggage, vehicles, or other personal accompanying effects and expenditures for food, drink, or other items for which passengers make expenditures while on board carriers. Data are in current U.S. dollars.\n",
      "\n",
      "ST.INT.TRNR.CD\n",
      "International tourism, receipts for passenger transport items (current US$)\n",
      "International tourism receipts for passenger transport items are expenditures by international inbound visitors for all services provided in the international transportation by resident carriers. Also included are passenger services performed within an economy by nonresident carriers. Excluded are passenger services provided to nonresidents by resident carriers within the resident economies; these are included in travel items. In addition to the services covered by passenger fares--including fares that are a part of package tours but excluding cruise fares, which are included in travel--passenger services include such items as charges for excess baggage, vehicles, or other personal accompanying effects and expenditures for food, drink, or other items for which passengers make expenditures while on board carriers. Data are in current U.S. dollars.\n",
      "\n",
      "ST.INT.TVLR.CD\n",
      "International tourism, receipts for travel items (current US$)\n",
      "International tourism receipts for travel items are expenditures by international inbound visitors in the reporting economy. The goods and services are purchased by, or on behalf of, the traveler or provided, without a quid pro quo, for the traveler to use or give away. These receipts should include any other prepayment made for goods or services received in the destination country. They also may include receipts from same-day visitors, except in cases where these are so important as to justify a separate classification. Excluded is the international carriage of travelers, which is covered in passenger travel items. Data are in current U.S. dollars.\n",
      "\n",
      "TX.VAL.MRCH.WL.CD\n",
      "Merchandise exports by the reporting economy (current US$)\n",
      "Merchandise exports by the reporting economy are the total merchandise exports by the reporting economy to the rest of the world, as reported in the IMF's Direction of trade database. Data are in current US$.\n",
      "\n",
      "TX.VAL.MRCH.RS.ZS\n",
      "Merchandise exports by the reporting economy, residual (% of total merchandise exports)\n",
      "Merchandise exports by the reporting economy residuals are the total merchandise exports by the reporting economy to the rest of the world as reported in the IMF's Direction of trade database, less the sum of exports by the reporting economy to high-, low-, and middle-income economies according to the World Bank classification of economies. Includes trade with unspecified partners or with economies not covered by World Bank classification. Data are as a percentage of total merchandise exports by the economy.\n",
      "\n",
      "TX.VAL.MRCH.AL.ZS\n",
      "Merchandise exports to economies in the Arab World (% of total merchandise exports)\n",
      "Merchandise exports to economies in the Arab World are the sum of merchandise exports by the reporting economy to economies in the Arab World. Data are expressed as a percentage of total merchandise exports by the economy. Data are computed only if at least half of the economies in the partner country group had non-missing data.\n",
      "\n",
      "TX.VAL.MRCH.HI.ZS\n",
      "Merchandise exports to high-income economies (% of total merchandise exports)\n",
      "Merchandise exports to high-income economies are the sum of merchandise exports from the reporting economy to high-income economies according to the World Bank classification of economies. Data are expressed as a percentage of total merchandise exports by the economy. Data are computed only if at least half of the economies in the partner country group had non-missing data.\n",
      "\n",
      "TX.VAL.MRCH.R1.ZS\n",
      "Merchandise exports to low- and middle-income economies in East Asia & Pacific (% of total merchandise exports)\n",
      "Merchandise exports to low- and middle-income economies in East Asia and Pacific are the sum of merchandise exports from the reporting economy to low- and middle-income economies in the East Asia and Pacific region according to World Bank classification of economies. Data are as a percentage of total merchandise exports by the economy. Data are computed only if at least half of the economies in the partner country group had non-missing data.\n",
      "\n",
      "TX.VAL.MRCH.R2.ZS\n",
      "Merchandise exports to low- and middle-income economies in Europe & Central Asia (% of total merchandise exports)\n",
      "Merchandise exports to low- and middle-income economies in Europe and Central Asia are the sum of merchandise exports from the reporting economy to low- and middle-income economies in the Europe and Central Asia region according to World Bank classification of economies. Data are as a percentage of total merchandise exports by the economy. Data are computed only if at least half of the economies in the partner country group had non-missing data.\n",
      "\n",
      "TX.VAL.MRCH.R3.ZS\n",
      "Merchandise exports to low- and middle-income economies in Latin America & the Caribbean (% of total merchandise exports)\n",
      "Merchandise exports to low- and middle-income economies in Latin America and the Caribbean are the sum of merchandise exports from the reporting economy to low- and middle-income economies in the Latin America and the Caribbean region according to World Bank classification of economies. Data are as a percentage of total merchandise exports by the economy. Data are computed only if at least half of the economies in the partner country group had non-missing data.\n",
      "\n",
      "TX.VAL.MRCH.R4.ZS\n",
      "Merchandise exports to low- and middle-income economies in Middle East & North Africa (% of total merchandise exports)\n",
      "Merchandise exports to low- and middle-income economies in Middle East and North Africa are the sum of merchandise exports from the reporting economy to low- and middle-income economies in the Middle East and North Africa region according to World Bank classification of economies. Data are as a percentage of total merchandise exports by the economy. Data are computed only if at least half of the economies in the partner country group had non-missing data.\n",
      "\n",
      "TX.VAL.MRCH.R5.ZS\n",
      "Merchandise exports to low- and middle-income economies in South Asia (% of total merchandise exports)\n",
      "Merchandise exports to low- and middle-income economies in South Asia are the sum of merchandise exports from the reporting economy to low- and middle-income economies in the South Asia region according to World Bank classification of economies. Data are as a percentage of total merchandise exports by the economy. Data are computed only if at least half of the economies in the partner country group had non-missing data.\n",
      "\n",
      "TX.VAL.MRCH.R6.ZS\n",
      "Merchandise exports to low- and middle-income economies in Sub-Saharan Africa (% of total merchandise exports)\n",
      "Merchandise exports to low- and middle-income economies in Sub-Saharan Africa are the sum of merchandise exports from the reporting economy to low- and middle-income economies in the Sub-Saharan Africa region according to World Bank classification of economies. Data are as a percentage of total merchandise exports by the economy. Data are computed only if at least half of the economies in the partner country group had non-missing data.\n",
      "\n",
      "TX.VAL.MRCH.OR.ZS\n",
      "Merchandise exports to low- and middle-income economies outside region (% of total merchandise exports)\n",
      "Merchandise exports to low- and middle-income economies outside region are the sum of merchandise exports from the reporting economy to other low- and middle-income economies in other World Bank regions according to the World Bank classification of economies. Data are expressed as a percentage of total merchandise exports by the economy. Data are computed only if at least half of the economies in the partner country group had non-missing data.\n",
      "\n",
      "TX.VAL.MRCH.WR.ZS\n",
      "Merchandise exports to low- and middle-income economies within region (% of total merchandise exports)\n",
      "Merchandise exports to low- and middle-income economies within region are the sum of merchandise exports from the reporting economy to other low- and middle-income economies in the same World Bank region as a percentage of total merchandise exports by the economy. Data are computed only if at least half of the economies in the partner country group had non-missing data. No figures are shown for high-income economies, because they are a separate category in the World Bank classification of economies.\n",
      "\n",
      "TM.VAL.MRCH.WL.CD\n",
      "Merchandise imports by the reporting economy (current US$)\n",
      "Merchandise imports by the reporting economy are the total merchandise imports by the reporting economy from the rest of the world, as reported in the IMF's Direction of trade database. Data are in current U.S. dollars.\n",
      "\n",
      "TM.VAL.MRCH.RS.ZS\n",
      "Merchandise imports by the reporting economy, residual (% of total merchandise imports)\n",
      "Merchandise imports by the reporting economy residuals are the total merchandise imports by the reporting economy from the rest of the world as reported in the IMF's Direction of trade database, less the sum of imports by the reporting economy from high-, low-, and middle-income economies according to the World Bank classification of economies. Includes trade with unspecified partners or with economies not covered by World Bank classification. Data are as a percentage of total merchandise imports by the economy.\n",
      "\n",
      "TM.VAL.MRCH.AL.ZS\n",
      "Merchandise imports from economies in the Arab World (% of total merchandise imports)\n",
      "Merchandise imports from economies in the Arab World are the sum of merchandise imports by the reporting economy from economies in the Arab World. Data are expressed as a percentage of total merchandise imports by the economy. Data are computed only if at least half of the economies in the partner country group had non-missing data.\n",
      "\n",
      "TM.VAL.MRCH.HI.ZS\n",
      "Merchandise imports from high-income economies (% of total merchandise imports)\n",
      "Merchandise imports from high-income economies are the sum of merchandise imports by the reporting economy from high-income economies according to the World Bank classification of economies. Data are expressed as a percentage of total merchandise imports by the economy. Data are computed only if at least half of the economies in the partner country group had non-missing data.\n",
      "\n",
      "TM.VAL.MRCH.R1.ZS\n",
      "Merchandise imports from low- and middle-income economies in East Asia & Pacific (% of total merchandise imports)\n",
      "Merchandise imports from low- and middle-income economies in East Asia and Pacific are the sum of merchandise imports by the reporting economy from low- and middle-income economies in the East Asia and Pacific region according to the World Bank classification of economies. Data are expressed as a percentage of total merchandise imports by the economy. Data are computed only if at least half of the economies in the partner country group had non-missing data.\n",
      "\n",
      "TM.VAL.MRCH.R2.ZS\n",
      "Merchandise imports from low- and middle-income economies in Europe & Central Asia (% of total merchandise imports)\n",
      "Merchandise imports from low- and middle-income economies in Europe and Central Asia are the sum of merchandise imports by the reporting economy from low- and middle-income economies in the Europe and Central Asia region according to the World Bank classification of economies. Data are expressed as a percentage of total merchandise imports by the economy. Data are computed only if at least half of the economies in the partner country group had non-missing data.\n",
      "\n",
      "TM.VAL.MRCH.R3.ZS\n",
      "Merchandise imports from low- and middle-income economies in Latin America & the Caribbean (% of total merchandise imports)\n",
      "Merchandise imports from low- and middle-income economies in Latin America and the Caribbean are the sum of merchandise imports by the reporting economy from low- and middle-income economies in the Latin America and the Caribbean region according to the World Bank classification of economies. Data are expressed as a percentage of total merchandise imports by the economy. Data are computed only if at least half of the economies in the partner country group had non-missing data.\n",
      "\n",
      "TM.VAL.MRCH.R4.ZS\n",
      "Merchandise imports from low- and middle-income economies in Middle East & North Africa (% of total merchandise imports)\n",
      "Merchandise imports from low- and middle-income economies in Middle East and North Africa are the sum of merchandise imports by the reporting economy from low- and middle-income economies in the Middle East and North Africa region according to the World Bank classification of economies. Data are expressed as a percentage of total merchandise imports by the economy. Data are computed only if at least half of the economies in the partner country group had non-missing data.\n",
      "\n",
      "TM.VAL.MRCH.R5.ZS\n",
      "Merchandise imports from low- and middle-income economies in South Asia (% of total merchandise imports)\n",
      "Merchandise imports from low- and middle-income economies in South Asia are the sum of merchandise imports by the reporting economy from low- and middle-income economies in the South Asia region according to the World Bank classification of economies. Data are expressed as a percentage of total merchandise imports by the economy. Data are computed only if at least half of the economies in the partner country group had non-missing data.\n",
      "\n",
      "TM.VAL.MRCH.R6.ZS\n",
      "Merchandise imports from low- and middle-income economies in Sub-Saharan Africa (% of total merchandise imports)\n",
      "Merchandise imports from low- and middle-income economies in Sub-Saharan Africa are the sum of merchandise imports by the reporting economy from low- and middle-income economies in the Sub-Saharan Africa region according to the World Bank classification of economies. Data are expressed as a percentage of total merchandise imports by the economy. Data are computed only if at least half of the economies in the partner country group had non-missing data.\n",
      "\n",
      "TM.VAL.MRCH.OR.ZS\n",
      "Merchandise imports from low- and middle-income economies outside region (% of total merchandise imports)\n",
      "Merchandise imports from low- and middle-income economies outside region are the sum of merchandise imports by the reporting economy from other low- and middle-income economies in other World Bank regions according to the World Bank classification of economies. Data are expressed as a percentage of total merchandise imports by the economy. Data are computed only if at least half of the economies in the partner country group had non-missing data.\n",
      "\n",
      "TM.VAL.MRCH.WR.ZS\n",
      "Merchandise imports from low- and middle-income economies within region (% of total merchandise imports)\n",
      "Merchandise imports from low- and middle-income economies within region are the sum of merchandise imports by the reporting economy from other low- and middle-income economies in the same World Bank region according to the World Bank classification of economies. Data are as a percentage of total merchandise imports by the economy. Data are computed only if at least half of the economies in the partner country group had non-missing data. No figures are shown for high-income economies, because they are a separate category in the World Bank classification of economies.\n",
      "\n",
      "FM.AST.DOMS.CN\n",
      "Net domestic credit (current LCU)\n",
      "Net domestic credit is the sum of net claims on the central government and claims on other sectors of the domestic economy (IFS line 32). Data are in current local currency.\n",
      "\n",
      "DT.NFL.DPNG.CD\n",
      "Net flows on external debt, private nonguaranteed (PNG) (NFL, current US$)\n",
      "Private nonguaranteed external debt is an external obligation of a private debtor that is not guaranteed for repayment by a public entity. Net flows (or net lending or net disbursements) received by the borrower during the year are disbursements minus principal repayments. Long-term external debt is defined as debt that has an original or extended maturity of more than one year and that is owed to nonresidents by residents of an economy and repayable in currency, goods, or services. Data are in current U.S. dollars.\n",
      "\n",
      "GC.NLD.TOTL.GD.ZS\n",
      "Net lending (+) / net borrowing (-) (% of GDP)\n",
      "Net lending (+) / net borrowing (–) equals government revenue minus expense, minus net investment in nonfinancial assets. It is also equal to the net result of transactions in financial assets and liabilities. Net lending/net borrowing is a summary measure indicating the extent to which government is either putting financial resources at the disposal of other sectors in the economy or abroad, or utilizing the financial resources generated by other sectors in the economy or from abroad.\n",
      "\n",
      "GC.NLD.TOTL.CN\n",
      "Net lending (+) / net borrowing (-) (current LCU)\n",
      "Net lending (+) / net borrowing (–) equals government revenue minus expense, minus net investment in nonfinancial assets. It is also equal to the net result of transactions in financial assets and liabilities. Net lending/net borrowing is a summary measure indicating the extent to which government is either putting financial resources at the disposal of other sectors in the economy or abroad, or utilizing the financial resources generated by other sectors in the economy or from abroad.\n",
      "\n",
      "BN.TRF.CURR.CD\n",
      "Net secondary income (BoP, current US$)\n",
      "Secondary income refers to transfers recorded in the balance of payments whenever an economy provides or receives goods, services, income, or financial items without a quid pro quo. All transfers not considered to be capital are current. Data are in current U.S. dollars.\n",
      "\n",
      "BM.TRF.PWKR.CD.DT\n",
      "Personal remittances, paid (current US$)\n",
      "Personal remittances comprise personal transfers and compensation of employees. Personal transfers consist of all current transfers in cash or in kind made or received by resident households to or from nonresident households. Personal transfers thus include all current transfers between resident and nonresident individuals. Compensation of employees refers to the income of border, seasonal, and other short-term workers who are employed in an economy where they are not resident and of residents employed by nonresident entities. Data are the sum of two items defined in the sixth edition of the IMF's Balance of Payments Manual: personal transfers and compensation of employees. Data are in current U.S. dollars.\n",
      "\n",
      "BX.TRF.PWKR.DT.GD.ZS\n",
      "Personal remittances, received (% of GDP)\n",
      "Personal remittances comprise personal transfers and compensation of employees. Personal transfers consist of all current transfers in cash or in kind made or received by resident households to or from nonresident households. Personal transfers thus include all current transfers between resident and nonresident individuals. Compensation of employees refers to the income of border, seasonal, and other short-term workers who are employed in an economy where they are not resident and of residents employed by nonresident entities. Data are the sum of two items defined in the sixth edition of the IMF's Balance of Payments Manual: personal transfers and compensation of employees.\n",
      "\n",
      "BX.TRF.PWKR.CD.DT\n",
      "Personal remittances, received (current US$)\n",
      "Personal remittances comprise personal transfers and compensation of employees. Personal transfers consist of all current transfers in cash or in kind made or received by resident households to or from nonresident households. Personal transfers thus include all current transfers between resident and nonresident individuals. Compensation of employees refers to the income of border, seasonal, and other short-term workers who are employed in an economy where they are not resident and of residents employed by nonresident entities. Data are the sum of two items defined in the sixth edition of the IMF's Balance of Payments Manual: personal transfers and compensation of employees. Data are in current U.S. dollars.\n",
      "\n",
      "BX.TRF.CURR.CD\n",
      "Secondary income receipts (BoP, current US$)\n",
      "Secondary income refers to transfers recorded in the balance of payments whenever an economy provides or receives goods, services, income, or financial items without a quid pro quo. All transfers not considered to be capital are current. Data are in current U.S. dollars.\n",
      "\n",
      "BM.TRF.PRVT.CD\n",
      "Secondary income, other sectors, payments (BoP, current US$)\n",
      "Secondary income refers to transfers recorded in the balance of payments whenever an economy provides or receives goods, services, income, or financial items without a quid pro quo. All transfers not considered to be capital are current. Data are in current U.S. dollars.\n",
      "\n",
      "TX.VAL.TRAN.ZS.WT\n",
      "Transport services (% of commercial service exports)\n",
      "Transport services (% of commercial service exports) covers all transport services (sea, air, land, internal waterway, space, and pipeline) performed by residents of one economy for those of another and involving the carriage of passengers, movement of goods (freight), rental of carriers with crew, and related support and auxiliary services. Excluded are freight insurance, which is included in insurance services; goods procured in ports by nonresident carriers and repairs of transport equipment, which are included in goods; repairs of railway facilities, harbors, and airfield facilities, which are included in construction services; and rental of carriers without crew, which is included in other services.\n",
      "\n",
      "TM.VAL.TRAN.ZS.WT\n",
      "Transport services (% of commercial service imports)\n",
      "Transport services (% of commercial service imports) covers all transport services (sea, air, land, internal waterway, space, and pipeline) performed by residents of one economy for those of another and involving the carriage of passengers, movement of goods (freight), rental of carriers with crew, and related support and auxiliary services. Excluded are freight insurance, which is included in insurance services; goods procured in ports by nonresident carriers and repairs of transport equipment, which are included in goods; repairs of railway facilities, harbors, and airfield facilities, which are included in construction services; and rental of carriers without crew, which is included in other services.\n",
      "\n",
      "BX.GSR.TRAN.ZS\n",
      "Transport services (% of service exports, BoP)\n",
      "Transport covers all transport services (sea, air, land, internal waterway, pipeline, space and electricity transmission) performed by residents of one economy for those of another and involving the carriage of passengers, the movement of goods (freight), rental of carriers with crew, and related support and auxiliary services. Also included are postal and courier services. Excluded are freight insurance (included in insurance services); goods procured in ports by nonresident carriers (included in goods); maintenance and repairs on transport equipment (included in maintenance and repair services n.i.e.); and repairs of railway facilities, harbors, and airfield facilities (included in construction).\n",
      "\n",
      "BM.GSR.TRAN.ZS\n",
      "Transport services (% of service imports, BoP)\n",
      "Transport covers all transport services (sea, air, land, internal waterway, pipeline, space and electricity transmission) performed by residents of one economy for those of another and involving the carriage of passengers, the movement of goods (freight), rental of carriers with crew, and related support and auxiliary services. Also included are postal and courier services. Excluded are freight insurance (included in insurance services); goods procured in ports by nonresident carriers (included in goods); maintenance and repairs on transport equipment (included in maintenance and repair services n.i.e.); and repairs of railway facilities, harbors, and airfield facilities (included in construction).\n",
      "\n",
      "TX.VAL.TRVL.ZS.WT\n",
      "Travel services (% of commercial service exports)\n",
      "Travel services (% of commercial service exports) covers goods and services acquired from an economy by travelers in that economy for their own use during visits of less than one year for business or personal purposes. Travel services include the goods and services consumed by travelers, such as lodging and meals and transport (within the economy visited).\n",
      "\n",
      "TM.VAL.TRVL.ZS.WT\n",
      "Travel services (% of commercial service imports)\n",
      "Travel services (% of commercial service imports) covers goods and services acquired from an economy by travelers in that economy for their own use during visits of less than one year for business or personal purposes. Travel services include the goods and services consumed by travelers, such as lodging, meals, and transport (within the economy visited).\n",
      "\n",
      "BX.GSR.TRVL.ZS\n",
      "Travel services (% of service exports, BoP)\n",
      "Travel covers goods and services acquired from an economy by travelers for their own use during visits of less than one year in that economy for either business or personal purposes. Travel includes local transport (i.e., transport within the economy being visited and provided by a resident of that economy), but excludes international transport (which is included in passenger transport. Travel also excludes goods for resale, which are included in general merchandise.\n",
      "\n",
      "BM.GSR.TRVL.ZS\n",
      "Travel services (% of service imports, BoP)\n",
      "Travel covers goods and services acquired from an economy by travelers for their own use during visits of less than one year in that economy for either business or personal purposes. Travel includes local transport (i.e., transport within the economy being visited and provided by a resident of that economy), but excludes international transport (which is included in passenger transport. Travel also excludes goods for resale, which are included in general merchandise.\n",
      "\n"
     ]
    }
   ],
   "source": [
    "find_codes('economy')"
   ]
  },
  {
   "cell_type": "code",
   "execution_count": 25,
   "metadata": {},
   "outputs": [
    {
     "data": {
      "text/plain": [
       "158    6.250000\n",
       "159    4.600000\n",
       "160    4.985714\n",
       "161    1.100000\n",
       "162    0.812500\n",
       "         ...   \n",
       "232    1.500000\n",
       "233         NaN\n",
       "234    5.900000\n",
       "235    5.700000\n",
       "236    5.850000\n",
       "Name: VC.IHR.PSRC.P5, Length: 78, dtype: float64"
      ]
     },
     "execution_count": 25,
     "metadata": {},
     "output_type": "execute_result"
    }
   ],
   "source": [
    "df_2010['VC.IHR.PSRC.P5']"
   ]
  },
  {
   "cell_type": "code",
   "execution_count": 30,
   "metadata": {},
   "outputs": [],
   "source": [
    "df['f_to_m_enrollment'] = (df['SE.PRM.TENR.FE']/df['SE.PRM.TENR.MA'])"
   ]
  },
  {
   "cell_type": "code",
   "execution_count": 31,
   "metadata": {},
   "outputs": [
    {
     "data": {
      "text/plain": [
       "<matplotlib.axes._subplots.AxesSubplot at 0x11925b490>"
      ]
     },
     "execution_count": 31,
     "metadata": {},
     "output_type": "execute_result"
    },
    {
     "data": {
      "image/png": "[encoded data removed]",
      "text/plain": [
       "<Figure size 432x288 with 1 Axes>"
      ]
     },
     "metadata": {
      "needs_background": "light"
     },
     "output_type": "display_data"
    }
   ],
   "source": [
    "def agg_w_nan(s, func):\n",
    "    s = s.dropna()\n",
    "    if len(s)>=1:\n",
    "        return s.agg(func)\n",
    "    else:\n",
    "        return np.nan\n",
    "\n",
    "df.groupby('Country Code').f_to_m_enrollment.apply(lambda x: agg_w_nan(x, 'mean')).dropna().sort_values().plot()"
   ]
  },
  {
   "cell_type": "code",
   "execution_count": 32,
   "metadata": {},
   "outputs": [
    {
     "data": {
      "text/plain": [
       "<matplotlib.axes._subplots.AxesSubplot at 0x119275390>"
      ]
     },
     "execution_count": 32,
     "metadata": {},
     "output_type": "execute_result"
    },
    {
     "data": {
      "image/png": "[encoded data removed]",
      "text/plain": [
       "<Figure size 432x288 with 1 Axes>"
      ]
     },
     "metadata": {
      "needs_background": "light"
     },
     "output_type": "display_data"
    }
   ],
   "source": [
    "def s_chg(s):\n",
    "    s = s.values\n",
    "    return s[-1]-s[0]\n",
    "\n",
    "df.groupby('Country Code').f_to_m_enrollment.apply(lambda x: agg_w_nan(x, s_chg)).dropna().sort_values().plot()\n"
   ]
  },
  {
   "cell_type": "code",
   "execution_count": 33,
   "metadata": {},
   "outputs": [
    {
     "data": {
      "text/plain": [
       "<matplotlib.axes._subplots.AxesSubplot at 0x118e5e890>"
      ]
     },
     "execution_count": 33,
     "metadata": {},
     "output_type": "execute_result"
    },
    {
     "data": {
      "image/png": "[encoded data removed]",
      "text/plain": [
       "<Figure size 432x288 with 1 Axes>"
      ]
     },
     "metadata": {
      "needs_background": "light"
     },
     "output_type": "display_data"
    }
   ],
   "source": [
    "df.groupby('Country Code')['SE.PRM.TENR'].apply(lambda x: agg_w_nan(x, s_chg)).dropna().sort_values().plot()\n",
    "\n"
   ]
  },
  {
   "cell_type": "code",
   "execution_count": 34,
   "metadata": {},
   "outputs": [],
   "source": [
    "gini_chg = df.groupby('Country Code')['SI.POV.GINI'].apply(lambda x: agg_w_nan(x, s_chg)).dropna()\n",
    "gdp_chg = df.groupby('Country Code')['NY.GDP.PCAP.CD'].apply(lambda x: agg_w_nan(x, s_chg)).dropna()\n",
    "\n"
   ]
  },
  {
   "cell_type": "code",
   "execution_count": 35,
   "metadata": {},
   "outputs": [
    {
     "name": "stderr",
     "output_type": "stream",
     "text": [
      "/opt/anaconda3/lib/python3.7/site-packages/ipykernel_launcher.py:1: FutureWarning: Sorting because non-concatenation axis is not aligned. A future version\n",
      "of pandas will change to not sort by default.\n",
      "\n",
      "To accept the future behavior, pass 'sort=False'.\n",
      "\n",
      "To retain the current behavior and silence the warning, pass 'sort=True'.\n",
      "\n",
      "  \"\"\"Entry point for launching an IPython kernel.\n"
     ]
    },
    {
     "data": {
      "text/plain": [
       "<matplotlib.axes._subplots.AxesSubplot at 0x1192f49d0>"
      ]
     },
     "execution_count": 35,
     "metadata": {},
     "output_type": "execute_result"
    },
    {
     "data": {
      "image/png": "[encoded data removed]",
      "text/plain": [
       "<Figure size 432x288 with 1 Axes>"
      ]
     },
     "metadata": {
      "needs_background": "light"
     },
     "output_type": "display_data"
    }
   ],
   "source": [
    "both = pd.concat([gini_chg, gdp_chg], axis=1).dropna()\n",
    "both['country'] = both.index\n",
    "both[both.country != 'USA'].plot.scatter(x = 'SI.POV.GINI', y='NY.GDP.PCAP.CD')"
   ]
  }
 ],
 "metadata": {
  "kernelspec": {
   "display_name": "Python 3",
   "language": "python",
   "name": "python3"
  },
  "language_info": {
   "codemirror_mode": {
    "name": "ipython",
    "version": 3
   },
   "file_extension": ".py",
   "mimetype": "text/x-python",
   "name": "python",
   "nbconvert_exporter": "python",
   "pygments_lexer": "ipython3",
   "version": "3.7.4"
  }
 },
 "nbformat": 4,
 "nbformat_minor": 4
}
