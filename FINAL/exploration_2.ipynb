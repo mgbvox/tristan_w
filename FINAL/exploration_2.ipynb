{
 "cells": [
  {
   "cell_type": "code",
   "execution_count": 1,
   "metadata": {},
   "outputs": [
    {
     "name": "stdout",
     "output_type": "stream",
     "text": [
      "Populating the interactive namespace from numpy and matplotlib\n"
     ]
    }
   ],
   "source": [
    "%pylab inline\n",
    "import pandas as pd\n",
    "from dateparser import parse\n",
    "from tqdm import tqdm\n",
    "\n",
    "from sklearn.linear_model import LinearRegression"
   ]
  },
  {
   "cell_type": "markdown",
   "metadata": {},
   "source": [
    "# Purpose:\n",
    "Predict future changes in features given changes of features in the past."
   ]
  },
  {
   "cell_type": "code",
   "execution_count": 2,
   "metadata": {},
   "outputs": [
    {
     "name": "stderr",
     "output_type": "stream",
     "text": [
      "100%|██████████| 13/13 [00:00<00:00, 1567.96it/s]\n"
     ]
    }
   ],
   "source": [
    "features = ['Country Code',\n",
    "            'Custom_Time_Code',\n",
    "            'SP.DYN.IMRT.IN',\n",
    "            'SP.ADO.TFRT',\n",
    "            'VC.IHR.PSRC.P5',\n",
    "            'SI.POV.GINI',\n",
    "            'NY.GDP.PCAP.CD',\n",
    "            'SE.PRM.TENR',\n",
    "            'SE.PRM.TENR.FE',\n",
    "            'SE.PRM.TENR.MA',\n",
    "            'EN.ATM.GHGT.KT.CE',\n",
    "            'EG.USE.ELEC.KH.PC',\n",
    "            'EG.ELC.ACCS.ZS']\n",
    "\n",
    "df = pd.read_csv('cleaned.csv', parse_dates=['Custom_Time_Code'])[features]\n",
    "\n",
    "\n",
    "grouped = df.groupby('Country Code')\n",
    "\n",
    "drop = set()\n",
    "for col in tqdm(df.columns):\n",
    "    counted = grouped[col].count()\n",
    "    for country in counted.index[counted < 3]:\n",
    "        drop.add(country)\n",
    "        \n",
    "drop.add('USA')\n",
    "\n",
    "df = df[df['Country Code'].apply(lambda x: x not in drop)]"
   ]
  },
  {
   "cell_type": "code",
   "execution_count": 3,
   "metadata": {},
   "outputs": [],
   "source": [
    "def s_chg(s):\n",
    "    s = s.values\n",
    "    return s[-1]-s[0]\n",
    "\n",
    "def df_chg(df):\n",
    "    new = []\n",
    "    for c in df.columns:\n",
    "        new.append(s_chg(df[c]))\n",
    "    new = pd.Series(new)\n",
    "    new.index = ['DELTA_' + c for c in df.columns]\n",
    "    return new"
   ]
  },
  {
   "cell_type": "code",
   "execution_count": 16,
   "metadata": {},
   "outputs": [],
   "source": [
    "'''\n",
    "Grab all rows from df where Custom_Time_Code < 2010.\n",
    "'''\n",
    "\n",
    "col_to_predict = 'SI.POV.GINI'\n",
    "\n",
    "past = df[df['Custom_Time_Code'] < parse('Jan 1st, 2010')]\n",
    "\n",
    "present = df[df['Custom_Time_Code'] > parse('Jan 1st, 1999')]\n",
    "\n",
    "\n",
    "changes = past.groupby('Country Code').apply(df_chg)\n",
    "\n",
    "present_changes = present.groupby('Country Code').apply(df_chg)\n",
    "\n",
    "\n",
    "yr_2000 = df[df['Custom_Time_Code'].between(parse('Jan 1st, 1995'), parse('Jan 1st, 2010'))].set_index('Country Code')\n",
    "yr_2000['country'] = yr_2000.index\n",
    "\n",
    "\n",
    "yr_2010 = df[df['Custom_Time_Code'] > parse('Jan 1st, 2010')].set_index('Country Code')\n",
    "yr_2010['country'] = yr_2000.index\n",
    "\n",
    "X = pd.concat([yr_2000, changes], axis=1).drop(['Custom_Time_Code','country','DELTA_Custom_Time_Code'], axis=1)\n",
    "\n",
    "X_for_extrapolation = pd.concat([yr_2010, present_changes], axis=1).drop(['Custom_Time_Code','country','DELTA_Custom_Time_Code'], axis=1)\n",
    "\n",
    "\n",
    "\n",
    "y = df[df['Custom_Time_Code'] > parse('Jan 1st, 2009')].set_index('Country Code')[col_to_predict]\n",
    "\n",
    "reg = LinearRegression().fit(X, y)"
   ]
  },
  {
   "cell_type": "code",
   "execution_count": 17,
   "metadata": {},
   "outputs": [
    {
     "data": {
      "text/plain": [
       "0.8959075461162058"
      ]
     },
     "execution_count": 17,
     "metadata": {},
     "output_type": "execute_result"
    }
   ],
   "source": [
    "reg.score(X, y)"
   ]
  },
  {
   "cell_type": "code",
   "execution_count": 18,
   "metadata": {},
   "outputs": [
    {
     "data": {
      "text/plain": [
       "2.0411062248063234"
      ]
     },
     "execution_count": 18,
     "metadata": {},
     "output_type": "execute_result"
    }
   ],
   "source": [
    "(((reg.predict(X) - y)**2)**.5).mean()"
   ]
  },
  {
   "cell_type": "code",
   "execution_count": 19,
   "metadata": {},
   "outputs": [
    {
     "data": {
      "text/plain": [
       "<matplotlib.axes._subplots.AxesSubplot at 0x1a223bb510>"
      ]
     },
     "execution_count": 19,
     "metadata": {},
     "output_type": "execute_result"
    },
    {
     "data": {
      "image/png": "[encoded data removed]",
      "text/plain": [
       "<Figure size 432x288 with 1 Axes>"
      ]
     },
     "metadata": {
      "needs_background": "light"
     },
     "output_type": "display_data"
    }
   ],
   "source": [
    "changes[\"DELTA_\"+col_to_predict].plot(kind='hist')"
   ]
  },
  {
   "cell_type": "code",
   "execution_count": 15,
   "metadata": {},
   "outputs": [
    {
     "data": {
      "text/plain": [
       "<matplotlib.axes._subplots.AxesSubplot at 0x1a223ad590>"
      ]
     },
     "execution_count": 15,
     "metadata": {},
     "output_type": "execute_result"
    },
    {
     "data": {
      "image/png": "[encoded data removed]",
      "text/plain": [
       "<Figure size 432x288 with 1 Axes>"
      ]
     },
     "metadata": {
      "needs_background": "light"
     },
     "output_type": "display_data"
    }
   ],
   "source": [
    "(reg.predict(X_for_extrapolation) - y).plot(kind='hist')"
   ]
  },
  {
   "cell_type": "code",
   "execution_count": 10,
   "metadata": {},
   "outputs": [],
   "source": []
  },
  {
   "cell_type": "code",
   "execution_count": null,
   "metadata": {},
   "outputs": [],
   "source": []
  }
 ],
 "metadata": {
  "kernelspec": {
   "display_name": "Python 3",
   "language": "python",
   "name": "python3"
  },
  "language_info": {
   "codemirror_mode": {
    "name": "ipython",
    "version": 3
   },
   "file_extension": ".py",
   "mimetype": "text/x-python",
   "name": "python",
   "nbconvert_exporter": "python",
   "pygments_lexer": "ipython3",
   "version": "3.7.4"
  }
 },
 "nbformat": 4,
 "nbformat_minor": 4
}
