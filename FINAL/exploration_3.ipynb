{
 "cells": [
  {
   "cell_type": "code",
   "execution_count": 1,
   "metadata": {},
   "outputs": [
    {
     "name": "stdout",
     "output_type": "stream",
     "text": [
      "Populating the interactive namespace from numpy and matplotlib\n"
     ]
    }
   ],
   "source": [
    "%pylab inline\n",
    "import pandas as pd\n",
    "from dateparser import parse\n",
    "from tqdm import tqdm\n",
    "\n",
    "from sklearn.linear_model import LinearRegression"
   ]
  },
  {
   "cell_type": "code",
   "execution_count": 7,
   "metadata": {},
   "outputs": [],
   "source": [
    "ex = pd.ExcelFile('WDImetadata.xlsx')\n",
    "explainer = ex.parse('2010-2019 MetaData').set_index('Code').fillna('')\n",
    "def explain(c, topic='Long definition'):\n",
    "    global explainer\n",
    "    return explainer.loc[c][topic]"
   ]
  },
  {
   "cell_type": "code",
   "execution_count": 10,
   "metadata": {},
   "outputs": [
    {
     "data": {
      "text/plain": [
       "'Mortality rate, infant (per 1,000 live births)'"
      ]
     },
     "execution_count": 10,
     "metadata": {},
     "output_type": "execute_result"
    }
   ],
   "source": []
  },
  {
   "cell_type": "code",
   "execution_count": 2,
   "metadata": {},
   "outputs": [],
   "source": [
    "idxs = ['Country Code','Custom_Time_Code']\n",
    "features = ['SP.DYN.IMRT.IN',\n",
    "            'SP.ADO.TFRT',\n",
    "            'VC.IHR.PSRC.P5',\n",
    "            'SI.POV.GINI',\n",
    "            'NY.GDP.PCAP.CD',\n",
    "            'SE.PRM.TENR',\n",
    "            'SE.PRM.TENR.FE',\n",
    "            'SE.PRM.TENR.MA',\n",
    "            'EN.ATM.GHGT.KT.CE',\n",
    "            'EG.USE.ELEC.KH.PC',\n",
    "            'EG.ELC.ACCS.ZS']"
   ]
  },
  {
   "cell_type": "code",
   "execution_count": null,
   "metadata": {},
   "outputs": [],
   "source": []
  },
  {
   "cell_type": "code",
   "execution_count": 106,
   "metadata": {},
   "outputs": [],
   "source": [
    "df = pd.read_csv('cleaned.csv', parse_dates=['Custom_Time_Code'])\n",
    "df = df[df['Country Code'] != 'USA']"
   ]
  },
  {
   "cell_type": "code",
   "execution_count": 108,
   "metadata": {},
   "outputs": [],
   "source": [
    "df_2010 = df[df['Custom_Time_Code'] > parse('Jan 1st 2009')]\n",
    "data = df_2010.iloc[:, 2:]\n"
   ]
  },
  {
   "cell_type": "code",
   "execution_count": 109,
   "metadata": {},
   "outputs": [],
   "source": [
    "import itertools as it"
   ]
  },
  {
   "cell_type": "code",
   "execution_count": 5,
   "metadata": {},
   "outputs": [],
   "source": [
    "to_scatter = [(i,j) for i,j in it.product(features, features) if i!=j]\n",
    "\n",
    "for i,j in to_scatter:\n",
    "    df[features].plot.scatter(x=i, y=j)\n",
    "    plt.ylabel(explain(j, topic='Indicator Name'))\n",
    "    plt.xlabel(explain(i, topic='Indicator Name'))\n",
    "    plt.show()"
   ]
  },
  {
   "cell_type": "code",
   "execution_count": null,
   "metadata": {},
   "outputs": [],
   "source": []
  },
  {
   "cell_type": "code",
   "execution_count": null,
   "metadata": {},
   "outputs": [],
   "source": []
  },
  {
   "cell_type": "code",
   "execution_count": 110,
   "metadata": {},
   "outputs": [],
   "source": [
    "i,j = to_regress[0]"
   ]
  },
  {
   "cell_type": "code",
   "execution_count": 111,
   "metadata": {},
   "outputs": [],
   "source": [
    "corr = data.corr('pearson')"
   ]
  },
  {
   "cell_type": "code",
   "execution_count": 112,
   "metadata": {},
   "outputs": [
    {
     "data": {
      "text/plain": [
       "32802"
      ]
     },
     "execution_count": 112,
     "metadata": {},
     "output_type": "execute_result"
    }
   ],
   "source": [
    "((corr.abs() > .8)&(corr.abs() < 1)).sum().sum()"
   ]
  },
  {
   "cell_type": "code",
   "execution_count": 113,
   "metadata": {},
   "outputs": [
    {
     "data": {
      "text/html": [
       "<div>\n",
       "<style scoped>\n",
       "    .dataframe tbody tr th:only-of-type {\n",
       "        vertical-align: middle;\n",
       "    }\n",
       "\n",
       "    .dataframe tbody tr th {\n",
       "        vertical-align: top;\n",
       "    }\n",
       "\n",
       "    .dataframe thead th {\n",
       "        text-align: right;\n",
       "    }\n",
       "</style>\n",
       "<table border=\"1\" class=\"dataframe\">\n",
       "  <thead>\n",
       "    <tr style=\"text-align: right;\">\n",
       "      <th></th>\n",
       "      <th>EG.ELC.ACCS.ZS</th>\n",
       "      <th>EG.ELC.ACCS.RU.ZS</th>\n",
       "      <th>EG.ELC.ACCS.UR.ZS</th>\n",
       "      <th>SE.PRM.TENR</th>\n",
       "      <th>SE.PRM.TENR.FE</th>\n",
       "      <th>SE.PRM.TENR.MA</th>\n",
       "      <th>NY.ADJ.NNTY.KD.ZG</th>\n",
       "      <th>NY.ADJ.NNTY.KD</th>\n",
       "      <th>NY.ADJ.NNTY.CD</th>\n",
       "      <th>NY.ADJ.NNTY.PC.KD.ZG</th>\n",
       "      <th>...</th>\n",
       "      <th>SL.EMP.VULN.FE.ZS</th>\n",
       "      <th>SL.EMP.VULN.MA.ZS</th>\n",
       "      <th>SL.EMP.VULN.ZS</th>\n",
       "      <th>SL.EMP.WORK.FE.ZS</th>\n",
       "      <th>SL.EMP.WORK.MA.ZS</th>\n",
       "      <th>SL.EMP.WORK.ZS</th>\n",
       "      <th>SP.DYN.WFRT</th>\n",
       "      <th>SP.M15.2024.FE.ZS</th>\n",
       "      <th>SP.M18.2024.FE.ZS</th>\n",
       "      <th>SH.DYN.AIDS.FE.ZS</th>\n",
       "    </tr>\n",
       "  </thead>\n",
       "  <tbody>\n",
       "    <tr>\n",
       "      <th>EG.ELC.ACCS.ZS</th>\n",
       "      <td>1.000000</td>\n",
       "      <td>0.956613</td>\n",
       "      <td>0.870984</td>\n",
       "      <td>0.396988</td>\n",
       "      <td>0.352299</td>\n",
       "      <td>0.338887</td>\n",
       "      <td>-0.036977</td>\n",
       "      <td>0.231532</td>\n",
       "      <td>0.234024</td>\n",
       "      <td>0.100828</td>\n",
       "      <td>...</td>\n",
       "      <td>-0.709165</td>\n",
       "      <td>-0.708278</td>\n",
       "      <td>-0.732140</td>\n",
       "      <td>0.705722</td>\n",
       "      <td>0.705949</td>\n",
       "      <td>0.730044</td>\n",
       "      <td>-0.674917</td>\n",
       "      <td>-0.500652</td>\n",
       "      <td>-0.593891</td>\n",
       "      <td>-0.713885</td>\n",
       "    </tr>\n",
       "    <tr>\n",
       "      <th>EG.ELC.ACCS.RU.ZS</th>\n",
       "      <td>0.956613</td>\n",
       "      <td>1.000000</td>\n",
       "      <td>0.773721</td>\n",
       "      <td>0.400818</td>\n",
       "      <td>0.349746</td>\n",
       "      <td>0.335045</td>\n",
       "      <td>-0.106848</td>\n",
       "      <td>0.242415</td>\n",
       "      <td>0.245973</td>\n",
       "      <td>0.034744</td>\n",
       "      <td>...</td>\n",
       "      <td>-0.715683</td>\n",
       "      <td>-0.691162</td>\n",
       "      <td>-0.724151</td>\n",
       "      <td>0.713751</td>\n",
       "      <td>0.691881</td>\n",
       "      <td>0.724314</td>\n",
       "      <td>-0.684640</td>\n",
       "      <td>-0.507767</td>\n",
       "      <td>-0.572523</td>\n",
       "      <td>-0.728204</td>\n",
       "    </tr>\n",
       "    <tr>\n",
       "      <th>EG.ELC.ACCS.UR.ZS</th>\n",
       "      <td>0.870984</td>\n",
       "      <td>0.773721</td>\n",
       "      <td>1.000000</td>\n",
       "      <td>0.417452</td>\n",
       "      <td>0.365153</td>\n",
       "      <td>0.374726</td>\n",
       "      <td>0.026363</td>\n",
       "      <td>0.207725</td>\n",
       "      <td>0.215486</td>\n",
       "      <td>0.143111</td>\n",
       "      <td>...</td>\n",
       "      <td>-0.552402</td>\n",
       "      <td>-0.545686</td>\n",
       "      <td>-0.573289</td>\n",
       "      <td>0.550980</td>\n",
       "      <td>0.544452</td>\n",
       "      <td>0.572124</td>\n",
       "      <td>-0.613825</td>\n",
       "      <td>-0.418806</td>\n",
       "      <td>-0.521427</td>\n",
       "      <td>-0.628025</td>\n",
       "    </tr>\n",
       "    <tr>\n",
       "      <th>SE.PRM.TENR</th>\n",
       "      <td>0.396988</td>\n",
       "      <td>0.400818</td>\n",
       "      <td>0.417452</td>\n",
       "      <td>1.000000</td>\n",
       "      <td>0.939144</td>\n",
       "      <td>0.937896</td>\n",
       "      <td>0.147073</td>\n",
       "      <td>0.127555</td>\n",
       "      <td>0.124657</td>\n",
       "      <td>0.209097</td>\n",
       "      <td>...</td>\n",
       "      <td>-0.387958</td>\n",
       "      <td>-0.388407</td>\n",
       "      <td>-0.387751</td>\n",
       "      <td>0.384821</td>\n",
       "      <td>0.399911</td>\n",
       "      <td>0.394479</td>\n",
       "      <td>-0.448625</td>\n",
       "      <td>-0.377628</td>\n",
       "      <td>-0.408296</td>\n",
       "      <td>-0.281802</td>\n",
       "    </tr>\n",
       "    <tr>\n",
       "      <th>SE.PRM.TENR.FE</th>\n",
       "      <td>0.352299</td>\n",
       "      <td>0.349746</td>\n",
       "      <td>0.365153</td>\n",
       "      <td>0.939144</td>\n",
       "      <td>1.000000</td>\n",
       "      <td>0.942333</td>\n",
       "      <td>0.130916</td>\n",
       "      <td>0.130845</td>\n",
       "      <td>0.130600</td>\n",
       "      <td>0.190742</td>\n",
       "      <td>...</td>\n",
       "      <td>-0.365982</td>\n",
       "      <td>-0.389149</td>\n",
       "      <td>-0.384379</td>\n",
       "      <td>0.363026</td>\n",
       "      <td>0.402836</td>\n",
       "      <td>0.392095</td>\n",
       "      <td>-0.438890</td>\n",
       "      <td>-0.326714</td>\n",
       "      <td>-0.372824</td>\n",
       "      <td>-0.211581</td>\n",
       "    </tr>\n",
       "    <tr>\n",
       "      <th>...</th>\n",
       "      <td>...</td>\n",
       "      <td>...</td>\n",
       "      <td>...</td>\n",
       "      <td>...</td>\n",
       "      <td>...</td>\n",
       "      <td>...</td>\n",
       "      <td>...</td>\n",
       "      <td>...</td>\n",
       "      <td>...</td>\n",
       "      <td>...</td>\n",
       "      <td>...</td>\n",
       "      <td>...</td>\n",
       "      <td>...</td>\n",
       "      <td>...</td>\n",
       "      <td>...</td>\n",
       "      <td>...</td>\n",
       "      <td>...</td>\n",
       "      <td>...</td>\n",
       "      <td>...</td>\n",
       "      <td>...</td>\n",
       "      <td>...</td>\n",
       "    </tr>\n",
       "    <tr>\n",
       "      <th>SL.EMP.WORK.ZS</th>\n",
       "      <td>0.730044</td>\n",
       "      <td>0.724314</td>\n",
       "      <td>0.572124</td>\n",
       "      <td>0.394479</td>\n",
       "      <td>0.392095</td>\n",
       "      <td>0.308284</td>\n",
       "      <td>-0.068336</td>\n",
       "      <td>0.028125</td>\n",
       "      <td>0.024384</td>\n",
       "      <td>0.068090</td>\n",
       "      <td>...</td>\n",
       "      <td>-0.969601</td>\n",
       "      <td>-0.970044</td>\n",
       "      <td>-0.994312</td>\n",
       "      <td>0.966861</td>\n",
       "      <td>0.980025</td>\n",
       "      <td>1.000000</td>\n",
       "      <td>-0.636685</td>\n",
       "      <td>-0.548448</td>\n",
       "      <td>-0.641523</td>\n",
       "      <td>-0.562390</td>\n",
       "    </tr>\n",
       "    <tr>\n",
       "      <th>SP.DYN.WFRT</th>\n",
       "      <td>-0.674917</td>\n",
       "      <td>-0.684640</td>\n",
       "      <td>-0.613825</td>\n",
       "      <td>-0.448625</td>\n",
       "      <td>-0.438890</td>\n",
       "      <td>-0.351258</td>\n",
       "      <td>0.176551</td>\n",
       "      <td>-0.244820</td>\n",
       "      <td>-0.246787</td>\n",
       "      <td>-0.015224</td>\n",
       "      <td>...</td>\n",
       "      <td>0.615800</td>\n",
       "      <td>0.625152</td>\n",
       "      <td>0.638091</td>\n",
       "      <td>-0.609088</td>\n",
       "      <td>-0.624864</td>\n",
       "      <td>-0.636685</td>\n",
       "      <td>1.000000</td>\n",
       "      <td>0.574494</td>\n",
       "      <td>0.626960</td>\n",
       "      <td>0.537903</td>\n",
       "    </tr>\n",
       "    <tr>\n",
       "      <th>SP.M15.2024.FE.ZS</th>\n",
       "      <td>-0.500652</td>\n",
       "      <td>-0.507767</td>\n",
       "      <td>-0.418806</td>\n",
       "      <td>-0.377628</td>\n",
       "      <td>-0.326714</td>\n",
       "      <td>-0.236890</td>\n",
       "      <td>-0.071306</td>\n",
       "      <td>-0.077247</td>\n",
       "      <td>-0.067169</td>\n",
       "      <td>-0.154413</td>\n",
       "      <td>...</td>\n",
       "      <td>0.550148</td>\n",
       "      <td>0.526732</td>\n",
       "      <td>0.535281</td>\n",
       "      <td>-0.548128</td>\n",
       "      <td>-0.546663</td>\n",
       "      <td>-0.548448</td>\n",
       "      <td>0.574494</td>\n",
       "      <td>1.000000</td>\n",
       "      <td>0.921558</td>\n",
       "      <td>0.274205</td>\n",
       "    </tr>\n",
       "    <tr>\n",
       "      <th>SP.M18.2024.FE.ZS</th>\n",
       "      <td>-0.593891</td>\n",
       "      <td>-0.572523</td>\n",
       "      <td>-0.521427</td>\n",
       "      <td>-0.408296</td>\n",
       "      <td>-0.372824</td>\n",
       "      <td>-0.285193</td>\n",
       "      <td>-0.031914</td>\n",
       "      <td>-0.089269</td>\n",
       "      <td>-0.078498</td>\n",
       "      <td>-0.126293</td>\n",
       "      <td>...</td>\n",
       "      <td>0.640882</td>\n",
       "      <td>0.609010</td>\n",
       "      <td>0.624823</td>\n",
       "      <td>-0.639607</td>\n",
       "      <td>-0.634308</td>\n",
       "      <td>-0.641523</td>\n",
       "      <td>0.626960</td>\n",
       "      <td>0.921558</td>\n",
       "      <td>1.000000</td>\n",
       "      <td>0.351956</td>\n",
       "    </tr>\n",
       "    <tr>\n",
       "      <th>SH.DYN.AIDS.FE.ZS</th>\n",
       "      <td>-0.713885</td>\n",
       "      <td>-0.728204</td>\n",
       "      <td>-0.628025</td>\n",
       "      <td>-0.281802</td>\n",
       "      <td>-0.211581</td>\n",
       "      <td>-0.203221</td>\n",
       "      <td>0.114326</td>\n",
       "      <td>-0.322846</td>\n",
       "      <td>-0.324681</td>\n",
       "      <td>0.009856</td>\n",
       "      <td>...</td>\n",
       "      <td>0.568164</td>\n",
       "      <td>0.500366</td>\n",
       "      <td>0.565601</td>\n",
       "      <td>-0.572041</td>\n",
       "      <td>-0.492068</td>\n",
       "      <td>-0.562390</td>\n",
       "      <td>0.537903</td>\n",
       "      <td>0.274205</td>\n",
       "      <td>0.351956</td>\n",
       "      <td>1.000000</td>\n",
       "    </tr>\n",
       "  </tbody>\n",
       "</table>\n",
       "<p>938 rows × 938 columns</p>\n",
       "</div>"
      ],
      "text/plain": [
       "                   EG.ELC.ACCS.ZS  EG.ELC.ACCS.RU.ZS  EG.ELC.ACCS.UR.ZS  \\\n",
       "EG.ELC.ACCS.ZS           1.000000           0.956613           0.870984   \n",
       "EG.ELC.ACCS.RU.ZS        0.956613           1.000000           0.773721   \n",
       "EG.ELC.ACCS.UR.ZS        0.870984           0.773721           1.000000   \n",
       "SE.PRM.TENR              0.396988           0.400818           0.417452   \n",
       "SE.PRM.TENR.FE           0.352299           0.349746           0.365153   \n",
       "...                           ...                ...                ...   \n",
       "SL.EMP.WORK.ZS           0.730044           0.724314           0.572124   \n",
       "SP.DYN.WFRT             -0.674917          -0.684640          -0.613825   \n",
       "SP.M15.2024.FE.ZS       -0.500652          -0.507767          -0.418806   \n",
       "SP.M18.2024.FE.ZS       -0.593891          -0.572523          -0.521427   \n",
       "SH.DYN.AIDS.FE.ZS       -0.713885          -0.728204          -0.628025   \n",
       "\n",
       "                   SE.PRM.TENR  SE.PRM.TENR.FE  SE.PRM.TENR.MA  \\\n",
       "EG.ELC.ACCS.ZS        0.396988        0.352299        0.338887   \n",
       "EG.ELC.ACCS.RU.ZS     0.400818        0.349746        0.335045   \n",
       "EG.ELC.ACCS.UR.ZS     0.417452        0.365153        0.374726   \n",
       "SE.PRM.TENR           1.000000        0.939144        0.937896   \n",
       "SE.PRM.TENR.FE        0.939144        1.000000        0.942333   \n",
       "...                        ...             ...             ...   \n",
       "SL.EMP.WORK.ZS        0.394479        0.392095        0.308284   \n",
       "SP.DYN.WFRT          -0.448625       -0.438890       -0.351258   \n",
       "SP.M15.2024.FE.ZS    -0.377628       -0.326714       -0.236890   \n",
       "SP.M18.2024.FE.ZS    -0.408296       -0.372824       -0.285193   \n",
       "SH.DYN.AIDS.FE.ZS    -0.281802       -0.211581       -0.203221   \n",
       "\n",
       "                   NY.ADJ.NNTY.KD.ZG  NY.ADJ.NNTY.KD  NY.ADJ.NNTY.CD  \\\n",
       "EG.ELC.ACCS.ZS             -0.036977        0.231532        0.234024   \n",
       "EG.ELC.ACCS.RU.ZS          -0.106848        0.242415        0.245973   \n",
       "EG.ELC.ACCS.UR.ZS           0.026363        0.207725        0.215486   \n",
       "SE.PRM.TENR                 0.147073        0.127555        0.124657   \n",
       "SE.PRM.TENR.FE              0.130916        0.130845        0.130600   \n",
       "...                              ...             ...             ...   \n",
       "SL.EMP.WORK.ZS             -0.068336        0.028125        0.024384   \n",
       "SP.DYN.WFRT                 0.176551       -0.244820       -0.246787   \n",
       "SP.M15.2024.FE.ZS          -0.071306       -0.077247       -0.067169   \n",
       "SP.M18.2024.FE.ZS          -0.031914       -0.089269       -0.078498   \n",
       "SH.DYN.AIDS.FE.ZS           0.114326       -0.322846       -0.324681   \n",
       "\n",
       "                   NY.ADJ.NNTY.PC.KD.ZG  ...  SL.EMP.VULN.FE.ZS  \\\n",
       "EG.ELC.ACCS.ZS                 0.100828  ...          -0.709165   \n",
       "EG.ELC.ACCS.RU.ZS              0.034744  ...          -0.715683   \n",
       "EG.ELC.ACCS.UR.ZS              0.143111  ...          -0.552402   \n",
       "SE.PRM.TENR                    0.209097  ...          -0.387958   \n",
       "SE.PRM.TENR.FE                 0.190742  ...          -0.365982   \n",
       "...                                 ...  ...                ...   \n",
       "SL.EMP.WORK.ZS                 0.068090  ...          -0.969601   \n",
       "SP.DYN.WFRT                   -0.015224  ...           0.615800   \n",
       "SP.M15.2024.FE.ZS             -0.154413  ...           0.550148   \n",
       "SP.M18.2024.FE.ZS             -0.126293  ...           0.640882   \n",
       "SH.DYN.AIDS.FE.ZS              0.009856  ...           0.568164   \n",
       "\n",
       "                   SL.EMP.VULN.MA.ZS  SL.EMP.VULN.ZS  SL.EMP.WORK.FE.ZS  \\\n",
       "EG.ELC.ACCS.ZS             -0.708278       -0.732140           0.705722   \n",
       "EG.ELC.ACCS.RU.ZS          -0.691162       -0.724151           0.713751   \n",
       "EG.ELC.ACCS.UR.ZS          -0.545686       -0.573289           0.550980   \n",
       "SE.PRM.TENR                -0.388407       -0.387751           0.384821   \n",
       "SE.PRM.TENR.FE             -0.389149       -0.384379           0.363026   \n",
       "...                              ...             ...                ...   \n",
       "SL.EMP.WORK.ZS             -0.970044       -0.994312           0.966861   \n",
       "SP.DYN.WFRT                 0.625152        0.638091          -0.609088   \n",
       "SP.M15.2024.FE.ZS           0.526732        0.535281          -0.548128   \n",
       "SP.M18.2024.FE.ZS           0.609010        0.624823          -0.639607   \n",
       "SH.DYN.AIDS.FE.ZS           0.500366        0.565601          -0.572041   \n",
       "\n",
       "                   SL.EMP.WORK.MA.ZS  SL.EMP.WORK.ZS  SP.DYN.WFRT  \\\n",
       "EG.ELC.ACCS.ZS              0.705949        0.730044    -0.674917   \n",
       "EG.ELC.ACCS.RU.ZS           0.691881        0.724314    -0.684640   \n",
       "EG.ELC.ACCS.UR.ZS           0.544452        0.572124    -0.613825   \n",
       "SE.PRM.TENR                 0.399911        0.394479    -0.448625   \n",
       "SE.PRM.TENR.FE              0.402836        0.392095    -0.438890   \n",
       "...                              ...             ...          ...   \n",
       "SL.EMP.WORK.ZS              0.980025        1.000000    -0.636685   \n",
       "SP.DYN.WFRT                -0.624864       -0.636685     1.000000   \n",
       "SP.M15.2024.FE.ZS          -0.546663       -0.548448     0.574494   \n",
       "SP.M18.2024.FE.ZS          -0.634308       -0.641523     0.626960   \n",
       "SH.DYN.AIDS.FE.ZS          -0.492068       -0.562390     0.537903   \n",
       "\n",
       "                   SP.M15.2024.FE.ZS  SP.M18.2024.FE.ZS  SH.DYN.AIDS.FE.ZS  \n",
       "EG.ELC.ACCS.ZS             -0.500652          -0.593891          -0.713885  \n",
       "EG.ELC.ACCS.RU.ZS          -0.507767          -0.572523          -0.728204  \n",
       "EG.ELC.ACCS.UR.ZS          -0.418806          -0.521427          -0.628025  \n",
       "SE.PRM.TENR                -0.377628          -0.408296          -0.281802  \n",
       "SE.PRM.TENR.FE             -0.326714          -0.372824          -0.211581  \n",
       "...                              ...                ...                ...  \n",
       "SL.EMP.WORK.ZS             -0.548448          -0.641523          -0.562390  \n",
       "SP.DYN.WFRT                 0.574494           0.626960           0.537903  \n",
       "SP.M15.2024.FE.ZS           1.000000           0.921558           0.274205  \n",
       "SP.M18.2024.FE.ZS           0.921558           1.000000           0.351956  \n",
       "SH.DYN.AIDS.FE.ZS           0.274205           0.351956           1.000000  \n",
       "\n",
       "[938 rows x 938 columns]"
      ]
     },
     "execution_count": 113,
     "metadata": {},
     "output_type": "execute_result"
    }
   ],
   "source": [
    "corr"
   ]
  },
  {
   "cell_type": "code",
   "execution_count": 114,
   "metadata": {},
   "outputs": [
    {
     "data": {
      "text/plain": [
       "0.9566126209568723"
      ]
     },
     "execution_count": 114,
     "metadata": {},
     "output_type": "execute_result"
    }
   ],
   "source": [
    "corr.loc['EG.ELC.ACCS.ZS', 'EG.ELC.ACCS.RU.ZS']"
   ]
  },
  {
   "cell_type": "code",
   "execution_count": 115,
   "metadata": {},
   "outputs": [
    {
     "name": "stderr",
     "output_type": "stream",
     "text": [
      "879844it [00:11, 73487.14it/s] \n"
     ]
    }
   ],
   "source": [
    "visited = set()\n",
    "r_values = []\n",
    "for i,j in tqdm(it.product(data.columns, data.columns)):\n",
    "    i_prefix = i.split('.')[0]\n",
    "    j_prefix = j.split('.')[0]\n",
    "    if (i!=j) and (i_prefix != j_prefix) and ((j,i) not in visited):\n",
    "        r = corr.loc[i, j]\n",
    "        r_values.append((r, i, j))\n",
    "        visited.add((i,j))"
   ]
  },
  {
   "cell_type": "code",
   "execution_count": 118,
   "metadata": {},
   "outputs": [],
   "source": [
    "between_set_corr = pd.DataFrame.from_records(r_values)\n",
    "\n",
    "between_set_corr.columns = ['r', 'i', 'j']\n",
    "\n",
    "between_set_corr[between_set_corr.r.abs() > .9].sort_values('r')"
   ]
  },
  {
   "cell_type": "code",
   "execution_count": 119,
   "metadata": {},
   "outputs": [
    {
     "data": {
      "text/plain": [
       "'Net domestic credit is the sum of net claims on the central government and claims on other sectors of the domestic economy (IFS line 32). Data are in current local currency.'"
      ]
     },
     "execution_count": 119,
     "metadata": {},
     "output_type": "execute_result"
    }
   ],
   "source": [
    "explain('FM.AST.DOMS.CN')"
   ]
  },
  {
   "cell_type": "code",
   "execution_count": 120,
   "metadata": {},
   "outputs": [
    {
     "data": {
      "text/plain": [
       "'Gross domestic savings are calculated as GDP less final consumption expenditure (total consumption).'"
      ]
     },
     "execution_count": 120,
     "metadata": {},
     "output_type": "execute_result"
    }
   ],
   "source": [
    "explain('NY.GDS.TOTL.ZS')"
   ]
  },
  {
   "cell_type": "code",
   "execution_count": 121,
   "metadata": {},
   "outputs": [
    {
     "name": "stderr",
     "output_type": "stream",
     "text": [
      "100%|██████████| 1999/1999 [00:06<00:00, 306.00it/s]\n"
     ]
    },
    {
     "data": {
      "text/plain": [
       "Text(0.5, 1.0, 'Clustering of R-values')"
      ]
     },
     "execution_count": 121,
     "metadata": {},
     "output_type": "execute_result"
    },
    {
     "data": {
      "image/png": "[encoded data removed]",
      "text/plain": [
       "<Figure size 432x288 with 1 Axes>"
      ]
     },
     "metadata": {
      "needs_background": "light"
     },
     "output_type": "display_data"
    }
   ],
   "source": [
    "start = -1\n",
    "stop = 1\n",
    "delta = .001\n",
    "range_ = np.arange(start,stop-delta, delta)\n",
    "\n",
    "count = []\n",
    "\n",
    "for i in tqdm(range_):\n",
    "    count.append(between_set_corr.r.between(i, i+.05).sum())\n",
    "\n",
    "ct = pd.Series(count)\n",
    "ct.index = range_\n",
    "ct.plot()\n",
    "plt.title('Clustering of R-values')"
   ]
  },
  {
   "cell_type": "code",
   "execution_count": 122,
   "metadata": {},
   "outputs": [
    {
     "name": "stderr",
     "output_type": "stream",
     "text": [
      "100%|██████████| 249/249 [00:00<00:00, 261.08it/s]\n"
     ]
    },
    {
     "data": {
      "text/plain": [
       "Text(0.5, 1.0, 'Clustering of R-values')"
      ]
     },
     "execution_count": 122,
     "metadata": {},
     "output_type": "execute_result"
    },
    {
     "data": {
      "image/png": "[encoded data removed]",
      "text/plain": [
       "<Figure size 432x288 with 1 Axes>"
      ]
     },
     "metadata": {
      "needs_background": "light"
     },
     "output_type": "display_data"
    }
   ],
   "source": [
    "start = .75\n",
    "stop = 1\n",
    "delta = .001\n",
    "range_ = np.arange(start,stop-delta, delta)\n",
    "\n",
    "count = []\n",
    "\n",
    "for i in tqdm(range_):\n",
    "    count.append(between_set_corr.r.between(i, i+.05).sum())\n",
    "\n",
    "ct = pd.Series(count)\n",
    "ct.index = range_\n",
    "ct.plot()\n",
    "plt.title('Clustering of R-values')"
   ]
  },
  {
   "cell_type": "code",
   "execution_count": 123,
   "metadata": {},
   "outputs": [
    {
     "data": {
      "text/plain": [
       "i\n",
       "SP.DYN.IMRT.MA.IN      1\n",
       "IT.MLT.MAIN.P2         1\n",
       "IS.RRS.GOOD.MT.K6      1\n",
       "GC.XPN.TRFT.CN         1\n",
       "GC.TAX.YPKG.CN         1\n",
       "                    ... \n",
       "IS.AIR.PSGR           91\n",
       "MS.MIL.MPRT.KD        96\n",
       "BN.CAB.XOKA.CD       105\n",
       "IS.AIR.GOOD.MT.K1    106\n",
       "MS.MIL.TOTL.P1       113\n",
       "Name: j, Length: 310, dtype: int64"
      ]
     },
     "execution_count": 123,
     "metadata": {},
     "output_type": "execute_result"
    }
   ],
   "source": [
    "between_set_corr[between_set_corr.r.abs().between(.8, .92)].groupby('i')['j'].count().sort_values()"
   ]
  },
  {
   "cell_type": "code",
   "execution_count": 124,
   "metadata": {},
   "outputs": [
    {
     "data": {
      "text/html": [
       "<div>\n",
       "<style scoped>\n",
       "    .dataframe tbody tr th:only-of-type {\n",
       "        vertical-align: middle;\n",
       "    }\n",
       "\n",
       "    .dataframe tbody tr th {\n",
       "        vertical-align: top;\n",
       "    }\n",
       "\n",
       "    .dataframe thead th {\n",
       "        text-align: right;\n",
       "    }\n",
       "</style>\n",
       "<table border=\"1\" class=\"dataframe\">\n",
       "  <thead>\n",
       "    <tr style=\"text-align: right;\">\n",
       "      <th></th>\n",
       "      <th>r</th>\n",
       "      <th>i</th>\n",
       "      <th>j</th>\n",
       "    </tr>\n",
       "  </thead>\n",
       "  <tbody>\n",
       "    <tr>\n",
       "      <th>54207</th>\n",
       "      <td>0.856310</td>\n",
       "      <td>MS.MIL.TOTL.P1</td>\n",
       "      <td>AG.PRD.CREL.MT</td>\n",
       "    </tr>\n",
       "    <tr>\n",
       "      <th>54211</th>\n",
       "      <td>0.911660</td>\n",
       "      <td>MS.MIL.TOTL.P1</td>\n",
       "      <td>NE.GDI.STKB.CD</td>\n",
       "    </tr>\n",
       "    <tr>\n",
       "      <th>54212</th>\n",
       "      <td>0.904848</td>\n",
       "      <td>MS.MIL.TOTL.P1</td>\n",
       "      <td>BM.GSR.ROYL.CD</td>\n",
       "    </tr>\n",
       "    <tr>\n",
       "      <th>54213</th>\n",
       "      <td>0.900065</td>\n",
       "      <td>MS.MIL.TOTL.P1</td>\n",
       "      <td>BX.GSR.ROYL.CD</td>\n",
       "    </tr>\n",
       "    <tr>\n",
       "      <th>54229</th>\n",
       "      <td>0.859786</td>\n",
       "      <td>MS.MIL.TOTL.P1</td>\n",
       "      <td>EN.ATM.CO2E.KT</td>\n",
       "    </tr>\n",
       "    <tr>\n",
       "      <th>...</th>\n",
       "      <td>...</td>\n",
       "      <td>...</td>\n",
       "      <td>...</td>\n",
       "    </tr>\n",
       "    <tr>\n",
       "      <th>55013</th>\n",
       "      <td>0.897445</td>\n",
       "      <td>MS.MIL.TOTL.P1</td>\n",
       "      <td>FI.RES.XGLD.CD</td>\n",
       "    </tr>\n",
       "    <tr>\n",
       "      <th>55017</th>\n",
       "      <td>0.878708</td>\n",
       "      <td>MS.MIL.TOTL.P1</td>\n",
       "      <td>IP.TMK.RESD</td>\n",
       "    </tr>\n",
       "    <tr>\n",
       "      <th>55018</th>\n",
       "      <td>0.880130</td>\n",
       "      <td>MS.MIL.TOTL.P1</td>\n",
       "      <td>IP.TMK.TOTL</td>\n",
       "    </tr>\n",
       "    <tr>\n",
       "      <th>55041</th>\n",
       "      <td>0.864794</td>\n",
       "      <td>MS.MIL.TOTL.P1</td>\n",
       "      <td>AG.LND.TOTL.UR.K2</td>\n",
       "    </tr>\n",
       "    <tr>\n",
       "      <th>55044</th>\n",
       "      <td>0.858751</td>\n",
       "      <td>MS.MIL.TOTL.P1</td>\n",
       "      <td>SP.URB.TOTL</td>\n",
       "    </tr>\n",
       "  </tbody>\n",
       "</table>\n",
       "<p>113 rows × 3 columns</p>\n",
       "</div>"
      ],
      "text/plain": [
       "              r               i                  j\n",
       "54207  0.856310  MS.MIL.TOTL.P1     AG.PRD.CREL.MT\n",
       "54211  0.911660  MS.MIL.TOTL.P1     NE.GDI.STKB.CD\n",
       "54212  0.904848  MS.MIL.TOTL.P1     BM.GSR.ROYL.CD\n",
       "54213  0.900065  MS.MIL.TOTL.P1     BX.GSR.ROYL.CD\n",
       "54229  0.859786  MS.MIL.TOTL.P1     EN.ATM.CO2E.KT\n",
       "...         ...             ...                ...\n",
       "55013  0.897445  MS.MIL.TOTL.P1     FI.RES.XGLD.CD\n",
       "55017  0.878708  MS.MIL.TOTL.P1        IP.TMK.RESD\n",
       "55018  0.880130  MS.MIL.TOTL.P1        IP.TMK.TOTL\n",
       "55041  0.864794  MS.MIL.TOTL.P1  AG.LND.TOTL.UR.K2\n",
       "55044  0.858751  MS.MIL.TOTL.P1        SP.URB.TOTL\n",
       "\n",
       "[113 rows x 3 columns]"
      ]
     },
     "execution_count": 124,
     "metadata": {},
     "output_type": "execute_result"
    }
   ],
   "source": [
    "between_set_corr[between_set_corr.r.abs().between(.8, .92) & (between_set_corr.i == 'MS.MIL.TOTL.P1')]"
   ]
  },
  {
   "cell_type": "code",
   "execution_count": 125,
   "metadata": {},
   "outputs": [
    {
     "data": {
      "text/plain": [
       "'Armed forces personnel, total'"
      ]
     },
     "execution_count": 125,
     "metadata": {},
     "output_type": "execute_result"
    }
   ],
   "source": [
    "explain('MS.MIL.TOTL.P1', topic = 'Indicator Name')"
   ]
  },
  {
   "cell_type": "code",
   "execution_count": 126,
   "metadata": {},
   "outputs": [
    {
     "data": {
      "text/plain": [
       "'Changes in inventories (current US$)'"
      ]
     },
     "execution_count": 126,
     "metadata": {},
     "output_type": "execute_result"
    }
   ],
   "source": [
    "explain('NE.GDI.STKB.CD', topic='Indicator Name')"
   ]
  },
  {
   "cell_type": "code",
   "execution_count": 127,
   "metadata": {},
   "outputs": [
    {
     "data": {
      "text/plain": [
       "<matplotlib.axes._subplots.AxesSubplot at 0x1a37f5b9d0>"
      ]
     },
     "execution_count": 127,
     "metadata": {},
     "output_type": "execute_result"
    },
    {
     "data": {
      "image/png": "[encoded data removed]",
      "text/plain": [
       "<Figure size 432x288 with 1 Axes>"
      ]
     },
     "metadata": {
      "needs_background": "light"
     },
     "output_type": "display_data"
    }
   ],
   "source": [
    "data.plot.scatter(x = 'MS.MIL.TOTL.P1', y = 'NE.GDI.STKB.CD')"
   ]
  },
  {
   "cell_type": "code",
   "execution_count": 134,
   "metadata": {},
   "outputs": [
    {
     "data": {
      "text/html": [
       "<div>\n",
       "<style scoped>\n",
       "    .dataframe tbody tr th:only-of-type {\n",
       "        vertical-align: middle;\n",
       "    }\n",
       "\n",
       "    .dataframe tbody tr th {\n",
       "        vertical-align: top;\n",
       "    }\n",
       "\n",
       "    .dataframe thead th {\n",
       "        text-align: right;\n",
       "    }\n",
       "</style>\n",
       "<table border=\"1\" class=\"dataframe\">\n",
       "  <thead>\n",
       "    <tr style=\"text-align: right;\">\n",
       "      <th></th>\n",
       "      <th>Country Code</th>\n",
       "      <th>MS.MIL.TOTL.P1</th>\n",
       "    </tr>\n",
       "  </thead>\n",
       "  <tbody>\n",
       "    <tr>\n",
       "      <th>183</th>\n",
       "      <td>HTI</td>\n",
       "      <td>82.50</td>\n",
       "    </tr>\n",
       "    <tr>\n",
       "      <th>180</th>\n",
       "      <td>GMB</td>\n",
       "      <td>825.00</td>\n",
       "    </tr>\n",
       "    <tr>\n",
       "      <th>219</th>\n",
       "      <td>STP</td>\n",
       "      <td>1000.00</td>\n",
       "    </tr>\n",
       "    <tr>\n",
       "      <th>172</th>\n",
       "      <td>CPV</td>\n",
       "      <td>1175.00</td>\n",
       "    </tr>\n",
       "    <tr>\n",
       "      <th>225</th>\n",
       "      <td>TLS</td>\n",
       "      <td>1414.00</td>\n",
       "    </tr>\n",
       "    <tr>\n",
       "      <th>...</th>\n",
       "      <td>...</td>\n",
       "      <td>...</td>\n",
       "    </tr>\n",
       "    <tr>\n",
       "      <th>184</th>\n",
       "      <td>IDN</td>\n",
       "      <td>664375.00</td>\n",
       "    </tr>\n",
       "    <tr>\n",
       "      <th>174</th>\n",
       "      <td>EGY</td>\n",
       "      <td>835562.50</td>\n",
       "    </tr>\n",
       "    <tr>\n",
       "      <th>206</th>\n",
       "      <td>PAK</td>\n",
       "      <td>940125.00</td>\n",
       "    </tr>\n",
       "    <tr>\n",
       "      <th>209</th>\n",
       "      <td>PRK</td>\n",
       "      <td>1401500.00</td>\n",
       "    </tr>\n",
       "    <tr>\n",
       "      <th>185</th>\n",
       "      <td>IND</td>\n",
       "      <td>2788960.75</td>\n",
       "    </tr>\n",
       "  </tbody>\n",
       "</table>\n",
       "<p>73 rows × 2 columns</p>\n",
       "</div>"
      ],
      "text/plain": [
       "    Country Code  MS.MIL.TOTL.P1\n",
       "183          HTI           82.50\n",
       "180          GMB          825.00\n",
       "219          STP         1000.00\n",
       "172          CPV         1175.00\n",
       "225          TLS         1414.00\n",
       "..           ...             ...\n",
       "184          IDN       664375.00\n",
       "174          EGY       835562.50\n",
       "206          PAK       940125.00\n",
       "209          PRK      1401500.00\n",
       "185          IND      2788960.75\n",
       "\n",
       "[73 rows x 2 columns]"
      ]
     },
     "execution_count": 134,
     "metadata": {},
     "output_type": "execute_result"
    }
   ],
   "source": [
    "df_2010[['Country Code','MS.MIL.TOTL.P1']].dropna().sort_values('MS.MIL.TOTL.P1')"
   ]
  },
  {
   "cell_type": "code",
   "execution_count": null,
   "metadata": {},
   "outputs": [],
   "source": []
  },
  {
   "cell_type": "code",
   "execution_count": null,
   "metadata": {},
   "outputs": [],
   "source": []
  },
  {
   "cell_type": "code",
   "execution_count": null,
   "metadata": {},
   "outputs": [],
   "source": []
  },
  {
   "cell_type": "code",
   "execution_count": 142,
   "metadata": {},
   "outputs": [],
   "source": [
    "def z_score(s):\n",
    "    return (s-s.mean())/s.std()"
   ]
  },
  {
   "cell_type": "code",
   "execution_count": 227,
   "metadata": {},
   "outputs": [
    {
     "name": "stderr",
     "output_type": "stream",
     "text": [
      "100%|██████████| 938/938 [00:01<00:00, 672.62it/s]\n"
     ]
    },
    {
     "data": {
      "text/html": [
       "<div>\n",
       "<style scoped>\n",
       "    .dataframe tbody tr th:only-of-type {\n",
       "        vertical-align: middle;\n",
       "    }\n",
       "\n",
       "    .dataframe tbody tr th {\n",
       "        vertical-align: top;\n",
       "    }\n",
       "\n",
       "    .dataframe thead th {\n",
       "        text-align: right;\n",
       "    }\n",
       "</style>\n",
       "<table border=\"1\" class=\"dataframe\">\n",
       "  <thead>\n",
       "    <tr style=\"text-align: right;\">\n",
       "      <th></th>\n",
       "      <th>EG.ELC.ACCS.ZS</th>\n",
       "      <th>EG.ELC.ACCS.RU.ZS</th>\n",
       "      <th>EG.ELC.ACCS.UR.ZS</th>\n",
       "      <th>SE.PRM.TENR</th>\n",
       "      <th>SE.PRM.TENR.FE</th>\n",
       "      <th>SE.PRM.TENR.MA</th>\n",
       "      <th>NY.ADJ.NNTY.KD.ZG</th>\n",
       "      <th>NY.ADJ.NNTY.KD</th>\n",
       "      <th>NY.ADJ.NNTY.CD</th>\n",
       "      <th>NY.ADJ.NNTY.PC.KD.ZG</th>\n",
       "      <th>...</th>\n",
       "      <th>SL.EMP.VULN.FE.ZS</th>\n",
       "      <th>SL.EMP.VULN.MA.ZS</th>\n",
       "      <th>SL.EMP.VULN.ZS</th>\n",
       "      <th>SL.EMP.WORK.FE.ZS</th>\n",
       "      <th>SL.EMP.WORK.MA.ZS</th>\n",
       "      <th>SL.EMP.WORK.ZS</th>\n",
       "      <th>SP.DYN.WFRT</th>\n",
       "      <th>SP.M15.2024.FE.ZS</th>\n",
       "      <th>SP.M18.2024.FE.ZS</th>\n",
       "      <th>SH.DYN.AIDS.FE.ZS</th>\n",
       "    </tr>\n",
       "    <tr>\n",
       "      <th>Country Code</th>\n",
       "      <th></th>\n",
       "      <th></th>\n",
       "      <th></th>\n",
       "      <th></th>\n",
       "      <th></th>\n",
       "      <th></th>\n",
       "      <th></th>\n",
       "      <th></th>\n",
       "      <th></th>\n",
       "      <th></th>\n",
       "      <th></th>\n",
       "      <th></th>\n",
       "      <th></th>\n",
       "      <th></th>\n",
       "      <th></th>\n",
       "      <th></th>\n",
       "      <th></th>\n",
       "      <th></th>\n",
       "      <th></th>\n",
       "      <th></th>\n",
       "      <th></th>\n",
       "    </tr>\n",
       "  </thead>\n",
       "  <tbody>\n",
       "    <tr>\n",
       "      <th>AFG</th>\n",
       "      <td>72.696937</td>\n",
       "      <td>66.097716</td>\n",
       "      <td>93.412939</td>\n",
       "      <td>NaN</td>\n",
       "      <td>NaN</td>\n",
       "      <td>NaN</td>\n",
       "      <td>NaN</td>\n",
       "      <td>1.393045e+10</td>\n",
       "      <td>1.661862e+10</td>\n",
       "      <td>NaN</td>\n",
       "      <td>...</td>\n",
       "      <td>95.974698</td>\n",
       "      <td>86.489001</td>\n",
       "      <td>89.725300</td>\n",
       "      <td>3.8952</td>\n",
       "      <td>12.815700</td>\n",
       "      <td>9.772200</td>\n",
       "      <td>4.40</td>\n",
       "      <td>8.800000</td>\n",
       "      <td>36.000000</td>\n",
       "      <td>29.066667</td>\n",
       "    </tr>\n",
       "    <tr>\n",
       "      <th>AGO</th>\n",
       "      <td>37.128581</td>\n",
       "      <td>0.479294</td>\n",
       "      <td>70.420592</td>\n",
       "      <td>81.754230</td>\n",
       "      <td>73.063925</td>\n",
       "      <td>90.553025</td>\n",
       "      <td>NaN</td>\n",
       "      <td>4.144685e+10</td>\n",
       "      <td>5.186125e+10</td>\n",
       "      <td>NaN</td>\n",
       "      <td>...</td>\n",
       "      <td>80.692301</td>\n",
       "      <td>53.859200</td>\n",
       "      <td>67.235700</td>\n",
       "      <td>16.7592</td>\n",
       "      <td>40.217600</td>\n",
       "      <td>28.523100</td>\n",
       "      <td>5.20</td>\n",
       "      <td>7.900000</td>\n",
       "      <td>30.300000</td>\n",
       "      <td>68.966667</td>\n",
       "    </tr>\n",
       "    <tr>\n",
       "      <th>BDI</th>\n",
       "      <td>7.390622</td>\n",
       "      <td>0.994584</td>\n",
       "      <td>55.811980</td>\n",
       "      <td>94.821153</td>\n",
       "      <td>96.183163</td>\n",
       "      <td>93.467073</td>\n",
       "      <td>7.570536</td>\n",
       "      <td>1.635541e+09</td>\n",
       "      <td>1.836888e+09</td>\n",
       "      <td>4.206887</td>\n",
       "      <td>...</td>\n",
       "      <td>97.084700</td>\n",
       "      <td>91.958901</td>\n",
       "      <td>94.651000</td>\n",
       "      <td>2.8774</td>\n",
       "      <td>7.928500</td>\n",
       "      <td>5.275800</td>\n",
       "      <td>4.05</td>\n",
       "      <td>2.650000</td>\n",
       "      <td>19.700000</td>\n",
       "      <td>60.900000</td>\n",
       "    </tr>\n",
       "    <tr>\n",
       "      <th>BEN</th>\n",
       "      <td>38.216888</td>\n",
       "      <td>14.805125</td>\n",
       "      <td>66.931706</td>\n",
       "      <td>95.973890</td>\n",
       "      <td>NaN</td>\n",
       "      <td>NaN</td>\n",
       "      <td>3.776151</td>\n",
       "      <td>6.931506e+09</td>\n",
       "      <td>7.097935e+09</td>\n",
       "      <td>0.927793</td>\n",
       "      <td>...</td>\n",
       "      <td>94.607300</td>\n",
       "      <td>82.618099</td>\n",
       "      <td>88.510500</td>\n",
       "      <td>4.7336</td>\n",
       "      <td>15.521800</td>\n",
       "      <td>10.219700</td>\n",
       "      <td>4.45</td>\n",
       "      <td>8.966667</td>\n",
       "      <td>29.466667</td>\n",
       "      <td>60.000000</td>\n",
       "    </tr>\n",
       "    <tr>\n",
       "      <th>BFA</th>\n",
       "      <td>19.259105</td>\n",
       "      <td>5.276737</td>\n",
       "      <td>57.620602</td>\n",
       "      <td>71.050084</td>\n",
       "      <td>69.737219</td>\n",
       "      <td>72.316550</td>\n",
       "      <td>4.870623</td>\n",
       "      <td>8.612384e+09</td>\n",
       "      <td>8.329688e+09</td>\n",
       "      <td>1.807059</td>\n",
       "      <td>...</td>\n",
       "      <td>91.233600</td>\n",
       "      <td>84.992200</td>\n",
       "      <td>87.689500</td>\n",
       "      <td>8.4469</td>\n",
       "      <td>14.047800</td>\n",
       "      <td>11.626800</td>\n",
       "      <td>5.40</td>\n",
       "      <td>10.200000</td>\n",
       "      <td>51.600000</td>\n",
       "      <td>58.311111</td>\n",
       "    </tr>\n",
       "    <tr>\n",
       "      <th>...</th>\n",
       "      <td>...</td>\n",
       "      <td>...</td>\n",
       "      <td>...</td>\n",
       "      <td>...</td>\n",
       "      <td>...</td>\n",
       "      <td>...</td>\n",
       "      <td>...</td>\n",
       "      <td>...</td>\n",
       "      <td>...</td>\n",
       "      <td>...</td>\n",
       "      <td>...</td>\n",
       "      <td>...</td>\n",
       "      <td>...</td>\n",
       "      <td>...</td>\n",
       "      <td>...</td>\n",
       "      <td>...</td>\n",
       "      <td>...</td>\n",
       "      <td>...</td>\n",
       "      <td>...</td>\n",
       "      <td>...</td>\n",
       "      <td>...</td>\n",
       "    </tr>\n",
       "    <tr>\n",
       "      <th>VNM</th>\n",
       "      <td>99.529949</td>\n",
       "      <td>99.338265</td>\n",
       "      <td>99.950112</td>\n",
       "      <td>98.935312</td>\n",
       "      <td>NaN</td>\n",
       "      <td>NaN</td>\n",
       "      <td>9.671458</td>\n",
       "      <td>1.210416e+11</td>\n",
       "      <td>1.418749e+11</td>\n",
       "      <td>8.545052</td>\n",
       "      <td>...</td>\n",
       "      <td>65.352300</td>\n",
       "      <td>53.059100</td>\n",
       "      <td>58.989200</td>\n",
       "      <td>33.0886</td>\n",
       "      <td>43.476600</td>\n",
       "      <td>38.465599</td>\n",
       "      <td>1.30</td>\n",
       "      <td>0.900000</td>\n",
       "      <td>9.950000</td>\n",
       "      <td>31.000000</td>\n",
       "    </tr>\n",
       "    <tr>\n",
       "      <th>VUT</th>\n",
       "      <td>44.876321</td>\n",
       "      <td>30.578934</td>\n",
       "      <td>88.277851</td>\n",
       "      <td>92.147720</td>\n",
       "      <td>92.549080</td>\n",
       "      <td>91.777250</td>\n",
       "      <td>3.969437</td>\n",
       "      <td>6.558903e+08</td>\n",
       "      <td>6.919603e+08</td>\n",
       "      <td>1.169860</td>\n",
       "      <td>...</td>\n",
       "      <td>75.395201</td>\n",
       "      <td>67.537399</td>\n",
       "      <td>70.951400</td>\n",
       "      <td>23.5516</td>\n",
       "      <td>30.652100</td>\n",
       "      <td>27.567000</td>\n",
       "      <td>NaN</td>\n",
       "      <td>2.500000</td>\n",
       "      <td>21.400000</td>\n",
       "      <td>NaN</td>\n",
       "    </tr>\n",
       "    <tr>\n",
       "      <th>YEM</th>\n",
       "      <td>71.742725</td>\n",
       "      <td>58.632199</td>\n",
       "      <td>97.554039</td>\n",
       "      <td>84.501937</td>\n",
       "      <td>77.330967</td>\n",
       "      <td>91.401503</td>\n",
       "      <td>NaN</td>\n",
       "      <td>2.329219e+10</td>\n",
       "      <td>3.164722e+10</td>\n",
       "      <td>NaN</td>\n",
       "      <td>...</td>\n",
       "      <td>64.867001</td>\n",
       "      <td>41.823000</td>\n",
       "      <td>43.675400</td>\n",
       "      <td>32.8193</td>\n",
       "      <td>50.705500</td>\n",
       "      <td>49.266700</td>\n",
       "      <td>3.10</td>\n",
       "      <td>9.400000</td>\n",
       "      <td>32.100000</td>\n",
       "      <td>25.200000</td>\n",
       "    </tr>\n",
       "    <tr>\n",
       "      <th>ZMB</th>\n",
       "      <td>29.782197</td>\n",
       "      <td>6.397342</td>\n",
       "      <td>63.104728</td>\n",
       "      <td>87.958908</td>\n",
       "      <td>89.118122</td>\n",
       "      <td>86.808700</td>\n",
       "      <td>NaN</td>\n",
       "      <td>1.359418e+10</td>\n",
       "      <td>1.758068e+10</td>\n",
       "      <td>NaN</td>\n",
       "      <td>...</td>\n",
       "      <td>88.468700</td>\n",
       "      <td>69.753199</td>\n",
       "      <td>78.709800</td>\n",
       "      <td>11.3031</td>\n",
       "      <td>29.896800</td>\n",
       "      <td>20.998600</td>\n",
       "      <td>4.50</td>\n",
       "      <td>5.900000</td>\n",
       "      <td>31.400000</td>\n",
       "      <td>59.077778</td>\n",
       "    </tr>\n",
       "    <tr>\n",
       "      <th>ZWE</th>\n",
       "      <td>38.212680</td>\n",
       "      <td>15.869188</td>\n",
       "      <td>84.331030</td>\n",
       "      <td>94.611215</td>\n",
       "      <td>95.209588</td>\n",
       "      <td>95.147668</td>\n",
       "      <td>6.012362</td>\n",
       "      <td>1.224526e+10</td>\n",
       "      <td>1.370729e+10</td>\n",
       "      <td>4.329121</td>\n",
       "      <td>...</td>\n",
       "      <td>75.471000</td>\n",
       "      <td>56.080600</td>\n",
       "      <td>65.547701</td>\n",
       "      <td>24.2205</td>\n",
       "      <td>43.273299</td>\n",
       "      <td>33.971099</td>\n",
       "      <td>3.55</td>\n",
       "      <td>3.800000</td>\n",
       "      <td>32.133333</td>\n",
       "      <td>59.466667</td>\n",
       "    </tr>\n",
       "  </tbody>\n",
       "</table>\n",
       "<p>78 rows × 938 columns</p>\n",
       "</div>"
      ],
      "text/plain": [
       "              EG.ELC.ACCS.ZS  EG.ELC.ACCS.RU.ZS  EG.ELC.ACCS.UR.ZS  \\\n",
       "Country Code                                                         \n",
       "AFG                72.696937          66.097716          93.412939   \n",
       "AGO                37.128581           0.479294          70.420592   \n",
       "BDI                 7.390622           0.994584          55.811980   \n",
       "BEN                38.216888          14.805125          66.931706   \n",
       "BFA                19.259105           5.276737          57.620602   \n",
       "...                      ...                ...                ...   \n",
       "VNM                99.529949          99.338265          99.950112   \n",
       "VUT                44.876321          30.578934          88.277851   \n",
       "YEM                71.742725          58.632199          97.554039   \n",
       "ZMB                29.782197           6.397342          63.104728   \n",
       "ZWE                38.212680          15.869188          84.331030   \n",
       "\n",
       "              SE.PRM.TENR  SE.PRM.TENR.FE  SE.PRM.TENR.MA  NY.ADJ.NNTY.KD.ZG  \\\n",
       "Country Code                                                                   \n",
       "AFG                   NaN             NaN             NaN                NaN   \n",
       "AGO             81.754230       73.063925       90.553025                NaN   \n",
       "BDI             94.821153       96.183163       93.467073           7.570536   \n",
       "BEN             95.973890             NaN             NaN           3.776151   \n",
       "BFA             71.050084       69.737219       72.316550           4.870623   \n",
       "...                   ...             ...             ...                ...   \n",
       "VNM             98.935312             NaN             NaN           9.671458   \n",
       "VUT             92.147720       92.549080       91.777250           3.969437   \n",
       "YEM             84.501937       77.330967       91.401503                NaN   \n",
       "ZMB             87.958908       89.118122       86.808700                NaN   \n",
       "ZWE             94.611215       95.209588       95.147668           6.012362   \n",
       "\n",
       "              NY.ADJ.NNTY.KD  NY.ADJ.NNTY.CD  NY.ADJ.NNTY.PC.KD.ZG  ...  \\\n",
       "Country Code                                                        ...   \n",
       "AFG             1.393045e+10    1.661862e+10                   NaN  ...   \n",
       "AGO             4.144685e+10    5.186125e+10                   NaN  ...   \n",
       "BDI             1.635541e+09    1.836888e+09              4.206887  ...   \n",
       "BEN             6.931506e+09    7.097935e+09              0.927793  ...   \n",
       "BFA             8.612384e+09    8.329688e+09              1.807059  ...   \n",
       "...                      ...             ...                   ...  ...   \n",
       "VNM             1.210416e+11    1.418749e+11              8.545052  ...   \n",
       "VUT             6.558903e+08    6.919603e+08              1.169860  ...   \n",
       "YEM             2.329219e+10    3.164722e+10                   NaN  ...   \n",
       "ZMB             1.359418e+10    1.758068e+10                   NaN  ...   \n",
       "ZWE             1.224526e+10    1.370729e+10              4.329121  ...   \n",
       "\n",
       "              SL.EMP.VULN.FE.ZS  SL.EMP.VULN.MA.ZS  SL.EMP.VULN.ZS  \\\n",
       "Country Code                                                         \n",
       "AFG                   95.974698          86.489001       89.725300   \n",
       "AGO                   80.692301          53.859200       67.235700   \n",
       "BDI                   97.084700          91.958901       94.651000   \n",
       "BEN                   94.607300          82.618099       88.510500   \n",
       "BFA                   91.233600          84.992200       87.689500   \n",
       "...                         ...                ...             ...   \n",
       "VNM                   65.352300          53.059100       58.989200   \n",
       "VUT                   75.395201          67.537399       70.951400   \n",
       "YEM                   64.867001          41.823000       43.675400   \n",
       "ZMB                   88.468700          69.753199       78.709800   \n",
       "ZWE                   75.471000          56.080600       65.547701   \n",
       "\n",
       "              SL.EMP.WORK.FE.ZS  SL.EMP.WORK.MA.ZS  SL.EMP.WORK.ZS  \\\n",
       "Country Code                                                         \n",
       "AFG                      3.8952          12.815700        9.772200   \n",
       "AGO                     16.7592          40.217600       28.523100   \n",
       "BDI                      2.8774           7.928500        5.275800   \n",
       "BEN                      4.7336          15.521800       10.219700   \n",
       "BFA                      8.4469          14.047800       11.626800   \n",
       "...                         ...                ...             ...   \n",
       "VNM                     33.0886          43.476600       38.465599   \n",
       "VUT                     23.5516          30.652100       27.567000   \n",
       "YEM                     32.8193          50.705500       49.266700   \n",
       "ZMB                     11.3031          29.896800       20.998600   \n",
       "ZWE                     24.2205          43.273299       33.971099   \n",
       "\n",
       "              SP.DYN.WFRT  SP.M15.2024.FE.ZS  SP.M18.2024.FE.ZS  \\\n",
       "Country Code                                                      \n",
       "AFG                  4.40           8.800000          36.000000   \n",
       "AGO                  5.20           7.900000          30.300000   \n",
       "BDI                  4.05           2.650000          19.700000   \n",
       "BEN                  4.45           8.966667          29.466667   \n",
       "BFA                  5.40          10.200000          51.600000   \n",
       "...                   ...                ...                ...   \n",
       "VNM                  1.30           0.900000           9.950000   \n",
       "VUT                   NaN           2.500000          21.400000   \n",
       "YEM                  3.10           9.400000          32.100000   \n",
       "ZMB                  4.50           5.900000          31.400000   \n",
       "ZWE                  3.55           3.800000          32.133333   \n",
       "\n",
       "              SH.DYN.AIDS.FE.ZS  \n",
       "Country Code                     \n",
       "AFG                   29.066667  \n",
       "AGO                   68.966667  \n",
       "BDI                   60.900000  \n",
       "BEN                   60.000000  \n",
       "BFA                   58.311111  \n",
       "...                         ...  \n",
       "VNM                   31.000000  \n",
       "VUT                         NaN  \n",
       "YEM                   25.200000  \n",
       "ZMB                   59.077778  \n",
       "ZWE                   59.466667  \n",
       "\n",
       "[78 rows x 938 columns]"
      ]
     },
     "execution_count": 227,
     "metadata": {},
     "output_type": "execute_result"
    }
   ],
   "source": [
    "data_z = pd.concat([z_score(data[col]) for col in tqdm(data.columns)], axis=1)\n",
    "data_z.columns = data.columns\n",
    "\n",
    "data_no_outliers = data.where(data_z.abs() < 2)\n",
    "data_no_outliers.set_index(df_2010['Country Code'])"
   ]
  },
  {
   "cell_type": "code",
   "execution_count": 171,
   "metadata": {},
   "outputs": [],
   "source": [
    "corr_no_outliers = data_no_outliers.corr('pearson')"
   ]
  },
  {
   "cell_type": "code",
   "execution_count": 172,
   "metadata": {},
   "outputs": [
    {
     "name": "stderr",
     "output_type": "stream",
     "text": [
      "879844it [00:12, 71612.09it/s] \n"
     ]
    }
   ],
   "source": [
    "visited = set()\n",
    "r_values = []\n",
    "for i,j in tqdm(it.product(data.columns, data.columns)):\n",
    "    i_prefix = i.split('.')[0]\n",
    "    j_prefix = j.split('.')[0]\n",
    "    if (i!=j) and (i_prefix != j_prefix) and ((j,i) not in visited):\n",
    "        r = corr.loc[i, j]\n",
    "        r_values.append((r, i, j))\n",
    "        visited.add((i,j))"
   ]
  },
  {
   "cell_type": "code",
   "execution_count": 175,
   "metadata": {},
   "outputs": [],
   "source": [
    "between_set_corr = pd.DataFrame.from_records(r_values)\n",
    "\n",
    "between_set_corr.columns = ['r', 'i', 'j']"
   ]
  },
  {
   "cell_type": "code",
   "execution_count": 174,
   "metadata": {},
   "outputs": [
    {
     "name": "stderr",
     "output_type": "stream",
     "text": [
      "100%|██████████| 1999/1999 [00:05<00:00, 361.22it/s]\n"
     ]
    },
    {
     "data": {
      "text/plain": [
       "Text(0.5, 1.0, 'Clustering of R-values (Outliers Removed)')"
      ]
     },
     "execution_count": 174,
     "metadata": {},
     "output_type": "execute_result"
    },
    {
     "data": {
      "image/png": "[encoded data removed]",
      "text/plain": [
       "<Figure size 432x288 with 1 Axes>"
      ]
     },
     "metadata": {
      "needs_background": "light"
     },
     "output_type": "display_data"
    }
   ],
   "source": [
    "start = -1\n",
    "stop = 1\n",
    "delta = .001\n",
    "range_ = np.arange(start,stop-delta, delta)\n",
    "\n",
    "count = []\n",
    "\n",
    "for i in tqdm(range_):\n",
    "    count.append(between_set_corr.r.between(i, i+.05).sum())\n",
    "\n",
    "ct = pd.Series(count)\n",
    "ct.index = range_\n",
    "ct.plot()\n",
    "plt.title('Clustering of R-values (Outliers Removed)')"
   ]
  },
  {
   "cell_type": "code",
   "execution_count": 177,
   "metadata": {},
   "outputs": [
    {
     "data": {
      "text/html": [
       "<div>\n",
       "<style scoped>\n",
       "    .dataframe tbody tr th:only-of-type {\n",
       "        vertical-align: middle;\n",
       "    }\n",
       "\n",
       "    .dataframe tbody tr th {\n",
       "        vertical-align: top;\n",
       "    }\n",
       "\n",
       "    .dataframe thead th {\n",
       "        text-align: right;\n",
       "    }\n",
       "</style>\n",
       "<table border=\"1\" class=\"dataframe\">\n",
       "  <thead>\n",
       "    <tr style=\"text-align: right;\">\n",
       "      <th></th>\n",
       "      <th>r</th>\n",
       "      <th>i</th>\n",
       "      <th>j</th>\n",
       "    </tr>\n",
       "  </thead>\n",
       "  <tbody>\n",
       "    <tr>\n",
       "      <th>292662</th>\n",
       "      <td>-0.907764</td>\n",
       "      <td>SP.DYN.LE00.FE.IN</td>\n",
       "      <td>SH.DYN.MORT</td>\n",
       "    </tr>\n",
       "    <tr>\n",
       "      <th>292664</th>\n",
       "      <td>-0.905721</td>\n",
       "      <td>SP.DYN.LE00.FE.IN</td>\n",
       "      <td>SH.DYN.MORT.MA</td>\n",
       "    </tr>\n",
       "    <tr>\n",
       "      <th>163094</th>\n",
       "      <td>-0.903933</td>\n",
       "      <td>NE.RSB.GNFS.CN</td>\n",
       "      <td>PA.NUS.PRVT.PP</td>\n",
       "    </tr>\n",
       "    <tr>\n",
       "      <th>163093</th>\n",
       "      <td>-0.901639</td>\n",
       "      <td>NE.RSB.GNFS.CN</td>\n",
       "      <td>PA.NUS.PPP</td>\n",
       "    </tr>\n",
       "    <tr>\n",
       "      <th>117767</th>\n",
       "      <td>-0.898871</td>\n",
       "      <td>PA.NUS.ATLS</td>\n",
       "      <td>NE.RSB.GNFS.CN</td>\n",
       "    </tr>\n",
       "    <tr>\n",
       "      <th>...</th>\n",
       "      <td>...</td>\n",
       "      <td>...</td>\n",
       "      <td>...</td>\n",
       "    </tr>\n",
       "    <tr>\n",
       "      <th>203859</th>\n",
       "      <td>0.919711</td>\n",
       "      <td>NY.GNP.MKTP.CN</td>\n",
       "      <td>NV.IND.MANF.CN</td>\n",
       "    </tr>\n",
       "    <tr>\n",
       "      <th>201674</th>\n",
       "      <td>0.919735</td>\n",
       "      <td>NE.CON.GOVT.CD</td>\n",
       "      <td>BM.GSR.NFSV.CD</td>\n",
       "    </tr>\n",
       "    <tr>\n",
       "      <th>159916</th>\n",
       "      <td>0.919835</td>\n",
       "      <td>NE.EXP.GNFS.CN</td>\n",
       "      <td>NY.GDP.MKTP.CN</td>\n",
       "    </tr>\n",
       "    <tr>\n",
       "      <th>187177</th>\n",
       "      <td>0.919976</td>\n",
       "      <td>NY.GDP.MKTP.CD</td>\n",
       "      <td>NV.IND.MANF.KD</td>\n",
       "    </tr>\n",
       "    <tr>\n",
       "      <th>200407</th>\n",
       "      <td>0.919985</td>\n",
       "      <td>NE.CON.GOVT.KN</td>\n",
       "      <td>NV.SRV.TOTL.CN</td>\n",
       "    </tr>\n",
       "  </tbody>\n",
       "</table>\n",
       "<p>2949 rows × 3 columns</p>\n",
       "</div>"
      ],
      "text/plain": [
       "               r                  i               j\n",
       "292662 -0.907764  SP.DYN.LE00.FE.IN     SH.DYN.MORT\n",
       "292664 -0.905721  SP.DYN.LE00.FE.IN  SH.DYN.MORT.MA\n",
       "163094 -0.903933     NE.RSB.GNFS.CN  PA.NUS.PRVT.PP\n",
       "163093 -0.901639     NE.RSB.GNFS.CN      PA.NUS.PPP\n",
       "117767 -0.898871        PA.NUS.ATLS  NE.RSB.GNFS.CN\n",
       "...          ...                ...             ...\n",
       "203859  0.919711     NY.GNP.MKTP.CN  NV.IND.MANF.CN\n",
       "201674  0.919735     NE.CON.GOVT.CD  BM.GSR.NFSV.CD\n",
       "159916  0.919835     NE.EXP.GNFS.CN  NY.GDP.MKTP.CN\n",
       "187177  0.919976     NY.GDP.MKTP.CD  NV.IND.MANF.KD\n",
       "200407  0.919985     NE.CON.GOVT.KN  NV.SRV.TOTL.CN\n",
       "\n",
       "[2949 rows x 3 columns]"
      ]
     },
     "execution_count": 177,
     "metadata": {},
     "output_type": "execute_result"
    }
   ],
   "source": [
    "between_set_corr[between_set_corr.r.abs().between(.8, .92)].sort_values('r')"
   ]
  },
  {
   "cell_type": "code",
   "execution_count": 179,
   "metadata": {},
   "outputs": [
    {
     "data": {
      "text/plain": [
       "<matplotlib.axes._subplots.AxesSubplot at 0x1a40446590>"
      ]
     },
     "execution_count": 179,
     "metadata": {},
     "output_type": "execute_result"
    },
    {
     "data": {
      "image/png": "[encoded data removed]",
      "text/plain": [
       "<Figure size 432x288 with 1 Axes>"
      ]
     },
     "metadata": {
      "needs_background": "light"
     },
     "output_type": "display_data"
    }
   ],
   "source": [
    "data_no_outliers.plot.scatter(x='SP.DYN.LE00.FE.IN', y='SH.DYN.MORT')"
   ]
  },
  {
   "cell_type": "code",
   "execution_count": 180,
   "metadata": {},
   "outputs": [
    {
     "data": {
      "text/plain": [
       "'Life expectancy at birth indicates the number of years a newborn infant would live if prevailing patterns of mortality at the time of its birth were to stay the same throughout its life.'"
      ]
     },
     "execution_count": 180,
     "metadata": {},
     "output_type": "execute_result"
    }
   ],
   "source": [
    "explain('SP.DYN.LE00.FE.IN')"
   ]
  },
  {
   "cell_type": "code",
   "execution_count": 181,
   "metadata": {},
   "outputs": [
    {
     "data": {
      "text/plain": [
       "'Under-five mortality rate is the probability per 1,000 that a newborn baby will die before reaching age five, if subject to age-specific mortality rates of the specified year.'"
      ]
     },
     "execution_count": 181,
     "metadata": {},
     "output_type": "execute_result"
    }
   ],
   "source": [
    "explain('SH.DYN.MORT')"
   ]
  },
  {
   "cell_type": "code",
   "execution_count": 182,
   "metadata": {},
   "outputs": [
    {
     "data": {
      "text/plain": [
       "<matplotlib.axes._subplots.AxesSubplot at 0x1a4235cb50>"
      ]
     },
     "execution_count": 182,
     "metadata": {},
     "output_type": "execute_result"
    },
    {
     "data": {
      "image/png": "[encoded data removed]",
      "text/plain": [
       "<Figure size 432x288 with 1 Axes>"
      ]
     },
     "metadata": {
      "needs_background": "light"
     },
     "output_type": "display_data"
    }
   ],
   "source": [
    "data_no_outliers.plot.scatter(x='NE.CON.GOVT.KN', y='NV.SRV.TOTL.CN')"
   ]
  },
  {
   "cell_type": "code",
   "execution_count": 185,
   "metadata": {},
   "outputs": [
    {
     "data": {
      "text/plain": [
       "'General government final consumption expenditure (constant LCU)'"
      ]
     },
     "execution_count": 185,
     "metadata": {},
     "output_type": "execute_result"
    }
   ],
   "source": [
    "explain('NE.CON.GOVT.KN', topic='Indicator Name')"
   ]
  },
  {
   "cell_type": "code",
   "execution_count": 188,
   "metadata": {},
   "outputs": [
    {
     "data": {
      "text/plain": [
       "'Services, value added (current LCU)'"
      ]
     },
     "execution_count": 188,
     "metadata": {},
     "output_type": "execute_result"
    }
   ],
   "source": [
    "explain('NV.SRV.TOTL.CN', topic='Indicator Name')"
   ]
  },
  {
   "cell_type": "code",
   "execution_count": null,
   "metadata": {},
   "outputs": [],
   "source": []
  },
  {
   "cell_type": "code",
   "execution_count": 189,
   "metadata": {},
   "outputs": [],
   "source": [
    "rs = between_set_corr[between_set_corr.r.abs().between(.8, .92)].sort_values('r')"
   ]
  },
  {
   "cell_type": "code",
   "execution_count": 199,
   "metadata": {},
   "outputs": [],
   "source": [
    "knn_features = set(pd.concat([rs.iloc[:10], rs.iloc[-10:]]).iloc[:,1:].values.ravel())"
   ]
  },
  {
   "cell_type": "code",
   "execution_count": 206,
   "metadata": {},
   "outputs": [],
   "source": [
    "from sklearn.cluster import KMeans"
   ]
  },
  {
   "cell_type": "code",
   "execution_count": 216,
   "metadata": {},
   "outputs": [],
   "source": [
    "X = data_no_outliers[list(knn_features)].fillna(data_no_outliers.mean())"
   ]
  },
  {
   "cell_type": "code",
   "execution_count": 230,
   "metadata": {
    "collapsed": true,
    "jupyter": {
     "outputs_hidden": true
    }
   },
   "outputs": [
    {
     "name": "stderr",
     "output_type": "stream",
     "text": [
      " 65%|██████▌   | 64/98 [00:16<00:15,  2.24it/s]"
     ]
    },
    {
     "ename": "KeyboardInterrupt",
     "evalue": "",
     "output_type": "error",
     "traceback": [
      "\u001b[0;31m---------------------------------------------------------------------------\u001b[0m",
      "\u001b[0;31mKeyboardInterrupt\u001b[0m                         Traceback (most recent call last)",
      "\u001b[0;32m<ipython-input-230-d27e12ea5675>\u001b[0m in \u001b[0;36m<module>\u001b[0;34m\u001b[0m\n\u001b[1;32m      1\u001b[0m \u001b[0mscores\u001b[0m \u001b[0;34m=\u001b[0m \u001b[0;34m[\u001b[0m\u001b[0;34m]\u001b[0m\u001b[0;34m\u001b[0m\u001b[0;34m\u001b[0m\u001b[0m\n\u001b[1;32m      2\u001b[0m \u001b[0;32mfor\u001b[0m \u001b[0mi\u001b[0m \u001b[0;32min\u001b[0m \u001b[0mtqdm\u001b[0m\u001b[0;34m(\u001b[0m\u001b[0mrange\u001b[0m\u001b[0;34m(\u001b[0m\u001b[0;36m2\u001b[0m\u001b[0;34m,\u001b[0m \u001b[0;36m100\u001b[0m\u001b[0;34m)\u001b[0m\u001b[0;34m)\u001b[0m\u001b[0;34m:\u001b[0m\u001b[0;34m\u001b[0m\u001b[0;34m\u001b[0m\u001b[0m\n\u001b[0;32m----> 3\u001b[0;31m     \u001b[0mkmeans\u001b[0m \u001b[0;34m=\u001b[0m \u001b[0mKMeans\u001b[0m\u001b[0;34m(\u001b[0m\u001b[0mn_clusters\u001b[0m\u001b[0;34m=\u001b[0m\u001b[0mi\u001b[0m\u001b[0;34m)\u001b[0m\u001b[0;34m.\u001b[0m\u001b[0mfit\u001b[0m\u001b[0;34m(\u001b[0m\u001b[0mX\u001b[0m\u001b[0;34m)\u001b[0m\u001b[0;34m\u001b[0m\u001b[0;34m\u001b[0m\u001b[0m\n\u001b[0m\u001b[1;32m      4\u001b[0m     \u001b[0mscore\u001b[0m \u001b[0;34m=\u001b[0m \u001b[0mkmeans\u001b[0m\u001b[0;34m.\u001b[0m\u001b[0mscore\u001b[0m\u001b[0;34m(\u001b[0m\u001b[0mX\u001b[0m\u001b[0;34m)\u001b[0m\u001b[0;34m\u001b[0m\u001b[0;34m\u001b[0m\u001b[0m\n\u001b[1;32m      5\u001b[0m     \u001b[0mscores\u001b[0m\u001b[0;34m.\u001b[0m\u001b[0mappend\u001b[0m\u001b[0;34m(\u001b[0m\u001b[0mscore\u001b[0m\u001b[0;34m)\u001b[0m\u001b[0;34m\u001b[0m\u001b[0;34m\u001b[0m\u001b[0m\n",
      "\u001b[0;32m~/opt/anaconda3/envs/ds/lib/python3.7/site-packages/sklearn/cluster/_kmeans.py\u001b[0m in \u001b[0;36mfit\u001b[0;34m(self, X, y, sample_weight)\u001b[0m\n\u001b[1;32m    935\u001b[0m                     \u001b[0mmax_iter\u001b[0m\u001b[0;34m=\u001b[0m\u001b[0mself\u001b[0m\u001b[0;34m.\u001b[0m\u001b[0mmax_iter\u001b[0m\u001b[0;34m,\u001b[0m \u001b[0minit\u001b[0m\u001b[0;34m=\u001b[0m\u001b[0minit\u001b[0m\u001b[0;34m,\u001b[0m \u001b[0mverbose\u001b[0m\u001b[0;34m=\u001b[0m\u001b[0mself\u001b[0m\u001b[0;34m.\u001b[0m\u001b[0mverbose\u001b[0m\u001b[0;34m,\u001b[0m\u001b[0;34m\u001b[0m\u001b[0;34m\u001b[0m\u001b[0m\n\u001b[1;32m    936\u001b[0m                     \u001b[0mprecompute_distances\u001b[0m\u001b[0;34m=\u001b[0m\u001b[0mprecompute_distances\u001b[0m\u001b[0;34m,\u001b[0m \u001b[0mtol\u001b[0m\u001b[0;34m=\u001b[0m\u001b[0mtol\u001b[0m\u001b[0;34m,\u001b[0m\u001b[0;34m\u001b[0m\u001b[0;34m\u001b[0m\u001b[0m\n\u001b[0;32m--> 937\u001b[0;31m                     x_squared_norms=x_squared_norms, random_state=seed)\n\u001b[0m\u001b[1;32m    938\u001b[0m                 \u001b[0;31m# determine if these results are the best so far\u001b[0m\u001b[0;34m\u001b[0m\u001b[0;34m\u001b[0m\u001b[0;34m\u001b[0m\u001b[0m\n\u001b[1;32m    939\u001b[0m                 \u001b[0;32mif\u001b[0m \u001b[0mbest_inertia\u001b[0m \u001b[0;32mis\u001b[0m \u001b[0;32mNone\u001b[0m \u001b[0;32mor\u001b[0m \u001b[0minertia\u001b[0m \u001b[0;34m<\u001b[0m \u001b[0mbest_inertia\u001b[0m\u001b[0;34m:\u001b[0m\u001b[0;34m\u001b[0m\u001b[0;34m\u001b[0m\u001b[0m\n",
      "\u001b[0;32m~/opt/anaconda3/envs/ds/lib/python3.7/site-packages/sklearn/cluster/_kmeans.py\u001b[0m in \u001b[0;36m_kmeans_single_elkan\u001b[0;34m(X, sample_weight, n_clusters, max_iter, init, verbose, x_squared_norms, random_state, tol, precompute_distances)\u001b[0m\n\u001b[1;32m    312\u001b[0m     \u001b[0;31m# init\u001b[0m\u001b[0;34m\u001b[0m\u001b[0;34m\u001b[0m\u001b[0;34m\u001b[0m\u001b[0m\n\u001b[1;32m    313\u001b[0m     centers = _init_centroids(X, n_clusters, init, random_state=random_state,\n\u001b[0;32m--> 314\u001b[0;31m                               x_squared_norms=x_squared_norms)\n\u001b[0m\u001b[1;32m    315\u001b[0m     \u001b[0mcenters\u001b[0m \u001b[0;34m=\u001b[0m \u001b[0mnp\u001b[0m\u001b[0;34m.\u001b[0m\u001b[0mascontiguousarray\u001b[0m\u001b[0;34m(\u001b[0m\u001b[0mcenters\u001b[0m\u001b[0;34m)\u001b[0m\u001b[0;34m\u001b[0m\u001b[0;34m\u001b[0m\u001b[0m\n\u001b[1;32m    316\u001b[0m     \u001b[0;32mif\u001b[0m \u001b[0mverbose\u001b[0m\u001b[0;34m:\u001b[0m\u001b[0;34m\u001b[0m\u001b[0;34m\u001b[0m\u001b[0m\n",
      "\u001b[0;32m~/opt/anaconda3/envs/ds/lib/python3.7/site-packages/sklearn/cluster/_kmeans.py\u001b[0m in \u001b[0;36m_init_centroids\u001b[0;34m(X, k, init, random_state, x_squared_norms, init_size)\u001b[0m\n\u001b[1;32m    624\u001b[0m     \u001b[0;32mif\u001b[0m \u001b[0misinstance\u001b[0m\u001b[0;34m(\u001b[0m\u001b[0minit\u001b[0m\u001b[0;34m,\u001b[0m \u001b[0mstr\u001b[0m\u001b[0;34m)\u001b[0m \u001b[0;32mand\u001b[0m \u001b[0minit\u001b[0m \u001b[0;34m==\u001b[0m \u001b[0;34m'k-means++'\u001b[0m\u001b[0;34m:\u001b[0m\u001b[0;34m\u001b[0m\u001b[0;34m\u001b[0m\u001b[0m\n\u001b[1;32m    625\u001b[0m         centers = _k_init(X, k, random_state=random_state,\n\u001b[0;32m--> 626\u001b[0;31m                           x_squared_norms=x_squared_norms)\n\u001b[0m\u001b[1;32m    627\u001b[0m     \u001b[0;32melif\u001b[0m \u001b[0misinstance\u001b[0m\u001b[0;34m(\u001b[0m\u001b[0minit\u001b[0m\u001b[0;34m,\u001b[0m \u001b[0mstr\u001b[0m\u001b[0;34m)\u001b[0m \u001b[0;32mand\u001b[0m \u001b[0minit\u001b[0m \u001b[0;34m==\u001b[0m \u001b[0;34m'random'\u001b[0m\u001b[0;34m:\u001b[0m\u001b[0;34m\u001b[0m\u001b[0;34m\u001b[0m\u001b[0m\n\u001b[1;32m    628\u001b[0m         \u001b[0mseeds\u001b[0m \u001b[0;34m=\u001b[0m \u001b[0mrandom_state\u001b[0m\u001b[0;34m.\u001b[0m\u001b[0mpermutation\u001b[0m\u001b[0;34m(\u001b[0m\u001b[0mn_samples\u001b[0m\u001b[0;34m)\u001b[0m\u001b[0;34m[\u001b[0m\u001b[0;34m:\u001b[0m\u001b[0mk\u001b[0m\u001b[0;34m]\u001b[0m\u001b[0;34m\u001b[0m\u001b[0;34m\u001b[0m\u001b[0m\n",
      "\u001b[0;32m~/opt/anaconda3/envs/ds/lib/python3.7/site-packages/sklearn/cluster/_kmeans.py\u001b[0m in \u001b[0;36m_k_init\u001b[0;34m(X, n_clusters, x_squared_norms, random_state, n_local_trials)\u001b[0m\n\u001b[1;32m    114\u001b[0m         \u001b[0;31m# Compute distances to center candidates\u001b[0m\u001b[0;34m\u001b[0m\u001b[0;34m\u001b[0m\u001b[0;34m\u001b[0m\u001b[0m\n\u001b[1;32m    115\u001b[0m         distance_to_candidates = euclidean_distances(\n\u001b[0;32m--> 116\u001b[0;31m             X[candidate_ids], X, Y_norm_squared=x_squared_norms, squared=True)\n\u001b[0m\u001b[1;32m    117\u001b[0m \u001b[0;34m\u001b[0m\u001b[0m\n\u001b[1;32m    118\u001b[0m         \u001b[0;31m# update closest distances squared and potential for each candidate\u001b[0m\u001b[0;34m\u001b[0m\u001b[0;34m\u001b[0m\u001b[0;34m\u001b[0m\u001b[0m\n",
      "\u001b[0;32m~/opt/anaconda3/envs/ds/lib/python3.7/site-packages/sklearn/metrics/pairwise.py\u001b[0m in \u001b[0;36meuclidean_distances\u001b[0;34m(X, Y, Y_norm_squared, squared, X_norm_squared)\u001b[0m\n\u001b[1;32m    260\u001b[0m     \u001b[0mpaired_distances\u001b[0m \u001b[0;34m:\u001b[0m \u001b[0mdistances\u001b[0m \u001b[0mbetweens\u001b[0m \u001b[0mpairs\u001b[0m \u001b[0mof\u001b[0m \u001b[0melements\u001b[0m \u001b[0mof\u001b[0m \u001b[0mX\u001b[0m \u001b[0;32mand\u001b[0m \u001b[0mY\u001b[0m\u001b[0;34m.\u001b[0m\u001b[0;34m\u001b[0m\u001b[0;34m\u001b[0m\u001b[0m\n\u001b[1;32m    261\u001b[0m     \"\"\"\n\u001b[0;32m--> 262\u001b[0;31m     \u001b[0mX\u001b[0m\u001b[0;34m,\u001b[0m \u001b[0mY\u001b[0m \u001b[0;34m=\u001b[0m \u001b[0mcheck_pairwise_arrays\u001b[0m\u001b[0;34m(\u001b[0m\u001b[0mX\u001b[0m\u001b[0;34m,\u001b[0m \u001b[0mY\u001b[0m\u001b[0;34m)\u001b[0m\u001b[0;34m\u001b[0m\u001b[0;34m\u001b[0m\u001b[0m\n\u001b[0m\u001b[1;32m    263\u001b[0m \u001b[0;34m\u001b[0m\u001b[0m\n\u001b[1;32m    264\u001b[0m     \u001b[0;31m# If norms are passed as float32, they are unused. If arrays are passed as\u001b[0m\u001b[0;34m\u001b[0m\u001b[0;34m\u001b[0m\u001b[0;34m\u001b[0m\u001b[0m\n",
      "\u001b[0;32m~/opt/anaconda3/envs/ds/lib/python3.7/site-packages/sklearn/metrics/pairwise.py\u001b[0m in \u001b[0;36mcheck_pairwise_arrays\u001b[0;34m(X, Y, precomputed, dtype, accept_sparse, force_all_finite, copy)\u001b[0m\n\u001b[1;32m    142\u001b[0m         Y = check_array(Y, accept_sparse=accept_sparse, dtype=dtype,\n\u001b[1;32m    143\u001b[0m                         \u001b[0mcopy\u001b[0m\u001b[0;34m=\u001b[0m\u001b[0mcopy\u001b[0m\u001b[0;34m,\u001b[0m \u001b[0mforce_all_finite\u001b[0m\u001b[0;34m=\u001b[0m\u001b[0mforce_all_finite\u001b[0m\u001b[0;34m,\u001b[0m\u001b[0;34m\u001b[0m\u001b[0;34m\u001b[0m\u001b[0m\n\u001b[0;32m--> 144\u001b[0;31m                         estimator=estimator)\n\u001b[0m\u001b[1;32m    145\u001b[0m \u001b[0;34m\u001b[0m\u001b[0m\n\u001b[1;32m    146\u001b[0m     \u001b[0;32mif\u001b[0m \u001b[0mprecomputed\u001b[0m\u001b[0;34m:\u001b[0m\u001b[0;34m\u001b[0m\u001b[0;34m\u001b[0m\u001b[0m\n",
      "\u001b[0;32m~/opt/anaconda3/envs/ds/lib/python3.7/site-packages/sklearn/utils/validation.py\u001b[0m in \u001b[0;36mcheck_array\u001b[0;34m(array, accept_sparse, accept_large_sparse, dtype, order, copy, force_all_finite, ensure_2d, allow_nd, ensure_min_samples, ensure_min_features, warn_on_dtype, estimator)\u001b[0m\n\u001b[1;32m    579\u001b[0m \u001b[0;34m\u001b[0m\u001b[0m\n\u001b[1;32m    580\u001b[0m     \u001b[0;32mif\u001b[0m \u001b[0mensure_min_samples\u001b[0m \u001b[0;34m>\u001b[0m \u001b[0;36m0\u001b[0m\u001b[0;34m:\u001b[0m\u001b[0;34m\u001b[0m\u001b[0;34m\u001b[0m\u001b[0m\n\u001b[0;32m--> 581\u001b[0;31m         \u001b[0mn_samples\u001b[0m \u001b[0;34m=\u001b[0m \u001b[0m_num_samples\u001b[0m\u001b[0;34m(\u001b[0m\u001b[0marray\u001b[0m\u001b[0;34m)\u001b[0m\u001b[0;34m\u001b[0m\u001b[0;34m\u001b[0m\u001b[0m\n\u001b[0m\u001b[1;32m    582\u001b[0m         \u001b[0;32mif\u001b[0m \u001b[0mn_samples\u001b[0m \u001b[0;34m<\u001b[0m \u001b[0mensure_min_samples\u001b[0m\u001b[0;34m:\u001b[0m\u001b[0;34m\u001b[0m\u001b[0;34m\u001b[0m\u001b[0m\n\u001b[1;32m    583\u001b[0m             raise ValueError(\"Found array with %d sample(s) (shape=%s) while a\"\n",
      "\u001b[0;32m~/opt/anaconda3/envs/ds/lib/python3.7/site-packages/sklearn/utils/validation.py\u001b[0m in \u001b[0;36m_num_samples\u001b[0;34m(x)\u001b[0m\n\u001b[1;32m    153\u001b[0m         \u001b[0;31m# Check that shape is returning an integer or default to len\u001b[0m\u001b[0;34m\u001b[0m\u001b[0;34m\u001b[0m\u001b[0;34m\u001b[0m\u001b[0m\n\u001b[1;32m    154\u001b[0m         \u001b[0;31m# Dask dataframes may not return numeric shape[0] value\u001b[0m\u001b[0;34m\u001b[0m\u001b[0;34m\u001b[0m\u001b[0;34m\u001b[0m\u001b[0m\n\u001b[0;32m--> 155\u001b[0;31m         \u001b[0;32mif\u001b[0m \u001b[0misinstance\u001b[0m\u001b[0;34m(\u001b[0m\u001b[0mx\u001b[0m\u001b[0;34m.\u001b[0m\u001b[0mshape\u001b[0m\u001b[0;34m[\u001b[0m\u001b[0;36m0\u001b[0m\u001b[0;34m]\u001b[0m\u001b[0;34m,\u001b[0m \u001b[0mnumbers\u001b[0m\u001b[0;34m.\u001b[0m\u001b[0mIntegral\u001b[0m\u001b[0;34m)\u001b[0m\u001b[0;34m:\u001b[0m\u001b[0;34m\u001b[0m\u001b[0;34m\u001b[0m\u001b[0m\n\u001b[0m\u001b[1;32m    156\u001b[0m             \u001b[0;32mreturn\u001b[0m \u001b[0mx\u001b[0m\u001b[0;34m.\u001b[0m\u001b[0mshape\u001b[0m\u001b[0;34m[\u001b[0m\u001b[0;36m0\u001b[0m\u001b[0;34m]\u001b[0m\u001b[0;34m\u001b[0m\u001b[0;34m\u001b[0m\u001b[0m\n\u001b[1;32m    157\u001b[0m \u001b[0;34m\u001b[0m\u001b[0m\n",
      "\u001b[0;32m~/opt/anaconda3/envs/ds/lib/python3.7/abc.py\u001b[0m in \u001b[0;36m__instancecheck__\u001b[0;34m(cls, instance)\u001b[0m\n\u001b[1;32m    137\u001b[0m         \u001b[0;32mdef\u001b[0m \u001b[0m__instancecheck__\u001b[0m\u001b[0;34m(\u001b[0m\u001b[0mcls\u001b[0m\u001b[0;34m,\u001b[0m \u001b[0minstance\u001b[0m\u001b[0;34m)\u001b[0m\u001b[0;34m:\u001b[0m\u001b[0;34m\u001b[0m\u001b[0;34m\u001b[0m\u001b[0m\n\u001b[1;32m    138\u001b[0m             \u001b[0;34m\"\"\"Override for isinstance(instance, cls).\"\"\"\u001b[0m\u001b[0;34m\u001b[0m\u001b[0;34m\u001b[0m\u001b[0m\n\u001b[0;32m--> 139\u001b[0;31m             \u001b[0;32mreturn\u001b[0m \u001b[0m_abc_instancecheck\u001b[0m\u001b[0;34m(\u001b[0m\u001b[0mcls\u001b[0m\u001b[0;34m,\u001b[0m \u001b[0minstance\u001b[0m\u001b[0;34m)\u001b[0m\u001b[0;34m\u001b[0m\u001b[0;34m\u001b[0m\u001b[0m\n\u001b[0m\u001b[1;32m    140\u001b[0m \u001b[0;34m\u001b[0m\u001b[0m\n\u001b[1;32m    141\u001b[0m         \u001b[0;32mdef\u001b[0m \u001b[0m__subclasscheck__\u001b[0m\u001b[0;34m(\u001b[0m\u001b[0mcls\u001b[0m\u001b[0;34m,\u001b[0m \u001b[0msubclass\u001b[0m\u001b[0;34m)\u001b[0m\u001b[0;34m:\u001b[0m\u001b[0;34m\u001b[0m\u001b[0;34m\u001b[0m\u001b[0m\n",
      "\u001b[0;32m~/opt/anaconda3/envs/ds/lib/python3.7/abc.py\u001b[0m in \u001b[0;36m__subclasscheck__\u001b[0;34m(cls, subclass)\u001b[0m\n\u001b[1;32m    141\u001b[0m         \u001b[0;32mdef\u001b[0m \u001b[0m__subclasscheck__\u001b[0m\u001b[0;34m(\u001b[0m\u001b[0mcls\u001b[0m\u001b[0;34m,\u001b[0m \u001b[0msubclass\u001b[0m\u001b[0;34m)\u001b[0m\u001b[0;34m:\u001b[0m\u001b[0;34m\u001b[0m\u001b[0;34m\u001b[0m\u001b[0m\n\u001b[1;32m    142\u001b[0m             \u001b[0;34m\"\"\"Override for issubclass(subclass, cls).\"\"\"\u001b[0m\u001b[0;34m\u001b[0m\u001b[0;34m\u001b[0m\u001b[0m\n\u001b[0;32m--> 143\u001b[0;31m             \u001b[0;32mreturn\u001b[0m \u001b[0m_abc_subclasscheck\u001b[0m\u001b[0;34m(\u001b[0m\u001b[0mcls\u001b[0m\u001b[0;34m,\u001b[0m \u001b[0msubclass\u001b[0m\u001b[0;34m)\u001b[0m\u001b[0;34m\u001b[0m\u001b[0;34m\u001b[0m\u001b[0m\n\u001b[0m\u001b[1;32m    144\u001b[0m \u001b[0;34m\u001b[0m\u001b[0m\n\u001b[1;32m    145\u001b[0m         \u001b[0;32mdef\u001b[0m \u001b[0m_dump_registry\u001b[0m\u001b[0;34m(\u001b[0m\u001b[0mcls\u001b[0m\u001b[0;34m,\u001b[0m \u001b[0mfile\u001b[0m\u001b[0;34m=\u001b[0m\u001b[0;32mNone\u001b[0m\u001b[0;34m)\u001b[0m\u001b[0;34m:\u001b[0m\u001b[0;34m\u001b[0m\u001b[0;34m\u001b[0m\u001b[0m\n",
      "\u001b[0;31mKeyboardInterrupt\u001b[0m: "
     ]
    }
   ],
   "source": [
    "scores = []\n",
    "for i in tqdm(range(2, 100)):\n",
    "    kmeans = KMeans(n_clusters=i).fit(X)\n",
    "    score = kmeans.score(X)\n",
    "    scores.append(score)"
   ]
  },
  {
   "cell_type": "code",
   "execution_count": 233,
   "metadata": {},
   "outputs": [
    {
     "data": {
      "text/plain": [
       "[<matplotlib.lines.Line2D at 0x1a43459bd0>]"
      ]
     },
     "execution_count": 233,
     "metadata": {},
     "output_type": "execute_result"
    },
    {
     "data": {
      "image/png": "[encoded data removed]",
      "text/plain": [
       "<Figure size 432x288 with 1 Axes>"
      ]
     },
     "metadata": {
      "needs_background": "light"
     },
     "output_type": "display_data"
    }
   ],
   "source": [
    "plt.plot(scores)"
   ]
  },
  {
   "cell_type": "code",
   "execution_count": 234,
   "metadata": {},
   "outputs": [],
   "source": [
    "clustering = KMeans(n_clusters=5).fit(X)"
   ]
  },
  {
   "cell_type": "code",
   "execution_count": 247,
   "metadata": {},
   "outputs": [],
   "source": [
    "data_no_outliers.index = df_2010['Country Code']\n",
    "data_no_outliers['country'] = data_no_outliers.index\n",
    "data_no_outliers['label'] = clustering.labels_"
   ]
  },
  {
   "cell_type": "code",
   "execution_count": 250,
   "metadata": {},
   "outputs": [
    {
     "data": {
      "text/plain": [
       "label\n",
       "0    [AGO, BGD, CIV, CMR, COD, IDN, MDG, MNG, PAK, ...\n",
       "1                                                [VNM]\n",
       "2        [GIN, IND, KHM, LAO, MMR, NGA, SOM, TZA, UGA]\n",
       "3                                                [UZB]\n",
       "4    [AFG, BDI, BEN, BFA, BOL, BTN, CAF, COG, COM, ...\n",
       "dtype: object"
      ]
     },
     "execution_count": 250,
     "metadata": {},
     "output_type": "execute_result"
    }
   ],
   "source": [
    "data_no_outliers.groupby('label').apply(lambda x: x.country.values)"
   ]
  },
  {
   "cell_type": "code",
   "execution_count": null,
   "metadata": {},
   "outputs": [],
   "source": []
  }
 ],
 "metadata": {
  "kernelspec": {
   "display_name": "Python 3",
   "language": "python",
   "name": "python3"
  },
  "language_info": {
   "codemirror_mode": {
    "name": "ipython",
    "version": 3
   },
   "file_extension": ".py",
   "mimetype": "text/x-python",
   "name": "python",
   "nbconvert_exporter": "python",
   "pygments_lexer": "ipython3",
   "version": "3.7.7"
  }
 },
 "nbformat": 4,
 "nbformat_minor": 4
}
