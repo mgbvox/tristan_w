{
 "cells": [
  {
   "cell_type": "code",
   "execution_count": 1,
   "metadata": {},
   "outputs": [
    {
     "name": "stdout",
     "output_type": "stream",
     "text": [
      "Populating the interactive namespace from numpy and matplotlib\n"
     ]
    }
   ],
   "source": [
    "%pylab inline\n",
    "import pandas as pd\n",
    "from dateparser import parse\n",
    "from tqdm import tqdm\n",
    "\n",
    "from sklearn.linear_model import LinearRegression\n",
    "import itertools as it"
   ]
  },
  {
   "cell_type": "code",
   "execution_count": 2,
   "metadata": {},
   "outputs": [],
   "source": [
    "ex = pd.ExcelFile('WDImetadata.xlsx')\n",
    "explainer = ex.parse('2010-2019 MetaData').set_index('Code').fillna('')\n",
    "def explain(c, topic='Long definition'):\n",
    "    global explainer\n",
    "    return explainer.loc[c][topic]"
   ]
  },
  {
   "cell_type": "code",
   "execution_count": 3,
   "metadata": {},
   "outputs": [],
   "source": [
    "def z_score(s):\n",
    "    return (s-s.mean())/s.std()"
   ]
  },
  {
   "cell_type": "code",
   "execution_count": 51,
   "metadata": {},
   "outputs": [
    {
     "name": "stderr",
     "output_type": "stream",
     "text": [
      "100%|██████████| 940/940 [00:00<00:00, 2240.45it/s]\n",
      "100%|██████████| 938/938 [00:00<00:00, 2374.64it/s]\n"
     ]
    }
   ],
   "source": [
    "fill_nans = True\n",
    "\n",
    "df = pd.read_csv('cleaned.csv', parse_dates=['Custom_Time_Code']).iloc[:, 1:]\n",
    "df = df[df['Country Code'] != 'USA']\n",
    "\n",
    "df_z = pd.concat([z_score(df[col]) for col in tqdm(df.columns) if col not in ['Country Code', 'Custom_Time_Code']], axis=1)\n",
    "df_z.columns = df.columns[2:]\n",
    "\n",
    "df_no_outliers = df.where(df_z.abs() < 2).iloc[:,2:]\n",
    "df_no_outliers = pd.concat([df['Country Code'], df['Custom_Time_Code'], df_no_outliers], axis=1)\n",
    "if fill_nans:\n",
    "    df_no_outliers = df_no_outliers.fillna(df_no_outliers.mean())\n",
    "\n",
    "df_2010 = df[df['Custom_Time_Code'] > parse('Jan 1st 2009')]\n",
    "data = df_2010.iloc[:, 2:]\n",
    "\n",
    "data_z = pd.concat([z_score(data[col]) for col in tqdm(data.columns) if col not in ['Country Code', 'Custom_Time_Code']], axis=1)\n",
    "data_z.columns = data.columns\n",
    "\n",
    "data_no_outliers = data.where(data_z.abs() < 2)\n",
    "data_no_outliers = data_no_outliers.set_index(df_2010['Country Code'])\n",
    "if fill_nans:\n",
    "    data_no_outliers = data_no_outliers.fillna(data_no_outliers.mean())"
   ]
  },
  {
   "cell_type": "code",
   "execution_count": 52,
   "metadata": {},
   "outputs": [
    {
     "name": "stderr",
     "output_type": "stream",
     "text": [
      "879844it [00:04, 185457.71it/s]\n"
     ]
    }
   ],
   "source": [
    "corr_no_outliers = data_no_outliers.corr('pearson')\n",
    "\n",
    "visited = set()\n",
    "r_values = []\n",
    "for i,j in tqdm(it.product(data.columns, data.columns)):\n",
    "    i_prefix = i.split('.')[0]\n",
    "    j_prefix = j.split('.')[0]\n",
    "    if (i!=j) and (i_prefix != j_prefix) and ((j,i) not in visited):\n",
    "        r = corr_no_outliers.loc[i, j]\n",
    "        r_values.append((r, i, j))\n",
    "        visited.add((i,j))\n",
    "        \n",
    "between_set_corr = pd.DataFrame.from_records(r_values)\n",
    "\n",
    "between_set_corr.columns = ['r', 'i', 'j']"
   ]
  },
  {
   "cell_type": "code",
   "execution_count": 53,
   "metadata": {},
   "outputs": [],
   "source": [
    "#between_set_corr.groupby('i').count().sort_values('j')"
   ]
  },
  {
   "cell_type": "code",
   "execution_count": 56,
   "metadata": {},
   "outputs": [],
   "source": [
    "'''\n",
    "Select features from between-set corr\n",
    "'''\n",
    "feature_of_interest = 'IS.AIR.GOOD.MT.K1'\n",
    "\n",
    "isolated_corr = between_set_corr[between_set_corr.i == feature_of_interest][['j','r']]\n",
    "\n",
    "n_features = 10\n",
    "\n",
    "curr_n = 0\n",
    "i = .9\n",
    "i_delta = .01\n",
    "if len(isolated_corr) >= n_features:\n",
    "    while curr_n < n_features:\n",
    "        i -= i_delta\n",
    "        curr_n = isolated_corr[isolated_corr.r.abs().between(i, .9)].shape[0]\n",
    "\n",
    "    features = list(isolated_corr[isolated_corr.r.abs().between(i, .9)].j.values)\n",
    "else:\n",
    "    assert(False), \"Not enough correlated features.\""
   ]
  },
  {
   "cell_type": "code",
   "execution_count": 57,
   "metadata": {},
   "outputs": [
    {
     "name": "stderr",
     "output_type": "stream",
     "text": [
      "100%|██████████| 11/11 [00:00<00:00, 1386.59it/s]"
     ]
    },
    {
     "name": "stdout",
     "output_type": "stream",
     "text": [
      "78.0 Country data points will be used.\n"
     ]
    },
    {
     "name": "stderr",
     "output_type": "stream",
     "text": [
      "\n"
     ]
    }
   ],
   "source": [
    "grouped = df_no_outliers.groupby('Country Code')\n",
    "\n",
    "drop = set()\n",
    "for col in tqdm(features):\n",
    "    counted = grouped[col].count()\n",
    "    for country in counted.index[counted < 3]:\n",
    "        drop.add(country)\n",
    "        \n",
    "drop.add('USA')\n",
    "\n",
    "grab = ['Country Code', 'Custom_Time_Code'] + features\n",
    "grab.append(feature_of_interest)\n",
    "\n",
    "preserved = df_no_outliers[df_no_outliers['Country Code'].apply(lambda x: x not in drop)][grab]\n",
    "print(f'{len(preserved)/3} Country data points will be used.')"
   ]
  },
  {
   "cell_type": "code",
   "execution_count": 58,
   "metadata": {},
   "outputs": [],
   "source": [
    "def s_chg(s):\n",
    "    s = s.values\n",
    "    return s[-1]-s[0]\n",
    "\n",
    "def df_chg(df):\n",
    "    new = []\n",
    "    for c in df.columns:\n",
    "        new.append(s_chg(df[c]))\n",
    "    new = pd.Series(new)\n",
    "    new.index = ['DELTA_' + c for c in df.columns]\n",
    "    return new"
   ]
  },
  {
   "cell_type": "code",
   "execution_count": 59,
   "metadata": {},
   "outputs": [],
   "source": [
    "col_to_predict = feature_of_interest\n",
    "\n",
    "#Grab data from 1990 - 2000 (inc)\n",
    "past = preserved[preserved['Custom_Time_Code'] < parse('Jan 1st, 2010')]\n",
    "\n",
    "#Grab data from 2000 - 2010 (inc)\n",
    "present = preserved[preserved['Custom_Time_Code'] > parse('Jan 1st, 1999')]\n",
    "\n",
    "\n",
    "changes = past.groupby('Country Code').apply(df_chg)\n",
    "\n",
    "present_changes = present.groupby('Country Code').apply(df_chg)\n",
    "\n",
    "\n",
    "yr_2000 = preserved[preserved['Custom_Time_Code'].between(parse('Jan 1st, 1995'), parse('Jan 1st, 2010'))].set_index('Country Code')\n",
    "yr_2000['country'] = yr_2000.index\n",
    "\n",
    "\n",
    "yr_2010 = preserved[preserved['Custom_Time_Code'] > parse('Jan 1st, 2010')].set_index('Country Code')\n",
    "yr_2010['country'] = yr_2000.index\n",
    "\n",
    "X = pd.concat([yr_2000, changes], axis=1).drop(['Custom_Time_Code','country','DELTA_Custom_Time_Code'], axis=1)\n",
    "X = X.fillna(X.mean())\n",
    "\n",
    "X_for_extrapolation = pd.concat([yr_2010, present_changes], axis=1).drop(['Custom_Time_Code','country','DELTA_Custom_Time_Code'], axis=1)\n",
    "X_for_extrapolation = X_for_extrapolation.fillna(X_for_extrapolation.mean())\n",
    "\n",
    "\n",
    "y = preserved[preserved['Custom_Time_Code'] > parse('Jan 1st, 2010')].set_index('Country Code')[col_to_predict]\n",
    "y = y.fillna(y.mean())\n",
    "\n",
    "reg = LinearRegression().fit(X, y)"
   ]
  },
  {
   "cell_type": "code",
   "execution_count": 60,
   "metadata": {},
   "outputs": [
    {
     "data": {
      "text/plain": [
       "<matplotlib.axes._subplots.AxesSubplot at 0x1a21ed5810>"
      ]
     },
     "execution_count": 60,
     "metadata": {},
     "output_type": "execute_result"
    },
    {
     "data": {
      "image/png": "[encoded data removed]",
      "text/plain": [
       "<Figure size 432x288 with 1 Axes>"
      ]
     },
     "metadata": {
      "needs_background": "light"
     },
     "output_type": "display_data"
    }
   ],
   "source": [
    "changes[\"DELTA_\"+col_to_predict].plot(kind='hist')"
   ]
  },
  {
   "cell_type": "code",
   "execution_count": 61,
   "metadata": {},
   "outputs": [
    {
     "data": {
      "text/plain": [
       "<matplotlib.axes._subplots.AxesSubplot at 0x1a279e1310>"
      ]
     },
     "execution_count": 61,
     "metadata": {},
     "output_type": "execute_result"
    },
    {
     "data": {
      "image/png": "[encoded data removed]",
      "text/plain": [
       "<Figure size 432x288 with 1 Axes>"
      ]
     },
     "metadata": {
      "needs_background": "light"
     },
     "output_type": "display_data"
    }
   ],
   "source": [
    "(reg.predict(X_for_extrapolation) - y).plot(kind='hist')"
   ]
  },
  {
   "cell_type": "code",
   "execution_count": 62,
   "metadata": {},
   "outputs": [
    {
     "data": {
      "text/plain": [
       "0.8991171459216941"
      ]
     },
     "execution_count": 62,
     "metadata": {},
     "output_type": "execute_result"
    }
   ],
   "source": [
    "reg.score(X, y)"
   ]
  }
 ],
 "metadata": {
  "kernelspec": {
   "display_name": "Python 3",
   "language": "python",
   "name": "python3"
  },
  "language_info": {
   "codemirror_mode": {
    "name": "ipython",
    "version": 3
   },
   "file_extension": ".py",
   "mimetype": "text/x-python",
   "name": "python",
   "nbconvert_exporter": "python",
   "pygments_lexer": "ipython3",
   "version": "3.7.4"
  }
 },
 "nbformat": 4,
 "nbformat_minor": 4
}
