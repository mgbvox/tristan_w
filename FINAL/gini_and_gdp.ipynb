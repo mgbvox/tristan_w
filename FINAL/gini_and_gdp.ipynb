{
 "cells": [
  {
   "cell_type": "code",
   "execution_count": 1,
   "metadata": {},
   "outputs": [
    {
     "name": "stdout",
     "output_type": "stream",
     "text": [
      "Populating the interactive namespace from numpy and matplotlib\n"
     ]
    }
   ],
   "source": [
    "%pylab inline\n",
    "import pandas as pd\n",
    "from dateparser import parse\n",
    "from tqdm import tqdm\n",
    "\n",
    "from sklearn.linear_model import LinearRegression\n",
    "import itertools as it"
   ]
  },
  {
   "cell_type": "code",
   "execution_count": 2,
   "metadata": {},
   "outputs": [],
   "source": [
    "ex = pd.ExcelFile('WDImetadata.xlsx')\n",
    "explainer = ex.parse('2010-2019 MetaData').set_index('Code').fillna('')\n",
    "def explain(c, topic='Long definition'):\n",
    "    global explainer\n",
    "    return explainer.loc[c][topic]"
   ]
  },
  {
   "cell_type": "code",
   "execution_count": 3,
   "metadata": {},
   "outputs": [],
   "source": [
    "def z_score(s):\n",
    "    return (s-s.mean())/s.std()"
   ]
  },
  {
   "cell_type": "code",
   "execution_count": 4,
   "metadata": {},
   "outputs": [
    {
     "name": "stderr",
     "output_type": "stream",
     "text": [
      "100%|██████████| 940/940 [00:01<00:00, 566.48it/s]\n"
     ]
    }
   ],
   "source": [
    "df = pd.read_csv('cleaned.csv', parse_dates=['Custom_Time_Code'])\n",
    "df = df[df['Country Code'] != 'USA']\n",
    "\n",
    "df_z = pd.concat([z_score(df[col]) for col in tqdm(df.columns) if col not in ['Country Code', 'Custom_Time_Code']], axis=1)\n",
    "df_z.columns = df.columns[2:]\n",
    "\n",
    "df_no_outliers = df.where(df_z.abs() < 2).iloc[:,2:]\n",
    "df_no_outliers = pd.concat([df['Country Code'], df['Custom_Time_Code'], df_no_outliers], axis=1)"
   ]
  },
  {
   "cell_type": "code",
   "execution_count": 12,
   "metadata": {},
   "outputs": [],
   "source": [
    "def s_chg(s):\n",
    "    s = s.values\n",
    "    return s[-1]-s[0]\n",
    "\n",
    "def df_chg(df):\n",
    "    new = []\n",
    "    for c in df.columns:\n",
    "        new.append(s_chg(df[c]))\n",
    "    new = pd.Series(new)\n",
    "    new.index = ['DELTA_' + c for c in df.columns]\n",
    "    return new"
   ]
  },
  {
   "cell_type": "code",
   "execution_count": 13,
   "metadata": {},
   "outputs": [],
   "source": [
    "gini = 'SI.POV.GINI'\n",
    "gdp  = 'NY.GDP.PCAP.CD'\n",
    "ccode = 'Country Code'"
   ]
  },
  {
   "cell_type": "code",
   "execution_count": 18,
   "metadata": {},
   "outputs": [],
   "source": [
    "chg = df_no_outliers[[ccode, gini, gdp]].groupby(ccode).apply(df_chg).dropna()"
   ]
  },
  {
   "cell_type": "code",
   "execution_count": 19,
   "metadata": {},
   "outputs": [
    {
     "data": {
      "text/plain": [
       "<matplotlib.axes._subplots.AxesSubplot at 0x1a19842cd0>"
      ]
     },
     "execution_count": 19,
     "metadata": {},
     "output_type": "execute_result"
    },
    {
     "data": {
      "image/png": "[encoded data removed]",
      "text/plain": [
       "<Figure size 432x288 with 1 Axes>"
      ]
     },
     "metadata": {
      "needs_background": "light"
     },
     "output_type": "display_data"
    }
   ],
   "source": [
    "chg.plot.scatter('DELTA_'+gini, 'DELTA_'+gdp)"
   ]
  },
  {
   "cell_type": "code",
   "execution_count": 22,
   "metadata": {},
   "outputs": [
    {
     "name": "stderr",
     "output_type": "stream",
     "text": [
      "100%|██████████| 938/938 [00:01<00:00, 626.74it/s]\n"
     ]
    }
   ],
   "source": [
    "df_2010 = df[df['Custom_Time_Code'] > parse('Jan 1st 2009')]\n",
    "data = df_2010.iloc[:, 2:]\n",
    "\n",
    "data_z = pd.concat([z_score(data[col]) for col in tqdm(data.columns)], axis=1)\n",
    "data_z.columns = data.columns\n",
    "\n",
    "data_no_outliers = data.where(data_z.abs() < 2)\n",
    "data_no_outliers = data_no_outliers.set_index(df_2010['Country Code'])"
   ]
  },
  {
   "cell_type": "code",
   "execution_count": 24,
   "metadata": {},
   "outputs": [
    {
     "data": {
      "text/plain": [
       "<matplotlib.axes._subplots.AxesSubplot at 0x102917250>"
      ]
     },
     "execution_count": 24,
     "metadata": {},
     "output_type": "execute_result"
    },
    {
     "data": {
      "image/png": "[encoded data removed]",
      "text/plain": [
       "<Figure size 432x288 with 1 Axes>"
      ]
     },
     "metadata": {
      "needs_background": "light"
     },
     "output_type": "display_data"
    }
   ],
   "source": [
    "data_no_outliers.plot.scatter(gini, gdp)"
   ]
  },
  {
   "cell_type": "code",
   "execution_count": 25,
   "metadata": {},
   "outputs": [
    {
     "name": "stderr",
     "output_type": "stream",
     "text": [
      "879844it [00:13, 62866.84it/s] \n"
     ]
    }
   ],
   "source": [
    "corr_no_outliers = data_no_outliers.corr('pearson')\n",
    "\n",
    "visited = set()\n",
    "r_values = []\n",
    "for i,j in tqdm(it.product(data.columns, data.columns)):\n",
    "    i_prefix = i.split('.')[0]\n",
    "    j_prefix = j.split('.')[0]\n",
    "    if (i!=j) and (i_prefix != j_prefix) and ((j,i) not in visited):\n",
    "        r = corr_no_outliers.loc[i, j]\n",
    "        r_values.append((r, i, j))\n",
    "        visited.add((i,j))\n",
    "        \n",
    "between_set_corr = pd.DataFrame.from_records(r_values)\n",
    "\n",
    "between_set_corr.columns = ['r', 'i', 'j']"
   ]
  },
  {
   "cell_type": "code",
   "execution_count": 30,
   "metadata": {},
   "outputs": [],
   "source": [
    "g_corr = between_set_corr[between_set_corr.i==gini]"
   ]
  },
  {
   "cell_type": "code",
   "execution_count": 38,
   "metadata": {
    "collapsed": true,
    "jupyter": {
     "outputs_hidden": true
    }
   },
   "outputs": [
    {
     "data": {
      "text/html": [
       "<div>\n",
       "<style scoped>\n",
       "    .dataframe tbody tr th:only-of-type {\n",
       "        vertical-align: middle;\n",
       "    }\n",
       "\n",
       "    .dataframe tbody tr th {\n",
       "        vertical-align: top;\n",
       "    }\n",
       "\n",
       "    .dataframe thead th {\n",
       "        text-align: right;\n",
       "    }\n",
       "</style>\n",
       "<table border=\"1\" class=\"dataframe\">\n",
       "  <thead>\n",
       "    <tr style=\"text-align: right;\">\n",
       "      <th></th>\n",
       "      <th>r</th>\n",
       "      <th>i</th>\n",
       "      <th>j</th>\n",
       "    </tr>\n",
       "  </thead>\n",
       "  <tbody>\n",
       "    <tr>\n",
       "      <th>201849</th>\n",
       "      <td>-0.494758</td>\n",
       "      <td>SI.POV.GINI</td>\n",
       "      <td>EN.ATM.HFCG.KT.CE</td>\n",
       "    </tr>\n",
       "    <tr>\n",
       "      <th>201850</th>\n",
       "      <td>-0.411828</td>\n",
       "      <td>SI.POV.GINI</td>\n",
       "      <td>SH.MED.BEDS.ZS</td>\n",
       "    </tr>\n",
       "    <tr>\n",
       "      <th>201923</th>\n",
       "      <td>0.413501</td>\n",
       "      <td>SI.POV.GINI</td>\n",
       "      <td>SL.TLF.ACTI.1524.NE.ZS</td>\n",
       "    </tr>\n",
       "    <tr>\n",
       "      <th>201930</th>\n",
       "      <td>0.415994</td>\n",
       "      <td>SI.POV.GINI</td>\n",
       "      <td>SL.TLF.CACT.ZS</td>\n",
       "    </tr>\n",
       "    <tr>\n",
       "      <th>202265</th>\n",
       "      <td>-0.493427</td>\n",
       "      <td>SI.POV.GINI</td>\n",
       "      <td>IS.RRS.TOTL.KM</td>\n",
       "    </tr>\n",
       "    <tr>\n",
       "      <th>202266</th>\n",
       "      <td>-0.418584</td>\n",
       "      <td>SI.POV.GINI</td>\n",
       "      <td>IS.RRS.GOOD.MT.K6</td>\n",
       "    </tr>\n",
       "    <tr>\n",
       "      <th>202278</th>\n",
       "      <td>0.423019</td>\n",
       "      <td>SI.POV.GINI</td>\n",
       "      <td>SE.PRM.REPT.FE.ZS</td>\n",
       "    </tr>\n",
       "    <tr>\n",
       "      <th>202279</th>\n",
       "      <td>0.403886</td>\n",
       "      <td>SI.POV.GINI</td>\n",
       "      <td>SE.PRM.REPT.MA.ZS</td>\n",
       "    </tr>\n",
       "    <tr>\n",
       "      <th>202280</th>\n",
       "      <td>0.421318</td>\n",
       "      <td>SI.POV.GINI</td>\n",
       "      <td>SE.PRM.REPT.ZS</td>\n",
       "    </tr>\n",
       "    <tr>\n",
       "      <th>202340</th>\n",
       "      <td>-0.464118</td>\n",
       "      <td>SI.POV.GINI</td>\n",
       "      <td>SP.POP.BRTH.MF</td>\n",
       "    </tr>\n",
       "    <tr>\n",
       "      <th>202353</th>\n",
       "      <td>-0.459600</td>\n",
       "      <td>SI.POV.GINI</td>\n",
       "      <td>GC.XPN.TRFT.ZS</td>\n",
       "    </tr>\n",
       "    <tr>\n",
       "      <th>202445</th>\n",
       "      <td>0.427530</td>\n",
       "      <td>SI.POV.GINI</td>\n",
       "      <td>SH.DYN.AIDS.FE.ZS</td>\n",
       "    </tr>\n",
       "  </tbody>\n",
       "</table>\n",
       "</div>"
      ],
      "text/plain": [
       "               r            i                       j\n",
       "201849 -0.494758  SI.POV.GINI       EN.ATM.HFCG.KT.CE\n",
       "201850 -0.411828  SI.POV.GINI          SH.MED.BEDS.ZS\n",
       "201923  0.413501  SI.POV.GINI  SL.TLF.ACTI.1524.NE.ZS\n",
       "201930  0.415994  SI.POV.GINI          SL.TLF.CACT.ZS\n",
       "202265 -0.493427  SI.POV.GINI          IS.RRS.TOTL.KM\n",
       "202266 -0.418584  SI.POV.GINI       IS.RRS.GOOD.MT.K6\n",
       "202278  0.423019  SI.POV.GINI       SE.PRM.REPT.FE.ZS\n",
       "202279  0.403886  SI.POV.GINI       SE.PRM.REPT.MA.ZS\n",
       "202280  0.421318  SI.POV.GINI          SE.PRM.REPT.ZS\n",
       "202340 -0.464118  SI.POV.GINI          SP.POP.BRTH.MF\n",
       "202353 -0.459600  SI.POV.GINI          GC.XPN.TRFT.ZS\n",
       "202445  0.427530  SI.POV.GINI       SH.DYN.AIDS.FE.ZS"
      ]
     },
     "execution_count": 38,
     "metadata": {},
     "output_type": "execute_result"
    }
   ],
   "source": [
    "g_corr[(g_corr.r.abs() > .4)]"
   ]
  },
  {
   "cell_type": "code",
   "execution_count": 40,
   "metadata": {},
   "outputs": [
    {
     "data": {
      "text/plain": [
       "'HFC gas emissions (thousand metric tons of CO2 equivalent)'"
      ]
     },
     "execution_count": 40,
     "metadata": {},
     "output_type": "execute_result"
    }
   ],
   "source": [
    "explain('EN.ATM.HFCG.KT.CE', topic='Indicator Name')"
   ]
  },
  {
   "cell_type": "code",
   "execution_count": 41,
   "metadata": {},
   "outputs": [],
   "source": [
    "hiv = 'SH.DYN.AIDS.FE.ZS'\n",
    "hfc_emissions = 'EN.ATM.HFCG.KT.CE'"
   ]
  },
  {
   "cell_type": "code",
   "execution_count": 42,
   "metadata": {},
   "outputs": [
    {
     "data": {
      "text/plain": [
       "<matplotlib.axes._subplots.AxesSubplot at 0x1a19ca5b50>"
      ]
     },
     "execution_count": 42,
     "metadata": {},
     "output_type": "execute_result"
    },
    {
     "data": {
      "image/png": "[encoded data removed]",
      "text/plain": [
       "<Figure size 432x288 with 1 Axes>"
      ]
     },
     "metadata": {
      "needs_background": "light"
     },
     "output_type": "display_data"
    }
   ],
   "source": [
    "data_no_outliers.plot.scatter(gini, hiv)"
   ]
  },
  {
   "cell_type": "code",
   "execution_count": 43,
   "metadata": {},
   "outputs": [
    {
     "data": {
      "text/plain": [
       "<matplotlib.axes._subplots.AxesSubplot at 0x1a23768550>"
      ]
     },
     "execution_count": 43,
     "metadata": {},
     "output_type": "execute_result"
    },
    {
     "data": {
      "image/png": "[encoded data removed]",
      "text/plain": [
       "<Figure size 432x288 with 1 Axes>"
      ]
     },
     "metadata": {
      "needs_background": "light"
     },
     "output_type": "display_data"
    }
   ],
   "source": [
    "data_no_outliers.plot.scatter(gini, hfc_emissions)"
   ]
  },
  {
   "cell_type": "code",
   "execution_count": null,
   "metadata": {
    "collapsed": true,
    "jupyter": {
     "outputs_hidden": true
    }
   },
   "outputs": [],
   "source": []
  },
  {
   "cell_type": "code",
   "execution_count": 68,
   "metadata": {},
   "outputs": [
    {
     "data": {
      "text/plain": [
       "<matplotlib.axes._subplots.AxesSubplot at 0x1a24062c90>"
      ]
     },
     "execution_count": 68,
     "metadata": {},
     "output_type": "execute_result"
    },
    {
     "data": {
      "image/png": "[encoded data removed]",
      "text/plain": [
       "<Figure size 432x288 with 1 Axes>"
      ]
     },
     "metadata": {
      "needs_background": "light"
     },
     "output_type": "display_data"
    }
   ],
   "source": [
    "df_no_outliers.groupby('Custom_Time_Code')[gdp].mean().pct_change().plot()\n"
   ]
  },
  {
   "cell_type": "code",
   "execution_count": 72,
   "metadata": {},
   "outputs": [
    {
     "data": {
      "text/plain": [
       "Text(0.5, 1.0, 'Equality Growth: 1/gini % change')"
      ]
     },
     "execution_count": 72,
     "metadata": {},
     "output_type": "execute_result"
    },
    {
     "data": {
      "image/png": "[encoded data removed]",
      "text/plain": [
       "<Figure size 432x288 with 1 Axes>"
      ]
     },
     "metadata": {
      "needs_background": "light"
     },
     "output_type": "display_data"
    }
   ],
   "source": [
    "(1/df_no_outliers.groupby('Custom_Time_Code')[gini].mean()).pct_change().plot()\n",
    "plt.title('Equality Growth: 1/gini % change')"
   ]
  },
  {
   "cell_type": "code",
   "execution_count": 95,
   "metadata": {},
   "outputs": [
    {
     "data": {
      "text/plain": [
       "<matplotlib.axes._subplots.AxesSubplot at 0x1a26632510>"
      ]
     },
     "execution_count": 95,
     "metadata": {},
     "output_type": "execute_result"
    },
    {
     "data": {
      "image/png": "[encoded data removed]",
      "text/plain": [
       "<Figure size 432x288 with 1 Axes>"
      ]
     },
     "metadata": {
      "needs_background": "light"
     },
     "output_type": "display_data"
    }
   ],
   "source": [
    "df_no_outliers.groupby('Country Code')[gini].apply(lambda x: s_chg(x)).sort_values().plot(kind='hist')"
   ]
  },
  {
   "cell_type": "code",
   "execution_count": null,
   "metadata": {},
   "outputs": [],
   "source": []
  }
 ],
 "metadata": {
  "kernelspec": {
   "display_name": "Python 3",
   "language": "python",
   "name": "python3"
  },
  "language_info": {
   "codemirror_mode": {
    "name": "ipython",
    "version": 3
   },
   "file_extension": ".py",
   "mimetype": "text/x-python",
   "name": "python",
   "nbconvert_exporter": "python",
   "pygments_lexer": "ipython3",
   "version": "3.7.7"
  }
 },
 "nbformat": 4,
 "nbformat_minor": 4
}
